{
 "cells": [
  {
   "cell_type": "code",
   "execution_count": 1,
   "metadata": {},
   "outputs": [],
   "source": [
    "import sys\n",
    "sys.path.append('../')\n",
    "import lib"
   ]
  },
  {
   "cell_type": "code",
   "execution_count": 2,
   "metadata": {},
   "outputs": [],
   "source": [
    "import spacy\n",
    "import json\n",
    "import pandas as pd"
   ]
  },
  {
   "cell_type": "code",
   "execution_count": 3,
   "metadata": {},
   "outputs": [
    {
     "name": "stdout",
     "output_type": "stream",
     "text": [
      "108\n"
     ]
    },
    {
     "data": {
      "text/html": [
       "<div>\n",
       "<style scoped>\n",
       "    .dataframe tbody tr th:only-of-type {\n",
       "        vertical-align: middle;\n",
       "    }\n",
       "\n",
       "    .dataframe tbody tr th {\n",
       "        vertical-align: top;\n",
       "    }\n",
       "\n",
       "    .dataframe thead th {\n",
       "        text-align: right;\n",
       "    }\n",
       "</style>\n",
       "<table border=\"1\" class=\"dataframe\">\n",
       "  <thead>\n",
       "    <tr style=\"text-align: right;\">\n",
       "      <th></th>\n",
       "      <th>id</th>\n",
       "      <th>title</th>\n",
       "      <th>text</th>\n",
       "      <th>Date</th>\n",
       "      <th>country</th>\n",
       "      <th>source</th>\n",
       "      <th>tweet</th>\n",
       "    </tr>\n",
       "  </thead>\n",
       "  <tbody>\n",
       "    <tr>\n",
       "      <th>0</th>\n",
       "      <td>Congo_ICIBrazza_0</td>\n",
       "      <td>Congo : le gouvernement exhorte les parents à ...</td>\n",
       "      <td>L’humanité célèbre le 21 février de chaque ann...</td>\n",
       "      <td>2020-02-23T12:54:50</td>\n",
       "      <td>Congo</td>\n",
       "      <td>ICIBrazza</td>\n",
       "      <td>#Congo : le gouvernement exhorte les parents à...</td>\n",
       "    </tr>\n",
       "    <tr>\n",
       "      <th>1</th>\n",
       "      <td>Congo_ICIBrazza_1</td>\n",
       "      <td>Congo : le gouvernement exhorte les parents à ...</td>\n",
       "      <td>L’humanité célèbre le 21 février de chaque ann...</td>\n",
       "      <td>2020-02-23T12:54:50</td>\n",
       "      <td>Congo</td>\n",
       "      <td>ICIBrazza</td>\n",
       "      <td>#Congo : le gouvernement exhorte les parents à...</td>\n",
       "    </tr>\n",
       "    <tr>\n",
       "      <th>2</th>\n",
       "      <td>Congo_ICIBrazza_2</td>\n",
       "      <td>Un groupe de banques va racheter une partie de...</td>\n",
       "      <td>Le président Denis Sassou N’Guesso a reçu le 8...</td>\n",
       "      <td>2020-03-11T21:40:54</td>\n",
       "      <td>Congo</td>\n",
       "      <td>ICIBrazza</td>\n",
       "      <td>Un groupe de banques va racheter une partie de...</td>\n",
       "    </tr>\n",
       "    <tr>\n",
       "      <th>3</th>\n",
       "      <td>Congo_ICIBrazza_3</td>\n",
       "      <td>Congo : les braqueurs du convoi d’argent arrêt...</td>\n",
       "      <td>Les services départementaux de la police judic...</td>\n",
       "      <td>2020-03-08T11:00:30</td>\n",
       "      <td>Congo</td>\n",
       "      <td>ICIBrazza</td>\n",
       "      <td>#Congo - Les services départementaux de la pol...</td>\n",
       "    </tr>\n",
       "    <tr>\n",
       "      <th>4</th>\n",
       "      <td>Congo_ICIBrazza_4</td>\n",
       "      <td>Un groupe de banques va racheter une partie de...</td>\n",
       "      <td>Le président Denis Sassou N’Guesso a reçu le 8...</td>\n",
       "      <td>2020-03-11T21:40:54</td>\n",
       "      <td>Congo</td>\n",
       "      <td>ICIBrazza</td>\n",
       "      <td>Un groupe de banques va racheter une partie de...</td>\n",
       "    </tr>\n",
       "  </tbody>\n",
       "</table>\n",
       "</div>"
      ],
      "text/plain": [
       "                  id                                              title  \\\n",
       "0  Congo_ICIBrazza_0  Congo : le gouvernement exhorte les parents à ...   \n",
       "1  Congo_ICIBrazza_1  Congo : le gouvernement exhorte les parents à ...   \n",
       "2  Congo_ICIBrazza_2  Un groupe de banques va racheter une partie de...   \n",
       "3  Congo_ICIBrazza_3  Congo : les braqueurs du convoi d’argent arrêt...   \n",
       "4  Congo_ICIBrazza_4  Un groupe de banques va racheter une partie de...   \n",
       "\n",
       "                                                text                 Date  \\\n",
       "0  L’humanité célèbre le 21 février de chaque ann...  2020-02-23T12:54:50   \n",
       "1  L’humanité célèbre le 21 février de chaque ann...  2020-02-23T12:54:50   \n",
       "2  Le président Denis Sassou N’Guesso a reçu le 8...  2020-03-11T21:40:54   \n",
       "3  Les services départementaux de la police judic...  2020-03-08T11:00:30   \n",
       "4  Le président Denis Sassou N’Guesso a reçu le 8...  2020-03-11T21:40:54   \n",
       "\n",
       "  country     source                                              tweet  \n",
       "0   Congo  ICIBrazza  #Congo : le gouvernement exhorte les parents à...  \n",
       "1   Congo  ICIBrazza  #Congo : le gouvernement exhorte les parents à...  \n",
       "2   Congo  ICIBrazza  Un groupe de banques va racheter une partie de...  \n",
       "3   Congo  ICIBrazza  #Congo - Les services départementaux de la pol...  \n",
       "4   Congo  ICIBrazza  Un groupe de banques va racheter une partie de...  "
      ]
     },
     "execution_count": 3,
     "metadata": {},
     "output_type": "execute_result"
    }
   ],
   "source": [
    "example_path = '../data/articles_ICIBrazza_2020-02-01_2020-04-14.json'\n",
    "with open(example_path, 'r') as reader:\n",
    "    data = json.load(reader)\n",
    "df = pd.DataFrame(columns=data['head'], \n",
    "                 data=data['articles'])\n",
    "print(len(df))\n",
    "df.head()"
   ]
  },
  {
   "cell_type": "code",
   "execution_count": 4,
   "metadata": {},
   "outputs": [],
   "source": [
    "#Basic cleaning of the dataframe\n",
    "clean_df = df.drop('id', axis=1).drop_duplicates(keep='first')"
   ]
  },
  {
   "cell_type": "code",
   "execution_count": 5,
   "metadata": {},
   "outputs": [],
   "source": [
    "id_ = ['Congo_ICIBrazza_' + str(i) for i in range(len(clean_df))]\n",
    "index = list(range(len(clean_df)))"
   ]
  },
  {
   "cell_type": "code",
   "execution_count": 6,
   "metadata": {},
   "outputs": [],
   "source": [
    "clean_df['id'] = id_\n",
    "clean_df.index = index"
   ]
  },
  {
   "cell_type": "markdown",
   "metadata": {},
   "source": [
    "## We do not have that much info for a few countries (Congo, RDC, I believe CentrAfique is the same..."
   ]
  },
  {
   "cell_type": "markdown",
   "metadata": {},
   "source": [
    "# What  do we do with the date ? The format ? Do we split it into year/month/day or sth like that?"
   ]
  },
  {
   "cell_type": "code",
   "execution_count": 7,
   "metadata": {},
   "outputs": [
    {
     "data": {
      "text/plain": [
       "'©DR\\n\\nLe gouvernement congolais a annoncé une enveloppe de quatre milliards de Francs CFA au profit des ménages et personnes pauvres affectés par les mesures de confinement consécutives à la propagation du coronavirus.\\n\\nCette annonce a été faite ce vendredi par le ministre de la Communication, porte-parole du gouvernement, Thierry Lézin Moungalla à l’issue de la première réunion de la coordination nationale de gestion de la pandémie du Covid-19 qui s’est tenue sous l’autorité du président Sassou N’Guesso\\n\\nAinsi selon le porte-parole du gouvernement, il ressort de cette réunion plusieurs mesures économiques, sanitaires et sociales.\\n\\nAu plan social, le gouvernement a décidé du « transfert dans les prochains jours, de la somme de 4 milliards de francs CFA aux ménages et personnes pauvres déjà répertoriés dans différentes localités du pays par le ministère en charge des affaires sociales. »\\n\\nLa Coordination a réitéré la gratuité de l’eau et de l’électricité pour tous les ménages, sur l’ensemble du territoire national, pendant la période de confinement.\\n\\nAu plan économique, cette Coordination nationale incite la Task force sur l’impact économique de la pandémie du Covid-19 à procéder à l’émission de bons et obligations du Trésor pour abonder les recettes budgétaires et permettre ainsi à l’Etat de faire face aux besoins liés à la lutte contre le Covid-19.\\n\\nElle encourage également tous les opérateurs économiques, les citoyens et patriotes congolais, mais aussi les bonnes volontés internationales à s’inscrire dans l’élan de solidarité déjà engagé depuis quelques jours, en procédant à des dons ou actes de générosité qui permettront de vaincre le Covid-19.\\n\\nAu plan sanitaire, la mesure consiste à réquisitionner tous les agents de santé actifs et retraités aptes, des étudiants finalistes des écoles paramédicales et de la faculté des sciences de la santé.\\n\\nElle s’est prononcée pour la réquisition de tous les médicaments et autres produits de santé détenus par les pharmacies commerciales, et considérés comme utiles à la prise en charge du Covid-19 et l’allocation de primes exceptionnelles à tous les personnels de santé et auxiliaires mobilisés pour la lutte contre le virus.\\n\\nPar ailleurs, elle a vivement recommandé aux vendeurs et aux clients dans les marchés le port de masques et de tout accessoire susceptible de servir de barrières à la propagation du Covid-19.\\n\\nA ce jour, 60 cas sont confirmés dans le pays, dont 5 décès et autant de guérisons.\\n\\nAvec APA'"
      ]
     },
     "execution_count": 7,
     "metadata": {},
     "output_type": "execute_result"
    }
   ],
   "source": [
    "#Original text (We have some \\n, and potential other codes)\n",
    "clean_df.iloc[-1].text"
   ]
  },
  {
   "cell_type": "code",
   "execution_count": 8,
   "metadata": {},
   "outputs": [],
   "source": [
    "#Download spacy french vocabulary \n",
    "#!python -m spacy download fr_core_news_md\n",
    "#They also have multi-lingual stuff--> Can be interesting if we want to apply the method to other types of text"
   ]
  },
  {
   "cell_type": "code",
   "execution_count": 9,
   "metadata": {},
   "outputs": [],
   "source": [
    "try:\n",
    "    spacy.load('fr_core_news_md')\n",
    "except Exception as e:\n",
    "    print(e)\n",
    "#That's the usual way to make it work... I don't know why it doesn't here\n",
    "    "
   ]
  },
  {
   "cell_type": "code",
   "execution_count": 11,
   "metadata": {},
   "outputs": [],
   "source": [
    "import fr_core_news_md\n",
    "nlp = fr_core_news_md.load()"
   ]
  },
  {
   "cell_type": "code",
   "execution_count": 13,
   "metadata": {},
   "outputs": [
    {
     "name": "stdout",
     "output_type": "stream",
     "text": [
      "(DR, Francs, ministre de la Communication, Thierry Lézin Moungalla, Covid-19, Sassou N’Guesso, CFA, La Coordination, Coordination nationale, Task, Covid-19, Trésor, Etat, Covid-19, Covid-19, Covid-19, Covid-19)\n"
     ]
    }
   ],
   "source": [
    "def clean_text(text_):\n",
    "    text_ = text_.rstrip() \n",
    "    text_ = text_.replace('\\n', ' ')\n",
    "    text_ = text_.replace(\"  \", \" \")\n",
    "    text_ = text_.replace('[^\\w\\s]','')\n",
    "    #lower_ = lambda x: \" \".join(x.lower() for x in x.split())\n",
    "    #text = lower_(text)\n",
    "    doc = nlp(text_)\n",
    "    return doc\n",
    "    #get the \"entities in the text\"\n",
    "\n",
    "Text = clean_df.iloc[-1].text\n",
    "doc = clean_text(Text)\n",
    "print(doc.ents)"
   ]
  },
  {
   "cell_type": "code",
   "execution_count": 14,
   "metadata": {
    "collapsed": true
   },
   "outputs": [
    {
     "name": "stdout",
     "output_type": "stream",
     "text": [
      "Help on Doc object:\n",
      "\n",
      "class Doc(builtins.object)\n",
      " |  A sequence of Token objects. Access sentences and named entities, export\n",
      " |  annotations to numpy arrays, losslessly serialize to compressed binary\n",
      " |  strings. The `Doc` object holds an array of `TokenC` structs. The\n",
      " |  Python-level `Token` and `Span` objects are views of this array, i.e.\n",
      " |  they don't own the data themselves.\n",
      " |  \n",
      " |  EXAMPLE: Construction 1\n",
      " |      >>> doc = nlp(u'Some text')\n",
      " |  \n",
      " |      Construction 2\n",
      " |      >>> from spacy.tokens import Doc\n",
      " |      >>> doc = Doc(nlp.vocab, words=[u'hello', u'world', u'!'],\n",
      " |                    spaces=[True, False, False])\n",
      " |  \n",
      " |  DOCS: https://spacy.io/api/doc\n",
      " |  \n",
      " |  Methods defined here:\n",
      " |  \n",
      " |  __bytes__(...)\n",
      " |  \n",
      " |  __getitem__(...)\n",
      " |      Get a `Token` or `Span` object.\n",
      " |      \n",
      " |      i (int or tuple) The index of the token, or the slice of the document\n",
      " |          to get.\n",
      " |      RETURNS (Token or Span): The token at `doc[i]]`, or the span at\n",
      " |          `doc[start : end]`.\n",
      " |      \n",
      " |      EXAMPLE:\n",
      " |          >>> doc[i]\n",
      " |          Get the `Token` object at position `i`, where `i` is an integer.\n",
      " |          Negative indexing is supported, and follows the usual Python\n",
      " |          semantics, i.e. `doc[-2]` is `doc[len(doc) - 2]`.\n",
      " |      \n",
      " |          >>> doc[start : end]]\n",
      " |          Get a `Span` object, starting at position `start` and ending at\n",
      " |          position `end`, where `start` and `end` are token indices. For\n",
      " |          instance, `doc[2:5]` produces a span consisting of tokens 2, 3 and\n",
      " |          4. Stepped slices (e.g. `doc[start : end : step]`) are not\n",
      " |          supported, as `Span` objects must be contiguous (cannot have gaps).\n",
      " |          You can use negative indices and open-ended ranges, which have\n",
      " |          their normal Python semantics.\n",
      " |      \n",
      " |      DOCS: https://spacy.io/api/doc#getitem\n",
      " |  \n",
      " |  __init__(...)\n",
      " |      Create a Doc object.\n",
      " |      \n",
      " |      vocab (Vocab): A vocabulary object, which must match any models you\n",
      " |          want to use (e.g. tokenizer, parser, entity recognizer).\n",
      " |      words (list or None): A list of unicode strings to add to the document\n",
      " |          as words. If `None`, defaults to empty list.\n",
      " |      spaces (list or None): A list of boolean values, of the same length as\n",
      " |          words. True means that the word is followed by a space, False means\n",
      " |          it is not. If `None`, defaults to `[True]*len(words)`\n",
      " |      user_data (dict or None): Optional extra data to attach to the Doc.\n",
      " |      RETURNS (Doc): The newly constructed object.\n",
      " |      \n",
      " |      DOCS: https://spacy.io/api/doc#init\n",
      " |  \n",
      " |  __iter__(...)\n",
      " |      Iterate over `Token`  objects, from which the annotations can be\n",
      " |      easily accessed. This is the main way of accessing `Token` objects,\n",
      " |      which are the main way annotations are accessed from Python. If faster-\n",
      " |      than-Python speeds are required, you can instead access the annotations\n",
      " |      as a numpy array, or access the underlying C data directly from Cython.\n",
      " |      \n",
      " |      DOCS: https://spacy.io/api/doc#iter\n",
      " |  \n",
      " |  __len__(...)\n",
      " |      The number of tokens in the document.\n",
      " |      \n",
      " |      RETURNS (int): The number of tokens in the document.\n",
      " |      \n",
      " |      DOCS: https://spacy.io/api/doc#len\n",
      " |  \n",
      " |  __reduce__ = __reduce_cython__(...)\n",
      " |  \n",
      " |  __repr__(self, /)\n",
      " |      Return repr(self).\n",
      " |  \n",
      " |  __setstate__ = __setstate_cython__(...)\n",
      " |  \n",
      " |  __str__(self, /)\n",
      " |      Return str(self).\n",
      " |  \n",
      " |  __unicode__(...)\n",
      " |  \n",
      " |  char_span(...)\n",
      " |      Create a `Span` object from the slice `doc.text[start : end]`.\n",
      " |      \n",
      " |      doc (Doc): The parent document.\n",
      " |      start (int): The index of the first character of the span.\n",
      " |      end (int): The index of the first character after the span.\n",
      " |      label (uint64 or string): A label to attach to the Span, e.g. for\n",
      " |          named entities.\n",
      " |      kb_id (uint64 or string):  An ID from a KB to capture the meaning of a named entity.\n",
      " |      vector (ndarray[ndim=1, dtype='float32']): A meaning representation of\n",
      " |          the span.\n",
      " |      RETURNS (Span): The newly constructed object.\n",
      " |      \n",
      " |      DOCS: https://spacy.io/api/doc#char_span\n",
      " |  \n",
      " |  count_by(...)\n",
      " |      Count the frequencies of a given attribute. Produces a dict of\n",
      " |      `{attribute (int): count (ints)}` frequencies, keyed by the values of\n",
      " |      the given attribute ID.\n",
      " |      \n",
      " |      attr_id (int): The attribute ID to key the counts.\n",
      " |      RETURNS (dict): A dictionary mapping attributes to integer counts.\n",
      " |      \n",
      " |      DOCS: https://spacy.io/api/doc#count_by\n",
      " |  \n",
      " |  extend_tensor(...)\n",
      " |      Concatenate a new tensor onto the doc.tensor object.\n",
      " |      \n",
      " |      The doc.tensor attribute holds dense feature vectors\n",
      " |      computed by the models in the pipeline. Let's say a\n",
      " |      document with 30 words has a tensor with 128 dimensions\n",
      " |      per word. doc.tensor.shape will be (30, 128). After\n",
      " |      calling doc.extend_tensor with an array of shape (30, 64),\n",
      " |      doc.tensor == (30, 192).\n",
      " |  \n",
      " |  from_array(...)\n",
      " |      Load attributes from a numpy array. Write to a `Doc` object, from an\n",
      " |      `(M, N)` array of attributes.\n",
      " |      \n",
      " |      attrs (list) A list of attribute ID ints.\n",
      " |      array (numpy.ndarray[ndim=2, dtype='int32']): The attribute values.\n",
      " |      RETURNS (Doc): Itself.\n",
      " |      \n",
      " |      DOCS: https://spacy.io/api/doc#from_array\n",
      " |  \n",
      " |  from_bytes(...)\n",
      " |      Deserialize, i.e. import the document contents from a binary string.\n",
      " |      \n",
      " |      data (bytes): The string to load from.\n",
      " |      exclude (list): String names of serialization fields to exclude.\n",
      " |      RETURNS (Doc): Itself.\n",
      " |      \n",
      " |      DOCS: https://spacy.io/api/doc#from_bytes\n",
      " |  \n",
      " |  from_disk(...)\n",
      " |      Loads state from a directory. Modifies the object in place and\n",
      " |      returns it.\n",
      " |      \n",
      " |      path (unicode or Path): A path to a directory. Paths may be either\n",
      " |          strings or `Path`-like objects.\n",
      " |      exclude (list): String names of serialization fields to exclude.\n",
      " |      RETURNS (Doc): The modified `Doc` object.\n",
      " |      \n",
      " |      DOCS: https://spacy.io/api/doc#from_disk\n",
      " |  \n",
      " |  get_lca_matrix(...)\n",
      " |      Calculates a matrix of Lowest Common Ancestors (LCA) for a given\n",
      " |      `Doc`, where LCA[i, j] is the index of the lowest common ancestor among\n",
      " |      token i and j.\n",
      " |      \n",
      " |      RETURNS (np.array[ndim=2, dtype=numpy.int32]): LCA matrix with shape\n",
      " |          (n, n), where n = len(self).\n",
      " |      \n",
      " |      DOCS: https://spacy.io/api/doc#get_lca_matrix\n",
      " |  \n",
      " |  merge(...)\n",
      " |      Retokenize the document, such that the span at\n",
      " |      `doc.text[start_idx : end_idx]` is merged into a single token. If\n",
      " |      `start_idx` and `end_idx `do not mark start and end token boundaries,\n",
      " |      the document remains unchanged.\n",
      " |      \n",
      " |      start_idx (int): Character index of the start of the slice to merge.\n",
      " |      end_idx (int): Character index after the end of the slice to merge.\n",
      " |      **attributes: Attributes to assign to the merged token. By default,\n",
      " |          attributes are inherited from the syntactic root of the span.\n",
      " |      RETURNS (Token): The newly merged token, or `None` if the start and end\n",
      " |          indices did not fall at token boundaries.\n",
      " |  \n",
      " |  print_tree(...)\n",
      " |  \n",
      " |  retokenize(...)\n",
      " |      Context manager to handle retokenization of the Doc.\n",
      " |      Modifications to the Doc's tokenization are stored, and then\n",
      " |      made all at once when the context manager exits. This is\n",
      " |      much more efficient, and less error-prone.\n",
      " |      \n",
      " |      All views of the Doc (Span and Token) created before the\n",
      " |      retokenization are invalidated, although they may accidentally\n",
      " |      continue to work.\n",
      " |      \n",
      " |      DOCS: https://spacy.io/api/doc#retokenize\n",
      " |      USAGE: https://spacy.io/usage/linguistic-features#retokenization\n",
      " |  \n",
      " |  similarity(...)\n",
      " |      Make a semantic similarity estimate. The default estimate is cosine\n",
      " |      similarity using an average of word vectors.\n",
      " |      \n",
      " |      other (object): The object to compare with. By default, accepts `Doc`,\n",
      " |          `Span`, `Token` and `Lexeme` objects.\n",
      " |      RETURNS (float): A scalar similarity score. Higher is more similar.\n",
      " |      \n",
      " |      DOCS: https://spacy.io/api/doc#similarity\n",
      " |  \n",
      " |  to_array(...)\n",
      " |      Export given token attributes to a numpy `ndarray`.\n",
      " |      If `attr_ids` is a sequence of M attributes, the output array will be\n",
      " |      of shape `(N, M)`, where N is the length of the `Doc` (in tokens). If\n",
      " |      `attr_ids` is a single attribute, the output shape will be (N,). You\n",
      " |      can specify attributes by integer ID (e.g. spacy.attrs.LEMMA) or\n",
      " |      string name (e.g. 'LEMMA' or 'lemma').\n",
      " |      \n",
      " |      attr_ids (list[]): A list of attributes (int IDs or string names).\n",
      " |      RETURNS (numpy.ndarray[long, ndim=2]): A feature matrix, with one row\n",
      " |          per word, and one column per attribute indicated in the input\n",
      " |          `attr_ids`.\n",
      " |      \n",
      " |      EXAMPLE:\n",
      " |          >>> from spacy.attrs import LOWER, POS, ENT_TYPE, IS_ALPHA\n",
      " |          >>> doc = nlp(text)\n",
      " |          >>> # All strings mapped to integers, for easy export to numpy\n",
      " |          >>> np_array = doc.to_array([LOWER, POS, ENT_TYPE, IS_ALPHA])\n",
      " |  \n",
      " |  to_bytes(...)\n",
      " |      Serialize, i.e. export the document contents to a binary string.\n",
      " |      \n",
      " |      exclude (list): String names of serialization fields to exclude.\n",
      " |      RETURNS (bytes): A losslessly serialized copy of the `Doc`, including\n",
      " |          all annotations.\n",
      " |      \n",
      " |      DOCS: https://spacy.io/api/doc#to_bytes\n",
      " |  \n",
      " |  to_disk(...)\n",
      " |      Save the current state to a directory.\n",
      " |      \n",
      " |      path (unicode or Path): A path to a directory, which will be created if\n",
      " |          it doesn't exist. Paths may be either strings or Path-like objects.\n",
      " |      exclude (list): String names of serialization fields to exclude.\n",
      " |      \n",
      " |      DOCS: https://spacy.io/api/doc#to_disk\n",
      " |  \n",
      " |  to_json(...)\n",
      " |      Convert a Doc to JSON. The format it produces will be the new format\n",
      " |      for the `spacy train` command (not implemented yet).\n",
      " |      \n",
      " |      underscore (list): Optional list of string names of custom doc._.\n",
      " |      attributes. Attribute values need to be JSON-serializable. Values will\n",
      " |      be added to an \"_\" key in the data, e.g. \"_\": {\"foo\": \"bar\"}.\n",
      " |      RETURNS (dict): The data in spaCy's JSON format.\n",
      " |      \n",
      " |      DOCS: https://spacy.io/api/doc#to_json\n",
      " |  \n",
      " |  ----------------------------------------------------------------------\n",
      " |  Class methods defined here:\n",
      " |  \n",
      " |  get_extension(...) from builtins.type\n",
      " |      Look up a previously registered extension by name.\n",
      " |      \n",
      " |      name (unicode): Name of the extension.\n",
      " |      RETURNS (tuple): A `(default, method, getter, setter)` tuple.\n",
      " |      \n",
      " |      DOCS: https://spacy.io/api/doc#get_extension\n",
      " |  \n",
      " |  has_extension(...) from builtins.type\n",
      " |      Check whether an extension has been registered.\n",
      " |      \n",
      " |      name (unicode): Name of the extension.\n",
      " |      RETURNS (bool): Whether the extension has been registered.\n",
      " |      \n",
      " |      DOCS: https://spacy.io/api/doc#has_extension\n",
      " |  \n",
      " |  remove_extension(...) from builtins.type\n",
      " |      Remove a previously registered extension.\n",
      " |      \n",
      " |      name (unicode): Name of the extension.\n",
      " |      RETURNS (tuple): A `(default, method, getter, setter)` tuple of the\n",
      " |          removed extension.\n",
      " |      \n",
      " |      DOCS: https://spacy.io/api/doc#remove_extension\n",
      " |  \n",
      " |  set_extension(...) from builtins.type\n",
      " |      Define a custom attribute which becomes available as `Doc._`.\n",
      " |      \n",
      " |      name (unicode): Name of the attribute to set.\n",
      " |      default: Optional default value of the attribute.\n",
      " |      getter (callable): Optional getter function.\n",
      " |      setter (callable): Optional setter function.\n",
      " |      method (callable): Optional method for method extension.\n",
      " |      force (bool): Force overwriting existing attribute.\n",
      " |      \n",
      " |      DOCS: https://spacy.io/api/doc#set_extension\n",
      " |      USAGE: https://spacy.io/usage/processing-pipelines#custom-components-attributes\n",
      " |  \n",
      " |  ----------------------------------------------------------------------\n",
      " |  Static methods defined here:\n",
      " |  \n",
      " |  __new__(*args, **kwargs) from builtins.type\n",
      " |      Create and return a new object.  See help(type) for accurate signature.\n",
      " |  \n",
      " |  ----------------------------------------------------------------------\n",
      " |  Data descriptors defined here:\n",
      " |  \n",
      " |  cats\n",
      " |  \n",
      " |  doc\n",
      " |  \n",
      " |  ents\n",
      " |      The named entities in the document. Returns a tuple of named entity\n",
      " |      `Span` objects, if the entity recognizer has been applied.\n",
      " |      \n",
      " |      RETURNS (tuple): Entities in the document, one `Span` per entity.\n",
      " |      \n",
      " |      DOCS: https://spacy.io/api/doc#ents\n",
      " |  \n",
      " |  has_vector\n",
      " |      A boolean value indicating whether a word vector is associated with\n",
      " |      the object.\n",
      " |      \n",
      " |      RETURNS (bool): Whether a word vector is associated with the object.\n",
      " |      \n",
      " |      DOCS: https://spacy.io/api/doc#has_vector\n",
      " |  \n",
      " |  is_nered\n",
      " |      Check if the document has named entities set. Will return True if\n",
      " |      *any* of the tokens has a named entity tag set (even if the others are\n",
      " |      uknown values).\n",
      " |  \n",
      " |  is_parsed\n",
      " |  \n",
      " |  is_sentenced\n",
      " |      Check if the document has sentence boundaries assigned. This is\n",
      " |      defined as having at least one of the following:\n",
      " |      \n",
      " |      a) An entry \"sents\" in doc.user_hooks\";\n",
      " |      b) Doc.is_parsed is set to True;\n",
      " |      c) At least one token other than the first where sent_start is not None.\n",
      " |  \n",
      " |  is_tagged\n",
      " |  \n",
      " |  lang\n",
      " |      RETURNS (uint64): ID of the language of the doc's vocabulary.\n",
      " |  \n",
      " |  lang_\n",
      " |      RETURNS (unicode): Language of the doc's vocabulary, e.g. 'en'.\n",
      " |  \n",
      " |  mem\n",
      " |  \n",
      " |  noun_chunks\n",
      " |      Iterate over the base noun phrases in the document. Yields base\n",
      " |      noun-phrase #[code Span] objects, if the document has been\n",
      " |      syntactically parsed. A base noun phrase, or \"NP chunk\", is a noun\n",
      " |      phrase that does not permit other NPs to be nested within it – so no\n",
      " |      NP-level coordination, no prepositional phrases, and no relative\n",
      " |      clauses.\n",
      " |      \n",
      " |      YIELDS (Span): Noun chunks in the document.\n",
      " |      \n",
      " |      DOCS: https://spacy.io/api/doc#noun_chunks\n",
      " |  \n",
      " |  noun_chunks_iterator\n",
      " |  \n",
      " |  sentiment\n",
      " |  \n",
      " |  sents\n",
      " |      Iterate over the sentences in the document. Yields sentence `Span`\n",
      " |      objects. Sentence spans have no label. To improve accuracy on informal\n",
      " |      texts, spaCy calculates sentence boundaries from the syntactic\n",
      " |      dependency parse. If the parser is disabled, the `sents` iterator will\n",
      " |      be unavailable.\n",
      " |      \n",
      " |      YIELDS (Span): Sentences in the document.\n",
      " |      \n",
      " |      DOCS: https://spacy.io/api/doc#sents\n",
      " |  \n",
      " |  tensor\n",
      " |  \n",
      " |  text\n",
      " |      A unicode representation of the document text.\n",
      " |      \n",
      " |      RETURNS (unicode): The original verbatim text of the document.\n",
      " |  \n",
      " |  text_with_ws\n",
      " |      An alias of `Doc.text`, provided for duck-type compatibility with\n",
      " |      `Span` and `Token`.\n",
      " |      \n",
      " |      RETURNS (unicode): The original verbatim text of the document.\n",
      " |  \n",
      " |  user_data\n",
      " |  \n",
      " |  user_hooks\n",
      " |  \n",
      " |  user_span_hooks\n",
      " |  \n",
      " |  user_token_hooks\n",
      " |  \n",
      " |  vector\n",
      " |      A real-valued meaning representation. Defaults to an average of the\n",
      " |      token vectors.\n",
      " |      \n",
      " |      RETURNS (numpy.ndarray[ndim=1, dtype='float32']): A 1D numpy array\n",
      " |          representing the document's semantics.\n",
      " |      \n",
      " |      DOCS: https://spacy.io/api/doc#vector\n",
      " |  \n",
      " |  vector_norm\n",
      " |      The L2 norm of the document's vector representation.\n",
      " |      \n",
      " |      RETURNS (float): The L2 norm of the vector representation.\n",
      " |      \n",
      " |      DOCS: https://spacy.io/api/doc#vector_norm\n",
      " |  \n",
      " |  vocab\n",
      " |  \n",
      " |  ----------------------------------------------------------------------\n",
      " |  Data and other attributes defined here:\n",
      " |  \n",
      " |  __pyx_vtable__ = <capsule object NULL>\n",
      "\n"
     ]
    }
   ],
   "source": [
    "help(doc)"
   ]
  },
  {
   "cell_type": "code",
   "execution_count": 25,
   "metadata": {},
   "outputs": [],
   "source": [
    "#print([t.text for t in doc]) \n",
    "#doc.to_json()\n",
    "#for i, sent in enumerate(doc.sents):\n",
    "#    print(i, sent)"
   ]
  },
  {
   "cell_type": "code",
   "execution_count": 57,
   "metadata": {},
   "outputs": [
    {
     "data": {
      "text/plain": [
       "Counter({'DR': 1,\n",
       "         'Francs': 1,\n",
       "         'ministre de la Communication': 1,\n",
       "         'Thierry Lézin Moungalla': 1,\n",
       "         'Covid-19': 6,\n",
       "         'Sassou N’Guesso': 1,\n",
       "         'CFA': 1,\n",
       "         'La Coordination': 1,\n",
       "         'Coordination nationale': 1,\n",
       "         'Task': 1,\n",
       "         'Trésor': 1,\n",
       "         'Etat': 1})"
      ]
     },
     "execution_count": 57,
     "metadata": {},
     "output_type": "execute_result"
    }
   ],
   "source": [
    "from collections import Counter\n",
    "count = Counter()\n",
    "count.update(map(lambda x : x.text, doc.ents))\n",
    "count"
   ]
  },
  {
   "cell_type": "markdown",
   "metadata": {},
   "source": [
    "# Things that could be interesting for the very first analysis:\n",
    "- Count of tweets with time (probably more tweets/news since mid-march)\n",
    "- Keywords with time\n"
   ]
  },
  {
   "cell_type": "code",
   "execution_count": 85,
   "metadata": {},
   "outputs": [],
   "source": [
    "#choose index:\n",
    "import datetime\n",
    "index = 20\n",
    "date_str = clean_df.iloc[index].Date.split('T')[0]"
   ]
  },
  {
   "cell_type": "code",
   "execution_count": 87,
   "metadata": {},
   "outputs": [
    {
     "data": {
      "text/plain": [
       "datetime.datetime(2020, 2, 17, 0, 0)"
      ]
     },
     "execution_count": 87,
     "metadata": {},
     "output_type": "execute_result"
    }
   ],
   "source": [
    "#Timestamp.valueOf(\"2018-11-12 01:02:03.123456789\")\n",
    "element"
   ]
  },
  {
   "cell_type": "code",
   "execution_count": 84,
   "metadata": {},
   "outputs": [
    {
     "data": {
      "text/plain": [
       "'22:32:24'"
      ]
     },
     "execution_count": 84,
     "metadata": {},
     "output_type": "execute_result"
    }
   ],
   "source": [
    "clean_df.iloc[index].Date.split('T')[1]"
   ]
  },
  {
   "cell_type": "code",
   "execution_count": 177,
   "metadata": {},
   "outputs": [
    {
     "data": {
      "text/plain": [
       "['Corona',\n",
       " 'Covid19',\n",
       " 'Covid',\n",
       " 'Covid-19',\n",
       " 'Virus',\n",
       " 'Pandémie',\n",
       " 'Maladie',\n",
       " 'Coronavirus',\n",
       " 'corona',\n",
       " 'covid19',\n",
       " 'covid',\n",
       " 'covid-19',\n",
       " 'virus',\n",
       " 'pandémie',\n",
       " 'maladie',\n",
       " 'coronavirus']"
      ]
     },
     "execution_count": 177,
     "metadata": {},
     "output_type": "execute_result"
    }
   ],
   "source": [
    "key_words = ['Corona', 'Covid19', 'Covid', 'Covid-19', 'Virus', 'Pandémie', 'Maladie', 'Coronavirus']\n",
    "low_key_words = map(lambda x: x.lower(), key_words)\n",
    "key_words.extend(list(low_key_words))\n",
    "key_words\n"
   ]
  },
  {
   "cell_type": "code",
   "execution_count": 205,
   "metadata": {
    "collapsed": true
   },
   "outputs": [
    {
     "ename": "AttributeError",
     "evalue": "'Timestamp' object has no attribute 'split'",
     "output_type": "error",
     "traceback": [
      "\u001b[0;31m---------------------------------------------------------------------------\u001b[0m",
      "\u001b[0;31mAttributeError\u001b[0m                            Traceback (most recent call last)",
      "\u001b[0;32m<ipython-input-205-1f1c9d4c4ff7>\u001b[0m in \u001b[0;36m<module>\u001b[0;34m\u001b[0m\n\u001b[1;32m     13\u001b[0m     \u001b[0;32mreturn\u001b[0m \u001b[0melement\u001b[0m\u001b[0;34m\u001b[0m\u001b[0;34m\u001b[0m\u001b[0m\n\u001b[1;32m     14\u001b[0m \u001b[0;34m\u001b[0m\u001b[0m\n\u001b[0;32m---> 15\u001b[0;31m \u001b[0mclean_df\u001b[0m\u001b[0;34m[\u001b[0m\u001b[0;34m'Date'\u001b[0m\u001b[0;34m]\u001b[0m \u001b[0;34m=\u001b[0m \u001b[0mclean_df\u001b[0m\u001b[0;34m[\u001b[0m\u001b[0;34m'Date'\u001b[0m\u001b[0;34m]\u001b[0m\u001b[0;34m.\u001b[0m\u001b[0mapply\u001b[0m\u001b[0;34m(\u001b[0m\u001b[0mclean_date\u001b[0m\u001b[0;34m)\u001b[0m\u001b[0;34m\u001b[0m\u001b[0;34m\u001b[0m\u001b[0m\n\u001b[0m",
      "\u001b[0;32m~/anaconda/envs/hurricast/lib/python3.7/site-packages/pandas/core/series.py\u001b[0m in \u001b[0;36mapply\u001b[0;34m(self, func, convert_dtype, args, **kwds)\u001b[0m\n\u001b[1;32m   4036\u001b[0m             \u001b[0;32melse\u001b[0m\u001b[0;34m:\u001b[0m\u001b[0;34m\u001b[0m\u001b[0;34m\u001b[0m\u001b[0m\n\u001b[1;32m   4037\u001b[0m                 \u001b[0mvalues\u001b[0m \u001b[0;34m=\u001b[0m \u001b[0mself\u001b[0m\u001b[0;34m.\u001b[0m\u001b[0mastype\u001b[0m\u001b[0;34m(\u001b[0m\u001b[0mobject\u001b[0m\u001b[0;34m)\u001b[0m\u001b[0;34m.\u001b[0m\u001b[0mvalues\u001b[0m\u001b[0;34m\u001b[0m\u001b[0;34m\u001b[0m\u001b[0m\n\u001b[0;32m-> 4038\u001b[0;31m                 \u001b[0mmapped\u001b[0m \u001b[0;34m=\u001b[0m \u001b[0mlib\u001b[0m\u001b[0;34m.\u001b[0m\u001b[0mmap_infer\u001b[0m\u001b[0;34m(\u001b[0m\u001b[0mvalues\u001b[0m\u001b[0;34m,\u001b[0m \u001b[0mf\u001b[0m\u001b[0;34m,\u001b[0m \u001b[0mconvert\u001b[0m\u001b[0;34m=\u001b[0m\u001b[0mconvert_dtype\u001b[0m\u001b[0;34m)\u001b[0m\u001b[0;34m\u001b[0m\u001b[0;34m\u001b[0m\u001b[0m\n\u001b[0m\u001b[1;32m   4039\u001b[0m \u001b[0;34m\u001b[0m\u001b[0m\n\u001b[1;32m   4040\u001b[0m         \u001b[0;32mif\u001b[0m \u001b[0mlen\u001b[0m\u001b[0;34m(\u001b[0m\u001b[0mmapped\u001b[0m\u001b[0;34m)\u001b[0m \u001b[0;32mand\u001b[0m \u001b[0misinstance\u001b[0m\u001b[0;34m(\u001b[0m\u001b[0mmapped\u001b[0m\u001b[0;34m[\u001b[0m\u001b[0;36m0\u001b[0m\u001b[0;34m]\u001b[0m\u001b[0;34m,\u001b[0m \u001b[0mSeries\u001b[0m\u001b[0;34m)\u001b[0m\u001b[0;34m:\u001b[0m\u001b[0;34m\u001b[0m\u001b[0;34m\u001b[0m\u001b[0m\n",
      "\u001b[0;32mpandas/_libs/lib.pyx\u001b[0m in \u001b[0;36mpandas._libs.lib.map_infer\u001b[0;34m()\u001b[0m\n",
      "\u001b[0;32m<ipython-input-205-1f1c9d4c4ff7>\u001b[0m in \u001b[0;36mclean_date\u001b[0;34m(date_str)\u001b[0m\n\u001b[1;32m      7\u001b[0m     \u001b[0mModify\u001b[0m \u001b[0mthe\u001b[0m \u001b[0mdate\u001b[0m \u001b[0minto\u001b[0m \u001b[0ma\u001b[0m \u001b[0mtimestamp\u001b[0m \u001b[0mformat\u001b[0m\u001b[0;34m\u001b[0m\u001b[0;34m\u001b[0m\u001b[0m\n\u001b[1;32m      8\u001b[0m     \"\"\"\n\u001b[0;32m----> 9\u001b[0;31m     \u001b[0mdmy\u001b[0m\u001b[0;34m,\u001b[0m \u001b[0mhms\u001b[0m \u001b[0;34m=\u001b[0m \u001b[0mdate_str\u001b[0m\u001b[0;34m.\u001b[0m\u001b[0msplit\u001b[0m\u001b[0;34m(\u001b[0m\u001b[0;34m'T'\u001b[0m\u001b[0;34m)\u001b[0m\u001b[0;34m\u001b[0m\u001b[0;34m\u001b[0m\u001b[0m\n\u001b[0m\u001b[1;32m     10\u001b[0m     \u001b[0mdmy\u001b[0m \u001b[0;34m=\u001b[0m \u001b[0;34m\"/\"\u001b[0m\u001b[0;34m.\u001b[0m\u001b[0mjoin\u001b[0m\u001b[0;34m(\u001b[0m\u001b[0mdmy\u001b[0m\u001b[0;34m.\u001b[0m\u001b[0msplit\u001b[0m\u001b[0;34m(\u001b[0m\u001b[0;34m'-'\u001b[0m\u001b[0;34m)\u001b[0m\u001b[0;34m[\u001b[0m\u001b[0;34m:\u001b[0m\u001b[0;34m:\u001b[0m\u001b[0;34m-\u001b[0m\u001b[0;36m1\u001b[0m\u001b[0;34m]\u001b[0m\u001b[0;34m)\u001b[0m\u001b[0;34m\u001b[0m\u001b[0;34m\u001b[0m\u001b[0m\n\u001b[1;32m     11\u001b[0m     element = datetime.datetime.strptime(dmy,\n",
      "\u001b[0;31mAttributeError\u001b[0m: 'Timestamp' object has no attribute 'split'"
     ]
    }
   ],
   "source": [
    "import datetime\n",
    "import seaborn as sns \n",
    "sns.set_style(\"whitegrid\")\n",
    "\n",
    "def clean_date(date_str):\n",
    "    \"\"\"\n",
    "    Modify the date into a timestamp format\n",
    "    \"\"\"\n",
    "    dmy, hms = date_str.split('T')\n",
    "    dmy = \"/\".join(dmy.split('-')[::-1])\n",
    "    element = datetime.datetime.strptime(dmy,\n",
    "                                         \"%d/%m/%Y\") \n",
    "    return element\n",
    "    \n",
    "#clean_df['Date'] = clean_df['Date'].apply(clean_date)\n"
   ]
  },
  {
   "cell_type": "code",
   "execution_count": 209,
   "metadata": {},
   "outputs": [
    {
     "data": {
      "text/html": [
       "<div>\n",
       "<style scoped>\n",
       "    .dataframe tbody tr th:only-of-type {\n",
       "        vertical-align: middle;\n",
       "    }\n",
       "\n",
       "    .dataframe tbody tr th {\n",
       "        vertical-align: top;\n",
       "    }\n",
       "\n",
       "    .dataframe thead th {\n",
       "        text-align: right;\n",
       "    }\n",
       "</style>\n",
       "<table border=\"1\" class=\"dataframe\">\n",
       "  <thead>\n",
       "    <tr style=\"text-align: right;\">\n",
       "      <th></th>\n",
       "      <th>title</th>\n",
       "      <th>text</th>\n",
       "      <th>Date</th>\n",
       "      <th>country</th>\n",
       "      <th>source</th>\n",
       "      <th>tweet</th>\n",
       "      <th>id</th>\n",
       "    </tr>\n",
       "  </thead>\n",
       "  <tbody>\n",
       "    <tr>\n",
       "      <th>0</th>\n",
       "      <td>Hémicycles d'Afrique</td>\n",
       "      <td>Parti de Chine, le Covid-19 s’est répandu à tr...</td>\n",
       "      <td>2020-02-02</td>\n",
       "      <td>Congo</td>\n",
       "      <td>ICIBrazza</td>\n",
       "      <td>Le tout premier numéro du magazine online de \\...</td>\n",
       "      <td>Congo_ICIBrazza_5</td>\n",
       "    </tr>\n",
       "    <tr>\n",
       "      <th>1</th>\n",
       "      <td>Congo : travail à minima au ministère des fina...</td>\n",
       "      <td>Indisponible depuis quelques mois pour des rai...</td>\n",
       "      <td>2020-02-07</td>\n",
       "      <td>Congo</td>\n",
       "      <td>ICIBrazza</td>\n",
       "      <td>#Congo : travail à minima au ministère des fin...</td>\n",
       "      <td>Congo_ICIBrazza_17</td>\n",
       "    </tr>\n",
       "    <tr>\n",
       "      <th>2</th>\n",
       "      <td>Congo – Santé : Le gouvernement alloue 200 mil...</td>\n",
       "      <td>Le gouvernement congolais a acheminé une somme...</td>\n",
       "      <td>2020-02-07</td>\n",
       "      <td>Congo</td>\n",
       "      <td>ICIBrazza</td>\n",
       "      <td>#Congo - #Santé : Le gouvernement alloue 200 m...</td>\n",
       "      <td>Congo_ICIBrazza_16</td>\n",
       "    </tr>\n",
       "    <tr>\n",
       "      <th>3</th>\n",
       "      <td>Judo : Teddy Riner éliminé après 154 victoires...</td>\n",
       "      <td>Après 154 victoires consécutives en carrière, ...</td>\n",
       "      <td>2020-02-09</td>\n",
       "      <td>Congo</td>\n",
       "      <td>ICIBrazza</td>\n",
       "      <td>#JUDO - #TeddyRiner s’est incliné dimanche au ...</td>\n",
       "      <td>Congo_ICIBrazza_3</td>\n",
       "    </tr>\n",
       "    <tr>\n",
       "      <th>4</th>\n",
       "      <td>Bissau : l’ONU ne reconnaît pas la victoire de...</td>\n",
       "      <td>La déclaration du Secrétaire général de l’Orga...</td>\n",
       "      <td>2020-02-09</td>\n",
       "      <td>Congo</td>\n",
       "      <td>ICIBrazza</td>\n",
       "      <td>#Bissau : l'ONU ne reconnaît pas la victoire d...</td>\n",
       "      <td>Congo_ICIBrazza_4</td>\n",
       "    </tr>\n",
       "    <tr>\n",
       "      <th>5</th>\n",
       "      <td>Congo – Fnuap : Mabingué Ngom s’engage à inves...</td>\n",
       "      <td>Le directeur régional du Fonds des nations uni...</td>\n",
       "      <td>2020-02-12</td>\n",
       "      <td>Congo</td>\n",
       "      <td>ICIBrazza</td>\n",
       "      <td>#Congo Le directeur régional du Fnuap,  @Mabin...</td>\n",
       "      <td>Congo_ICIBrazza_27</td>\n",
       "    </tr>\n",
       "    <tr>\n",
       "      <th>6</th>\n",
       "      <td>Congo : les ailes de poulet reviennent sur les...</td>\n",
       "      <td>Quasi absents des tables de différents marchés...</td>\n",
       "      <td>2020-02-13</td>\n",
       "      <td>Congo</td>\n",
       "      <td>ICIBrazza</td>\n",
       "      <td>#Congo : les ailes de poulet reviennent sur le...</td>\n",
       "      <td>Congo_ICIBrazza_26</td>\n",
       "    </tr>\n",
       "    <tr>\n",
       "      <th>7</th>\n",
       "      <td>Pour « penser le Congo de demain », Marien Fau...</td>\n",
       "      <td>Il en décline la vision dans cet entretien et ...</td>\n",
       "      <td>2020-02-14</td>\n",
       "      <td>Congo</td>\n",
       "      <td>ICIBrazza</td>\n",
       "      <td>Pour « penser le Congo de demain »,  Marien Fa...</td>\n",
       "      <td>Congo_ICIBrazza_25</td>\n",
       "    </tr>\n",
       "    <tr>\n",
       "      <th>8</th>\n",
       "      <td>France: deux hommes écroués après une attaque ...</td>\n",
       "      <td>Deux hommes ont été inculpés et écroués après ...</td>\n",
       "      <td>2020-02-17</td>\n",
       "      <td>Congo</td>\n",
       "      <td>ICIBrazza</td>\n",
       "      <td>#France: deux hommes écroués après une attaque...</td>\n",
       "      <td>Congo_ICIBrazza_22</td>\n",
       "    </tr>\n",
       "    <tr>\n",
       "      <th>9</th>\n",
       "      <td>Congo : travail à minima au ministère des fina...</td>\n",
       "      <td>Indisponible depuis quelques mois pour des rai...</td>\n",
       "      <td>2020-02-17</td>\n",
       "      <td>Congo</td>\n",
       "      <td>ICIBrazza</td>\n",
       "      <td>#Congo : travail à minima au ministère des fin...</td>\n",
       "      <td>Congo_ICIBrazza_21</td>\n",
       "    </tr>\n",
       "    <tr>\n",
       "      <th>10</th>\n",
       "      <td>CHAN-2020: le Congo avec la RDC</td>\n",
       "      <td>Le Cameroun, pays-hôte en avril du Championnat...</td>\n",
       "      <td>2020-02-17</td>\n",
       "      <td>Congo</td>\n",
       "      <td>ICIBrazza</td>\n",
       "      <td>#CHAN2020: le #Congo avec la #RDChttp://icibra...</td>\n",
       "      <td>Congo_ICIBrazza_20</td>\n",
       "    </tr>\n",
       "    <tr>\n",
       "      <th>11</th>\n",
       "      <td>Congo : une capacité de production renforcée p...</td>\n",
       "      <td>La troisième turbine de la Centrale Electrique...</td>\n",
       "      <td>2020-02-19</td>\n",
       "      <td>Congo</td>\n",
       "      <td>ICIBrazza</td>\n",
       "      <td>La troisième turbine de la CEC d’une capacité ...</td>\n",
       "      <td>Congo_ICIBrazza_55</td>\n",
       "    </tr>\n",
       "    <tr>\n",
       "      <th>12</th>\n",
       "      <td>Congo : une capacité de production renforcée p...</td>\n",
       "      <td>La troisième turbine de la Centrale Electrique...</td>\n",
       "      <td>2020-02-19</td>\n",
       "      <td>Congo</td>\n",
       "      <td>ICIBrazza</td>\n",
       "      <td>#Congo : une capacité de production renforcée ...</td>\n",
       "      <td>Congo_ICIBrazza_56</td>\n",
       "    </tr>\n",
       "    <tr>\n",
       "      <th>13</th>\n",
       "      <td>Ici Brazza</td>\n",
       "      <td>Afrique\\n\\nLa population du village de Béboura...</td>\n",
       "      <td>2020-02-19</td>\n",
       "      <td>Congo</td>\n",
       "      <td>ICIBrazza</td>\n",
       "      <td>\"Souris aujourd’hui demain il te manquera peut...</td>\n",
       "      <td>Congo_ICIBrazza_54</td>\n",
       "    </tr>\n",
       "    <tr>\n",
       "      <th>14</th>\n",
       "      <td>Congo: 20 milliards f cfa pour un complexe agr...</td>\n",
       "      <td>Le groupe SOMDIAA a consenti un investissement...</td>\n",
       "      <td>2020-02-20</td>\n",
       "      <td>Congo</td>\n",
       "      <td>ICIBrazza</td>\n",
       "      <td>#Congo: 20 milliards f cfa pour un complexe ag...</td>\n",
       "      <td>Congo_ICIBrazza_52</td>\n",
       "    </tr>\n",
       "    <tr>\n",
       "      <th>15</th>\n",
       "      <td>Pointe-Noire dotée d’un nouveau complexe indus...</td>\n",
       "      <td>Un complexe industriel d’un montant de 45 mill...</td>\n",
       "      <td>2020-02-20</td>\n",
       "      <td>Congo</td>\n",
       "      <td>ICIBrazza</td>\n",
       "      <td>#Congo : Pointe-Noire dotée d’un nouveau compl...</td>\n",
       "      <td>Congo_ICIBrazza_51</td>\n",
       "    </tr>\n",
       "    <tr>\n",
       "      <th>16</th>\n",
       "      <td>Congo – Santé : Le gouvernement alloue 200 mil...</td>\n",
       "      <td>Le gouvernement congolais a acheminé une somme...</td>\n",
       "      <td>2020-02-20</td>\n",
       "      <td>Congo</td>\n",
       "      <td>ICIBrazza</td>\n",
       "      <td>#Congo: Où sont passés les 200 millions FCFA a...</td>\n",
       "      <td>Congo_ICIBrazza_53</td>\n",
       "    </tr>\n",
       "    <tr>\n",
       "      <th>17</th>\n",
       "      <td>Ici Brazza</td>\n",
       "      <td>Afrique\\n\\nLa population du village de Béboura...</td>\n",
       "      <td>2020-02-21</td>\n",
       "      <td>Congo</td>\n",
       "      <td>ICIBrazza</td>\n",
       "      <td>La piscine naturelle de Kimpene (Kimpene qui v...</td>\n",
       "      <td>Congo_ICIBrazza_50</td>\n",
       "    </tr>\n",
       "    <tr>\n",
       "      <th>18</th>\n",
       "      <td>Congo : le gouvernement exhorte les parents à ...</td>\n",
       "      <td>L’humanité célèbre le 21 février de chaque ann...</td>\n",
       "      <td>2020-02-23</td>\n",
       "      <td>Congo</td>\n",
       "      <td>ICIBrazza</td>\n",
       "      <td>#Congo : le gouvernement exhorte les parents à...</td>\n",
       "      <td>Congo_ICIBrazza_0</td>\n",
       "    </tr>\n",
       "    <tr>\n",
       "      <th>19</th>\n",
       "      <td>Mairie de Brazzaville : des conseillers exigen...</td>\n",
       "      <td>Dans une déclaration rendue publique le 26 fév...</td>\n",
       "      <td>2020-02-26</td>\n",
       "      <td>Congo</td>\n",
       "      <td>ICIBrazza</td>\n",
       "      <td>Mairie de #Brazzaville : des conseillers exige...</td>\n",
       "      <td>Congo_ICIBrazza_15</td>\n",
       "    </tr>\n",
       "    <tr>\n",
       "      <th>20</th>\n",
       "      <td>Coronavirus : un premier footballeur professio...</td>\n",
       "      <td>Il est le premier joueur professionnel à être ...</td>\n",
       "      <td>2020-02-27</td>\n",
       "      <td>Congo</td>\n",
       "      <td>ICIBrazza</td>\n",
       "      <td>#Coronavirus : un premier footballeur professi...</td>\n",
       "      <td>Congo_ICIBrazza_14</td>\n",
       "    </tr>\n",
       "    <tr>\n",
       "      <th>21</th>\n",
       "      <td>Canada – Agression sexuelle: le révérend Paul ...</td>\n",
       "      <td>Paul Mukendi, le révérend de l’église Parole d...</td>\n",
       "      <td>2020-02-28</td>\n",
       "      <td>Congo</td>\n",
       "      <td>ICIBrazza</td>\n",
       "      <td>#Canada - Agression sexuelle: le révérend Paul...</td>\n",
       "      <td>Congo_ICIBrazza_13</td>\n",
       "    </tr>\n",
       "    <tr>\n",
       "      <th>22</th>\n",
       "      <td>Mairie de Brazzaville : des conseillers exigen...</td>\n",
       "      <td>Dans une déclaration rendue publique le 26 fév...</td>\n",
       "      <td>2020-02-28</td>\n",
       "      <td>Congo</td>\n",
       "      <td>ICIBrazza</td>\n",
       "      <td>#Congo - Christian Roger Okemba, le maire de #...</td>\n",
       "      <td>Congo_ICIBrazza_12</td>\n",
       "    </tr>\n",
       "    <tr>\n",
       "      <th>23</th>\n",
       "      <td>Le Congo recherche 30,5 millions USD pour ses ...</td>\n",
       "      <td>Le gouvernement congolais a besoin d’un montan...</td>\n",
       "      <td>2020-02-29</td>\n",
       "      <td>Congo</td>\n",
       "      <td>ICIBrazza</td>\n",
       "      <td>Le #Congo recherche 30,5 millions USD pour ses...</td>\n",
       "      <td>Congo_ICIBrazza_10</td>\n",
       "    </tr>\n",
       "    <tr>\n",
       "      <th>24</th>\n",
       "      <td>Le maire de Brazzaville suspendu de ses fonctions</td>\n",
       "      <td>Christian Roger Okemba a été suspendu de ses f...</td>\n",
       "      <td>2020-02-29</td>\n",
       "      <td>Congo</td>\n",
       "      <td>ICIBrazza</td>\n",
       "      <td>#Congo - Le maire de #Brazzaville suspendu de ...</td>\n",
       "      <td>Congo_ICIBrazza_11</td>\n",
       "    </tr>\n",
       "    <tr>\n",
       "      <th>25</th>\n",
       "      <td>Congo : À qui profite le contrat entre l’Etat ...</td>\n",
       "      <td>Le contrat de prestations de services conclu e...</td>\n",
       "      <td>2020-03-01</td>\n",
       "      <td>Congo</td>\n",
       "      <td>ICIBrazza</td>\n",
       "      <td>#Congo : À qui profite le contrat entre l’Etat...</td>\n",
       "      <td>Congo_ICIBrazza_8</td>\n",
       "    </tr>\n",
       "    <tr>\n",
       "      <th>26</th>\n",
       "      <td>Congo – Virement de 1,250 milliards Fcfa : Le ...</td>\n",
       "      <td>Selon les fins limiers des finances publiques,...</td>\n",
       "      <td>2020-03-01</td>\n",
       "      <td>Congo</td>\n",
       "      <td>ICIBrazza</td>\n",
       "      <td>#Congo - Virement de 1,250 milliards Fcfa : Le...</td>\n",
       "      <td>Congo_ICIBrazza_9</td>\n",
       "    </tr>\n",
       "    <tr>\n",
       "      <th>27</th>\n",
       "      <td>Le maire de Brazzaville suspendu de ses fonctions</td>\n",
       "      <td>Christian Roger Okemba a été suspendu de ses f...</td>\n",
       "      <td>2020-03-03</td>\n",
       "      <td>Congo</td>\n",
       "      <td>ICIBrazza</td>\n",
       "      <td>#URGENT - Sur instruction du Procureur de la R...</td>\n",
       "      <td>Congo_ICIBrazza_7</td>\n",
       "    </tr>\n",
       "    <tr>\n",
       "      <th>28</th>\n",
       "      <td>Congo – Pool : les enseignants de Mindouli rem...</td>\n",
       "      <td>Le personnel enseignant de Mindouli dans le dé...</td>\n",
       "      <td>2020-03-03</td>\n",
       "      <td>Congo</td>\n",
       "      <td>ICIBrazza</td>\n",
       "      <td>#Congo - Pool : les enseignants de Mindouli re...</td>\n",
       "      <td>Congo_ICIBrazza_6</td>\n",
       "    </tr>\n",
       "    <tr>\n",
       "      <th>29</th>\n",
       "      <td>Congo: la quarantaine pour les passagers venan...</td>\n",
       "      <td>Le Congo, jusque-là épargné par le coronavirus...</td>\n",
       "      <td>2020-03-06</td>\n",
       "      <td>Congo</td>\n",
       "      <td>ICIBrazza</td>\n",
       "      <td>#Congo: la quarantaine pour les passagers vena...</td>\n",
       "      <td>Congo_ICIBrazza_24</td>\n",
       "    </tr>\n",
       "    <tr>\n",
       "      <th>...</th>\n",
       "      <td>...</td>\n",
       "      <td>...</td>\n",
       "      <td>...</td>\n",
       "      <td>...</td>\n",
       "      <td>...</td>\n",
       "      <td>...</td>\n",
       "      <td>...</td>\n",
       "    </tr>\n",
       "    <tr>\n",
       "      <th>48</th>\n",
       "      <td>Congo – Coronavirus : l’ARPCE fait baisser les...</td>\n",
       "      <td>Dans le cadre de la lutte contre la propagatio...</td>\n",
       "      <td>2020-03-21</td>\n",
       "      <td>Congo</td>\n",
       "      <td>ICIBrazza</td>\n",
       "      <td>#Congo - #Coronavirus : l’ARPCE fait baisser l...</td>\n",
       "      <td>Congo_ICIBrazza_58</td>\n",
       "    </tr>\n",
       "    <tr>\n",
       "      <th>49</th>\n",
       "      <td>Coronavirus au Congo Brazzaville pourquoi cela...</td>\n",
       "      <td>Un italien travaillant à Eni Pointe-Noire est ...</td>\n",
       "      <td>2020-03-21</td>\n",
       "      <td>Congo</td>\n",
       "      <td>ICIBrazza</td>\n",
       "      <td>#Coronavirus au #Congo #Brazzaville pourquoi c...</td>\n",
       "      <td>Congo_ICIBrazza_59</td>\n",
       "    </tr>\n",
       "    <tr>\n",
       "      <th>50</th>\n",
       "      <td>Coronavirus au Congo Brazzaville pourquoi cela...</td>\n",
       "      <td>Un italien travaillant à Eni Pointe-Noire est ...</td>\n",
       "      <td>2020-03-21</td>\n",
       "      <td>Congo</td>\n",
       "      <td>ICIBrazza</td>\n",
       "      <td>#Coronavirus: Le #Congo enregistre un 4e cas d...</td>\n",
       "      <td>Congo_ICIBrazza_60</td>\n",
       "    </tr>\n",
       "    <tr>\n",
       "      <th>51</th>\n",
       "      <td>Congo – Coronavirus : Pas de taxi pour un ress...</td>\n",
       "      <td>Un Chinois a été surpris sur une route du cent...</td>\n",
       "      <td>2020-03-22</td>\n",
       "      <td>Congo</td>\n",
       "      <td>ICIBrazza</td>\n",
       "      <td>#Congo - #Coronavirus : Pas de taxi pour un re...</td>\n",
       "      <td>Congo_ICIBrazza_57</td>\n",
       "    </tr>\n",
       "    <tr>\n",
       "      <th>52</th>\n",
       "      <td>Coronavirus: Bras de fer entre policiers et re...</td>\n",
       "      <td>Parmi les mesures annoncées par le gouvernemen...</td>\n",
       "      <td>2020-03-23</td>\n",
       "      <td>Congo</td>\n",
       "      <td>ICIBrazza</td>\n",
       "      <td>#Coronavirus: Bras de fer entre policiers et r...</td>\n",
       "      <td>Congo_ICIBrazza_46</td>\n",
       "    </tr>\n",
       "    <tr>\n",
       "      <th>53</th>\n",
       "      <td>VIDEO – Namibie : À 23 ans, Emma Theofilus dev...</td>\n",
       "      <td>Emma Theofilus a également été nommée membre d...</td>\n",
       "      <td>2020-03-23</td>\n",
       "      <td>Congo</td>\n",
       "      <td>ICIBrazza</td>\n",
       "      <td>#VIDEO - #Namibie : À 23 ans, Emma Theofilus d...</td>\n",
       "      <td>Congo_ICIBrazza_45</td>\n",
       "    </tr>\n",
       "    <tr>\n",
       "      <th>54</th>\n",
       "      <td>Coronavirus : le saxophoniste Manu Dibango est...</td>\n",
       "      <td>Manu Dibango est mort. La famille du chanteur ...</td>\n",
       "      <td>2020-03-24</td>\n",
       "      <td>Congo</td>\n",
       "      <td>ICIBrazza</td>\n",
       "      <td>#ManuDibango, Marie-jeanne Flint, Bik's BIKOUT...</td>\n",
       "      <td>Congo_ICIBrazza_43</td>\n",
       "    </tr>\n",
       "    <tr>\n",
       "      <th>55</th>\n",
       "      <td>Coronavirus : un prêtre italien meurt après av...</td>\n",
       "      <td>Infecté par le coronavirus, le père Giuseppe B...</td>\n",
       "      <td>2020-03-24</td>\n",
       "      <td>Congo</td>\n",
       "      <td>ICIBrazza</td>\n",
       "      <td>#Italie - #Coronavirus : un prêtre italien meu...</td>\n",
       "      <td>Congo_ICIBrazza_42</td>\n",
       "    </tr>\n",
       "    <tr>\n",
       "      <th>56</th>\n",
       "      <td>Coronavirus : le saxophoniste Manu Dibango est...</td>\n",
       "      <td>Manu Dibango est mort. La famille du chanteur ...</td>\n",
       "      <td>2020-03-24</td>\n",
       "      <td>Congo</td>\n",
       "      <td>ICIBrazza</td>\n",
       "      <td>#Coronavirus : le saxophoniste #ManuDibango es...</td>\n",
       "      <td>Congo_ICIBrazza_44</td>\n",
       "    </tr>\n",
       "    <tr>\n",
       "      <th>57</th>\n",
       "      <td>Congo : décès de l’ancien ministre Jean Claude...</td>\n",
       "      <td>Ancien inspecteur puis directeur de la jeuness...</td>\n",
       "      <td>2020-03-28</td>\n",
       "      <td>Congo</td>\n",
       "      <td>ICIBrazza</td>\n",
       "      <td>Ancien inspecteur puis directeur de la jeuness...</td>\n",
       "      <td>Congo_ICIBrazza_69</td>\n",
       "    </tr>\n",
       "    <tr>\n",
       "      <th>58</th>\n",
       "      <td>Ici Brazza</td>\n",
       "      <td>Afrique\\n\\nLa population du village de Béboura...</td>\n",
       "      <td>2020-03-28</td>\n",
       "      <td>Congo</td>\n",
       "      <td>ICIBrazza</td>\n",
       "      <td>«Après 10 ans à la tête de l’agence de Régulat...</td>\n",
       "      <td>Congo_ICIBrazza_66</td>\n",
       "    </tr>\n",
       "    <tr>\n",
       "      <th>59</th>\n",
       "      <td>Congo : décès de l’ancien ministre Jean Claude...</td>\n",
       "      <td>Ancien inspecteur puis directeur de la jeuness...</td>\n",
       "      <td>2020-03-28</td>\n",
       "      <td>Congo</td>\n",
       "      <td>ICIBrazza</td>\n",
       "      <td>#Congo : décès de l’ancien ministre Jean Claud...</td>\n",
       "      <td>Congo_ICIBrazza_68</td>\n",
       "    </tr>\n",
       "    <tr>\n",
       "      <th>60</th>\n",
       "      <td>Congo : décès de l’ancien ministre Jean Claude...</td>\n",
       "      <td>Ancien inspecteur puis directeur de la jeuness...</td>\n",
       "      <td>2020-03-28</td>\n",
       "      <td>Congo</td>\n",
       "      <td>ICIBrazza</td>\n",
       "      <td>#Congo - Le décès de Jean Claude Ganga ce mati...</td>\n",
       "      <td>Congo_ICIBrazza_67</td>\n",
       "    </tr>\n",
       "    <tr>\n",
       "      <th>61</th>\n",
       "      <td>Congo – Coronavirus : une centaine d’étudiants...</td>\n",
       "      <td>Des étudiants congolais à Kinshasa, en Républi...</td>\n",
       "      <td>2020-03-29</td>\n",
       "      <td>Congo</td>\n",
       "      <td>ICIBrazza</td>\n",
       "      <td>#Congo - #Coronavirus : une centaine d’étudian...</td>\n",
       "      <td>Congo_ICIBrazza_64</td>\n",
       "    </tr>\n",
       "    <tr>\n",
       "      <th>62</th>\n",
       "      <td>Covid-19 au Congo: état d’urgence, confinement...</td>\n",
       "      <td>Le président congolais Denis Sassou N’Guesso a...</td>\n",
       "      <td>2020-03-29</td>\n",
       "      <td>Congo</td>\n",
       "      <td>ICIBrazza</td>\n",
       "      <td>#Covid19 au #Congo: état d’urgence, #confineme...</td>\n",
       "      <td>Congo_ICIBrazza_65</td>\n",
       "    </tr>\n",
       "    <tr>\n",
       "      <th>63</th>\n",
       "      <td>Coronavirus: l’exode vers l’arrière-pays a com...</td>\n",
       "      <td>Depuis 5h du matin, beaucoup de Brazzavillois ...</td>\n",
       "      <td>2020-03-30</td>\n",
       "      <td>Congo</td>\n",
       "      <td>ICIBrazza</td>\n",
       "      <td>#Coronavirus - Depuis 5h du matin, beaucoup de...</td>\n",
       "      <td>Congo_ICIBrazza_49</td>\n",
       "    </tr>\n",
       "    <tr>\n",
       "      <th>64</th>\n",
       "      <td>Congo : l’ancien président Jacques Joachim Yho...</td>\n",
       "      <td>Envoyer à l'adresse e-mail\\n\\nVotre nom\\n\\nVot...</td>\n",
       "      <td>2020-03-30</td>\n",
       "      <td>Congo</td>\n",
       "      <td>ICIBrazza</td>\n",
       "      <td>#Congo : l'ancien président Jacques Joachim Yh...</td>\n",
       "      <td>Congo_ICIBrazza_48</td>\n",
       "    </tr>\n",
       "    <tr>\n",
       "      <th>65</th>\n",
       "      <td>Pluie diluvienne à Brazzaville: une vingtaine ...</td>\n",
       "      <td>Dans la matinée du 1er avril à la commune de K...</td>\n",
       "      <td>2020-04-01</td>\n",
       "      <td>Congo</td>\n",
       "      <td>ICIBrazza</td>\n",
       "      <td>#Congo - Dans la matinée du 1er avril à la com...</td>\n",
       "      <td>Congo_ICIBrazza_47</td>\n",
       "    </tr>\n",
       "    <tr>\n",
       "      <th>66</th>\n",
       "      <td>Brazzaville : un fidèle meurt dans une église ...</td>\n",
       "      <td>Le triste évènement s’est produit aux environs...</td>\n",
       "      <td>2020-04-03</td>\n",
       "      <td>Congo</td>\n",
       "      <td>ICIBrazza</td>\n",
       "      <td>#Brazzaville : un fidèle meurt dans une église...</td>\n",
       "      <td>Congo_ICIBrazza_63</td>\n",
       "    </tr>\n",
       "    <tr>\n",
       "      <th>67</th>\n",
       "      <td>Congo – Lutte contre le Covid-19 : Clément Mou...</td>\n",
       "      <td>De haut en bas, rien de pertinent. En témoigne...</td>\n",
       "      <td>2020-04-05</td>\n",
       "      <td>Congo</td>\n",
       "      <td>ICIBrazza</td>\n",
       "      <td>#Congo - Lutte contre le #COVIDー19 : Clément M...</td>\n",
       "      <td>Congo_ICIBrazza_62</td>\n",
       "    </tr>\n",
       "    <tr>\n",
       "      <th>68</th>\n",
       "      <td>Coronavirus : flambée du prix du pain à Brazza...</td>\n",
       "      <td>Depuis l’entrée en vigueur du confinement, les...</td>\n",
       "      <td>2020-04-06</td>\n",
       "      <td>Congo</td>\n",
       "      <td>ICIBrazza</td>\n",
       "      <td>Flambée du prix du pain à #Brazzaville http://...</td>\n",
       "      <td>Congo_ICIBrazza_19</td>\n",
       "    </tr>\n",
       "    <tr>\n",
       "      <th>69</th>\n",
       "      <td>RDC : Vital Kamerhe, directeur de cabinet de F...</td>\n",
       "      <td>Vital Kamerhe, directeur de cabinet du Préside...</td>\n",
       "      <td>2020-04-08</td>\n",
       "      <td>Congo</td>\n",
       "      <td>ICIBrazza</td>\n",
       "      <td>#RDC : Vital Kamerhe, directeur de cabinet de ...</td>\n",
       "      <td>Congo_ICIBrazza_18</td>\n",
       "    </tr>\n",
       "    <tr>\n",
       "      <th>70</th>\n",
       "      <td>Congo/Covid-19 : le port des masques désormais...</td>\n",
       "      <td>© Mourad Allili / Sipa\\n\\nLa coordination nati...</td>\n",
       "      <td>2020-04-11</td>\n",
       "      <td>Congo</td>\n",
       "      <td>ICIBrazza</td>\n",
       "      <td>#Congo #Covid19 : le port des masques désormai...</td>\n",
       "      <td>Congo_ICIBrazza_76</td>\n",
       "    </tr>\n",
       "    <tr>\n",
       "      <th>71</th>\n",
       "      <td>Congo/Covid-19 : Le gouvernement au chevet des...</td>\n",
       "      <td>©DR\\n\\nLe gouvernement congolais a annoncé une...</td>\n",
       "      <td>2020-04-11</td>\n",
       "      <td>Congo</td>\n",
       "      <td>ICIBrazza</td>\n",
       "      <td>#Congo #Covid19 : Le gouvernement au chevet de...</td>\n",
       "      <td>Congo_ICIBrazza_77</td>\n",
       "    </tr>\n",
       "    <tr>\n",
       "      <th>72</th>\n",
       "      <td>Pointe-Noire: un gendarme tire sur un Airbus A...</td>\n",
       "      <td>Cet incident s’est produit dans la soirée du s...</td>\n",
       "      <td>2020-04-12</td>\n",
       "      <td>Congo</td>\n",
       "      <td>ICIBrazza</td>\n",
       "      <td>Pointe-Noire: un gendarme tire sur un #Airbus ...</td>\n",
       "      <td>Congo_ICIBrazza_75</td>\n",
       "    </tr>\n",
       "    <tr>\n",
       "      <th>73</th>\n",
       "      <td>Suite à l’incident de l’aéroport de Pointe-Noi...</td>\n",
       "      <td>La réaction du gouvernement congolais ne s’est...</td>\n",
       "      <td>2020-04-12</td>\n",
       "      <td>Congo</td>\n",
       "      <td>ICIBrazza</td>\n",
       "      <td>#AirFrance - Suite à l'incident de l'aéroport ...</td>\n",
       "      <td>Congo_ICIBrazza_74</td>\n",
       "    </tr>\n",
       "    <tr>\n",
       "      <th>74</th>\n",
       "      <td>Coronavirus : l’UE et la Belgique expédient du...</td>\n",
       "      <td>Livraison d’aides de l’UNICEF à la RD Congo\\n\\...</td>\n",
       "      <td>2020-04-13</td>\n",
       "      <td>Congo</td>\n",
       "      <td>ICIBrazza</td>\n",
       "      <td>#Coronavirus : l'#UE et la #Belgique expédient...</td>\n",
       "      <td>Congo_ICIBrazza_73</td>\n",
       "    </tr>\n",
       "    <tr>\n",
       "      <th>75</th>\n",
       "      <td>Coronavirus : le gouvernement favorable à la f...</td>\n",
       "      <td>L’exécutif a récemment recommandé aux vendeurs...</td>\n",
       "      <td>2020-04-13</td>\n",
       "      <td>Congo</td>\n",
       "      <td>ICIBrazza</td>\n",
       "      <td>#Coronavirus : le gouvernement favorable à la ...</td>\n",
       "      <td>Congo_ICIBrazza_71</td>\n",
       "    </tr>\n",
       "    <tr>\n",
       "      <th>76</th>\n",
       "      <td>Discrimination à Guangzhou : l’Union Africaine...</td>\n",
       "      <td>« Mon bureau a invité l’ambassadeur de Chine a...</td>\n",
       "      <td>2020-04-13</td>\n",
       "      <td>Congo</td>\n",
       "      <td>ICIBrazza</td>\n",
       "      <td>Discrimination à Guangzhou : l’Union Africaine...</td>\n",
       "      <td>Congo_ICIBrazza_72</td>\n",
       "    </tr>\n",
       "    <tr>\n",
       "      <th>77</th>\n",
       "      <td>Coronavirus – Macron : « Nous devons annuler m...</td>\n",
       "      <td>Le président Emmanuel Macron s’est adressé aux...</td>\n",
       "      <td>2020-04-13</td>\n",
       "      <td>Congo</td>\n",
       "      <td>ICIBrazza</td>\n",
       "      <td>#Coronavirus - #Macron : « Nous devons annuler...</td>\n",
       "      <td>Congo_ICIBrazza_70</td>\n",
       "    </tr>\n",
       "  </tbody>\n",
       "</table>\n",
       "<p>78 rows × 7 columns</p>\n",
       "</div>"
      ],
      "text/plain": [
       "                                                title  \\\n",
       "0                                Hémicycles d'Afrique   \n",
       "1   Congo : travail à minima au ministère des fina...   \n",
       "2   Congo – Santé : Le gouvernement alloue 200 mil...   \n",
       "3   Judo : Teddy Riner éliminé après 154 victoires...   \n",
       "4   Bissau : l’ONU ne reconnaît pas la victoire de...   \n",
       "..                                                ...   \n",
       "73  Suite à l’incident de l’aéroport de Pointe-Noi...   \n",
       "74  Coronavirus : l’UE et la Belgique expédient du...   \n",
       "75  Coronavirus : le gouvernement favorable à la f...   \n",
       "76  Discrimination à Guangzhou : l’Union Africaine...   \n",
       "77  Coronavirus – Macron : « Nous devons annuler m...   \n",
       "\n",
       "                                                 text       Date country  \\\n",
       "0   Parti de Chine, le Covid-19 s’est répandu à tr... 2020-02-02   Congo   \n",
       "1   Indisponible depuis quelques mois pour des rai... 2020-02-07   Congo   \n",
       "2   Le gouvernement congolais a acheminé une somme... 2020-02-07   Congo   \n",
       "3   Après 154 victoires consécutives en carrière, ... 2020-02-09   Congo   \n",
       "4   La déclaration du Secrétaire général de l’Orga... 2020-02-09   Congo   \n",
       "..                                                ...        ...     ...   \n",
       "73  La réaction du gouvernement congolais ne s’est... 2020-04-12   Congo   \n",
       "74  Livraison d’aides de l’UNICEF à la RD Congo\\n\\... 2020-04-13   Congo   \n",
       "75  L’exécutif a récemment recommandé aux vendeurs... 2020-04-13   Congo   \n",
       "76  « Mon bureau a invité l’ambassadeur de Chine a... 2020-04-13   Congo   \n",
       "77  Le président Emmanuel Macron s’est adressé aux... 2020-04-13   Congo   \n",
       "\n",
       "       source                                              tweet  \\\n",
       "0   ICIBrazza  Le tout premier numéro du magazine online de \\...   \n",
       "1   ICIBrazza  #Congo : travail à minima au ministère des fin...   \n",
       "2   ICIBrazza  #Congo - #Santé : Le gouvernement alloue 200 m...   \n",
       "3   ICIBrazza  #JUDO - #TeddyRiner s’est incliné dimanche au ...   \n",
       "4   ICIBrazza  #Bissau : l'ONU ne reconnaît pas la victoire d...   \n",
       "..        ...                                                ...   \n",
       "73  ICIBrazza  #AirFrance - Suite à l'incident de l'aéroport ...   \n",
       "74  ICIBrazza  #Coronavirus : l'#UE et la #Belgique expédient...   \n",
       "75  ICIBrazza  #Coronavirus : le gouvernement favorable à la ...   \n",
       "76  ICIBrazza  Discrimination à Guangzhou : l’Union Africaine...   \n",
       "77  ICIBrazza  #Coronavirus - #Macron : « Nous devons annuler...   \n",
       "\n",
       "                    id  \n",
       "0    Congo_ICIBrazza_5  \n",
       "1   Congo_ICIBrazza_17  \n",
       "2   Congo_ICIBrazza_16  \n",
       "3    Congo_ICIBrazza_3  \n",
       "4    Congo_ICIBrazza_4  \n",
       "..                 ...  \n",
       "73  Congo_ICIBrazza_74  \n",
       "74  Congo_ICIBrazza_73  \n",
       "75  Congo_ICIBrazza_71  \n",
       "76  Congo_ICIBrazza_72  \n",
       "77  Congo_ICIBrazza_70  \n",
       "\n",
       "[78 rows x 7 columns]"
      ]
     },
     "execution_count": 209,
     "metadata": {},
     "output_type": "execute_result"
    }
   ],
   "source": [
    "clean_df = clean_df.sort_values('Date')\n",
    "clean_df\n",
    "clean_df.reset_index(drop=True, inplace=True)\n",
    "clean_df"
   ]
  },
  {
   "cell_type": "code",
   "execution_count": 332,
   "metadata": {},
   "outputs": [
    {
     "data": {
      "application/vnd.jupyter.widget-view+json": {
       "model_id": "7f341ef5986c47aea1c86be8bb25fd37",
       "version_major": 2,
       "version_minor": 0
      },
      "text/plain": [
       "interactive(children=(IntSlider(value=39, description='index', max=78), Output()), _dom_classes=('widget-inter…"
      ]
     },
     "metadata": {},
     "output_type": "display_data"
    }
   ],
   "source": [
    "#clean_df.head()\n",
    "#for index in range(len(clean_df)):\n",
    "%matplotlib notebook\n",
    "from ipywidgets import interact\n",
    "\n",
    "import plotly.graph_objects as go\n",
    "\n",
    "@interact(index=(0,len(clean_df)))\n",
    "def visualize(index):\n",
    "    df = clean_df\n",
    "    count = Counter()\n",
    "    Text = df.iloc[index].text\n",
    "    Title = df.iloc[index].title\n",
    "    doc = clean_text(Title+Text)\n",
    "    key_words = ['Corona', 'Covid19', \n",
    "                 'Covid', 'Covid-19', \n",
    "                 'Virus', 'Pandémie', \n",
    "                 'Maladie', 'Coronavirus', \n",
    "                'Santé']\n",
    "    low_key_words = map(lambda x: x.lower(), key_words)\n",
    "    key_words.extend(list(low_key_words))\n",
    "    #print(Text)\n",
    "    print(Title, df.iloc[index].Date)\n",
    "    count = Counter()\n",
    "    count_key = Counter()\n",
    "    for token in doc:\n",
    "        if token.pos_ in ['PROPN', 'NOUN', 'VERB', 'ADJ']:\n",
    "            #print(token.text, token.pos_, token.dep_)\n",
    "            count.update([token.text.lower()])\n",
    "        if token.text in key_words:\n",
    "            count_key.update([token.text.lower()])\n",
    "    print(count_key)\n",
    "    #count.most_common()[:10]\n",
    "    #doc = clean_text(Text) #Get the doc\n",
    "    #count.update(map(lambda x : x.text, doc.ents))\n",
    "    #count.update(#Text+Title)\n",
    "    #===============\n",
    "    # Plot\n",
    "    #plt.figure(figsize=(10,5))\n",
    "    #fig, ax = plt.subplots(2,1,figsize=(10,5))\n",
    "    labels, values = zip(*count.most_common()[:10])\n",
    "    fig = go.Figure(data=[go.Histogram(x=labels, y=values, histfunc='sum')])\n",
    "    fig.show()\n",
    "\n",
    "    #indexes = np.arange(len(labels))\n",
    "    #width = 0.5\n",
    "\n",
    "    #ax[0].bar(indexes, values, width, alpha=0.6, color='grey')\n",
    "    #ax[0].set_xticks(indexes + width * 0.01, labels)\n",
    "    #ax[0].axis.set_xticks(indexes + width * 0.01, labels)\n",
    "    #ax[0].set_xticklabels(labels)\n",
    "    try:\n",
    "        labels_key, values_key = zip(*count_key.most_common()[:10])\n",
    "        #indexes = np.arange(len(labels_key))\n",
    "        #width = 0.5\n",
    "    \n",
    "        #ax[1].bar(indexes, values_key, width, alpha=0.5, color='red')\n",
    "        #ax[1].set_xticks(indexes + width * 0.01, labels_key)\n",
    "        #ax[1].set_xticks(indexes + width * 0.01, labels_key)\n",
    "        #ax[1].set_xticklabels(labels_key)\n",
    "        #print(labels_key, values_key)\n",
    "        fig = go.Figure(data=[go.Histogram(x=labels_key, y=values_key, histfunc='sum')])\n",
    "        fig.show()\n",
    "    except:\n",
    "        print('No \"key word\" in this doc')\n",
    "    #return fig,ax\n",
    "    \n",
    "#@interact(index=(0,70)    \n",
    "#visualize(40)"
   ]
  },
  {
   "cell_type": "code",
   "execution_count": 100,
   "metadata": {},
   "outputs": [
    {
     "data": {
      "application/vnd.jupyter.widget-view+json": {
       "model_id": "787313d4c4c44bb180c4ebcc442ca628",
       "version_major": 2,
       "version_minor": 0
      },
      "text/plain": [
       "interactive(children=(IntSlider(value=50, description='x'), Output()), _dom_classes=('widget-interact',))"
      ]
     },
     "metadata": {},
     "output_type": "display_data"
    }
   ],
   "source": [
    "\"\"\"from ipywidgets import interact\n",
    "import numpy as np\n",
    "import matplotlib.pyplot as plt\n",
    "# use interact decorator to decorate the function, so the function can receive the slide bar's value with parameter x.\n",
    "@interact(x=(0, 100))\n",
    "def double_number(x):\n",
    "    print(\"The double of %d is %d.\" % (x, x*2))\n",
    "    X = np.linspace(0,x)\n",
    "    y = np.cos(X)\n",
    "    plt.plot(X,y)\n",
    "    plt.show()\n",
    "\"\"\""
   ]
  },
  {
   "cell_type": "code",
   "execution_count": 284,
   "metadata": {
    "collapsed": true
   },
   "outputs": [
    {
     "name": "stdout",
     "output_type": "stream",
     "text": [
      "Hémicycles d'Afrique 2020-02-02 00:00:00\n",
      "Congo : travail à minima au ministère des finances qui pourra remplacer Calixte Ganongo ? 2020-02-07 00:00:00\n",
      "Congo – Santé : Le gouvernement alloue 200 millions de Fcfa pour soutenir les congolais présents à Wuhan 2020-02-07 00:00:00\n",
      "Judo : Teddy Riner éliminé après 154 victoires de suite 2020-02-09 00:00:00\n",
      "Bissau : l’ONU ne reconnaît pas la victoire de Umaro Embalo à la présidentielle 2020-02-09 00:00:00\n",
      "Congo – Fnuap : Mabingué Ngom s’engage à investir sur la question des jeunes et des femmes 2020-02-12 00:00:00\n",
      "Congo : les ailes de poulet reviennent sur les marchés 2020-02-13 00:00:00\n",
      "Pour « penser le Congo de demain », Marien Fauney Ngombé lance les ACC (Ateliers Citoyens du Congo) en ce début d’année 2020. 2020-02-14 00:00:00\n",
      "France: deux hommes écroués après une attaque à main armée contre un diplomate congolais 2020-02-17 00:00:00\n",
      "Congo : travail à minima au ministère des finances qui pourra remplacer Calixte Ganongo ? 2020-02-17 00:00:00\n",
      "CHAN-2020: le Congo avec la RDC 2020-02-17 00:00:00\n",
      "Congo : une capacité de production renforcée pour exporter de l’électricité 2020-02-19 00:00:00\n",
      "Congo : une capacité de production renforcée pour exporter de l’électricité 2020-02-19 00:00:00\n",
      "Ici Brazza 2020-02-19 00:00:00\n",
      "Congo: 20 milliards f cfa pour un complexe agro-industriel 2020-02-20 00:00:00\n",
      "Pointe-Noire dotée d’un nouveau complexe industriel de 45 milliards 2020-02-20 00:00:00\n",
      "Congo – Santé : Le gouvernement alloue 200 millions de Fcfa pour soutenir les congolais présents à Wuhan 2020-02-20 00:00:00\n",
      "Ici Brazza 2020-02-21 00:00:00\n",
      "Congo : le gouvernement exhorte les parents à en parler avec leurs enfants 2020-02-23 00:00:00\n",
      "Mairie de Brazzaville : des conseillers exigent le départ de Christian Roger Okemba 2020-02-26 00:00:00\n",
      "Coronavirus : un premier footballeur professionnel contaminé en Italie 2020-02-27 00:00:00\n",
      "Canada – Agression sexuelle: le révérend Paul Mukendi condamné à 8 ans d’emprisonnement 2020-02-28 00:00:00\n",
      "Mairie de Brazzaville : des conseillers exigent le départ de Christian Roger Okemba 2020-02-28 00:00:00\n",
      "Le Congo recherche 30,5 millions USD pour ses victimes des inondations 2020-02-29 00:00:00\n",
      "Le maire de Brazzaville suspendu de ses fonctions 2020-02-29 00:00:00\n",
      "Congo : À qui profite le contrat entre l’Etat congolais et le CHU de Montréal ? 2020-03-01 00:00:00\n",
      "Congo – Virement de 1,250 milliards Fcfa : Le Tpg Albert Ngondo, coupable d’une faute administrative 2020-03-01 00:00:00\n",
      "Le maire de Brazzaville suspendu de ses fonctions 2020-03-03 00:00:00\n",
      "Congo – Pool : les enseignants de Mindouli remontés contre « les ninjas » 2020-03-03 00:00:00\n",
      "Congo: la quarantaine pour les passagers venant des pays touchés par le coronavirus 2020-03-06 00:00:00\n",
      "Brazzaville : plus de quatre cents corps abandonnés dans les morgues 2020-03-06 00:00:00\n",
      "Congo : les braqueurs du convoi d’argent arrêtés par la police 2020-03-08 00:00:00\n",
      "Un groupe de banques va racheter une partie de la dette du Congo 2020-03-11 00:00:00\n",
      "Congo – Coronavirus : Un conseiller du Premier ministre congolais testé positif 2020-03-15 00:00:00\n",
      "Coronavirus au Congo Brazzaville pourquoi cela était prévisible? 2020-03-15 00:00:00\n",
      "Acte criminel : deux véhicules de Sassou Nguesso incendiés en France 2020-03-15 00:00:00\n",
      "Congo : L’ex maire de Brazzaville et ses complices au gnouf pour détournement présumé de fonds publics 2020-03-15 00:00:00\n",
      "Acte criminel : deux véhicules de Sassou Nguesso incendiés en France 2020-03-15 00:00:00\n",
      "Congo : le coronavirus emporte Fidèle Dimou, ministre des transports 2020-03-16 00:00:00\n",
      "Congo : le coronavirus emporte Fidèle Dimou, ministre des transports 2020-03-16 00:00:00\n",
      "Coronavirus : le Congo suspend les vols en provenance des pays à risque 2020-03-16 00:00:00\n",
      "Ici Brazza 2020-03-17 00:00:00\n",
      "Congo – Coronavirus : les écoles ne seront pas fermées 2020-03-17 00:00:00\n",
      "Ici Brazza 2020-03-17 00:00:00\n",
      "Congo – Coronavirus : le prix des masques en forte hausse sur le marché 2020-03-18 00:00:00\n",
      "L’OMS appelle l’Afrique à « se réveiller » et se préparer au « pire » face au covid-19 2020-03-18 00:00:00\n",
      "Coronavirus : deux nouveaux cas enregistrés à Brazzaville 2020-03-18 00:00:00\n",
      "France : décès de l’artiste congolais Aurlus Mabélé 2020-03-19 00:00:00\n",
      "Congo – Coronavirus : l’ARPCE fait baisser les prix pour accompagner les efforts du gouvernement 2020-03-21 00:00:00\n",
      "Coronavirus au Congo Brazzaville pourquoi cela était prévisible? 2020-03-21 00:00:00\n",
      "Coronavirus au Congo Brazzaville pourquoi cela était prévisible? 2020-03-21 00:00:00\n",
      "Congo – Coronavirus : Pas de taxi pour un ressortissant chinois à Pointe-Noire 2020-03-22 00:00:00\n",
      "Coronavirus: Bras de fer entre policiers et restaurateurs à Brazzaville 2020-03-23 00:00:00\n",
      "VIDEO – Namibie : À 23 ans, Emma Theofilus devient la plus jeune ministre en Afrique 2020-03-23 00:00:00\n",
      "Coronavirus : le saxophoniste Manu Dibango est mort du Covid-19, annonce sa famille 2020-03-24 00:00:00\n",
      "Coronavirus : un prêtre italien meurt après avoir cédé son respirateur à un patient plus jeune 2020-03-24 00:00:00\n",
      "Coronavirus : le saxophoniste Manu Dibango est mort du Covid-19, annonce sa famille 2020-03-24 00:00:00\n",
      "Congo : décès de l’ancien ministre Jean Claude Ganga 2020-03-28 00:00:00\n",
      "Ici Brazza 2020-03-28 00:00:00\n",
      "Congo : décès de l’ancien ministre Jean Claude Ganga 2020-03-28 00:00:00\n",
      "Congo : décès de l’ancien ministre Jean Claude Ganga 2020-03-28 00:00:00\n",
      "Congo – Coronavirus : une centaine d’étudiants congolais rapatriés de Kinshasa 2020-03-29 00:00:00\n",
      "Covid-19 au Congo: état d’urgence, confinement et couvre-feu 2020-03-29 00:00:00\n",
      "Coronavirus: l’exode vers l’arrière-pays a commencé à Brazzaville 2020-03-30 00:00:00\n",
      "Congo : l’ancien président Jacques Joachim Yhomby-Opango est mort ! 2020-03-30 00:00:00\n",
      "Pluie diluvienne à Brazzaville: une vingtaine de morts électrocutés 2020-04-01 00:00:00\n",
      "Brazzaville : un fidèle meurt dans une église à Talangaï 2020-04-03 00:00:00\n",
      "Congo – Lutte contre le Covid-19 : Clément Mouamba recevant une valise d’argent, une image pitoyable 2020-04-05 00:00:00\n",
      "Coronavirus : flambée du prix du pain à Brazzaville 2020-04-06 00:00:00\n",
      "RDC : Vital Kamerhe, directeur de cabinet de Félix Tshisekedi en prison 2020-04-08 00:00:00\n",
      "Congo/Covid-19 : le port des masques désormais exigé dans les marchés 2020-04-11 00:00:00\n",
      "Congo/Covid-19 : Le gouvernement au chevet des couches vulnérables 2020-04-11 00:00:00\n",
      "Pointe-Noire: un gendarme tire sur un Airbus A 330 d’Air France 2020-04-12 00:00:00\n",
      "Suite à l’incident de l’aéroport de Pointe-Noire, Jean Claude Gakosso écrit à Jean Yves Le Drian 2020-04-12 00:00:00\n",
      "Coronavirus : l’UE et la Belgique expédient du matériel médical de l’Unicef en RDC 2020-04-13 00:00:00\n",
      "Coronavirus : le gouvernement favorable à la fabrication locale des masques 2020-04-13 00:00:00\n",
      "Discrimination à Guangzhou : l’Union Africaine exprime sa préoccupation 2020-04-13 00:00:00\n",
      "Coronavirus – Macron : « Nous devons annuler massivement les dettes de l’Afrique » 2020-04-13 00:00:00\n"
     ]
    },
    {
     "ename": "NameError",
     "evalue": "name 'df_clean' is not defined",
     "output_type": "error",
     "traceback": [
      "\u001b[0;31m---------------------------------------------------------------------------\u001b[0m",
      "\u001b[0;31mNameError\u001b[0m                                 Traceback (most recent call last)",
      "\u001b[0;32m<ipython-input-284-c65af398e5cc>\u001b[0m in \u001b[0;36m<module>\u001b[0;34m\u001b[0m\n\u001b[1;32m     29\u001b[0m     \u001b[0mfreq_\u001b[0m\u001b[0;34m.\u001b[0m\u001b[0mappend\u001b[0m\u001b[0;34m(\u001b[0m\u001b[0msum\u001b[0m\u001b[0;34m(\u001b[0m\u001b[0mcounter\u001b[0m\u001b[0;34m.\u001b[0m\u001b[0mvalues\u001b[0m\u001b[0;34m(\u001b[0m\u001b[0;34m)\u001b[0m\u001b[0;34m)\u001b[0m\u001b[0;34m)\u001b[0m\u001b[0;34m\u001b[0m\u001b[0;34m\u001b[0m\u001b[0m\n\u001b[1;32m     30\u001b[0m \u001b[0;34m\u001b[0m\u001b[0m\n\u001b[0;32m---> 31\u001b[0;31m \u001b[0mdf_clean\u001b[0m\u001b[0;34m[\u001b[0m\u001b[0;34m'freq'\u001b[0m\u001b[0;34m]\u001b[0m \u001b[0;34m=\u001b[0m \u001b[0mfreq_\u001b[0m\u001b[0;34m\u001b[0m\u001b[0;34m\u001b[0m\u001b[0m\n\u001b[0m\u001b[1;32m     32\u001b[0m \u001b[0;34m\u001b[0m\u001b[0m\n",
      "\u001b[0;31mNameError\u001b[0m: name 'df_clean' is not defined"
     ]
    }
   ],
   "source": [
    "#\n",
    "def get_stats(index):\n",
    "    df = clean_df\n",
    "    count = Counter()\n",
    "    Text = df.iloc[index].text\n",
    "    Title = df.iloc[index].title\n",
    "    date = df.iloc[index].Date\n",
    "    doc = clean_text(Title+Text)\n",
    "    key_words = ['Corona', 'Covid19', \n",
    "                 'Covid', 'Covid-19', \n",
    "                 'Virus', 'Pandémie', \n",
    "                 'Maladie', 'Coronavirus', \n",
    "                'Santé']\n",
    "    low_key_words = map(lambda x: x.lower(), key_words)\n",
    "    key_words.extend(list(low_key_words))\n",
    "    print(Title, df.iloc[index].Date)\n",
    "    count = Counter()\n",
    "    count_key = Counter()\n",
    "    for token in doc:\n",
    "        if token.pos_ in ['PROPN', 'NOUN', 'VERB', 'ADJ']:\n",
    "            #print(token.text, token.pos_, token.dep_)\n",
    "            count.update([token.text.lower()])\n",
    "        if token.text in key_words:\n",
    "            count_key.update([token.text.lower()])\n",
    "    return Title, count_key, date\n",
    "\n",
    "freq_ = []\n",
    "for index in range(len(clean_df)):\n",
    "    _, counter, date = get_stats(index)\n",
    "    freq_.append(sum(counter.values()))\n",
    "\n",
    "\n",
    "    "
   ]
  },
  {
   "cell_type": "code",
   "execution_count": 313,
   "metadata": {
    "scrolled": true
   },
   "outputs": [
    {
     "data": {
      "application/vnd.plotly.v1+json": {
       "config": {
        "plotlyServerURL": "https://plot.ly"
       },
       "data": [
        {
         "alignmentgroup": "True",
         "bingroup": "x",
         "histfunc": "sum",
         "hoverlabel": {
          "namelength": 0
         },
         "hovertemplate": "Date=%{x}<br>sum of freq=%{y}",
         "legendgroup": "",
         "marker": {
          "color": "#636efa"
         },
         "name": "",
         "nbinsx": 20,
         "offsetgroup": "",
         "orientation": "v",
         "showlegend": false,
         "type": "histogram",
         "x": [
          "2020-02-02T00:00:00",
          "2020-02-07T00:00:00",
          "2020-02-07T00:00:00",
          "2020-02-09T00:00:00",
          "2020-02-09T00:00:00",
          "2020-02-12T00:00:00",
          "2020-02-13T00:00:00",
          "2020-02-14T00:00:00",
          "2020-02-17T00:00:00",
          "2020-02-17T00:00:00",
          "2020-02-17T00:00:00",
          "2020-02-19T00:00:00",
          "2020-02-19T00:00:00",
          "2020-02-19T00:00:00",
          "2020-02-20T00:00:00",
          "2020-02-20T00:00:00",
          "2020-02-20T00:00:00",
          "2020-02-21T00:00:00",
          "2020-02-23T00:00:00",
          "2020-02-26T00:00:00",
          "2020-02-27T00:00:00",
          "2020-02-28T00:00:00",
          "2020-02-28T00:00:00",
          "2020-02-29T00:00:00",
          "2020-02-29T00:00:00",
          "2020-03-01T00:00:00",
          "2020-03-01T00:00:00",
          "2020-03-03T00:00:00",
          "2020-03-03T00:00:00",
          "2020-03-06T00:00:00",
          "2020-03-06T00:00:00",
          "2020-03-08T00:00:00",
          "2020-03-11T00:00:00",
          "2020-03-15T00:00:00",
          "2020-03-15T00:00:00",
          "2020-03-15T00:00:00",
          "2020-03-15T00:00:00",
          "2020-03-15T00:00:00",
          "2020-03-16T00:00:00",
          "2020-03-16T00:00:00",
          "2020-03-16T00:00:00",
          "2020-03-17T00:00:00",
          "2020-03-17T00:00:00",
          "2020-03-17T00:00:00",
          "2020-03-18T00:00:00",
          "2020-03-18T00:00:00",
          "2020-03-18T00:00:00",
          "2020-03-19T00:00:00",
          "2020-03-21T00:00:00",
          "2020-03-21T00:00:00",
          "2020-03-21T00:00:00",
          "2020-03-22T00:00:00",
          "2020-03-23T00:00:00",
          "2020-03-23T00:00:00",
          "2020-03-24T00:00:00",
          "2020-03-24T00:00:00",
          "2020-03-24T00:00:00",
          "2020-03-28T00:00:00",
          "2020-03-28T00:00:00",
          "2020-03-28T00:00:00",
          "2020-03-28T00:00:00",
          "2020-03-29T00:00:00",
          "2020-03-29T00:00:00",
          "2020-03-30T00:00:00",
          "2020-03-30T00:00:00",
          "2020-04-01T00:00:00",
          "2020-04-03T00:00:00",
          "2020-04-05T00:00:00",
          "2020-04-06T00:00:00",
          "2020-04-08T00:00:00",
          "2020-04-11T00:00:00",
          "2020-04-11T00:00:00",
          "2020-04-12T00:00:00",
          "2020-04-12T00:00:00",
          "2020-04-13T00:00:00",
          "2020-04-13T00:00:00",
          "2020-04-13T00:00:00",
          "2020-04-13T00:00:00"
         ],
         "xaxis": "x",
         "y": [
          3,
          1,
          13,
          0,
          0,
          5,
          3,
          0,
          0,
          1,
          0,
          0,
          0,
          0,
          0,
          0,
          13,
          0,
          0,
          0,
          4,
          0,
          0,
          0,
          0,
          3,
          0,
          0,
          0,
          5,
          0,
          0,
          0,
          11,
          3,
          0,
          0,
          0,
          4,
          4,
          8,
          0,
          6,
          0,
          3,
          6,
          5,
          1,
          2,
          3,
          3,
          3,
          3,
          1,
          6,
          10,
          6,
          0,
          0,
          0,
          0,
          4,
          4,
          4,
          0,
          0,
          2,
          4,
          4,
          0,
          8,
          15,
          0,
          0,
          16,
          5,
          2,
          2
         ],
         "yaxis": "y"
        },
        {
         "alignmentgroup": "True",
         "boxpoints": "all",
         "fillcolor": "rgba(255,255,255,0)",
         "hoverlabel": {
          "namelength": 0
         },
         "hoveron": "points",
         "hovertemplate": "Date=%{x}",
         "jitter": 0,
         "legendgroup": "",
         "line": {
          "color": "rgba(255,255,255,0)"
         },
         "marker": {
          "color": "#636efa",
          "symbol": "line-ns-open"
         },
         "name": "",
         "offsetgroup": "",
         "showlegend": false,
         "type": "box",
         "x": [
          "2020-02-02T00:00:00",
          "2020-02-07T00:00:00",
          "2020-02-07T00:00:00",
          "2020-02-09T00:00:00",
          "2020-02-09T00:00:00",
          "2020-02-12T00:00:00",
          "2020-02-13T00:00:00",
          "2020-02-14T00:00:00",
          "2020-02-17T00:00:00",
          "2020-02-17T00:00:00",
          "2020-02-17T00:00:00",
          "2020-02-19T00:00:00",
          "2020-02-19T00:00:00",
          "2020-02-19T00:00:00",
          "2020-02-20T00:00:00",
          "2020-02-20T00:00:00",
          "2020-02-20T00:00:00",
          "2020-02-21T00:00:00",
          "2020-02-23T00:00:00",
          "2020-02-26T00:00:00",
          "2020-02-27T00:00:00",
          "2020-02-28T00:00:00",
          "2020-02-28T00:00:00",
          "2020-02-29T00:00:00",
          "2020-02-29T00:00:00",
          "2020-03-01T00:00:00",
          "2020-03-01T00:00:00",
          "2020-03-03T00:00:00",
          "2020-03-03T00:00:00",
          "2020-03-06T00:00:00",
          "2020-03-06T00:00:00",
          "2020-03-08T00:00:00",
          "2020-03-11T00:00:00",
          "2020-03-15T00:00:00",
          "2020-03-15T00:00:00",
          "2020-03-15T00:00:00",
          "2020-03-15T00:00:00",
          "2020-03-15T00:00:00",
          "2020-03-16T00:00:00",
          "2020-03-16T00:00:00",
          "2020-03-16T00:00:00",
          "2020-03-17T00:00:00",
          "2020-03-17T00:00:00",
          "2020-03-17T00:00:00",
          "2020-03-18T00:00:00",
          "2020-03-18T00:00:00",
          "2020-03-18T00:00:00",
          "2020-03-19T00:00:00",
          "2020-03-21T00:00:00",
          "2020-03-21T00:00:00",
          "2020-03-21T00:00:00",
          "2020-03-22T00:00:00",
          "2020-03-23T00:00:00",
          "2020-03-23T00:00:00",
          "2020-03-24T00:00:00",
          "2020-03-24T00:00:00",
          "2020-03-24T00:00:00",
          "2020-03-28T00:00:00",
          "2020-03-28T00:00:00",
          "2020-03-28T00:00:00",
          "2020-03-28T00:00:00",
          "2020-03-29T00:00:00",
          "2020-03-29T00:00:00",
          "2020-03-30T00:00:00",
          "2020-03-30T00:00:00",
          "2020-04-01T00:00:00",
          "2020-04-03T00:00:00",
          "2020-04-05T00:00:00",
          "2020-04-06T00:00:00",
          "2020-04-08T00:00:00",
          "2020-04-11T00:00:00",
          "2020-04-11T00:00:00",
          "2020-04-12T00:00:00",
          "2020-04-12T00:00:00",
          "2020-04-13T00:00:00",
          "2020-04-13T00:00:00",
          "2020-04-13T00:00:00",
          "2020-04-13T00:00:00"
         ],
         "xaxis": "x2",
         "yaxis": "y2"
        }
       ],
       "layout": {
        "barmode": "relative",
        "height": 600,
        "legend": {
         "tracegroupgap": 0
        },
        "margin": {
         "t": 60
        },
        "template": {
         "data": {
          "bar": [
           {
            "error_x": {
             "color": "#2a3f5f"
            },
            "error_y": {
             "color": "#2a3f5f"
            },
            "marker": {
             "line": {
              "color": "#E5ECF6",
              "width": 0.5
             }
            },
            "type": "bar"
           }
          ],
          "barpolar": [
           {
            "marker": {
             "line": {
              "color": "#E5ECF6",
              "width": 0.5
             }
            },
            "type": "barpolar"
           }
          ],
          "carpet": [
           {
            "aaxis": {
             "endlinecolor": "#2a3f5f",
             "gridcolor": "white",
             "linecolor": "white",
             "minorgridcolor": "white",
             "startlinecolor": "#2a3f5f"
            },
            "baxis": {
             "endlinecolor": "#2a3f5f",
             "gridcolor": "white",
             "linecolor": "white",
             "minorgridcolor": "white",
             "startlinecolor": "#2a3f5f"
            },
            "type": "carpet"
           }
          ],
          "choropleth": [
           {
            "colorbar": {
             "outlinewidth": 0,
             "ticks": ""
            },
            "type": "choropleth"
           }
          ],
          "contour": [
           {
            "colorbar": {
             "outlinewidth": 0,
             "ticks": ""
            },
            "colorscale": [
             [
              0,
              "#0d0887"
             ],
             [
              0.1111111111111111,
              "#46039f"
             ],
             [
              0.2222222222222222,
              "#7201a8"
             ],
             [
              0.3333333333333333,
              "#9c179e"
             ],
             [
              0.4444444444444444,
              "#bd3786"
             ],
             [
              0.5555555555555556,
              "#d8576b"
             ],
             [
              0.6666666666666666,
              "#ed7953"
             ],
             [
              0.7777777777777778,
              "#fb9f3a"
             ],
             [
              0.8888888888888888,
              "#fdca26"
             ],
             [
              1,
              "#f0f921"
             ]
            ],
            "type": "contour"
           }
          ],
          "contourcarpet": [
           {
            "colorbar": {
             "outlinewidth": 0,
             "ticks": ""
            },
            "type": "contourcarpet"
           }
          ],
          "heatmap": [
           {
            "colorbar": {
             "outlinewidth": 0,
             "ticks": ""
            },
            "colorscale": [
             [
              0,
              "#0d0887"
             ],
             [
              0.1111111111111111,
              "#46039f"
             ],
             [
              0.2222222222222222,
              "#7201a8"
             ],
             [
              0.3333333333333333,
              "#9c179e"
             ],
             [
              0.4444444444444444,
              "#bd3786"
             ],
             [
              0.5555555555555556,
              "#d8576b"
             ],
             [
              0.6666666666666666,
              "#ed7953"
             ],
             [
              0.7777777777777778,
              "#fb9f3a"
             ],
             [
              0.8888888888888888,
              "#fdca26"
             ],
             [
              1,
              "#f0f921"
             ]
            ],
            "type": "heatmap"
           }
          ],
          "heatmapgl": [
           {
            "colorbar": {
             "outlinewidth": 0,
             "ticks": ""
            },
            "colorscale": [
             [
              0,
              "#0d0887"
             ],
             [
              0.1111111111111111,
              "#46039f"
             ],
             [
              0.2222222222222222,
              "#7201a8"
             ],
             [
              0.3333333333333333,
              "#9c179e"
             ],
             [
              0.4444444444444444,
              "#bd3786"
             ],
             [
              0.5555555555555556,
              "#d8576b"
             ],
             [
              0.6666666666666666,
              "#ed7953"
             ],
             [
              0.7777777777777778,
              "#fb9f3a"
             ],
             [
              0.8888888888888888,
              "#fdca26"
             ],
             [
              1,
              "#f0f921"
             ]
            ],
            "type": "heatmapgl"
           }
          ],
          "histogram": [
           {
            "marker": {
             "colorbar": {
              "outlinewidth": 0,
              "ticks": ""
             }
            },
            "type": "histogram"
           }
          ],
          "histogram2d": [
           {
            "colorbar": {
             "outlinewidth": 0,
             "ticks": ""
            },
            "colorscale": [
             [
              0,
              "#0d0887"
             ],
             [
              0.1111111111111111,
              "#46039f"
             ],
             [
              0.2222222222222222,
              "#7201a8"
             ],
             [
              0.3333333333333333,
              "#9c179e"
             ],
             [
              0.4444444444444444,
              "#bd3786"
             ],
             [
              0.5555555555555556,
              "#d8576b"
             ],
             [
              0.6666666666666666,
              "#ed7953"
             ],
             [
              0.7777777777777778,
              "#fb9f3a"
             ],
             [
              0.8888888888888888,
              "#fdca26"
             ],
             [
              1,
              "#f0f921"
             ]
            ],
            "type": "histogram2d"
           }
          ],
          "histogram2dcontour": [
           {
            "colorbar": {
             "outlinewidth": 0,
             "ticks": ""
            },
            "colorscale": [
             [
              0,
              "#0d0887"
             ],
             [
              0.1111111111111111,
              "#46039f"
             ],
             [
              0.2222222222222222,
              "#7201a8"
             ],
             [
              0.3333333333333333,
              "#9c179e"
             ],
             [
              0.4444444444444444,
              "#bd3786"
             ],
             [
              0.5555555555555556,
              "#d8576b"
             ],
             [
              0.6666666666666666,
              "#ed7953"
             ],
             [
              0.7777777777777778,
              "#fb9f3a"
             ],
             [
              0.8888888888888888,
              "#fdca26"
             ],
             [
              1,
              "#f0f921"
             ]
            ],
            "type": "histogram2dcontour"
           }
          ],
          "mesh3d": [
           {
            "colorbar": {
             "outlinewidth": 0,
             "ticks": ""
            },
            "type": "mesh3d"
           }
          ],
          "parcoords": [
           {
            "line": {
             "colorbar": {
              "outlinewidth": 0,
              "ticks": ""
             }
            },
            "type": "parcoords"
           }
          ],
          "scatter": [
           {
            "marker": {
             "colorbar": {
              "outlinewidth": 0,
              "ticks": ""
             }
            },
            "type": "scatter"
           }
          ],
          "scatter3d": [
           {
            "line": {
             "colorbar": {
              "outlinewidth": 0,
              "ticks": ""
             }
            },
            "marker": {
             "colorbar": {
              "outlinewidth": 0,
              "ticks": ""
             }
            },
            "type": "scatter3d"
           }
          ],
          "scattercarpet": [
           {
            "marker": {
             "colorbar": {
              "outlinewidth": 0,
              "ticks": ""
             }
            },
            "type": "scattercarpet"
           }
          ],
          "scattergeo": [
           {
            "marker": {
             "colorbar": {
              "outlinewidth": 0,
              "ticks": ""
             }
            },
            "type": "scattergeo"
           }
          ],
          "scattergl": [
           {
            "marker": {
             "colorbar": {
              "outlinewidth": 0,
              "ticks": ""
             }
            },
            "type": "scattergl"
           }
          ],
          "scattermapbox": [
           {
            "marker": {
             "colorbar": {
              "outlinewidth": 0,
              "ticks": ""
             }
            },
            "type": "scattermapbox"
           }
          ],
          "scatterpolar": [
           {
            "marker": {
             "colorbar": {
              "outlinewidth": 0,
              "ticks": ""
             }
            },
            "type": "scatterpolar"
           }
          ],
          "scatterpolargl": [
           {
            "marker": {
             "colorbar": {
              "outlinewidth": 0,
              "ticks": ""
             }
            },
            "type": "scatterpolargl"
           }
          ],
          "scatterternary": [
           {
            "marker": {
             "colorbar": {
              "outlinewidth": 0,
              "ticks": ""
             }
            },
            "type": "scatterternary"
           }
          ],
          "surface": [
           {
            "colorbar": {
             "outlinewidth": 0,
             "ticks": ""
            },
            "colorscale": [
             [
              0,
              "#0d0887"
             ],
             [
              0.1111111111111111,
              "#46039f"
             ],
             [
              0.2222222222222222,
              "#7201a8"
             ],
             [
              0.3333333333333333,
              "#9c179e"
             ],
             [
              0.4444444444444444,
              "#bd3786"
             ],
             [
              0.5555555555555556,
              "#d8576b"
             ],
             [
              0.6666666666666666,
              "#ed7953"
             ],
             [
              0.7777777777777778,
              "#fb9f3a"
             ],
             [
              0.8888888888888888,
              "#fdca26"
             ],
             [
              1,
              "#f0f921"
             ]
            ],
            "type": "surface"
           }
          ],
          "table": [
           {
            "cells": {
             "fill": {
              "color": "#EBF0F8"
             },
             "line": {
              "color": "white"
             }
            },
            "header": {
             "fill": {
              "color": "#C8D4E3"
             },
             "line": {
              "color": "white"
             }
            },
            "type": "table"
           }
          ]
         },
         "layout": {
          "annotationdefaults": {
           "arrowcolor": "#2a3f5f",
           "arrowhead": 0,
           "arrowwidth": 1
          },
          "colorscale": {
           "diverging": [
            [
             0,
             "#8e0152"
            ],
            [
             0.1,
             "#c51b7d"
            ],
            [
             0.2,
             "#de77ae"
            ],
            [
             0.3,
             "#f1b6da"
            ],
            [
             0.4,
             "#fde0ef"
            ],
            [
             0.5,
             "#f7f7f7"
            ],
            [
             0.6,
             "#e6f5d0"
            ],
            [
             0.7,
             "#b8e186"
            ],
            [
             0.8,
             "#7fbc41"
            ],
            [
             0.9,
             "#4d9221"
            ],
            [
             1,
             "#276419"
            ]
           ],
           "sequential": [
            [
             0,
             "#0d0887"
            ],
            [
             0.1111111111111111,
             "#46039f"
            ],
            [
             0.2222222222222222,
             "#7201a8"
            ],
            [
             0.3333333333333333,
             "#9c179e"
            ],
            [
             0.4444444444444444,
             "#bd3786"
            ],
            [
             0.5555555555555556,
             "#d8576b"
            ],
            [
             0.6666666666666666,
             "#ed7953"
            ],
            [
             0.7777777777777778,
             "#fb9f3a"
            ],
            [
             0.8888888888888888,
             "#fdca26"
            ],
            [
             1,
             "#f0f921"
            ]
           ],
           "sequentialminus": [
            [
             0,
             "#0d0887"
            ],
            [
             0.1111111111111111,
             "#46039f"
            ],
            [
             0.2222222222222222,
             "#7201a8"
            ],
            [
             0.3333333333333333,
             "#9c179e"
            ],
            [
             0.4444444444444444,
             "#bd3786"
            ],
            [
             0.5555555555555556,
             "#d8576b"
            ],
            [
             0.6666666666666666,
             "#ed7953"
            ],
            [
             0.7777777777777778,
             "#fb9f3a"
            ],
            [
             0.8888888888888888,
             "#fdca26"
            ],
            [
             1,
             "#f0f921"
            ]
           ]
          },
          "colorway": [
           "#636efa",
           "#EF553B",
           "#00cc96",
           "#ab63fa",
           "#FFA15A",
           "#19d3f3",
           "#FF6692",
           "#B6E880",
           "#FF97FF",
           "#FECB52"
          ],
          "font": {
           "color": "#2a3f5f"
          },
          "geo": {
           "bgcolor": "white",
           "lakecolor": "white",
           "landcolor": "#E5ECF6",
           "showlakes": true,
           "showland": true,
           "subunitcolor": "white"
          },
          "hoverlabel": {
           "align": "left"
          },
          "hovermode": "closest",
          "mapbox": {
           "style": "light"
          },
          "paper_bgcolor": "white",
          "plot_bgcolor": "#E5ECF6",
          "polar": {
           "angularaxis": {
            "gridcolor": "white",
            "linecolor": "white",
            "ticks": ""
           },
           "bgcolor": "#E5ECF6",
           "radialaxis": {
            "gridcolor": "white",
            "linecolor": "white",
            "ticks": ""
           }
          },
          "scene": {
           "xaxis": {
            "backgroundcolor": "#E5ECF6",
            "gridcolor": "white",
            "gridwidth": 2,
            "linecolor": "white",
            "showbackground": true,
            "ticks": "",
            "zerolinecolor": "white"
           },
           "yaxis": {
            "backgroundcolor": "#E5ECF6",
            "gridcolor": "white",
            "gridwidth": 2,
            "linecolor": "white",
            "showbackground": true,
            "ticks": "",
            "zerolinecolor": "white"
           },
           "zaxis": {
            "backgroundcolor": "#E5ECF6",
            "gridcolor": "white",
            "gridwidth": 2,
            "linecolor": "white",
            "showbackground": true,
            "ticks": "",
            "zerolinecolor": "white"
           }
          },
          "shapedefaults": {
           "line": {
            "color": "#2a3f5f"
           }
          },
          "ternary": {
           "aaxis": {
            "gridcolor": "white",
            "linecolor": "white",
            "ticks": ""
           },
           "baxis": {
            "gridcolor": "white",
            "linecolor": "white",
            "ticks": ""
           },
           "bgcolor": "#E5ECF6",
           "caxis": {
            "gridcolor": "white",
            "linecolor": "white",
            "ticks": ""
           }
          },
          "title": {
           "x": 0.05
          },
          "xaxis": {
           "automargin": true,
           "gridcolor": "white",
           "linecolor": "white",
           "ticks": "",
           "zerolinecolor": "white",
           "zerolinewidth": 2
          },
          "yaxis": {
           "automargin": true,
           "gridcolor": "white",
           "linecolor": "white",
           "ticks": "",
           "zerolinecolor": "white",
           "zerolinewidth": 2
          }
         }
        },
        "xaxis": {
         "anchor": "y",
         "domain": [
          0,
          0.98
         ],
         "title": {
          "text": "Date"
         }
        },
        "xaxis2": {
         "anchor": "y2",
         "domain": [
          0,
          0.98
         ],
         "matches": "x",
         "showgrid": true,
         "showticklabels": false
        },
        "yaxis": {
         "anchor": "x",
         "domain": [
          0,
          0.8316
         ],
         "title": {
          "text": "sum of freq"
         }
        },
        "yaxis2": {
         "anchor": "x2",
         "domain": [
          0.8416,
          1
         ],
         "matches": "y2",
         "showgrid": false,
         "showticklabels": false
        }
       }
      },
      "text/html": [
       "<div>\n",
       "        \n",
       "        \n",
       "            <div id=\"f1484ad4-24e3-400e-8130-30b3bb9869c8\" class=\"plotly-graph-div\" style=\"height:600px; width:100%;\"></div>\n",
       "            <script type=\"text/javascript\">\n",
       "                require([\"plotly\"], function(Plotly) {\n",
       "                    window.PLOTLYENV=window.PLOTLYENV || {};\n",
       "                    \n",
       "                if (document.getElementById(\"f1484ad4-24e3-400e-8130-30b3bb9869c8\")) {\n",
       "                    Plotly.newPlot(\n",
       "                        'f1484ad4-24e3-400e-8130-30b3bb9869c8',\n",
       "                        [{\"alignmentgroup\": \"True\", \"bingroup\": \"x\", \"histfunc\": \"sum\", \"hoverlabel\": {\"namelength\": 0}, \"hovertemplate\": \"Date=%{x}<br>sum of freq=%{y}\", \"legendgroup\": \"\", \"marker\": {\"color\": \"#636efa\"}, \"name\": \"\", \"nbinsx\": 20, \"offsetgroup\": \"\", \"orientation\": \"v\", \"showlegend\": false, \"type\": \"histogram\", \"x\": [\"2020-02-02T00:00:00\", \"2020-02-07T00:00:00\", \"2020-02-07T00:00:00\", \"2020-02-09T00:00:00\", \"2020-02-09T00:00:00\", \"2020-02-12T00:00:00\", \"2020-02-13T00:00:00\", \"2020-02-14T00:00:00\", \"2020-02-17T00:00:00\", \"2020-02-17T00:00:00\", \"2020-02-17T00:00:00\", \"2020-02-19T00:00:00\", \"2020-02-19T00:00:00\", \"2020-02-19T00:00:00\", \"2020-02-20T00:00:00\", \"2020-02-20T00:00:00\", \"2020-02-20T00:00:00\", \"2020-02-21T00:00:00\", \"2020-02-23T00:00:00\", \"2020-02-26T00:00:00\", \"2020-02-27T00:00:00\", \"2020-02-28T00:00:00\", \"2020-02-28T00:00:00\", \"2020-02-29T00:00:00\", \"2020-02-29T00:00:00\", \"2020-03-01T00:00:00\", \"2020-03-01T00:00:00\", \"2020-03-03T00:00:00\", \"2020-03-03T00:00:00\", \"2020-03-06T00:00:00\", \"2020-03-06T00:00:00\", \"2020-03-08T00:00:00\", \"2020-03-11T00:00:00\", \"2020-03-15T00:00:00\", \"2020-03-15T00:00:00\", \"2020-03-15T00:00:00\", \"2020-03-15T00:00:00\", \"2020-03-15T00:00:00\", \"2020-03-16T00:00:00\", \"2020-03-16T00:00:00\", \"2020-03-16T00:00:00\", \"2020-03-17T00:00:00\", \"2020-03-17T00:00:00\", \"2020-03-17T00:00:00\", \"2020-03-18T00:00:00\", \"2020-03-18T00:00:00\", \"2020-03-18T00:00:00\", \"2020-03-19T00:00:00\", \"2020-03-21T00:00:00\", \"2020-03-21T00:00:00\", \"2020-03-21T00:00:00\", \"2020-03-22T00:00:00\", \"2020-03-23T00:00:00\", \"2020-03-23T00:00:00\", \"2020-03-24T00:00:00\", \"2020-03-24T00:00:00\", \"2020-03-24T00:00:00\", \"2020-03-28T00:00:00\", \"2020-03-28T00:00:00\", \"2020-03-28T00:00:00\", \"2020-03-28T00:00:00\", \"2020-03-29T00:00:00\", \"2020-03-29T00:00:00\", \"2020-03-30T00:00:00\", \"2020-03-30T00:00:00\", \"2020-04-01T00:00:00\", \"2020-04-03T00:00:00\", \"2020-04-05T00:00:00\", \"2020-04-06T00:00:00\", \"2020-04-08T00:00:00\", \"2020-04-11T00:00:00\", \"2020-04-11T00:00:00\", \"2020-04-12T00:00:00\", \"2020-04-12T00:00:00\", \"2020-04-13T00:00:00\", \"2020-04-13T00:00:00\", \"2020-04-13T00:00:00\", \"2020-04-13T00:00:00\"], \"xaxis\": \"x\", \"y\": [3, 1, 13, 0, 0, 5, 3, 0, 0, 1, 0, 0, 0, 0, 0, 0, 13, 0, 0, 0, 4, 0, 0, 0, 0, 3, 0, 0, 0, 5, 0, 0, 0, 11, 3, 0, 0, 0, 4, 4, 8, 0, 6, 0, 3, 6, 5, 1, 2, 3, 3, 3, 3, 1, 6, 10, 6, 0, 0, 0, 0, 4, 4, 4, 0, 0, 2, 4, 4, 0, 8, 15, 0, 0, 16, 5, 2, 2], \"yaxis\": \"y\"}, {\"alignmentgroup\": \"True\", \"boxpoints\": \"all\", \"fillcolor\": \"rgba(255,255,255,0)\", \"hoverlabel\": {\"namelength\": 0}, \"hoveron\": \"points\", \"hovertemplate\": \"Date=%{x}\", \"jitter\": 0, \"legendgroup\": \"\", \"line\": {\"color\": \"rgba(255,255,255,0)\"}, \"marker\": {\"color\": \"#636efa\", \"symbol\": \"line-ns-open\"}, \"name\": \"\", \"offsetgroup\": \"\", \"showlegend\": false, \"type\": \"box\", \"x\": [\"2020-02-02T00:00:00\", \"2020-02-07T00:00:00\", \"2020-02-07T00:00:00\", \"2020-02-09T00:00:00\", \"2020-02-09T00:00:00\", \"2020-02-12T00:00:00\", \"2020-02-13T00:00:00\", \"2020-02-14T00:00:00\", \"2020-02-17T00:00:00\", \"2020-02-17T00:00:00\", \"2020-02-17T00:00:00\", \"2020-02-19T00:00:00\", \"2020-02-19T00:00:00\", \"2020-02-19T00:00:00\", \"2020-02-20T00:00:00\", \"2020-02-20T00:00:00\", \"2020-02-20T00:00:00\", \"2020-02-21T00:00:00\", \"2020-02-23T00:00:00\", \"2020-02-26T00:00:00\", \"2020-02-27T00:00:00\", \"2020-02-28T00:00:00\", \"2020-02-28T00:00:00\", \"2020-02-29T00:00:00\", \"2020-02-29T00:00:00\", \"2020-03-01T00:00:00\", \"2020-03-01T00:00:00\", \"2020-03-03T00:00:00\", \"2020-03-03T00:00:00\", \"2020-03-06T00:00:00\", \"2020-03-06T00:00:00\", \"2020-03-08T00:00:00\", \"2020-03-11T00:00:00\", \"2020-03-15T00:00:00\", \"2020-03-15T00:00:00\", \"2020-03-15T00:00:00\", \"2020-03-15T00:00:00\", \"2020-03-15T00:00:00\", \"2020-03-16T00:00:00\", \"2020-03-16T00:00:00\", \"2020-03-16T00:00:00\", \"2020-03-17T00:00:00\", \"2020-03-17T00:00:00\", \"2020-03-17T00:00:00\", \"2020-03-18T00:00:00\", \"2020-03-18T00:00:00\", \"2020-03-18T00:00:00\", \"2020-03-19T00:00:00\", \"2020-03-21T00:00:00\", \"2020-03-21T00:00:00\", \"2020-03-21T00:00:00\", \"2020-03-22T00:00:00\", \"2020-03-23T00:00:00\", \"2020-03-23T00:00:00\", \"2020-03-24T00:00:00\", \"2020-03-24T00:00:00\", \"2020-03-24T00:00:00\", \"2020-03-28T00:00:00\", \"2020-03-28T00:00:00\", \"2020-03-28T00:00:00\", \"2020-03-28T00:00:00\", \"2020-03-29T00:00:00\", \"2020-03-29T00:00:00\", \"2020-03-30T00:00:00\", \"2020-03-30T00:00:00\", \"2020-04-01T00:00:00\", \"2020-04-03T00:00:00\", \"2020-04-05T00:00:00\", \"2020-04-06T00:00:00\", \"2020-04-08T00:00:00\", \"2020-04-11T00:00:00\", \"2020-04-11T00:00:00\", \"2020-04-12T00:00:00\", \"2020-04-12T00:00:00\", \"2020-04-13T00:00:00\", \"2020-04-13T00:00:00\", \"2020-04-13T00:00:00\", \"2020-04-13T00:00:00\"], \"xaxis\": \"x2\", \"yaxis\": \"y2\"}],\n",
       "                        {\"barmode\": \"relative\", \"height\": 600, \"legend\": {\"tracegroupgap\": 0}, \"margin\": {\"t\": 60}, \"template\": {\"data\": {\"bar\": [{\"error_x\": {\"color\": \"#2a3f5f\"}, \"error_y\": {\"color\": \"#2a3f5f\"}, \"marker\": {\"line\": {\"color\": \"#E5ECF6\", \"width\": 0.5}}, \"type\": \"bar\"}], \"barpolar\": [{\"marker\": {\"line\": {\"color\": \"#E5ECF6\", \"width\": 0.5}}, \"type\": \"barpolar\"}], \"carpet\": [{\"aaxis\": {\"endlinecolor\": \"#2a3f5f\", \"gridcolor\": \"white\", \"linecolor\": \"white\", \"minorgridcolor\": \"white\", \"startlinecolor\": \"#2a3f5f\"}, \"baxis\": {\"endlinecolor\": \"#2a3f5f\", \"gridcolor\": \"white\", \"linecolor\": \"white\", \"minorgridcolor\": \"white\", \"startlinecolor\": \"#2a3f5f\"}, \"type\": \"carpet\"}], \"choropleth\": [{\"colorbar\": {\"outlinewidth\": 0, \"ticks\": \"\"}, \"type\": \"choropleth\"}], \"contour\": [{\"colorbar\": {\"outlinewidth\": 0, \"ticks\": \"\"}, \"colorscale\": [[0.0, \"#0d0887\"], [0.1111111111111111, \"#46039f\"], [0.2222222222222222, \"#7201a8\"], [0.3333333333333333, \"#9c179e\"], [0.4444444444444444, \"#bd3786\"], [0.5555555555555556, \"#d8576b\"], [0.6666666666666666, \"#ed7953\"], [0.7777777777777778, \"#fb9f3a\"], [0.8888888888888888, \"#fdca26\"], [1.0, \"#f0f921\"]], \"type\": \"contour\"}], \"contourcarpet\": [{\"colorbar\": {\"outlinewidth\": 0, \"ticks\": \"\"}, \"type\": \"contourcarpet\"}], \"heatmap\": [{\"colorbar\": {\"outlinewidth\": 0, \"ticks\": \"\"}, \"colorscale\": [[0.0, \"#0d0887\"], [0.1111111111111111, \"#46039f\"], [0.2222222222222222, \"#7201a8\"], [0.3333333333333333, \"#9c179e\"], [0.4444444444444444, \"#bd3786\"], [0.5555555555555556, \"#d8576b\"], [0.6666666666666666, \"#ed7953\"], [0.7777777777777778, \"#fb9f3a\"], [0.8888888888888888, \"#fdca26\"], [1.0, \"#f0f921\"]], \"type\": \"heatmap\"}], \"heatmapgl\": [{\"colorbar\": {\"outlinewidth\": 0, \"ticks\": \"\"}, \"colorscale\": [[0.0, \"#0d0887\"], [0.1111111111111111, \"#46039f\"], [0.2222222222222222, \"#7201a8\"], [0.3333333333333333, \"#9c179e\"], [0.4444444444444444, \"#bd3786\"], [0.5555555555555556, \"#d8576b\"], [0.6666666666666666, \"#ed7953\"], [0.7777777777777778, \"#fb9f3a\"], [0.8888888888888888, \"#fdca26\"], [1.0, \"#f0f921\"]], \"type\": \"heatmapgl\"}], \"histogram\": [{\"marker\": {\"colorbar\": {\"outlinewidth\": 0, \"ticks\": \"\"}}, \"type\": \"histogram\"}], \"histogram2d\": [{\"colorbar\": {\"outlinewidth\": 0, \"ticks\": \"\"}, \"colorscale\": [[0.0, \"#0d0887\"], [0.1111111111111111, \"#46039f\"], [0.2222222222222222, \"#7201a8\"], [0.3333333333333333, \"#9c179e\"], [0.4444444444444444, \"#bd3786\"], [0.5555555555555556, \"#d8576b\"], [0.6666666666666666, \"#ed7953\"], [0.7777777777777778, \"#fb9f3a\"], [0.8888888888888888, \"#fdca26\"], [1.0, \"#f0f921\"]], \"type\": \"histogram2d\"}], \"histogram2dcontour\": [{\"colorbar\": {\"outlinewidth\": 0, \"ticks\": \"\"}, \"colorscale\": [[0.0, \"#0d0887\"], [0.1111111111111111, \"#46039f\"], [0.2222222222222222, \"#7201a8\"], [0.3333333333333333, \"#9c179e\"], [0.4444444444444444, \"#bd3786\"], [0.5555555555555556, \"#d8576b\"], [0.6666666666666666, \"#ed7953\"], [0.7777777777777778, \"#fb9f3a\"], [0.8888888888888888, \"#fdca26\"], [1.0, \"#f0f921\"]], \"type\": \"histogram2dcontour\"}], \"mesh3d\": [{\"colorbar\": {\"outlinewidth\": 0, \"ticks\": \"\"}, \"type\": \"mesh3d\"}], \"parcoords\": [{\"line\": {\"colorbar\": {\"outlinewidth\": 0, \"ticks\": \"\"}}, \"type\": \"parcoords\"}], \"scatter\": [{\"marker\": {\"colorbar\": {\"outlinewidth\": 0, \"ticks\": \"\"}}, \"type\": \"scatter\"}], \"scatter3d\": [{\"line\": {\"colorbar\": {\"outlinewidth\": 0, \"ticks\": \"\"}}, \"marker\": {\"colorbar\": {\"outlinewidth\": 0, \"ticks\": \"\"}}, \"type\": \"scatter3d\"}], \"scattercarpet\": [{\"marker\": {\"colorbar\": {\"outlinewidth\": 0, \"ticks\": \"\"}}, \"type\": \"scattercarpet\"}], \"scattergeo\": [{\"marker\": {\"colorbar\": {\"outlinewidth\": 0, \"ticks\": \"\"}}, \"type\": \"scattergeo\"}], \"scattergl\": [{\"marker\": {\"colorbar\": {\"outlinewidth\": 0, \"ticks\": \"\"}}, \"type\": \"scattergl\"}], \"scattermapbox\": [{\"marker\": {\"colorbar\": {\"outlinewidth\": 0, \"ticks\": \"\"}}, \"type\": \"scattermapbox\"}], \"scatterpolar\": [{\"marker\": {\"colorbar\": {\"outlinewidth\": 0, \"ticks\": \"\"}}, \"type\": \"scatterpolar\"}], \"scatterpolargl\": [{\"marker\": {\"colorbar\": {\"outlinewidth\": 0, \"ticks\": \"\"}}, \"type\": \"scatterpolargl\"}], \"scatterternary\": [{\"marker\": {\"colorbar\": {\"outlinewidth\": 0, \"ticks\": \"\"}}, \"type\": \"scatterternary\"}], \"surface\": [{\"colorbar\": {\"outlinewidth\": 0, \"ticks\": \"\"}, \"colorscale\": [[0.0, \"#0d0887\"], [0.1111111111111111, \"#46039f\"], [0.2222222222222222, \"#7201a8\"], [0.3333333333333333, \"#9c179e\"], [0.4444444444444444, \"#bd3786\"], [0.5555555555555556, \"#d8576b\"], [0.6666666666666666, \"#ed7953\"], [0.7777777777777778, \"#fb9f3a\"], [0.8888888888888888, \"#fdca26\"], [1.0, \"#f0f921\"]], \"type\": \"surface\"}], \"table\": [{\"cells\": {\"fill\": {\"color\": \"#EBF0F8\"}, \"line\": {\"color\": \"white\"}}, \"header\": {\"fill\": {\"color\": \"#C8D4E3\"}, \"line\": {\"color\": \"white\"}}, \"type\": \"table\"}]}, \"layout\": {\"annotationdefaults\": {\"arrowcolor\": \"#2a3f5f\", \"arrowhead\": 0, \"arrowwidth\": 1}, \"colorscale\": {\"diverging\": [[0, \"#8e0152\"], [0.1, \"#c51b7d\"], [0.2, \"#de77ae\"], [0.3, \"#f1b6da\"], [0.4, \"#fde0ef\"], [0.5, \"#f7f7f7\"], [0.6, \"#e6f5d0\"], [0.7, \"#b8e186\"], [0.8, \"#7fbc41\"], [0.9, \"#4d9221\"], [1, \"#276419\"]], \"sequential\": [[0.0, \"#0d0887\"], [0.1111111111111111, \"#46039f\"], [0.2222222222222222, \"#7201a8\"], [0.3333333333333333, \"#9c179e\"], [0.4444444444444444, \"#bd3786\"], [0.5555555555555556, \"#d8576b\"], [0.6666666666666666, \"#ed7953\"], [0.7777777777777778, \"#fb9f3a\"], [0.8888888888888888, \"#fdca26\"], [1.0, \"#f0f921\"]], \"sequentialminus\": [[0.0, \"#0d0887\"], [0.1111111111111111, \"#46039f\"], [0.2222222222222222, \"#7201a8\"], [0.3333333333333333, \"#9c179e\"], [0.4444444444444444, \"#bd3786\"], [0.5555555555555556, \"#d8576b\"], [0.6666666666666666, \"#ed7953\"], [0.7777777777777778, \"#fb9f3a\"], [0.8888888888888888, \"#fdca26\"], [1.0, \"#f0f921\"]]}, \"colorway\": [\"#636efa\", \"#EF553B\", \"#00cc96\", \"#ab63fa\", \"#FFA15A\", \"#19d3f3\", \"#FF6692\", \"#B6E880\", \"#FF97FF\", \"#FECB52\"], \"font\": {\"color\": \"#2a3f5f\"}, \"geo\": {\"bgcolor\": \"white\", \"lakecolor\": \"white\", \"landcolor\": \"#E5ECF6\", \"showlakes\": true, \"showland\": true, \"subunitcolor\": \"white\"}, \"hoverlabel\": {\"align\": \"left\"}, \"hovermode\": \"closest\", \"mapbox\": {\"style\": \"light\"}, \"paper_bgcolor\": \"white\", \"plot_bgcolor\": \"#E5ECF6\", \"polar\": {\"angularaxis\": {\"gridcolor\": \"white\", \"linecolor\": \"white\", \"ticks\": \"\"}, \"bgcolor\": \"#E5ECF6\", \"radialaxis\": {\"gridcolor\": \"white\", \"linecolor\": \"white\", \"ticks\": \"\"}}, \"scene\": {\"xaxis\": {\"backgroundcolor\": \"#E5ECF6\", \"gridcolor\": \"white\", \"gridwidth\": 2, \"linecolor\": \"white\", \"showbackground\": true, \"ticks\": \"\", \"zerolinecolor\": \"white\"}, \"yaxis\": {\"backgroundcolor\": \"#E5ECF6\", \"gridcolor\": \"white\", \"gridwidth\": 2, \"linecolor\": \"white\", \"showbackground\": true, \"ticks\": \"\", \"zerolinecolor\": \"white\"}, \"zaxis\": {\"backgroundcolor\": \"#E5ECF6\", \"gridcolor\": \"white\", \"gridwidth\": 2, \"linecolor\": \"white\", \"showbackground\": true, \"ticks\": \"\", \"zerolinecolor\": \"white\"}}, \"shapedefaults\": {\"line\": {\"color\": \"#2a3f5f\"}}, \"ternary\": {\"aaxis\": {\"gridcolor\": \"white\", \"linecolor\": \"white\", \"ticks\": \"\"}, \"baxis\": {\"gridcolor\": \"white\", \"linecolor\": \"white\", \"ticks\": \"\"}, \"bgcolor\": \"#E5ECF6\", \"caxis\": {\"gridcolor\": \"white\", \"linecolor\": \"white\", \"ticks\": \"\"}}, \"title\": {\"x\": 0.05}, \"xaxis\": {\"automargin\": true, \"gridcolor\": \"white\", \"linecolor\": \"white\", \"ticks\": \"\", \"zerolinecolor\": \"white\", \"zerolinewidth\": 2}, \"yaxis\": {\"automargin\": true, \"gridcolor\": \"white\", \"linecolor\": \"white\", \"ticks\": \"\", \"zerolinecolor\": \"white\", \"zerolinewidth\": 2}}}, \"xaxis\": {\"anchor\": \"y\", \"domain\": [0.0, 0.98], \"title\": {\"text\": \"Date\"}}, \"xaxis2\": {\"anchor\": \"y2\", \"domain\": [0.0, 0.98], \"matches\": \"x\", \"showgrid\": true, \"showticklabels\": false}, \"yaxis\": {\"anchor\": \"x\", \"domain\": [0.0, 0.8316], \"title\": {\"text\": \"sum of freq\"}}, \"yaxis2\": {\"anchor\": \"x2\", \"domain\": [0.8416, 1.0], \"matches\": \"y2\", \"showgrid\": false, \"showticklabels\": false}},\n",
       "                        {\"responsive\": true}\n",
       "                    ).then(function(){\n",
       "                            \n",
       "var gd = document.getElementById('f1484ad4-24e3-400e-8130-30b3bb9869c8');\n",
       "var x = new MutationObserver(function (mutations, observer) {{\n",
       "        var display = window.getComputedStyle(gd).display;\n",
       "        if (!display || display === 'none') {{\n",
       "            console.log([gd, 'removed!']);\n",
       "            Plotly.purge(gd);\n",
       "            observer.disconnect();\n",
       "        }}\n",
       "}});\n",
       "\n",
       "// Listen for the removal of the full notebook cells\n",
       "var notebookContainer = gd.closest('#notebook-container');\n",
       "if (notebookContainer) {{\n",
       "    x.observe(notebookContainer, {childList: true});\n",
       "}}\n",
       "\n",
       "// Listen for the clearing of the current output cell\n",
       "var outputEl = gd.closest('.output');\n",
       "if (outputEl) {{\n",
       "    x.observe(outputEl, {childList: true});\n",
       "}}\n",
       "\n",
       "                        })\n",
       "                };\n",
       "                });\n",
       "            </script>\n",
       "        </div>"
      ]
     },
     "metadata": {},
     "output_type": "display_data"
    }
   ],
   "source": [
    "clean_df['freq'] = freq_\n",
    "import plotly.express as px\n",
    "#df = px.data.tips()\n",
    "fig = px.histogram(clean_df, x=\"Date\", y=\"freq\", marginal=\"rug\",  histfunc='sum', nbins=20)#box, rug\n",
    "\n",
    "fig.show()"
   ]
  },
  {
   "cell_type": "code",
   "execution_count": null,
   "metadata": {},
   "outputs": [],
   "source": []
  },
  {
   "cell_type": "code",
   "execution_count": 153,
   "metadata": {
    "collapsed": true
   },
   "outputs": [
    {
     "name": "stdout",
     "output_type": "stream",
     "text": [
      "DR VERB ROOT\n",
      "gouvernement NOUN nsubj\n",
      "congolais ADJ amod\n",
      "annoncé VERB ROOT\n",
      "enveloppe NOUN obj\n",
      "milliards NOUN nmod\n",
      "Francs PROPN nmod\n",
      "CFA PROPN flat:name\n",
      "profit NOUN case\n",
      "ménages NOUN nmod\n",
      "personnes NOUN conj\n",
      "pauvres ADJ amod\n",
      "affectés VERB acl\n",
      "mesures NOUN obl\n",
      "confinement NOUN nmod\n",
      "consécutives NOUN amod\n",
      "propagation NOUN obl\n",
      "coronavirus NOUN nmod\n",
      "annonce NOUN nsubj:pass\n",
      "faite VERB ROOT\n",
      "vendredi NOUN obl\n",
      "ministre NOUN obl\n",
      "Communication NOUN nmod\n",
      "porte-parole NOUN appos\n",
      "gouvernement NOUN nmod\n",
      "Thierry PROPN dep\n",
      "Lézin PROPN flat:name\n",
      "Moungalla PROPN flat:name\n",
      "issue NOUN fixed\n",
      "première ADJ amod\n",
      "réunion NOUN obl\n",
      "coordination NOUN nmod\n",
      "nationale ADJ amod\n",
      "gestion NOUN nmod\n",
      "pandémie NOUN nmod\n",
      "Covid-19 NOUN nmod\n",
      "tenue VERB acl:relcl\n",
      "autorité NOUN obl\n",
      "président NOUN nmod\n",
      "Sassou PROPN flat:name\n",
      "N’ VERB flat:name\n",
      "Guesso PROPN flat:name\n",
      "porte-parole NOUN obl\n",
      "gouvernement NOUN nmod\n",
      "ressort NOUN advmod\n",
      "réunion NOUN nmod\n",
      "mesures NOUN nmod\n",
      "économiques ADJ amod\n",
      "sanitaires ADJ conj\n",
      "sociales NOUN conj\n",
      "plan NOUN obl\n",
      "social ADJ amod\n",
      "gouvernement NOUN nsubj\n",
      "décidé VERB ROOT\n",
      "« NOUN amod\n",
      "transfert VERB obj\n",
      "prochains ADJ amod\n",
      "jours NOUN obl\n",
      "somme NOUN conj\n",
      "milliards NOUN nmod\n",
      "francs NOUN nmod\n",
      "CFA PROPN nmod\n",
      "aux ADJ det\n",
      "ménages NOUN nmod\n",
      "personnes NOUN conj\n",
      "pauvres ADJ amod\n",
      "répertoriés VERB acl\n",
      "localités NOUN obl\n",
      "pays NOUN obj\n",
      "ministère NOUN nmod\n",
      "charge NOUN fixed\n",
      "affaires NOUN obj\n",
      "sociales ADJ amod\n",
      "Coordination NOUN nsubj\n",
      "réitéré VERB ROOT\n",
      "gratuité NOUN obj\n",
      "eau NOUN nmod\n",
      "électricité NOUN conj\n",
      "tous ADJ amod\n",
      "ménages NOUN nmod\n",
      "ensemble NOUN obl\n",
      "territoire NOUN obj\n",
      "national ADJ amod\n",
      "période NOUN obl\n",
      "confinement NOUN nmod\n",
      "plan NOUN ROOT\n",
      "économique ADJ amod\n",
      "Coordination PROPN nsubj\n",
      "nationale ADJ amod\n",
      "incite VERB acl\n",
      "Task PROPN obj\n",
      "force VERB obl\n",
      "impact NOUN obl\n",
      "économique ADJ amod\n",
      "pandémie NOUN nmod\n",
      "Covid-19 PROPN obj\n",
      "procéder VERB xcomp\n",
      "émission NOUN obl\n",
      "bons NOUN nmod\n",
      "obligations NOUN conj\n",
      "Trésor PROPN obj\n",
      "abonder VERB advcl\n",
      "recettes NOUN obj\n",
      "budgétaires ADJ amod\n",
      "permettre VERB conj\n",
      "Etat NOUN obl\n",
      "faire VERB acl\n",
      "face NOUN det\n",
      "besoins NOUN obl\n",
      "liés VERB acl\n",
      "lutte NOUN obl\n",
      "Covid-19 PROPN nmod\n",
      "encourage VERB ROOT\n",
      "tous ADJ amod\n",
      "opérateurs NOUN obj\n",
      "économiques ADJ amod\n",
      "citoyens NOUN conj\n",
      "patriotes NOUN conj\n",
      "congolais ADJ amod\n",
      "bonnes ADJ amod\n",
      "volontés NOUN conj\n",
      "internationales ADJ amod\n",
      "s’ NOUN nmod\n",
      "inscrire VERB acl\n",
      "élan NOUN obl\n",
      "solidarité NOUN nmod\n",
      "engagé VERB acl\n",
      "jours NOUN obl\n",
      "procédant VERB advcl\n",
      "dons NOUN obl\n",
      "actes NOUN conj\n",
      "générosité NOUN nmod\n",
      "permettront VERB acl:relcl\n",
      "vaincre VERB xcomp\n",
      "Covid-19 PROPN obj\n",
      "plan NOUN obl\n",
      "sanitaire ADJ amod\n",
      "mesure NOUN nsubj\n",
      "consiste VERB ROOT\n",
      "réquisitionner VERB xcomp\n",
      "tous ADJ amod\n",
      "agents NOUN obj\n",
      "santé NOUN nmod\n",
      "actifs ADJ amod\n",
      "retraités NOUN conj\n",
      "aptes ADJ amod\n",
      "étudiants NOUN obj\n",
      "finalistes ADJ case\n",
      "écoles NOUN nmod\n",
      "paramédicales ADJ amod\n",
      "faculté NOUN conj\n",
      "sciences NOUN nmod\n",
      "santé NOUN nmod\n",
      "s’ NOUN amod\n",
      "prononcée VERB ROOT\n",
      "réquisition NOUN obl\n",
      "tous ADJ amod\n",
      "médicaments NOUN nmod\n",
      "autres ADJ advmod\n",
      "produits NOUN conj\n",
      "santé NOUN nmod\n",
      "détenus VERB acl\n",
      "pharmacies NOUN obl\n",
      "commerciales ADJ amod\n",
      "utiles ADJ conj\n",
      "prise NOUN nmod\n",
      "charge NOUN fixed\n",
      "Covid-19 NOUN nmod\n",
      "allocation NOUN conj\n",
      "primes NOUN nmod\n",
      "exceptionnelles ADJ amod\n",
      "tous ADJ amod\n",
      "personnels NOUN obl\n",
      "santé NOUN nmod\n",
      "auxiliaires NOUN conj\n",
      "mobilisés VERB acl\n",
      "lutte NOUN obl\n",
      "virus NOUN nmod\n",
      "recommandé VERB ROOT\n",
      "vendeurs NOUN obj\n",
      "aux ADJ det\n",
      "clients NOUN conj\n",
      "marchés NOUN obl\n",
      "port NOUN nmod\n",
      "masques NOUN nmod\n",
      "accessoire NOUN conj\n",
      "susceptible ADJ amod\n",
      "servir VERB xcomp\n",
      "barrières NOUN obj\n",
      "propagation NOUN obl\n",
      "Covid-19 PROPN nmod\n",
      "A VERB case\n",
      "jour NOUN obl\n",
      "cas NOUN nsubj:pass\n",
      "confirmés VERB ROOT\n",
      "pays NOUN obl\n",
      "décès NOUN acl:relcl\n",
      "guérisons NOUN conj\n",
      "APA PROPN ROOT\n"
     ]
    },
    {
     "data": {
      "text/plain": [
       "[('Covid-19', 6),\n",
       " ('tous', 5),\n",
       " ('gouvernement', 4),\n",
       " ('santé', 4),\n",
       " ('ménages', 3),\n",
       " ('plan', 3),\n",
       " ('congolais', 2),\n",
       " ('milliards', 2),\n",
       " ('CFA', 2),\n",
       " ('personnes', 2),\n",
       " ('pauvres', 2),\n",
       " ('mesures', 2),\n",
       " ('confinement', 2),\n",
       " ('propagation', 2),\n",
       " ('porte-parole', 2),\n",
       " ('réunion', 2),\n",
       " ('nationale', 2),\n",
       " ('pandémie', 2),\n",
       " ('économiques', 2),\n",
       " ('sociales', 2),\n",
       " ('jours', 2),\n",
       " ('aux', 2),\n",
       " ('pays', 2),\n",
       " ('charge', 2),\n",
       " ('Coordination', 2),\n",
       " ('économique', 2),\n",
       " ('lutte', 2),\n",
       " ('s’', 2),\n",
       " ('DR', 1),\n",
       " ('annoncé', 1),\n",
       " ('enveloppe', 1),\n",
       " ('Francs', 1),\n",
       " ('profit', 1),\n",
       " ('affectés', 1),\n",
       " ('consécutives', 1),\n",
       " ('coronavirus', 1),\n",
       " ('annonce', 1),\n",
       " ('faite', 1),\n",
       " ('vendredi', 1),\n",
       " ('ministre', 1),\n",
       " ('Communication', 1),\n",
       " ('Thierry', 1),\n",
       " ('Lézin', 1),\n",
       " ('Moungalla', 1),\n",
       " ('issue', 1),\n",
       " ('première', 1),\n",
       " ('coordination', 1),\n",
       " ('gestion', 1),\n",
       " ('tenue', 1),\n",
       " ('autorité', 1),\n",
       " ('président', 1),\n",
       " ('Sassou', 1),\n",
       " ('N’', 1),\n",
       " ('Guesso', 1),\n",
       " ('ressort', 1),\n",
       " ('sanitaires', 1),\n",
       " ('social', 1),\n",
       " ('décidé', 1),\n",
       " ('«', 1),\n",
       " ('transfert', 1),\n",
       " ('prochains', 1),\n",
       " ('somme', 1),\n",
       " ('francs', 1),\n",
       " ('répertoriés', 1),\n",
       " ('localités', 1),\n",
       " ('ministère', 1),\n",
       " ('affaires', 1),\n",
       " ('réitéré', 1),\n",
       " ('gratuité', 1),\n",
       " ('eau', 1),\n",
       " ('électricité', 1),\n",
       " ('ensemble', 1),\n",
       " ('territoire', 1),\n",
       " ('national', 1),\n",
       " ('période', 1),\n",
       " ('incite', 1),\n",
       " ('Task', 1),\n",
       " ('force', 1),\n",
       " ('impact', 1),\n",
       " ('procéder', 1),\n",
       " ('émission', 1),\n",
       " ('bons', 1),\n",
       " ('obligations', 1),\n",
       " ('Trésor', 1),\n",
       " ('abonder', 1),\n",
       " ('recettes', 1),\n",
       " ('budgétaires', 1),\n",
       " ('permettre', 1),\n",
       " ('Etat', 1),\n",
       " ('faire', 1),\n",
       " ('face', 1),\n",
       " ('besoins', 1),\n",
       " ('liés', 1),\n",
       " ('encourage', 1),\n",
       " ('opérateurs', 1),\n",
       " ('citoyens', 1),\n",
       " ('patriotes', 1),\n",
       " ('bonnes', 1),\n",
       " ('volontés', 1),\n",
       " ('internationales', 1),\n",
       " ('inscrire', 1),\n",
       " ('élan', 1),\n",
       " ('solidarité', 1),\n",
       " ('engagé', 1),\n",
       " ('procédant', 1),\n",
       " ('dons', 1),\n",
       " ('actes', 1),\n",
       " ('générosité', 1),\n",
       " ('permettront', 1),\n",
       " ('vaincre', 1),\n",
       " ('sanitaire', 1),\n",
       " ('mesure', 1),\n",
       " ('consiste', 1),\n",
       " ('réquisitionner', 1),\n",
       " ('agents', 1),\n",
       " ('actifs', 1),\n",
       " ('retraités', 1),\n",
       " ('aptes', 1),\n",
       " ('étudiants', 1),\n",
       " ('finalistes', 1),\n",
       " ('écoles', 1),\n",
       " ('paramédicales', 1),\n",
       " ('faculté', 1),\n",
       " ('sciences', 1),\n",
       " ('prononcée', 1),\n",
       " ('réquisition', 1),\n",
       " ('médicaments', 1),\n",
       " ('autres', 1),\n",
       " ('produits', 1),\n",
       " ('détenus', 1),\n",
       " ('pharmacies', 1),\n",
       " ('commerciales', 1),\n",
       " ('utiles', 1),\n",
       " ('prise', 1),\n",
       " ('allocation', 1),\n",
       " ('primes', 1),\n",
       " ('exceptionnelles', 1),\n",
       " ('personnels', 1),\n",
       " ('auxiliaires', 1),\n",
       " ('mobilisés', 1),\n",
       " ('virus', 1),\n",
       " ('recommandé', 1),\n",
       " ('vendeurs', 1),\n",
       " ('clients', 1),\n",
       " ('marchés', 1),\n",
       " ('port', 1),\n",
       " ('masques', 1),\n",
       " ('accessoire', 1),\n",
       " ('susceptible', 1),\n",
       " ('servir', 1),\n",
       " ('barrières', 1),\n",
       " ('A', 1),\n",
       " ('jour', 1),\n",
       " ('cas', 1),\n",
       " ('confirmés', 1),\n",
       " ('décès', 1),\n",
       " ('guérisons', 1),\n",
       " ('APA', 1)]"
      ]
     },
     "execution_count": 153,
     "metadata": {},
     "output_type": "execute_result"
    }
   ],
   "source": [
    "#doc.count_by(7)\n",
    "#help(doc)\n",
    "count = Counter()\n",
    "for token in doc:\n",
    "    if token.pos_ in ['PROPN', 'NOUN', 'VERB', 'ADJ']:\n",
    "        print(token.text, token.pos_, token.dep_)\n",
    "        count.update([token.text])\n",
    "count.most_common()[:10]"
   ]
  },
  {
   "cell_type": "code",
   "execution_count": 270,
   "metadata": {},
   "outputs": [],
   "source": [
    "\"\"\"\n",
    "import matplotlib.animation as animation\n",
    "def animate_hist():\n",
    "    fig = plt.figure()\n",
    "    ims = []\n",
    "    for i in range(2):\n",
    "        #Show the geopotential--> 0\n",
    "        #Show altitude -->1\n",
    "        #data = vision_data[n, i, 0, 1]\n",
    "        #img = plt.imshow(data, animated=True)\n",
    "        fig, ax = visualize(i)\n",
    "        img = ax\n",
    "        ims.append([img])\n",
    "        #plt.show()\n",
    "\n",
    "    ani = animation.ArtistAnimation(fig, ims, interval=10, blit=True,\n",
    "                                    repeat_delay=1000)\n",
    "    return ani\n",
    "\"\"\""
   ]
  },
  {
   "cell_type": "code",
   "execution_count": 294,
   "metadata": {},
   "outputs": [],
   "source": [
    "#animate_hist()"
   ]
  },
  {
   "cell_type": "code",
   "execution_count": null,
   "metadata": {},
   "outputs": [],
   "source": []
  }
 ],
 "metadata": {
  "kernelspec": {
   "display_name": "Python 3",
   "language": "python",
   "name": "python3"
  },
  "language_info": {
   "codemirror_mode": {
    "name": "ipython",
    "version": 3
   },
   "file_extension": ".py",
   "mimetype": "text/x-python",
   "name": "python",
   "nbconvert_exporter": "python",
   "pygments_lexer": "ipython3",
   "version": "3.7.3"
  }
 },
 "nbformat": 4,
 "nbformat_minor": 2
}
