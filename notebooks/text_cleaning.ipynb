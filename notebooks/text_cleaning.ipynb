{
 "cells": [
  {
   "cell_type": "code",
   "execution_count": 2,
   "metadata": {},
   "outputs": [
    {
     "data": {
      "text/plain": [
       "['tweets_Gabonews_com_2020-02-01_2020-04-14.json',\n",
       " '.articles_CorbeauNews_2020-02-01_2020-04-14.json.icloud',\n",
       " '.articles_QuotidienSN_2020-01-01_2020-04-14.json.icloud',\n",
       " 'lequotidien.json',\n",
       " 'articles_SAVOIRNEWS1_2020-02-01_2020-04-14.json',\n",
       " 'tweets_Lefaso_net_2020-02-01_2020-04-14.json',\n",
       " '.articles_CongoActu_2020-02-01_2020-04-14.json.icloud',\n",
       " 'lesoleil.json',\n",
       " 'tweets_JourDuMali_2020-02-01_2020-04-14.json',\n",
       " 'tweets_LeSoleilonline_2020-02-02_2020-04-12.json',\n",
       " 'tweets_CongoActu_2020-02-01_2020-04-14.json',\n",
       " 'articles_iwacuinfo_2020-02-01_2020-04-14.json',\n",
       " 'articles_JourDuMali_2020-02-01_2020-04-14.json',\n",
       " '.tweets_iwacuinfo_2020-02-01_2020-04-14.json.icloud',\n",
       " 'articles_Lefaso_net_2020-02-01_2020-04-14.json',\n",
       " 'articles_comoresinfos_2020-02-01_2020-04-14.json',\n",
       " '.tweets_comoresinfos_2020-02-01_2020-04-14.json.icloud',\n",
       " 'articles_madatribune_2020-02-01_2020-04-14.json',\n",
       " 'Macky_Sall_twitter.json',\n",
       " 'tweets_InfosGabon_2020-02-01_2020-04-14.json',\n",
       " 'articles_ICIBrazza_2020-02-01_2020-04-14.json',\n",
       " 'tweets_LeSoleilonline_2020-02-01_2020-04-12.json',\n",
       " 'tweets_madatribune_2020-02-01_2020-04-14.json',\n",
       " 'articles_Gabonews_com_2020-02-01_2020-04-14.json',\n",
       " '.tweets_ICIBrazza_2020-02-01_2020-04-14.json.icloud',\n",
       " '.tweets_QuotidienSN_2020-01-01_2020-04-14.json.icloud',\n",
       " 'articles_LeSoleilonline_2020-01-01_2020-04-14.json',\n",
       " '.tweets_CorbeauNews_2020-02-01_2020-04-14.json.icloud',\n",
       " '.data.zip.icloud',\n",
       " '.articles_InfosGabon_2020-02-01_2020-04-14.json.icloud',\n",
       " 'tweets_LeSoleilonline_2020-01-01_2020-04-14.json',\n",
       " 'tweets_SAVOIRNEWS1_2020-02-01_2020-04-14.json']"
      ]
     },
     "execution_count": 2,
     "metadata": {},
     "output_type": "execute_result"
    }
   ],
   "source": [
    "import sys\n",
    "sys.path.append('../')\n",
    "import lib\n",
    "import spacy\n",
    "import json\n",
    "import pandas as pd\n",
    "import os\n",
    "os.listdir('../data')"
   ]
  },
  {
   "cell_type": "code",
   "execution_count": 3,
   "metadata": {},
   "outputs": [
    {
     "name": "stdout",
     "output_type": "stream",
     "text": [
      "46\n"
     ]
    },
    {
     "data": {
      "text/html": [
       "<div>\n",
       "<style scoped>\n",
       "    .dataframe tbody tr th:only-of-type {\n",
       "        vertical-align: middle;\n",
       "    }\n",
       "\n",
       "    .dataframe tbody tr th {\n",
       "        vertical-align: top;\n",
       "    }\n",
       "\n",
       "    .dataframe thead th {\n",
       "        text-align: right;\n",
       "    }\n",
       "</style>\n",
       "<table border=\"1\" class=\"dataframe\">\n",
       "  <thead>\n",
       "    <tr style=\"text-align: right;\">\n",
       "      <th></th>\n",
       "      <th>id</th>\n",
       "      <th>title</th>\n",
       "      <th>text</th>\n",
       "      <th>Date</th>\n",
       "      <th>country</th>\n",
       "      <th>source</th>\n",
       "      <th>tweet</th>\n",
       "    </tr>\n",
       "  </thead>\n",
       "  <tbody>\n",
       "    <tr>\n",
       "      <th>0</th>\n",
       "      <td>Togo_SAVOIRNEWS1_0</td>\n",
       "      <td>Togo/Coronavirus : Six nouveaux cas ce lundi d...</td>\n",
       "      <td>Six nouveaux cas confirmés au coronavirus dont...</td>\n",
       "      <td>2020-04-06T23:34:57</td>\n",
       "      <td>Togo</td>\n",
       "      <td>SAVOIRNEWS1</td>\n",
       "      <td>*Six nouveaux cas confirmés au coronavirus don...</td>\n",
       "    </tr>\n",
       "    <tr>\n",
       "      <th>1</th>\n",
       "      <td>Togo_SAVOIRNEWS1_1</td>\n",
       "      <td>Togo/Coronavirus : Six nouveaux cas ce lundi d...</td>\n",
       "      <td>Six nouveaux cas confirmés au coronavirus dont...</td>\n",
       "      <td>2020-04-06T23:34:57</td>\n",
       "      <td>Togo</td>\n",
       "      <td>SAVOIRNEWS1</td>\n",
       "      <td>*Six nouveaux cas confirmés au coronavirus don...</td>\n",
       "    </tr>\n",
       "    <tr>\n",
       "      <th>2</th>\n",
       "      <td>Togo_SAVOIRNEWS1_2</td>\n",
       "      <td>Coronavirus: Les Évêques du Togo dictent des d...</td>\n",
       "      <td>Les Évêques du Togo ont annoncé lundi, une sér...</td>\n",
       "      <td>2020-03-17T16:53:44</td>\n",
       "      <td>Togo</td>\n",
       "      <td>SAVOIRNEWS1</td>\n",
       "      <td>Pandémie de coronavirus :\\nLes Évêques du #Tog...</td>\n",
       "    </tr>\n",
       "    <tr>\n",
       "      <th>3</th>\n",
       "      <td>Togo_SAVOIRNEWS1_3</td>\n",
       "      <td>LA PREMIERE AGENCE DE PRESSE PRIVEE AU TOGO</td>\n",
       "      <td>Faure Gnassingbé : « La victoire dans la lutte...</td>\n",
       "      <td>2020-03-15T13:51:10</td>\n",
       "      <td>Togo</td>\n",
       "      <td>SAVOIRNEWS1</td>\n",
       "      <td>Le nouveau coronavirus a fait au moins 5.402 m...</td>\n",
       "    </tr>\n",
       "    <tr>\n",
       "      <th>4</th>\n",
       "      <td>Togo_SAVOIRNEWS1_4</td>\n",
       "      <td>Coronavirus: Les Évêques du Togo dictent des d...</td>\n",
       "      <td>Les Évêques du Togo ont annoncé lundi, une sér...</td>\n",
       "      <td>2020-03-17T16:53:44</td>\n",
       "      <td>Togo</td>\n",
       "      <td>SAVOIRNEWS1</td>\n",
       "      <td>Pandémie de coronavirus :\\nLes Évêques du #Tog...</td>\n",
       "    </tr>\n",
       "  </tbody>\n",
       "</table>\n",
       "</div>"
      ],
      "text/plain": [
       "                   id                                              title  \\\n",
       "0  Togo_SAVOIRNEWS1_0  Togo/Coronavirus : Six nouveaux cas ce lundi d...   \n",
       "1  Togo_SAVOIRNEWS1_1  Togo/Coronavirus : Six nouveaux cas ce lundi d...   \n",
       "2  Togo_SAVOIRNEWS1_2  Coronavirus: Les Évêques du Togo dictent des d...   \n",
       "3  Togo_SAVOIRNEWS1_3        LA PREMIERE AGENCE DE PRESSE PRIVEE AU TOGO   \n",
       "4  Togo_SAVOIRNEWS1_4  Coronavirus: Les Évêques du Togo dictent des d...   \n",
       "\n",
       "                                                text                 Date  \\\n",
       "0  Six nouveaux cas confirmés au coronavirus dont...  2020-04-06T23:34:57   \n",
       "1  Six nouveaux cas confirmés au coronavirus dont...  2020-04-06T23:34:57   \n",
       "2  Les Évêques du Togo ont annoncé lundi, une sér...  2020-03-17T16:53:44   \n",
       "3  Faure Gnassingbé : « La victoire dans la lutte...  2020-03-15T13:51:10   \n",
       "4  Les Évêques du Togo ont annoncé lundi, une sér...  2020-03-17T16:53:44   \n",
       "\n",
       "  country       source                                              tweet  \n",
       "0    Togo  SAVOIRNEWS1  *Six nouveaux cas confirmés au coronavirus don...  \n",
       "1    Togo  SAVOIRNEWS1  *Six nouveaux cas confirmés au coronavirus don...  \n",
       "2    Togo  SAVOIRNEWS1  Pandémie de coronavirus :\\nLes Évêques du #Tog...  \n",
       "3    Togo  SAVOIRNEWS1  Le nouveau coronavirus a fait au moins 5.402 m...  \n",
       "4    Togo  SAVOIRNEWS1  Pandémie de coronavirus :\\nLes Évêques du #Tog...  "
      ]
     },
     "execution_count": 3,
     "metadata": {},
     "output_type": "execute_result"
    }
   ],
   "source": [
    "#example_path = '../data/articles_ICIBrazza_2020-02-01_2020-04-14.json'\n",
    "example_article = 'articles_SAVOIRNEWS1_2020-02-01_2020-04-14.json'\n",
    "example_path = os.path.join('../data', example_article)\n",
    "\n",
    "with open(example_path, 'r') as reader:\n",
    "    data = json.load(reader)\n",
    "df = pd.DataFrame(columns=data['head'], \n",
    "                 data=data['articles'])\n",
    "print(len(df))\n",
    "df.head()"
   ]
  },
  {
   "cell_type": "markdown",
   "metadata": {},
   "source": [
    "# Clean up the text for the EDA\n",
    "    - Remove duplicate and potential NaNs\n",
    "    - Remove index\n",
    "    - Change types \n",
    "    - Remove part of the punctuation, and unicode typos"
   ]
  },
  {
   "cell_type": "code",
   "execution_count": 4,
   "metadata": {},
   "outputs": [
    {
     "data": {
      "text/html": [
       "<div>\n",
       "<style scoped>\n",
       "    .dataframe tbody tr th:only-of-type {\n",
       "        vertical-align: middle;\n",
       "    }\n",
       "\n",
       "    .dataframe tbody tr th {\n",
       "        vertical-align: top;\n",
       "    }\n",
       "\n",
       "    .dataframe thead th {\n",
       "        text-align: right;\n",
       "    }\n",
       "</style>\n",
       "<table border=\"1\" class=\"dataframe\">\n",
       "  <thead>\n",
       "    <tr style=\"text-align: right;\">\n",
       "      <th></th>\n",
       "      <th>title</th>\n",
       "      <th>text</th>\n",
       "      <th>Date</th>\n",
       "      <th>country</th>\n",
       "      <th>source</th>\n",
       "      <th>tweet</th>\n",
       "    </tr>\n",
       "  </thead>\n",
       "  <tbody>\n",
       "    <tr>\n",
       "      <th>0</th>\n",
       "      <td>Togo/Coronavirus : Six nouveaux cas ce lundi d...</td>\n",
       "      <td>Six nouveaux cas confirmés au coronavirus dont...</td>\n",
       "      <td>2020-04-06T23:34:57</td>\n",
       "      <td>Togo</td>\n",
       "      <td>SAVOIRNEWS1</td>\n",
       "      <td>*Six nouveaux cas confirmés au coronavirus don...</td>\n",
       "    </tr>\n",
       "    <tr>\n",
       "      <th>2</th>\n",
       "      <td>Coronavirus: Les Évêques du Togo dictent des d...</td>\n",
       "      <td>Les Évêques du Togo ont annoncé lundi, une sér...</td>\n",
       "      <td>2020-03-17T16:53:44</td>\n",
       "      <td>Togo</td>\n",
       "      <td>SAVOIRNEWS1</td>\n",
       "      <td>Pandémie de coronavirus :\\nLes Évêques du #Tog...</td>\n",
       "    </tr>\n",
       "    <tr>\n",
       "      <th>3</th>\n",
       "      <td>LA PREMIERE AGENCE DE PRESSE PRIVEE AU TOGO</td>\n",
       "      <td>Faure Gnassingbé : « La victoire dans la lutte...</td>\n",
       "      <td>2020-03-15T13:51:10</td>\n",
       "      <td>Togo</td>\n",
       "      <td>SAVOIRNEWS1</td>\n",
       "      <td>Le nouveau coronavirus a fait au moins 5.402 m...</td>\n",
       "    </tr>\n",
       "    <tr>\n",
       "      <th>6</th>\n",
       "      <td>Changements climatiques en Afrique : Réunies à...</td>\n",
       "      <td>Plus de 300 journalistes africaines « Les Pana...</td>\n",
       "      <td>2020-03-07T07:30:42</td>\n",
       "      <td>Togo</td>\n",
       "      <td>SAVOIRNEWS1</td>\n",
       "      <td>Urgence climatique : Les journalistes panafric...</td>\n",
       "    </tr>\n",
       "    <tr>\n",
       "      <th>8</th>\n",
       "      <td>Social/Pour la continuité du travail : Pas de ...</td>\n",
       "      <td>Gilbert Bawara (ministre de la fonction publiq...</td>\n",
       "      <td>2020-03-31T15:52:36</td>\n",
       "      <td>Togo</td>\n",
       "      <td>SAVOIRNEWS1</td>\n",
       "      <td>Gilbert Bawara (ministre de la fonction publiq...</td>\n",
       "    </tr>\n",
       "    <tr>\n",
       "      <th>10</th>\n",
       "      <td>Coronavirus : Des mesures pour des \"réponses e...</td>\n",
       "      <td>Le Togo a déjà enregistré 30 cas dont un décès...</td>\n",
       "      <td>2020-03-29T22:05:35</td>\n",
       "      <td>Togo</td>\n",
       "      <td>SAVOIRNEWS1</td>\n",
       "      <td>Le gouvernement entend apporter de nouvelles m...</td>\n",
       "    </tr>\n",
       "    <tr>\n",
       "      <th>11</th>\n",
       "      <td>Coronavirus: Le Bénin n'a pas les \"moyens\" de ...</td>\n",
       "      <td>Le Bénin ne dispose pas des « moyens des pays ...</td>\n",
       "      <td>2020-03-29T22:02:30</td>\n",
       "      <td>Togo</td>\n",
       "      <td>SAVOIRNEWS1</td>\n",
       "      <td>Le Bénin ne dispose pas des « moyens des pays ...</td>\n",
       "    </tr>\n",
       "    <tr>\n",
       "      <th>12</th>\n",
       "      <td>Coronavirus: Le premier décès au Togo (officiel)</td>\n",
       "      <td>Le Togo a enregistré vendredi, son premier déc...</td>\n",
       "      <td>2020-03-28T13:00:25</td>\n",
       "      <td>Togo</td>\n",
       "      <td>SAVOIRNEWS1</td>\n",
       "      <td>#Covid19TGhttp://www.savoirnews.net/coronaviru...</td>\n",
       "    </tr>\n",
       "    <tr>\n",
       "      <th>16</th>\n",
       "      <td>Covid-19/Crise économique : Les médias privés ...</td>\n",
       "      <td>Activités totalement au ralenti, absence d’ann...</td>\n",
       "      <td>2020-04-04T19:13:29</td>\n",
       "      <td>Togo</td>\n",
       "      <td>SAVOIRNEWS1</td>\n",
       "      <td>Activités totalement au ralenti, absence d’ann...</td>\n",
       "    </tr>\n",
       "    <tr>\n",
       "      <th>17</th>\n",
       "      <td>Togo/Coronavirus: 40 cas avec 3 morts, Lomé s’...</td>\n",
       "      <td>Le Togo a enregistré ce vendredi, son 3ème déc...</td>\n",
       "      <td>2020-04-03T18:25:21</td>\n",
       "      <td>Togo</td>\n",
       "      <td>SAVOIRNEWS1</td>\n",
       "      <td>Le Togo a enregistré ce vendredi, son 3ème déc...</td>\n",
       "    </tr>\n",
       "    <tr>\n",
       "      <th>20</th>\n",
       "      <td>Faure Gnassingbé : \"La victoire dans la lutte ...</td>\n",
       "      <td>Le monde entier est secoué par le nouveau coro...</td>\n",
       "      <td>2020-04-13T20:01:59</td>\n",
       "      <td>Togo</td>\n",
       "      <td>SAVOIRNEWS1</td>\n",
       "      <td>\"La victoire dans la lutte contre Covid-19 ser...</td>\n",
       "    </tr>\n",
       "    <tr>\n",
       "      <th>21</th>\n",
       "      <td>Coronavirus : Les médias, deuxième force au \"f...</td>\n",
       "      <td>Toutes les grandes émissions et colonnes des j...</td>\n",
       "      <td>2020-04-13T19:26:06</td>\n",
       "      <td>Togo</td>\n",
       "      <td>SAVOIRNEWS1</td>\n",
       "      <td>A longueur de journée, ces hommes et femmes de...</td>\n",
       "    </tr>\n",
       "    <tr>\n",
       "      <th>22</th>\n",
       "      <td>Vatican News on Twitter</td>\n",
       "      <td>Follow Follow @ vaticannews_fr Following Follo...</td>\n",
       "      <td>2020-04-10T23:44:24</td>\n",
       "      <td>Togo</td>\n",
       "      <td>SAVOIRNEWS1</td>\n",
       "      <td>Émouvant...https://twitter.com/vaticannews_fr/...</td>\n",
       "    </tr>\n",
       "    <tr>\n",
       "      <th>23</th>\n",
       "      <td>Covid-19/crise éco : Le président de l’UPF pla...</td>\n",
       "      <td>Madiambal Diagne, président de l’Union interna...</td>\n",
       "      <td>2020-04-10T08:28:58</td>\n",
       "      <td>Togo</td>\n",
       "      <td>SAVOIRNEWS1</td>\n",
       "      <td>\"Cette crise profonde risque de voir purement ...</td>\n",
       "    </tr>\n",
       "    <tr>\n",
       "      <th>24</th>\n",
       "      <td>#Covid19TG : \"Adoptons les gestes barrières\" b...</td>\n",
       "      <td></td>\n",
       "      <td>2020-04-10T01:41:19</td>\n",
       "      <td>Togo</td>\n",
       "      <td>SAVOIRNEWS1</td>\n",
       "      <td>Avez-vous écouté \"#Covid19TG : \"Adoptons les g...</td>\n",
       "    </tr>\n",
       "    <tr>\n",
       "      <th>30</th>\n",
       "      <td>Coronavirus : Le port de masque peu respecté d...</td>\n",
       "      <td>Les gestes barrières largement diffusés, afin ...</td>\n",
       "      <td>2020-03-25T00:33:48</td>\n",
       "      <td>Togo</td>\n",
       "      <td>SAVOIRNEWS1</td>\n",
       "      <td>#Covid19TG\\nCertaines d’entre elles avaient le...</td>\n",
       "    </tr>\n",
       "    <tr>\n",
       "      <th>31</th>\n",
       "      <td>Coronavirus au Togo: 20 cas, le SYNPHOT offre ...</td>\n",
       "      <td>Le Syndicat national des praticiens hospitalie...</td>\n",
       "      <td>2020-03-24T13:16:54</td>\n",
       "      <td>Togo</td>\n",
       "      <td>SAVOIRNEWS1</td>\n",
       "      <td>Contre le #Covid19 Le Syndicat national des pr...</td>\n",
       "    </tr>\n",
       "    <tr>\n",
       "      <th>32</th>\n",
       "      <td>Le célèbre saxophoniste Manu Dibango est mort ...</td>\n",
       "      <td>Manu Dibango, saxophoniste camerounais et lége...</td>\n",
       "      <td>2020-03-24T10:45:16</td>\n",
       "      <td>Togo</td>\n",
       "      <td>SAVOIRNEWS1</td>\n",
       "      <td>Manu Dibango, saxophoniste camerounais et lége...</td>\n",
       "    </tr>\n",
       "    <tr>\n",
       "      <th>36</th>\n",
       "      <td>Présidentielle au Togo: Faure Gnassingbé réélu...</td>\n",
       "      <td>Faure Essozimna Gnassingbé a été réélu avec 72...</td>\n",
       "      <td>2020-02-24T02:52:34</td>\n",
       "      <td>Togo</td>\n",
       "      <td>SAVOIRNEWS1</td>\n",
       "      <td>Faure Essozimna Gnassingbé a été réélu avec 72...</td>\n",
       "    </tr>\n",
       "    <tr>\n",
       "      <th>37</th>\n",
       "      <td>Présidentielle : Pouvoir et opposition revendi...</td>\n",
       "      <td>Le parti au pouvoir et le candidat Agbéyomé Ko...</td>\n",
       "      <td>2020-02-23T20:53:05</td>\n",
       "      <td>Togo</td>\n",
       "      <td>SAVOIRNEWS1</td>\n",
       "      <td>Le parti au pouvoir et le candidat Agbéyomé Ko...</td>\n",
       "    </tr>\n",
       "    <tr>\n",
       "      <th>38</th>\n",
       "      <td>Présidentielle au Togo: \"Une avance irrattrapa...</td>\n",
       "      <td>Le président Faure Gnassingbé a enregistré une...</td>\n",
       "      <td>2020-02-23T20:49:31</td>\n",
       "      <td>Togo</td>\n",
       "      <td>SAVOIRNEWS1</td>\n",
       "      <td>http://www.savoirnews.net/presidentielle-au-to...</td>\n",
       "    </tr>\n",
       "    <tr>\n",
       "      <th>39</th>\n",
       "      <td>Présidentielle : Le gouvernement dénonce le co...</td>\n",
       "      <td>Le gouvernement a dénoncé ce samedi, le compor...</td>\n",
       "      <td>2020-02-23T19:53:43</td>\n",
       "      <td>Togo</td>\n",
       "      <td>SAVOIRNEWS1</td>\n",
       "      <td>Le gouvernement a dénoncé ce samedi, le compor...</td>\n",
       "    </tr>\n",
       "    <tr>\n",
       "      <th>40</th>\n",
       "      <td>Présidentielle au Togo: Le président de la Cén...</td>\n",
       "      <td>Tchambakou Ayassor, président de la Commission...</td>\n",
       "      <td>2020-02-22T20:42:53</td>\n",
       "      <td>Togo</td>\n",
       "      <td>SAVOIRNEWS1</td>\n",
       "      <td>Plus de 3,6 millions de Togolais étaient appel...</td>\n",
       "    </tr>\n",
       "  </tbody>\n",
       "</table>\n",
       "</div>"
      ],
      "text/plain": [
       "                                                title  \\\n",
       "0   Togo/Coronavirus : Six nouveaux cas ce lundi d...   \n",
       "2   Coronavirus: Les Évêques du Togo dictent des d...   \n",
       "3         LA PREMIERE AGENCE DE PRESSE PRIVEE AU TOGO   \n",
       "6   Changements climatiques en Afrique : Réunies à...   \n",
       "8   Social/Pour la continuité du travail : Pas de ...   \n",
       "10  Coronavirus : Des mesures pour des \"réponses e...   \n",
       "11  Coronavirus: Le Bénin n'a pas les \"moyens\" de ...   \n",
       "12   Coronavirus: Le premier décès au Togo (officiel)   \n",
       "16  Covid-19/Crise économique : Les médias privés ...   \n",
       "17  Togo/Coronavirus: 40 cas avec 3 morts, Lomé s’...   \n",
       "20  Faure Gnassingbé : \"La victoire dans la lutte ...   \n",
       "21  Coronavirus : Les médias, deuxième force au \"f...   \n",
       "22                            Vatican News on Twitter   \n",
       "23  Covid-19/crise éco : Le président de l’UPF pla...   \n",
       "24  #Covid19TG : \"Adoptons les gestes barrières\" b...   \n",
       "30  Coronavirus : Le port de masque peu respecté d...   \n",
       "31  Coronavirus au Togo: 20 cas, le SYNPHOT offre ...   \n",
       "32  Le célèbre saxophoniste Manu Dibango est mort ...   \n",
       "36  Présidentielle au Togo: Faure Gnassingbé réélu...   \n",
       "37  Présidentielle : Pouvoir et opposition revendi...   \n",
       "38  Présidentielle au Togo: \"Une avance irrattrapa...   \n",
       "39  Présidentielle : Le gouvernement dénonce le co...   \n",
       "40  Présidentielle au Togo: Le président de la Cén...   \n",
       "\n",
       "                                                 text                 Date  \\\n",
       "0   Six nouveaux cas confirmés au coronavirus dont...  2020-04-06T23:34:57   \n",
       "2   Les Évêques du Togo ont annoncé lundi, une sér...  2020-03-17T16:53:44   \n",
       "3   Faure Gnassingbé : « La victoire dans la lutte...  2020-03-15T13:51:10   \n",
       "6   Plus de 300 journalistes africaines « Les Pana...  2020-03-07T07:30:42   \n",
       "8   Gilbert Bawara (ministre de la fonction publiq...  2020-03-31T15:52:36   \n",
       "10  Le Togo a déjà enregistré 30 cas dont un décès...  2020-03-29T22:05:35   \n",
       "11  Le Bénin ne dispose pas des « moyens des pays ...  2020-03-29T22:02:30   \n",
       "12  Le Togo a enregistré vendredi, son premier déc...  2020-03-28T13:00:25   \n",
       "16  Activités totalement au ralenti, absence d’ann...  2020-04-04T19:13:29   \n",
       "17  Le Togo a enregistré ce vendredi, son 3ème déc...  2020-04-03T18:25:21   \n",
       "20  Le monde entier est secoué par le nouveau coro...  2020-04-13T20:01:59   \n",
       "21  Toutes les grandes émissions et colonnes des j...  2020-04-13T19:26:06   \n",
       "22  Follow Follow @ vaticannews_fr Following Follo...  2020-04-10T23:44:24   \n",
       "23  Madiambal Diagne, président de l’Union interna...  2020-04-10T08:28:58   \n",
       "24                                                     2020-04-10T01:41:19   \n",
       "30  Les gestes barrières largement diffusés, afin ...  2020-03-25T00:33:48   \n",
       "31  Le Syndicat national des praticiens hospitalie...  2020-03-24T13:16:54   \n",
       "32  Manu Dibango, saxophoniste camerounais et lége...  2020-03-24T10:45:16   \n",
       "36  Faure Essozimna Gnassingbé a été réélu avec 72...  2020-02-24T02:52:34   \n",
       "37  Le parti au pouvoir et le candidat Agbéyomé Ko...  2020-02-23T20:53:05   \n",
       "38  Le président Faure Gnassingbé a enregistré une...  2020-02-23T20:49:31   \n",
       "39  Le gouvernement a dénoncé ce samedi, le compor...  2020-02-23T19:53:43   \n",
       "40  Tchambakou Ayassor, président de la Commission...  2020-02-22T20:42:53   \n",
       "\n",
       "   country       source                                              tweet  \n",
       "0     Togo  SAVOIRNEWS1  *Six nouveaux cas confirmés au coronavirus don...  \n",
       "2     Togo  SAVOIRNEWS1  Pandémie de coronavirus :\\nLes Évêques du #Tog...  \n",
       "3     Togo  SAVOIRNEWS1  Le nouveau coronavirus a fait au moins 5.402 m...  \n",
       "6     Togo  SAVOIRNEWS1  Urgence climatique : Les journalistes panafric...  \n",
       "8     Togo  SAVOIRNEWS1  Gilbert Bawara (ministre de la fonction publiq...  \n",
       "10    Togo  SAVOIRNEWS1  Le gouvernement entend apporter de nouvelles m...  \n",
       "11    Togo  SAVOIRNEWS1  Le Bénin ne dispose pas des « moyens des pays ...  \n",
       "12    Togo  SAVOIRNEWS1  #Covid19TGhttp://www.savoirnews.net/coronaviru...  \n",
       "16    Togo  SAVOIRNEWS1  Activités totalement au ralenti, absence d’ann...  \n",
       "17    Togo  SAVOIRNEWS1  Le Togo a enregistré ce vendredi, son 3ème déc...  \n",
       "20    Togo  SAVOIRNEWS1  \"La victoire dans la lutte contre Covid-19 ser...  \n",
       "21    Togo  SAVOIRNEWS1  A longueur de journée, ces hommes et femmes de...  \n",
       "22    Togo  SAVOIRNEWS1  Émouvant...https://twitter.com/vaticannews_fr/...  \n",
       "23    Togo  SAVOIRNEWS1  \"Cette crise profonde risque de voir purement ...  \n",
       "24    Togo  SAVOIRNEWS1  Avez-vous écouté \"#Covid19TG : \"Adoptons les g...  \n",
       "30    Togo  SAVOIRNEWS1  #Covid19TG\\nCertaines d’entre elles avaient le...  \n",
       "31    Togo  SAVOIRNEWS1  Contre le #Covid19 Le Syndicat national des pr...  \n",
       "32    Togo  SAVOIRNEWS1  Manu Dibango, saxophoniste camerounais et lége...  \n",
       "36    Togo  SAVOIRNEWS1  Faure Essozimna Gnassingbé a été réélu avec 72...  \n",
       "37    Togo  SAVOIRNEWS1  Le parti au pouvoir et le candidat Agbéyomé Ko...  \n",
       "38    Togo  SAVOIRNEWS1  http://www.savoirnews.net/presidentielle-au-to...  \n",
       "39    Togo  SAVOIRNEWS1  Le gouvernement a dénoncé ce samedi, le compor...  \n",
       "40    Togo  SAVOIRNEWS1  Plus de 3,6 millions de Togolais étaient appel...  "
      ]
     },
     "execution_count": 4,
     "metadata": {},
     "output_type": "execute_result"
    }
   ],
   "source": [
    "#Basic cleaning of the dataframe\n",
    "clean_df = df.drop('id', axis=1).drop_duplicates(keep='first')\n",
    "clean_df = clean_df[~clean_df['Date'].isna()]\n",
    "clean_df"
   ]
  },
  {
   "cell_type": "code",
   "execution_count": 5,
   "metadata": {},
   "outputs": [
    {
     "name": "stdout",
     "output_type": "stream",
     "text": [
      "Empty text for 14, use tweet instead\n"
     ]
    }
   ],
   "source": [
    "#id_ = ['Congo_ICIBrazza_' + str(i) for i in range(len(clean_df))]\n",
    "#index = list(range(len(clean_df)))\n",
    "def clean_index_text(df):\n",
    "    \"\"\"\n",
    "    Clean up the id part and replace empty \n",
    "    articles by tweets.\n",
    "    \"\"\"\n",
    "    id_name = \"{}_{}_\".format(df.iloc[0].country, df.iloc[0].source)\n",
    "    id_ = [id_name + str(i) for i in range(len(df))]\n",
    "    df['id'] = id_\n",
    "    for i in range(len(df)):\n",
    "        if df.iloc[i].text == '':\n",
    "            print(f'Empty text for {i}, use tweet instead')\n",
    "            df.loc[i,'text'] = df.iloc[i]['tweet']\n",
    "    return df\n",
    "\n",
    "clean_df = clean_index_text(clean_df)\n",
    "#clean_df = clean_df[~clean_df['Date'].isna()]\n",
    "#clean_df.iloc[8].text.replace('#', '')\n",
    "#clean_df.iloc[7]\n"
   ]
  },
  {
   "cell_type": "code",
   "execution_count": 6,
   "metadata": {},
   "outputs": [
    {
     "data": {
      "text/html": [
       "<div>\n",
       "<style scoped>\n",
       "    .dataframe tbody tr th:only-of-type {\n",
       "        vertical-align: middle;\n",
       "    }\n",
       "\n",
       "    .dataframe tbody tr th {\n",
       "        vertical-align: top;\n",
       "    }\n",
       "\n",
       "    .dataframe thead th {\n",
       "        text-align: right;\n",
       "    }\n",
       "</style>\n",
       "<table border=\"1\" class=\"dataframe\">\n",
       "  <thead>\n",
       "    <tr style=\"text-align: right;\">\n",
       "      <th></th>\n",
       "      <th>title</th>\n",
       "      <th>text</th>\n",
       "      <th>Date</th>\n",
       "      <th>country</th>\n",
       "      <th>source</th>\n",
       "      <th>tweet</th>\n",
       "      <th>id</th>\n",
       "    </tr>\n",
       "  </thead>\n",
       "  <tbody>\n",
       "    <tr>\n",
       "      <th>36</th>\n",
       "      <td>Présidentielle au Togo: Faure Gnassingbé réélu...</td>\n",
       "      <td>Faure Essozimna Gnassingbé a été réélu avec 72...</td>\n",
       "      <td>2020-02-24T02:52:34</td>\n",
       "      <td>Togo</td>\n",
       "      <td>SAVOIRNEWS1</td>\n",
       "      <td>Faure Essozimna Gnassingbé a été réélu avec 72...</td>\n",
       "      <td>Togo_SAVOIRNEWS1_18</td>\n",
       "    </tr>\n",
       "    <tr>\n",
       "      <th>37</th>\n",
       "      <td>Présidentielle : Pouvoir et opposition revendi...</td>\n",
       "      <td>Le parti au pouvoir et le candidat Agbéyomé Ko...</td>\n",
       "      <td>2020-02-23T20:53:05</td>\n",
       "      <td>Togo</td>\n",
       "      <td>SAVOIRNEWS1</td>\n",
       "      <td>Le parti au pouvoir et le candidat Agbéyomé Ko...</td>\n",
       "      <td>Togo_SAVOIRNEWS1_19</td>\n",
       "    </tr>\n",
       "    <tr>\n",
       "      <th>38</th>\n",
       "      <td>Présidentielle au Togo: \"Une avance irrattrapa...</td>\n",
       "      <td>Le président Faure Gnassingbé a enregistré une...</td>\n",
       "      <td>2020-02-23T20:49:31</td>\n",
       "      <td>Togo</td>\n",
       "      <td>SAVOIRNEWS1</td>\n",
       "      <td>http://www.savoirnews.net/presidentielle-au-to...</td>\n",
       "      <td>Togo_SAVOIRNEWS1_20</td>\n",
       "    </tr>\n",
       "    <tr>\n",
       "      <th>39</th>\n",
       "      <td>Présidentielle : Le gouvernement dénonce le co...</td>\n",
       "      <td>Le gouvernement a dénoncé ce samedi, le compor...</td>\n",
       "      <td>2020-02-23T19:53:43</td>\n",
       "      <td>Togo</td>\n",
       "      <td>SAVOIRNEWS1</td>\n",
       "      <td>Le gouvernement a dénoncé ce samedi, le compor...</td>\n",
       "      <td>Togo_SAVOIRNEWS1_21</td>\n",
       "    </tr>\n",
       "    <tr>\n",
       "      <th>40</th>\n",
       "      <td>Présidentielle au Togo: Le président de la Cén...</td>\n",
       "      <td>Tchambakou Ayassor, président de la Commission...</td>\n",
       "      <td>2020-02-22T20:42:53</td>\n",
       "      <td>Togo</td>\n",
       "      <td>SAVOIRNEWS1</td>\n",
       "      <td>Plus de 3,6 millions de Togolais étaient appel...</td>\n",
       "      <td>Togo_SAVOIRNEWS1_22</td>\n",
       "    </tr>\n",
       "  </tbody>\n",
       "</table>\n",
       "</div>"
      ],
      "text/plain": [
       "                                                title  \\\n",
       "36  Présidentielle au Togo: Faure Gnassingbé réélu...   \n",
       "37  Présidentielle : Pouvoir et opposition revendi...   \n",
       "38  Présidentielle au Togo: \"Une avance irrattrapa...   \n",
       "39  Présidentielle : Le gouvernement dénonce le co...   \n",
       "40  Présidentielle au Togo: Le président de la Cén...   \n",
       "\n",
       "                                                 text                 Date  \\\n",
       "36  Faure Essozimna Gnassingbé a été réélu avec 72...  2020-02-24T02:52:34   \n",
       "37  Le parti au pouvoir et le candidat Agbéyomé Ko...  2020-02-23T20:53:05   \n",
       "38  Le président Faure Gnassingbé a enregistré une...  2020-02-23T20:49:31   \n",
       "39  Le gouvernement a dénoncé ce samedi, le compor...  2020-02-23T19:53:43   \n",
       "40  Tchambakou Ayassor, président de la Commission...  2020-02-22T20:42:53   \n",
       "\n",
       "   country       source                                              tweet  \\\n",
       "36    Togo  SAVOIRNEWS1  Faure Essozimna Gnassingbé a été réélu avec 72...   \n",
       "37    Togo  SAVOIRNEWS1  Le parti au pouvoir et le candidat Agbéyomé Ko...   \n",
       "38    Togo  SAVOIRNEWS1  http://www.savoirnews.net/presidentielle-au-to...   \n",
       "39    Togo  SAVOIRNEWS1  Le gouvernement a dénoncé ce samedi, le compor...   \n",
       "40    Togo  SAVOIRNEWS1  Plus de 3,6 millions de Togolais étaient appel...   \n",
       "\n",
       "                     id  \n",
       "36  Togo_SAVOIRNEWS1_18  \n",
       "37  Togo_SAVOIRNEWS1_19  \n",
       "38  Togo_SAVOIRNEWS1_20  \n",
       "39  Togo_SAVOIRNEWS1_21  \n",
       "40  Togo_SAVOIRNEWS1_22  "
      ]
     },
     "execution_count": 6,
     "metadata": {},
     "output_type": "execute_result"
    }
   ],
   "source": [
    "#Original text (We have some \\n, and potential other codes)\n",
    "clean_df = clean_df[~clean_df['Date'].isna()]\n",
    "clean_df.tail()"
   ]
  },
  {
   "cell_type": "markdown",
   "metadata": {},
   "source": [
    "# Text and Topic Analysis\n",
    "    - Cleaning up our data (frames) is now done and we can start analyzing the text itself.\n",
    "    - First, we will manually clean the text with some relatively simple functions\n",
    "    - Second, we will use Spacy package that is commonly used in industrisal context (for Language Processing purposes).\n",
    "    - See intro to Spacy: https://spacy.io/usage/spacy-101"
   ]
  },
  {
   "cell_type": "code",
   "execution_count": 53,
   "metadata": {},
   "outputs": [
    {
     "name": "stdout",
     "output_type": "stream",
     "text": [
      "Collecting fr_core_news_md==2.1.0\n",
      "\u001b[?25l  Downloading https://github.com/explosion/spacy-models/releases/download/fr_core_news_md-2.1.0/fr_core_news_md-2.1.0.tar.gz (85.7MB)\n",
      "\u001b[K     |████████████████████████████████| 85.7MB 4.9MB/s eta 0:00:01    |                                | 92kB 1.6MB/s eta 0:00:54     |███████▌                        | 20.2MB 3.4MB/s eta 0:00:20     |████████▊                       | 23.4MB 6.3MB/s eta 0:00:10     |██████████▊                     | 28.6MB 2.2MB/s eta 0:00:27     |████████████▌                   | 33.4MB 4.3MB/s eta 0:00:13     |█████████████▋                  | 36.4MB 5.1MB/s eta 0:00:10     |████████████████▍               | 43.8MB 8.2MB/s eta 0:00:06     |██████████████████              | 48.1MB 2.0MB/s eta 0:00:19     |████████████████████████▊       | 66.3MB 290kB/s eta 0:01:07     |█████████████████████████▍      | 68.0MB 2.2MB/s eta 0:00:08     |███████████████████████████▎    | 73.1MB 1.5MB/s eta 0:00:09\n",
      "\u001b[?25hBuilding wheels for collected packages: fr-core-news-md\n",
      "  Building wheel for fr-core-news-md (setup.py) ... \u001b[?25ldone\n",
      "\u001b[?25h  Created wheel for fr-core-news-md: filename=fr_core_news_md-2.1.0-cp37-none-any.whl size=87463874 sha256=22db44441a10f45135e62d4c910853cc5255fe75d92a153b6111d823125b03c4\n",
      "  Stored in directory: /private/var/folders/gt/25j8ndxj1c52vv_v5bv0b_n80000gn/T/pip-ephem-wheel-cache-nl0l8oan/wheels/7e/91/64/f61e597321455d6e42a76abac5736d919a265c31be451cc1ba\n",
      "Successfully built fr-core-news-md\n",
      "Installing collected packages: fr-core-news-md\n",
      "Successfully installed fr-core-news-md-2.1.0\n",
      "\u001b[33mWARNING: You are using pip version 19.3.1; however, version 20.0.2 is available.\n",
      "You should consider upgrading via the 'pip install --upgrade pip' command.\u001b[0m\n",
      "\u001b[38;5;2m✔ Download and installation successful\u001b[0m\n",
      "You can now load the model via spacy.load('fr_core_news_md')\n"
     ]
    }
   ],
   "source": [
    "#Download spacy french vocabulary \n",
    "!python -m spacy download fr_core_news_md\n",
    "#They also have multi-lingual stuff--> Can be interesting if we want to apply the method to other types of text"
   ]
  },
  {
   "cell_type": "code",
   "execution_count": 7,
   "metadata": {},
   "outputs": [],
   "source": [
    "try:\n",
    "    spacy.load('fr_core_news_md')\n",
    "except Exception as e:\n",
    "    print(e)\n",
    "import fr_core_news_md\n",
    "nlp = fr_core_news_md.load()"
   ]
  },
  {
   "cell_type": "code",
   "execution_count": 102,
   "metadata": {},
   "outputs": [],
   "source": [
    "#nlp(clean_df.iloc[-2].text.replace(u'\\xa0', u'').replace('#', '').replace(\"  \", \" \").replace(\"  \", \" \"))"
   ]
  },
  {
   "cell_type": "code",
   "execution_count": 8,
   "metadata": {},
   "outputs": [
    {
     "name": "stdout",
     "output_type": "stream",
     "text": [
      "Named Entities found in the last of our articles\n"
     ]
    },
    {
     "data": {
      "text/plain": [
       "Counter({'Madiambal Diagne': 2,\n",
       "         'Union internationale de la Presse francophone': 1,\n",
       "         'UPF': 4,\n",
       "         'Etat togolais': 1,\n",
       "         'Faure Gnassingbé': 1,\n",
       "         'Covid-19': 2,\n",
       "         'M.Diagne': 2,\n",
       "         'Etats': 1,\n",
       "         'Organisation internationale de la francophonie': 1,\n",
       "         'Oif': 1,\n",
       "         'ONU': 1,\n",
       "         'UNESCO': 1,\n",
       "         'ACCT': 1,\n",
       "         'OIF': 1,\n",
       "         'Sénégal': 1,\n",
       "         'Edem Etonam EKUE': 1})"
      ]
     },
     "execution_count": 8,
     "metadata": {},
     "output_type": "execute_result"
    }
   ],
   "source": [
    "def clean_text(text_):\n",
    "    \"\"\"\n",
    "    Function to remove line break, double spaces...\n",
    "    \"\"\"\n",
    "    text_ = text_.rstrip() \n",
    "    text_ = text_.replace(u'\\xa0', u'') #Latin normalization\n",
    "    text_ = text_.replace('\\n', ' ')\n",
    "    text_ = text_.replace('#', '')\n",
    "    text_ = text_.replace(\"  \", \" \")\n",
    "    \n",
    "    text_ = text_.replace('[^\\w\\s]','')\n",
    "    #lower_ = lambda x: \" \".join(x.lower() for x in x.split())\n",
    "    #text = lower_(text)\n",
    "    doc = nlp(text_)\n",
    "    return doc\n",
    "\n",
    "Text = clean_df.iloc[-10].text\n",
    "doc = clean_text(Text)\n",
    "print('Named Entities found in the last of our articles')\n",
    "from collections import Counter\n",
    "count = Counter()\n",
    "count.update(map(lambda x : x.text, doc.ents))\n",
    "count"
   ]
  },
  {
   "cell_type": "markdown",
   "metadata": {},
   "source": [
    "# We will follow up with an analysis of the certain key words with respect to time "
   ]
  },
  {
   "cell_type": "code",
   "execution_count": 9,
   "metadata": {},
   "outputs": [
    {
     "data": {
      "text/plain": [
       "['Corona',\n",
       " 'Covid19',\n",
       " 'Covid',\n",
       " 'Covid-19',\n",
       " 'Virus',\n",
       " 'Pandémie',\n",
       " 'Maladie',\n",
       " 'Coronavirus',\n",
       " 'corona',\n",
       " 'covid19',\n",
       " 'covid',\n",
       " 'covid-19',\n",
       " 'virus',\n",
       " 'pandémie',\n",
       " 'maladie',\n",
       " 'coronavirus']"
      ]
     },
     "execution_count": 9,
     "metadata": {},
     "output_type": "execute_result"
    }
   ],
   "source": [
    "key_words = ['Corona', 'Covid19', 'Covid', 'Covid-19', 'Virus', 'Pandémie', 'Maladie', 'Coronavirus']\n",
    "low_key_words = map(lambda x: x.lower(), key_words)\n",
    "key_words.extend(list(low_key_words))\n",
    "key_words"
   ]
  },
  {
   "cell_type": "code",
   "execution_count": 10,
   "metadata": {},
   "outputs": [],
   "source": [
    "import datetime\n",
    "import seaborn as sns \n",
    "sns.set_style(\"whitegrid\")\n",
    "\n",
    "def clean_date(date_str):\n",
    "    \"\"\"\n",
    "    Modify the date into a timestamp format\n",
    "    \"\"\"\n",
    "    dmy, hms = date_str.split('T')\n",
    "    dmy = \"/\".join(dmy.split('-')[::-1])\n",
    "    element = datetime.datetime.strptime(dmy,\n",
    "                                         \"%d/%m/%Y\") \n",
    "    return element\n",
    "    \n",
    "#clean_df['Date'] = clean_df['Date'].apply(clean_date)\n"
   ]
  },
  {
   "cell_type": "code",
   "execution_count": 11,
   "metadata": {},
   "outputs": [
    {
     "data": {
      "text/html": [
       "<div>\n",
       "<style scoped>\n",
       "    .dataframe tbody tr th:only-of-type {\n",
       "        vertical-align: middle;\n",
       "    }\n",
       "\n",
       "    .dataframe tbody tr th {\n",
       "        vertical-align: top;\n",
       "    }\n",
       "\n",
       "    .dataframe thead th {\n",
       "        text-align: right;\n",
       "    }\n",
       "</style>\n",
       "<table border=\"1\" class=\"dataframe\">\n",
       "  <thead>\n",
       "    <tr style=\"text-align: right;\">\n",
       "      <th></th>\n",
       "      <th>title</th>\n",
       "      <th>text</th>\n",
       "      <th>Date</th>\n",
       "      <th>country</th>\n",
       "      <th>source</th>\n",
       "      <th>tweet</th>\n",
       "      <th>id</th>\n",
       "    </tr>\n",
       "  </thead>\n",
       "  <tbody>\n",
       "    <tr>\n",
       "      <th>0</th>\n",
       "      <td>Présidentielle au Togo: Le président de la Cén...</td>\n",
       "      <td>Tchambakou Ayassor, président de la Commission...</td>\n",
       "      <td>2020-02-22T20:42:53</td>\n",
       "      <td>Togo</td>\n",
       "      <td>SAVOIRNEWS1</td>\n",
       "      <td>Plus de 3,6 millions de Togolais étaient appel...</td>\n",
       "      <td>Togo_SAVOIRNEWS1_22</td>\n",
       "    </tr>\n",
       "    <tr>\n",
       "      <th>1</th>\n",
       "      <td>Présidentielle : Le gouvernement dénonce le co...</td>\n",
       "      <td>Le gouvernement a dénoncé ce samedi, le compor...</td>\n",
       "      <td>2020-02-23T19:53:43</td>\n",
       "      <td>Togo</td>\n",
       "      <td>SAVOIRNEWS1</td>\n",
       "      <td>Le gouvernement a dénoncé ce samedi, le compor...</td>\n",
       "      <td>Togo_SAVOIRNEWS1_21</td>\n",
       "    </tr>\n",
       "    <tr>\n",
       "      <th>2</th>\n",
       "      <td>Présidentielle au Togo: \"Une avance irrattrapa...</td>\n",
       "      <td>Le président Faure Gnassingbé a enregistré une...</td>\n",
       "      <td>2020-02-23T20:49:31</td>\n",
       "      <td>Togo</td>\n",
       "      <td>SAVOIRNEWS1</td>\n",
       "      <td>http://www.savoirnews.net/presidentielle-au-to...</td>\n",
       "      <td>Togo_SAVOIRNEWS1_20</td>\n",
       "    </tr>\n",
       "    <tr>\n",
       "      <th>3</th>\n",
       "      <td>Présidentielle : Pouvoir et opposition revendi...</td>\n",
       "      <td>Le parti au pouvoir et le candidat Agbéyomé Ko...</td>\n",
       "      <td>2020-02-23T20:53:05</td>\n",
       "      <td>Togo</td>\n",
       "      <td>SAVOIRNEWS1</td>\n",
       "      <td>Le parti au pouvoir et le candidat Agbéyomé Ko...</td>\n",
       "      <td>Togo_SAVOIRNEWS1_19</td>\n",
       "    </tr>\n",
       "    <tr>\n",
       "      <th>4</th>\n",
       "      <td>Présidentielle au Togo: Faure Gnassingbé réélu...</td>\n",
       "      <td>Faure Essozimna Gnassingbé a été réélu avec 72...</td>\n",
       "      <td>2020-02-24T02:52:34</td>\n",
       "      <td>Togo</td>\n",
       "      <td>SAVOIRNEWS1</td>\n",
       "      <td>Faure Essozimna Gnassingbé a été réélu avec 72...</td>\n",
       "      <td>Togo_SAVOIRNEWS1_18</td>\n",
       "    </tr>\n",
       "    <tr>\n",
       "      <th>5</th>\n",
       "      <td>Changements climatiques en Afrique : Réunies à...</td>\n",
       "      <td>Plus de 300 journalistes africaines « Les Pana...</td>\n",
       "      <td>2020-03-07T07:30:42</td>\n",
       "      <td>Togo</td>\n",
       "      <td>SAVOIRNEWS1</td>\n",
       "      <td>Urgence climatique : Les journalistes panafric...</td>\n",
       "      <td>Togo_SAVOIRNEWS1_3</td>\n",
       "    </tr>\n",
       "    <tr>\n",
       "      <th>6</th>\n",
       "      <td>LA PREMIERE AGENCE DE PRESSE PRIVEE AU TOGO</td>\n",
       "      <td>Faure Gnassingbé : « La victoire dans la lutte...</td>\n",
       "      <td>2020-03-15T13:51:10</td>\n",
       "      <td>Togo</td>\n",
       "      <td>SAVOIRNEWS1</td>\n",
       "      <td>Le nouveau coronavirus a fait au moins 5.402 m...</td>\n",
       "      <td>Togo_SAVOIRNEWS1_2</td>\n",
       "    </tr>\n",
       "    <tr>\n",
       "      <th>7</th>\n",
       "      <td>Coronavirus: Les Évêques du Togo dictent des d...</td>\n",
       "      <td>Les Évêques du Togo ont annoncé lundi, une sér...</td>\n",
       "      <td>2020-03-17T16:53:44</td>\n",
       "      <td>Togo</td>\n",
       "      <td>SAVOIRNEWS1</td>\n",
       "      <td>Pandémie de coronavirus :\\nLes Évêques du #Tog...</td>\n",
       "      <td>Togo_SAVOIRNEWS1_1</td>\n",
       "    </tr>\n",
       "    <tr>\n",
       "      <th>8</th>\n",
       "      <td>Le célèbre saxophoniste Manu Dibango est mort ...</td>\n",
       "      <td>Manu Dibango, saxophoniste camerounais et lége...</td>\n",
       "      <td>2020-03-24T10:45:16</td>\n",
       "      <td>Togo</td>\n",
       "      <td>SAVOIRNEWS1</td>\n",
       "      <td>Manu Dibango, saxophoniste camerounais et lége...</td>\n",
       "      <td>Togo_SAVOIRNEWS1_17</td>\n",
       "    </tr>\n",
       "    <tr>\n",
       "      <th>9</th>\n",
       "      <td>Coronavirus au Togo: 20 cas, le SYNPHOT offre ...</td>\n",
       "      <td>Le Syndicat national des praticiens hospitalie...</td>\n",
       "      <td>2020-03-24T13:16:54</td>\n",
       "      <td>Togo</td>\n",
       "      <td>SAVOIRNEWS1</td>\n",
       "      <td>Contre le #Covid19 Le Syndicat national des pr...</td>\n",
       "      <td>Togo_SAVOIRNEWS1_16</td>\n",
       "    </tr>\n",
       "    <tr>\n",
       "      <th>10</th>\n",
       "      <td>Coronavirus : Le port de masque peu respecté d...</td>\n",
       "      <td>Les gestes barrières largement diffusés, afin ...</td>\n",
       "      <td>2020-03-25T00:33:48</td>\n",
       "      <td>Togo</td>\n",
       "      <td>SAVOIRNEWS1</td>\n",
       "      <td>#Covid19TG\\nCertaines d’entre elles avaient le...</td>\n",
       "      <td>Togo_SAVOIRNEWS1_15</td>\n",
       "    </tr>\n",
       "    <tr>\n",
       "      <th>11</th>\n",
       "      <td>Coronavirus: Le premier décès au Togo (officiel)</td>\n",
       "      <td>Le Togo a enregistré vendredi, son premier déc...</td>\n",
       "      <td>2020-03-28T13:00:25</td>\n",
       "      <td>Togo</td>\n",
       "      <td>SAVOIRNEWS1</td>\n",
       "      <td>#Covid19TGhttp://www.savoirnews.net/coronaviru...</td>\n",
       "      <td>Togo_SAVOIRNEWS1_7</td>\n",
       "    </tr>\n",
       "    <tr>\n",
       "      <th>12</th>\n",
       "      <td>Coronavirus: Le Bénin n'a pas les \"moyens\" de ...</td>\n",
       "      <td>Le Bénin ne dispose pas des « moyens des pays ...</td>\n",
       "      <td>2020-03-29T22:02:30</td>\n",
       "      <td>Togo</td>\n",
       "      <td>SAVOIRNEWS1</td>\n",
       "      <td>Le Bénin ne dispose pas des « moyens des pays ...</td>\n",
       "      <td>Togo_SAVOIRNEWS1_6</td>\n",
       "    </tr>\n",
       "    <tr>\n",
       "      <th>13</th>\n",
       "      <td>Coronavirus : Des mesures pour des \"réponses e...</td>\n",
       "      <td>Le Togo a déjà enregistré 30 cas dont un décès...</td>\n",
       "      <td>2020-03-29T22:05:35</td>\n",
       "      <td>Togo</td>\n",
       "      <td>SAVOIRNEWS1</td>\n",
       "      <td>Le gouvernement entend apporter de nouvelles m...</td>\n",
       "      <td>Togo_SAVOIRNEWS1_5</td>\n",
       "    </tr>\n",
       "    <tr>\n",
       "      <th>14</th>\n",
       "      <td>Social/Pour la continuité du travail : Pas de ...</td>\n",
       "      <td>Gilbert Bawara (ministre de la fonction publiq...</td>\n",
       "      <td>2020-03-31T15:52:36</td>\n",
       "      <td>Togo</td>\n",
       "      <td>SAVOIRNEWS1</td>\n",
       "      <td>Gilbert Bawara (ministre de la fonction publiq...</td>\n",
       "      <td>Togo_SAVOIRNEWS1_4</td>\n",
       "    </tr>\n",
       "    <tr>\n",
       "      <th>15</th>\n",
       "      <td>Togo/Coronavirus: 40 cas avec 3 morts, Lomé s’...</td>\n",
       "      <td>Le Togo a enregistré ce vendredi, son 3ème déc...</td>\n",
       "      <td>2020-04-03T18:25:21</td>\n",
       "      <td>Togo</td>\n",
       "      <td>SAVOIRNEWS1</td>\n",
       "      <td>Le Togo a enregistré ce vendredi, son 3ème déc...</td>\n",
       "      <td>Togo_SAVOIRNEWS1_9</td>\n",
       "    </tr>\n",
       "    <tr>\n",
       "      <th>16</th>\n",
       "      <td>Covid-19/Crise économique : Les médias privés ...</td>\n",
       "      <td>Activités totalement au ralenti, absence d’ann...</td>\n",
       "      <td>2020-04-04T19:13:29</td>\n",
       "      <td>Togo</td>\n",
       "      <td>SAVOIRNEWS1</td>\n",
       "      <td>Activités totalement au ralenti, absence d’ann...</td>\n",
       "      <td>Togo_SAVOIRNEWS1_8</td>\n",
       "    </tr>\n",
       "    <tr>\n",
       "      <th>17</th>\n",
       "      <td>Togo/Coronavirus : Six nouveaux cas ce lundi d...</td>\n",
       "      <td>Six nouveaux cas confirmés au coronavirus dont...</td>\n",
       "      <td>2020-04-06T23:34:57</td>\n",
       "      <td>Togo</td>\n",
       "      <td>SAVOIRNEWS1</td>\n",
       "      <td>*Six nouveaux cas confirmés au coronavirus don...</td>\n",
       "      <td>Togo_SAVOIRNEWS1_0</td>\n",
       "    </tr>\n",
       "    <tr>\n",
       "      <th>18</th>\n",
       "      <td>#Covid19TG : \"Adoptons les gestes barrières\" b...</td>\n",
       "      <td></td>\n",
       "      <td>2020-04-10T01:41:19</td>\n",
       "      <td>Togo</td>\n",
       "      <td>SAVOIRNEWS1</td>\n",
       "      <td>Avez-vous écouté \"#Covid19TG : \"Adoptons les g...</td>\n",
       "      <td>Togo_SAVOIRNEWS1_14</td>\n",
       "    </tr>\n",
       "    <tr>\n",
       "      <th>19</th>\n",
       "      <td>Covid-19/crise éco : Le président de l’UPF pla...</td>\n",
       "      <td>Madiambal Diagne, président de l’Union interna...</td>\n",
       "      <td>2020-04-10T08:28:58</td>\n",
       "      <td>Togo</td>\n",
       "      <td>SAVOIRNEWS1</td>\n",
       "      <td>\"Cette crise profonde risque de voir purement ...</td>\n",
       "      <td>Togo_SAVOIRNEWS1_13</td>\n",
       "    </tr>\n",
       "    <tr>\n",
       "      <th>20</th>\n",
       "      <td>Vatican News on Twitter</td>\n",
       "      <td>Follow Follow @ vaticannews_fr Following Follo...</td>\n",
       "      <td>2020-04-10T23:44:24</td>\n",
       "      <td>Togo</td>\n",
       "      <td>SAVOIRNEWS1</td>\n",
       "      <td>Émouvant...https://twitter.com/vaticannews_fr/...</td>\n",
       "      <td>Togo_SAVOIRNEWS1_12</td>\n",
       "    </tr>\n",
       "    <tr>\n",
       "      <th>21</th>\n",
       "      <td>Coronavirus : Les médias, deuxième force au \"f...</td>\n",
       "      <td>Toutes les grandes émissions et colonnes des j...</td>\n",
       "      <td>2020-04-13T19:26:06</td>\n",
       "      <td>Togo</td>\n",
       "      <td>SAVOIRNEWS1</td>\n",
       "      <td>A longueur de journée, ces hommes et femmes de...</td>\n",
       "      <td>Togo_SAVOIRNEWS1_11</td>\n",
       "    </tr>\n",
       "    <tr>\n",
       "      <th>22</th>\n",
       "      <td>Faure Gnassingbé : \"La victoire dans la lutte ...</td>\n",
       "      <td>Le monde entier est secoué par le nouveau coro...</td>\n",
       "      <td>2020-04-13T20:01:59</td>\n",
       "      <td>Togo</td>\n",
       "      <td>SAVOIRNEWS1</td>\n",
       "      <td>\"La victoire dans la lutte contre Covid-19 ser...</td>\n",
       "      <td>Togo_SAVOIRNEWS1_10</td>\n",
       "    </tr>\n",
       "  </tbody>\n",
       "</table>\n",
       "</div>"
      ],
      "text/plain": [
       "                                                title  \\\n",
       "0   Présidentielle au Togo: Le président de la Cén...   \n",
       "1   Présidentielle : Le gouvernement dénonce le co...   \n",
       "2   Présidentielle au Togo: \"Une avance irrattrapa...   \n",
       "3   Présidentielle : Pouvoir et opposition revendi...   \n",
       "4   Présidentielle au Togo: Faure Gnassingbé réélu...   \n",
       "5   Changements climatiques en Afrique : Réunies à...   \n",
       "6         LA PREMIERE AGENCE DE PRESSE PRIVEE AU TOGO   \n",
       "7   Coronavirus: Les Évêques du Togo dictent des d...   \n",
       "8   Le célèbre saxophoniste Manu Dibango est mort ...   \n",
       "9   Coronavirus au Togo: 20 cas, le SYNPHOT offre ...   \n",
       "10  Coronavirus : Le port de masque peu respecté d...   \n",
       "11   Coronavirus: Le premier décès au Togo (officiel)   \n",
       "12  Coronavirus: Le Bénin n'a pas les \"moyens\" de ...   \n",
       "13  Coronavirus : Des mesures pour des \"réponses e...   \n",
       "14  Social/Pour la continuité du travail : Pas de ...   \n",
       "15  Togo/Coronavirus: 40 cas avec 3 morts, Lomé s’...   \n",
       "16  Covid-19/Crise économique : Les médias privés ...   \n",
       "17  Togo/Coronavirus : Six nouveaux cas ce lundi d...   \n",
       "18  #Covid19TG : \"Adoptons les gestes barrières\" b...   \n",
       "19  Covid-19/crise éco : Le président de l’UPF pla...   \n",
       "20                            Vatican News on Twitter   \n",
       "21  Coronavirus : Les médias, deuxième force au \"f...   \n",
       "22  Faure Gnassingbé : \"La victoire dans la lutte ...   \n",
       "\n",
       "                                                 text                 Date  \\\n",
       "0   Tchambakou Ayassor, président de la Commission...  2020-02-22T20:42:53   \n",
       "1   Le gouvernement a dénoncé ce samedi, le compor...  2020-02-23T19:53:43   \n",
       "2   Le président Faure Gnassingbé a enregistré une...  2020-02-23T20:49:31   \n",
       "3   Le parti au pouvoir et le candidat Agbéyomé Ko...  2020-02-23T20:53:05   \n",
       "4   Faure Essozimna Gnassingbé a été réélu avec 72...  2020-02-24T02:52:34   \n",
       "5   Plus de 300 journalistes africaines « Les Pana...  2020-03-07T07:30:42   \n",
       "6   Faure Gnassingbé : « La victoire dans la lutte...  2020-03-15T13:51:10   \n",
       "7   Les Évêques du Togo ont annoncé lundi, une sér...  2020-03-17T16:53:44   \n",
       "8   Manu Dibango, saxophoniste camerounais et lége...  2020-03-24T10:45:16   \n",
       "9   Le Syndicat national des praticiens hospitalie...  2020-03-24T13:16:54   \n",
       "10  Les gestes barrières largement diffusés, afin ...  2020-03-25T00:33:48   \n",
       "11  Le Togo a enregistré vendredi, son premier déc...  2020-03-28T13:00:25   \n",
       "12  Le Bénin ne dispose pas des « moyens des pays ...  2020-03-29T22:02:30   \n",
       "13  Le Togo a déjà enregistré 30 cas dont un décès...  2020-03-29T22:05:35   \n",
       "14  Gilbert Bawara (ministre de la fonction publiq...  2020-03-31T15:52:36   \n",
       "15  Le Togo a enregistré ce vendredi, son 3ème déc...  2020-04-03T18:25:21   \n",
       "16  Activités totalement au ralenti, absence d’ann...  2020-04-04T19:13:29   \n",
       "17  Six nouveaux cas confirmés au coronavirus dont...  2020-04-06T23:34:57   \n",
       "18                                                     2020-04-10T01:41:19   \n",
       "19  Madiambal Diagne, président de l’Union interna...  2020-04-10T08:28:58   \n",
       "20  Follow Follow @ vaticannews_fr Following Follo...  2020-04-10T23:44:24   \n",
       "21  Toutes les grandes émissions et colonnes des j...  2020-04-13T19:26:06   \n",
       "22  Le monde entier est secoué par le nouveau coro...  2020-04-13T20:01:59   \n",
       "\n",
       "   country       source                                              tweet  \\\n",
       "0     Togo  SAVOIRNEWS1  Plus de 3,6 millions de Togolais étaient appel...   \n",
       "1     Togo  SAVOIRNEWS1  Le gouvernement a dénoncé ce samedi, le compor...   \n",
       "2     Togo  SAVOIRNEWS1  http://www.savoirnews.net/presidentielle-au-to...   \n",
       "3     Togo  SAVOIRNEWS1  Le parti au pouvoir et le candidat Agbéyomé Ko...   \n",
       "4     Togo  SAVOIRNEWS1  Faure Essozimna Gnassingbé a été réélu avec 72...   \n",
       "5     Togo  SAVOIRNEWS1  Urgence climatique : Les journalistes panafric...   \n",
       "6     Togo  SAVOIRNEWS1  Le nouveau coronavirus a fait au moins 5.402 m...   \n",
       "7     Togo  SAVOIRNEWS1  Pandémie de coronavirus :\\nLes Évêques du #Tog...   \n",
       "8     Togo  SAVOIRNEWS1  Manu Dibango, saxophoniste camerounais et lége...   \n",
       "9     Togo  SAVOIRNEWS1  Contre le #Covid19 Le Syndicat national des pr...   \n",
       "10    Togo  SAVOIRNEWS1  #Covid19TG\\nCertaines d’entre elles avaient le...   \n",
       "11    Togo  SAVOIRNEWS1  #Covid19TGhttp://www.savoirnews.net/coronaviru...   \n",
       "12    Togo  SAVOIRNEWS1  Le Bénin ne dispose pas des « moyens des pays ...   \n",
       "13    Togo  SAVOIRNEWS1  Le gouvernement entend apporter de nouvelles m...   \n",
       "14    Togo  SAVOIRNEWS1  Gilbert Bawara (ministre de la fonction publiq...   \n",
       "15    Togo  SAVOIRNEWS1  Le Togo a enregistré ce vendredi, son 3ème déc...   \n",
       "16    Togo  SAVOIRNEWS1  Activités totalement au ralenti, absence d’ann...   \n",
       "17    Togo  SAVOIRNEWS1  *Six nouveaux cas confirmés au coronavirus don...   \n",
       "18    Togo  SAVOIRNEWS1  Avez-vous écouté \"#Covid19TG : \"Adoptons les g...   \n",
       "19    Togo  SAVOIRNEWS1  \"Cette crise profonde risque de voir purement ...   \n",
       "20    Togo  SAVOIRNEWS1  Émouvant...https://twitter.com/vaticannews_fr/...   \n",
       "21    Togo  SAVOIRNEWS1  A longueur de journée, ces hommes et femmes de...   \n",
       "22    Togo  SAVOIRNEWS1  \"La victoire dans la lutte contre Covid-19 ser...   \n",
       "\n",
       "                     id  \n",
       "0   Togo_SAVOIRNEWS1_22  \n",
       "1   Togo_SAVOIRNEWS1_21  \n",
       "2   Togo_SAVOIRNEWS1_20  \n",
       "3   Togo_SAVOIRNEWS1_19  \n",
       "4   Togo_SAVOIRNEWS1_18  \n",
       "5    Togo_SAVOIRNEWS1_3  \n",
       "6    Togo_SAVOIRNEWS1_2  \n",
       "7    Togo_SAVOIRNEWS1_1  \n",
       "8   Togo_SAVOIRNEWS1_17  \n",
       "9   Togo_SAVOIRNEWS1_16  \n",
       "10  Togo_SAVOIRNEWS1_15  \n",
       "11   Togo_SAVOIRNEWS1_7  \n",
       "12   Togo_SAVOIRNEWS1_6  \n",
       "13   Togo_SAVOIRNEWS1_5  \n",
       "14   Togo_SAVOIRNEWS1_4  \n",
       "15   Togo_SAVOIRNEWS1_9  \n",
       "16   Togo_SAVOIRNEWS1_8  \n",
       "17   Togo_SAVOIRNEWS1_0  \n",
       "18  Togo_SAVOIRNEWS1_14  \n",
       "19  Togo_SAVOIRNEWS1_13  \n",
       "20  Togo_SAVOIRNEWS1_12  \n",
       "21  Togo_SAVOIRNEWS1_11  \n",
       "22  Togo_SAVOIRNEWS1_10  "
      ]
     },
     "execution_count": 11,
     "metadata": {},
     "output_type": "execute_result"
    }
   ],
   "source": [
    "#Sort by Date\n",
    "clean_df = clean_df.sort_values('Date')\n",
    "clean_df.reset_index(drop=True, inplace=True)\n",
    "clean_df"
   ]
  },
  {
   "cell_type": "code",
   "execution_count": 12,
   "metadata": {},
   "outputs": [
    {
     "data": {
      "application/vnd.jupyter.widget-view+json": {
       "model_id": "8927b60f489f4a30b2e3dd35a9b2f5b5",
       "version_major": 2,
       "version_minor": 0
      },
      "text/plain": [
       "interactive(children=(IntSlider(value=11, description='index', max=23), Output()), _dom_classes=('widget-inter…"
      ]
     },
     "metadata": {},
     "output_type": "display_data"
    }
   ],
   "source": [
    "%matplotlib notebook\n",
    "from ipywidgets import interact\n",
    "import plotly.graph_objects as go\n",
    "\n",
    "@interact(index=(0,len(clean_df)))\n",
    "def visualize(index):\n",
    "    \"\"\"\n",
    "    Functioo to get histograms \n",
    "    the key words we're interested in\n",
    "    and the main topics more generally speaking.\n",
    "    \"\"\"\n",
    "    df = clean_df\n",
    "    count = Counter()\n",
    "    Text = df.iloc[index].text\n",
    "    Title = df.iloc[index].title\n",
    "    doc = clean_text(Title+Text)\n",
    "    key_words = ['Corona', 'Covid19', \n",
    "                 'Covid', 'Covid-19', \n",
    "                 'Virus', 'Pandémie', \n",
    "                 'Maladie', 'Coronavirus', \n",
    "                'Santé']\n",
    "    low_key_words = map(lambda x: x.lower(), key_words)\n",
    "    key_words.extend(list(low_key_words))\n",
    "    #print(Text)\n",
    "    print(Title, df.iloc[index].Date)\n",
    "    count = Counter()\n",
    "    count_key = Counter()\n",
    "    for token in doc:\n",
    "        if token.pos_ in ['PROPN', 'NOUN', 'VERB', 'ADJ']:\n",
    "            #print(token.text, token.pos_, token.dep_)\n",
    "            count.update([token.text.lower()])\n",
    "        if token.text in key_words:\n",
    "            count_key.update([token.text.lower()])\n",
    "    print(count_key)\n",
    "\n",
    "    labels, values = zip(*count.most_common()[:10])\n",
    "    fig = go.Figure(data=[go.Histogram(x=labels, y=values, histfunc='sum')])\n",
    "    fig.show()\n",
    "    try:\n",
    "        labels_key, values_key = zip(*count_key.most_common()[:10])\n",
    "        fig = go.Figure(data=[go.Histogram(x=labels_key, y=values_key, histfunc='sum')])\n",
    "        fig.show()\n",
    "    except:\n",
    "        print('No \"key word\" in this doc')\n",
    "  \n",
    "#@interact(index=(0,70)    \n",
    "#visualize(40)"
   ]
  },
  {
   "cell_type": "code",
   "execution_count": 13,
   "metadata": {},
   "outputs": [
    {
     "name": "stdout",
     "output_type": "stream",
     "text": [
      "Présidentielle au Togo: Le président de la Céni appelle au respect \"strict\" des procédures de vote 2020-02-22T20:42:53\n",
      "Présidentielle : Le gouvernement dénonce le comportement d’une organisation de \"pervertir\" le processus 2020-02-23T19:53:43\n",
      "Présidentielle au Togo: \"Une avance irrattrapable pour Faure Gnassingbé\" (Gilbert Bawara) 2020-02-23T20:49:31\n",
      "Présidentielle : Pouvoir et opposition revendiquent la victoire, la Céni annonce les \"résultats provisoires\" lundi au plus tard 2020-02-23T20:53:05\n",
      "Présidentielle au Togo: Faure Gnassingbé réélu avec 72,36% des voix (Officiel) 2020-02-24T02:52:34\n",
      "Changements climatiques en Afrique : Réunies à Casablanca, \"Les Panafricaines\" aptes à se mobiliser toute l’année 2020 2020-03-07T07:30:42\n",
      "LA PREMIERE AGENCE DE PRESSE PRIVEE AU TOGO 2020-03-15T13:51:10\n",
      "Coronavirus: Les Évêques du Togo dictent des dispositions pour les messes 2020-03-17T16:53:44\n",
      "Le célèbre saxophoniste Manu Dibango est mort des suites du coronavirus 2020-03-24T10:45:16\n",
      "Coronavirus au Togo: 20 cas, le SYNPHOT offre de masques et de gants au CHU Sylvanus Olympio 2020-03-24T13:16:54\n",
      "Coronavirus : Le port de masque peu respecté dans nos marchés 2020-03-25T00:33:48\n",
      "Coronavirus: Le premier décès au Togo (officiel) 2020-03-28T13:00:25\n",
      "Coronavirus: Le Bénin n'a pas les \"moyens\" de confiner sa population (Talon) 2020-03-29T22:02:30\n",
      "Coronavirus : Des mesures pour des \"réponses efficaces et durables\" (PM) 2020-03-29T22:05:35\n",
      "Social/Pour la continuité du travail : Pas de licenciement, Gilbert Bawara appelle au \"bon sens\" 2020-03-31T15:52:36\n",
      "Togo/Coronavirus: 40 cas avec 3 morts, Lomé s’apprête à vivre sa deuxième nuit de couvre-feu 2020-04-03T18:25:21\n",
      "Covid-19/Crise économique : Les médias privés togolais frappés de plein fouet (REPORTAGE) 2020-04-04T19:13:29\n",
      "Togo/Coronavirus : Six nouveaux cas ce lundi dont deux enfants de 3 ans 2020-04-06T23:34:57\n",
      "#Covid19TG : \"Adoptons les gestes barrières\" by Savoir News 2020-04-10T01:41:19\n",
      "Covid-19/crise éco : Le président de l’UPF plaide pour une \"aide exceptionnelle\" aux médias togolais 2020-04-10T08:28:58\n",
      "Vatican News on Twitter 2020-04-10T23:44:24\n",
      "Coronavirus : Les médias, deuxième force au \"front\" pour vaincre le virus (REPORTAGE) 2020-04-13T19:26:06\n",
      "Faure Gnassingbé : \"La victoire dans la lutte contre Covid-19 sera finalement jugée non seulement par notre capacité à sauver des vies, mais aussi par notre capacité à empêcher des millions de personn 2020-04-13T20:01:59\n"
     ]
    }
   ],
   "source": [
    "def get_stats(index):\n",
    "    \"\"\"\n",
    "    Function to count the key words found in the text with time. \n",
    "    Add a new column to the dataframe.\n",
    "    \"\"\"\n",
    "    df = clean_df\n",
    "    count = Counter()\n",
    "    Text = df.iloc[index].text\n",
    "    Title = df.iloc[index].title\n",
    "    date = df.iloc[index].Date\n",
    "    doc = clean_text(Title+Text)\n",
    "    key_words = ['Corona', 'Covid19', \n",
    "                 'Covid', 'Covid-19', \n",
    "                 'Virus', 'Pandémie', \n",
    "                 'Maladie', 'Coronavirus', \n",
    "                'Santé']\n",
    "    low_key_words = map(lambda x: x.lower(), key_words)\n",
    "    key_words.extend(list(low_key_words))\n",
    "    print(Title, df.iloc[index].Date)\n",
    "    count = Counter()\n",
    "    count_key = Counter()\n",
    "    for token in doc:\n",
    "        if token.pos_ in ['PROPN', 'NOUN', 'VERB', 'ADJ']:\n",
    "            #print(token.text, token.pos_, token.dep_)\n",
    "            count.update([token.text.lower()])\n",
    "        if token.text in key_words:\n",
    "            count_key.update([token.text.lower()])\n",
    "    return Title, count_key, date\n",
    "\n",
    "freq_ = []\n",
    "for index in range(len(clean_df)):\n",
    "    _, counter, date = get_stats(index)\n",
    "    freq_.append(sum(counter.values()))"
   ]
  },
  {
   "cell_type": "code",
   "execution_count": 14,
   "metadata": {
    "scrolled": true
   },
   "outputs": [
    {
     "data": {
      "application/vnd.plotly.v1+json": {
       "config": {
        "plotlyServerURL": "https://plot.ly"
       },
       "data": [
        {
         "alignmentgroup": "True",
         "bingroup": "x",
         "histfunc": "sum",
         "hoverlabel": {
          "namelength": 0
         },
         "hovertemplate": "freq=0<br>Date=%{x}<br>sum of freq=%{y}",
         "legendgroup": "freq=0",
         "marker": {
          "color": "#636efa"
         },
         "name": "freq=0",
         "nbinsx": 20,
         "offsetgroup": "freq=0",
         "orientation": "v",
         "showlegend": true,
         "type": "histogram",
         "x": [
          "2020-02-22T20:42:53",
          "2020-02-23T19:53:43",
          "2020-02-23T20:49:31",
          "2020-02-23T20:53:05",
          "2020-02-24T02:52:34",
          "2020-03-07T07:30:42",
          "2020-04-10T01:41:19",
          "2020-04-10T23:44:24"
         ],
         "xaxis": "x",
         "y": [
          0,
          0,
          0,
          0,
          0,
          0,
          0,
          0
         ],
         "yaxis": "y"
        },
        {
         "alignmentgroup": "True",
         "boxpoints": "all",
         "fillcolor": "rgba(255,255,255,0)",
         "hoverlabel": {
          "namelength": 0
         },
         "hoveron": "points",
         "hovertemplate": "freq=0<br>Date=%{x}",
         "jitter": 0,
         "legendgroup": "freq=0",
         "line": {
          "color": "rgba(255,255,255,0)"
         },
         "marker": {
          "color": "#636efa",
          "symbol": "line-ns-open"
         },
         "name": "freq=0",
         "offsetgroup": "freq=0",
         "showlegend": false,
         "type": "box",
         "x": [
          "2020-02-22T20:42:53",
          "2020-02-23T19:53:43",
          "2020-02-23T20:49:31",
          "2020-02-23T20:53:05",
          "2020-02-24T02:52:34",
          "2020-03-07T07:30:42",
          "2020-04-10T01:41:19",
          "2020-04-10T23:44:24"
         ],
         "xaxis": "x2",
         "yaxis": "y2"
        },
        {
         "alignmentgroup": "True",
         "bingroup": "x",
         "histfunc": "sum",
         "hoverlabel": {
          "namelength": 0
         },
         "hovertemplate": "freq=2<br>Date=%{x}<br>sum of freq=%{y}",
         "legendgroup": "freq=2",
         "marker": {
          "color": "#EF553B"
         },
         "name": "freq=2",
         "nbinsx": 20,
         "offsetgroup": "freq=2",
         "orientation": "v",
         "showlegend": true,
         "type": "histogram",
         "x": [
          "2020-03-15T13:51:10",
          "2020-03-24T10:45:16"
         ],
         "xaxis": "x",
         "y": [
          2,
          2
         ],
         "yaxis": "y"
        },
        {
         "alignmentgroup": "True",
         "boxpoints": "all",
         "fillcolor": "rgba(255,255,255,0)",
         "hoverlabel": {
          "namelength": 0
         },
         "hoveron": "points",
         "hovertemplate": "freq=2<br>Date=%{x}",
         "jitter": 0,
         "legendgroup": "freq=2",
         "line": {
          "color": "rgba(255,255,255,0)"
         },
         "marker": {
          "color": "#EF553B",
          "symbol": "line-ns-open"
         },
         "name": "freq=2",
         "offsetgroup": "freq=2",
         "showlegend": false,
         "type": "box",
         "x": [
          "2020-03-15T13:51:10",
          "2020-03-24T10:45:16"
         ],
         "xaxis": "x2",
         "yaxis": "y2"
        },
        {
         "alignmentgroup": "True",
         "bingroup": "x",
         "histfunc": "sum",
         "hoverlabel": {
          "namelength": 0
         },
         "hovertemplate": "freq=11<br>Date=%{x}<br>sum of freq=%{y}",
         "legendgroup": "freq=11",
         "marker": {
          "color": "#00cc96"
         },
         "name": "freq=11",
         "nbinsx": 20,
         "offsetgroup": "freq=11",
         "orientation": "v",
         "showlegend": true,
         "type": "histogram",
         "x": [
          "2020-03-17T16:53:44"
         ],
         "xaxis": "x",
         "y": [
          11
         ],
         "yaxis": "y"
        },
        {
         "alignmentgroup": "True",
         "boxpoints": "all",
         "fillcolor": "rgba(255,255,255,0)",
         "hoverlabel": {
          "namelength": 0
         },
         "hoveron": "points",
         "hovertemplate": "freq=11<br>Date=%{x}",
         "jitter": 0,
         "legendgroup": "freq=11",
         "line": {
          "color": "rgba(255,255,255,0)"
         },
         "marker": {
          "color": "#00cc96",
          "symbol": "line-ns-open"
         },
         "name": "freq=11",
         "offsetgroup": "freq=11",
         "showlegend": false,
         "type": "box",
         "x": [
          "2020-03-17T16:53:44"
         ],
         "xaxis": "x2",
         "yaxis": "y2"
        },
        {
         "alignmentgroup": "True",
         "bingroup": "x",
         "histfunc": "sum",
         "hoverlabel": {
          "namelength": 0
         },
         "hovertemplate": "freq=4<br>Date=%{x}<br>sum of freq=%{y}",
         "legendgroup": "freq=4",
         "marker": {
          "color": "#ab63fa"
         },
         "name": "freq=4",
         "nbinsx": 20,
         "offsetgroup": "freq=4",
         "orientation": "v",
         "showlegend": true,
         "type": "histogram",
         "x": [
          "2020-03-24T13:16:54",
          "2020-03-29T22:02:30",
          "2020-03-31T15:52:36"
         ],
         "xaxis": "x",
         "y": [
          4,
          4,
          4
         ],
         "yaxis": "y"
        },
        {
         "alignmentgroup": "True",
         "boxpoints": "all",
         "fillcolor": "rgba(255,255,255,0)",
         "hoverlabel": {
          "namelength": 0
         },
         "hoveron": "points",
         "hovertemplate": "freq=4<br>Date=%{x}",
         "jitter": 0,
         "legendgroup": "freq=4",
         "line": {
          "color": "rgba(255,255,255,0)"
         },
         "marker": {
          "color": "#ab63fa",
          "symbol": "line-ns-open"
         },
         "name": "freq=4",
         "offsetgroup": "freq=4",
         "showlegend": false,
         "type": "box",
         "x": [
          "2020-03-24T13:16:54",
          "2020-03-29T22:02:30",
          "2020-03-31T15:52:36"
         ],
         "xaxis": "x2",
         "yaxis": "y2"
        },
        {
         "alignmentgroup": "True",
         "bingroup": "x",
         "histfunc": "sum",
         "hoverlabel": {
          "namelength": 0
         },
         "hovertemplate": "freq=5<br>Date=%{x}<br>sum of freq=%{y}",
         "legendgroup": "freq=5",
         "marker": {
          "color": "#FFA15A"
         },
         "name": "freq=5",
         "nbinsx": 20,
         "offsetgroup": "freq=5",
         "orientation": "v",
         "showlegend": true,
         "type": "histogram",
         "x": [
          "2020-03-25T00:33:48",
          "2020-04-03T18:25:21",
          "2020-04-10T08:28:58"
         ],
         "xaxis": "x",
         "y": [
          5,
          5,
          5
         ],
         "yaxis": "y"
        },
        {
         "alignmentgroup": "True",
         "boxpoints": "all",
         "fillcolor": "rgba(255,255,255,0)",
         "hoverlabel": {
          "namelength": 0
         },
         "hoveron": "points",
         "hovertemplate": "freq=5<br>Date=%{x}",
         "jitter": 0,
         "legendgroup": "freq=5",
         "line": {
          "color": "rgba(255,255,255,0)"
         },
         "marker": {
          "color": "#FFA15A",
          "symbol": "line-ns-open"
         },
         "name": "freq=5",
         "offsetgroup": "freq=5",
         "showlegend": false,
         "type": "box",
         "x": [
          "2020-03-25T00:33:48",
          "2020-04-03T18:25:21",
          "2020-04-10T08:28:58"
         ],
         "xaxis": "x2",
         "yaxis": "y2"
        },
        {
         "alignmentgroup": "True",
         "bingroup": "x",
         "histfunc": "sum",
         "hoverlabel": {
          "namelength": 0
         },
         "hovertemplate": "freq=7<br>Date=%{x}<br>sum of freq=%{y}",
         "legendgroup": "freq=7",
         "marker": {
          "color": "#19d3f3"
         },
         "name": "freq=7",
         "nbinsx": 20,
         "offsetgroup": "freq=7",
         "orientation": "v",
         "showlegend": true,
         "type": "histogram",
         "x": [
          "2020-03-28T13:00:25",
          "2020-03-29T22:05:35"
         ],
         "xaxis": "x",
         "y": [
          7,
          7
         ],
         "yaxis": "y"
        },
        {
         "alignmentgroup": "True",
         "boxpoints": "all",
         "fillcolor": "rgba(255,255,255,0)",
         "hoverlabel": {
          "namelength": 0
         },
         "hoveron": "points",
         "hovertemplate": "freq=7<br>Date=%{x}",
         "jitter": 0,
         "legendgroup": "freq=7",
         "line": {
          "color": "rgba(255,255,255,0)"
         },
         "marker": {
          "color": "#19d3f3",
          "symbol": "line-ns-open"
         },
         "name": "freq=7",
         "offsetgroup": "freq=7",
         "showlegend": false,
         "type": "box",
         "x": [
          "2020-03-28T13:00:25",
          "2020-03-29T22:05:35"
         ],
         "xaxis": "x2",
         "yaxis": "y2"
        },
        {
         "alignmentgroup": "True",
         "bingroup": "x",
         "histfunc": "sum",
         "hoverlabel": {
          "namelength": 0
         },
         "hovertemplate": "freq=6<br>Date=%{x}<br>sum of freq=%{y}",
         "legendgroup": "freq=6",
         "marker": {
          "color": "#FF6692"
         },
         "name": "freq=6",
         "nbinsx": 20,
         "offsetgroup": "freq=6",
         "orientation": "v",
         "showlegend": true,
         "type": "histogram",
         "x": [
          "2020-04-04T19:13:29"
         ],
         "xaxis": "x",
         "y": [
          6
         ],
         "yaxis": "y"
        },
        {
         "alignmentgroup": "True",
         "boxpoints": "all",
         "fillcolor": "rgba(255,255,255,0)",
         "hoverlabel": {
          "namelength": 0
         },
         "hoveron": "points",
         "hovertemplate": "freq=6<br>Date=%{x}",
         "jitter": 0,
         "legendgroup": "freq=6",
         "line": {
          "color": "rgba(255,255,255,0)"
         },
         "marker": {
          "color": "#FF6692",
          "symbol": "line-ns-open"
         },
         "name": "freq=6",
         "offsetgroup": "freq=6",
         "showlegend": false,
         "type": "box",
         "x": [
          "2020-04-04T19:13:29"
         ],
         "xaxis": "x2",
         "yaxis": "y2"
        },
        {
         "alignmentgroup": "True",
         "bingroup": "x",
         "histfunc": "sum",
         "hoverlabel": {
          "namelength": 0
         },
         "hovertemplate": "freq=3<br>Date=%{x}<br>sum of freq=%{y}",
         "legendgroup": "freq=3",
         "marker": {
          "color": "#B6E880"
         },
         "name": "freq=3",
         "nbinsx": 20,
         "offsetgroup": "freq=3",
         "orientation": "v",
         "showlegend": true,
         "type": "histogram",
         "x": [
          "2020-04-06T23:34:57"
         ],
         "xaxis": "x",
         "y": [
          3
         ],
         "yaxis": "y"
        },
        {
         "alignmentgroup": "True",
         "boxpoints": "all",
         "fillcolor": "rgba(255,255,255,0)",
         "hoverlabel": {
          "namelength": 0
         },
         "hoveron": "points",
         "hovertemplate": "freq=3<br>Date=%{x}",
         "jitter": 0,
         "legendgroup": "freq=3",
         "line": {
          "color": "rgba(255,255,255,0)"
         },
         "marker": {
          "color": "#B6E880",
          "symbol": "line-ns-open"
         },
         "name": "freq=3",
         "offsetgroup": "freq=3",
         "showlegend": false,
         "type": "box",
         "x": [
          "2020-04-06T23:34:57"
         ],
         "xaxis": "x2",
         "yaxis": "y2"
        },
        {
         "alignmentgroup": "True",
         "bingroup": "x",
         "histfunc": "sum",
         "hoverlabel": {
          "namelength": 0
         },
         "hovertemplate": "freq=12<br>Date=%{x}<br>sum of freq=%{y}",
         "legendgroup": "freq=12",
         "marker": {
          "color": "#FF97FF"
         },
         "name": "freq=12",
         "nbinsx": 20,
         "offsetgroup": "freq=12",
         "orientation": "v",
         "showlegend": true,
         "type": "histogram",
         "x": [
          "2020-04-13T19:26:06"
         ],
         "xaxis": "x",
         "y": [
          12
         ],
         "yaxis": "y"
        },
        {
         "alignmentgroup": "True",
         "boxpoints": "all",
         "fillcolor": "rgba(255,255,255,0)",
         "hoverlabel": {
          "namelength": 0
         },
         "hoveron": "points",
         "hovertemplate": "freq=12<br>Date=%{x}",
         "jitter": 0,
         "legendgroup": "freq=12",
         "line": {
          "color": "rgba(255,255,255,0)"
         },
         "marker": {
          "color": "#FF97FF",
          "symbol": "line-ns-open"
         },
         "name": "freq=12",
         "offsetgroup": "freq=12",
         "showlegend": false,
         "type": "box",
         "x": [
          "2020-04-13T19:26:06"
         ],
         "xaxis": "x2",
         "yaxis": "y2"
        },
        {
         "alignmentgroup": "True",
         "bingroup": "x",
         "histfunc": "sum",
         "hoverlabel": {
          "namelength": 0
         },
         "hovertemplate": "freq=22<br>Date=%{x}<br>sum of freq=%{y}",
         "legendgroup": "freq=22",
         "marker": {
          "color": "#FECB52"
         },
         "name": "freq=22",
         "nbinsx": 20,
         "offsetgroup": "freq=22",
         "orientation": "v",
         "showlegend": true,
         "type": "histogram",
         "x": [
          "2020-04-13T20:01:59"
         ],
         "xaxis": "x",
         "y": [
          22
         ],
         "yaxis": "y"
        },
        {
         "alignmentgroup": "True",
         "boxpoints": "all",
         "fillcolor": "rgba(255,255,255,0)",
         "hoverlabel": {
          "namelength": 0
         },
         "hoveron": "points",
         "hovertemplate": "freq=22<br>Date=%{x}",
         "jitter": 0,
         "legendgroup": "freq=22",
         "line": {
          "color": "rgba(255,255,255,0)"
         },
         "marker": {
          "color": "#FECB52",
          "symbol": "line-ns-open"
         },
         "name": "freq=22",
         "offsetgroup": "freq=22",
         "showlegend": false,
         "type": "box",
         "x": [
          "2020-04-13T20:01:59"
         ],
         "xaxis": "x2",
         "yaxis": "y2"
        }
       ],
       "layout": {
        "barmode": "relative",
        "height": 600,
        "legend": {
         "tracegroupgap": 0
        },
        "margin": {
         "t": 60
        },
        "template": {
         "data": {
          "bar": [
           {
            "error_x": {
             "color": "#2a3f5f"
            },
            "error_y": {
             "color": "#2a3f5f"
            },
            "marker": {
             "line": {
              "color": "#E5ECF6",
              "width": 0.5
             }
            },
            "type": "bar"
           }
          ],
          "barpolar": [
           {
            "marker": {
             "line": {
              "color": "#E5ECF6",
              "width": 0.5
             }
            },
            "type": "barpolar"
           }
          ],
          "carpet": [
           {
            "aaxis": {
             "endlinecolor": "#2a3f5f",
             "gridcolor": "white",
             "linecolor": "white",
             "minorgridcolor": "white",
             "startlinecolor": "#2a3f5f"
            },
            "baxis": {
             "endlinecolor": "#2a3f5f",
             "gridcolor": "white",
             "linecolor": "white",
             "minorgridcolor": "white",
             "startlinecolor": "#2a3f5f"
            },
            "type": "carpet"
           }
          ],
          "choropleth": [
           {
            "colorbar": {
             "outlinewidth": 0,
             "ticks": ""
            },
            "type": "choropleth"
           }
          ],
          "contour": [
           {
            "colorbar": {
             "outlinewidth": 0,
             "ticks": ""
            },
            "colorscale": [
             [
              0,
              "#0d0887"
             ],
             [
              0.1111111111111111,
              "#46039f"
             ],
             [
              0.2222222222222222,
              "#7201a8"
             ],
             [
              0.3333333333333333,
              "#9c179e"
             ],
             [
              0.4444444444444444,
              "#bd3786"
             ],
             [
              0.5555555555555556,
              "#d8576b"
             ],
             [
              0.6666666666666666,
              "#ed7953"
             ],
             [
              0.7777777777777778,
              "#fb9f3a"
             ],
             [
              0.8888888888888888,
              "#fdca26"
             ],
             [
              1,
              "#f0f921"
             ]
            ],
            "type": "contour"
           }
          ],
          "contourcarpet": [
           {
            "colorbar": {
             "outlinewidth": 0,
             "ticks": ""
            },
            "type": "contourcarpet"
           }
          ],
          "heatmap": [
           {
            "colorbar": {
             "outlinewidth": 0,
             "ticks": ""
            },
            "colorscale": [
             [
              0,
              "#0d0887"
             ],
             [
              0.1111111111111111,
              "#46039f"
             ],
             [
              0.2222222222222222,
              "#7201a8"
             ],
             [
              0.3333333333333333,
              "#9c179e"
             ],
             [
              0.4444444444444444,
              "#bd3786"
             ],
             [
              0.5555555555555556,
              "#d8576b"
             ],
             [
              0.6666666666666666,
              "#ed7953"
             ],
             [
              0.7777777777777778,
              "#fb9f3a"
             ],
             [
              0.8888888888888888,
              "#fdca26"
             ],
             [
              1,
              "#f0f921"
             ]
            ],
            "type": "heatmap"
           }
          ],
          "heatmapgl": [
           {
            "colorbar": {
             "outlinewidth": 0,
             "ticks": ""
            },
            "colorscale": [
             [
              0,
              "#0d0887"
             ],
             [
              0.1111111111111111,
              "#46039f"
             ],
             [
              0.2222222222222222,
              "#7201a8"
             ],
             [
              0.3333333333333333,
              "#9c179e"
             ],
             [
              0.4444444444444444,
              "#bd3786"
             ],
             [
              0.5555555555555556,
              "#d8576b"
             ],
             [
              0.6666666666666666,
              "#ed7953"
             ],
             [
              0.7777777777777778,
              "#fb9f3a"
             ],
             [
              0.8888888888888888,
              "#fdca26"
             ],
             [
              1,
              "#f0f921"
             ]
            ],
            "type": "heatmapgl"
           }
          ],
          "histogram": [
           {
            "marker": {
             "colorbar": {
              "outlinewidth": 0,
              "ticks": ""
             }
            },
            "type": "histogram"
           }
          ],
          "histogram2d": [
           {
            "colorbar": {
             "outlinewidth": 0,
             "ticks": ""
            },
            "colorscale": [
             [
              0,
              "#0d0887"
             ],
             [
              0.1111111111111111,
              "#46039f"
             ],
             [
              0.2222222222222222,
              "#7201a8"
             ],
             [
              0.3333333333333333,
              "#9c179e"
             ],
             [
              0.4444444444444444,
              "#bd3786"
             ],
             [
              0.5555555555555556,
              "#d8576b"
             ],
             [
              0.6666666666666666,
              "#ed7953"
             ],
             [
              0.7777777777777778,
              "#fb9f3a"
             ],
             [
              0.8888888888888888,
              "#fdca26"
             ],
             [
              1,
              "#f0f921"
             ]
            ],
            "type": "histogram2d"
           }
          ],
          "histogram2dcontour": [
           {
            "colorbar": {
             "outlinewidth": 0,
             "ticks": ""
            },
            "colorscale": [
             [
              0,
              "#0d0887"
             ],
             [
              0.1111111111111111,
              "#46039f"
             ],
             [
              0.2222222222222222,
              "#7201a8"
             ],
             [
              0.3333333333333333,
              "#9c179e"
             ],
             [
              0.4444444444444444,
              "#bd3786"
             ],
             [
              0.5555555555555556,
              "#d8576b"
             ],
             [
              0.6666666666666666,
              "#ed7953"
             ],
             [
              0.7777777777777778,
              "#fb9f3a"
             ],
             [
              0.8888888888888888,
              "#fdca26"
             ],
             [
              1,
              "#f0f921"
             ]
            ],
            "type": "histogram2dcontour"
           }
          ],
          "mesh3d": [
           {
            "colorbar": {
             "outlinewidth": 0,
             "ticks": ""
            },
            "type": "mesh3d"
           }
          ],
          "parcoords": [
           {
            "line": {
             "colorbar": {
              "outlinewidth": 0,
              "ticks": ""
             }
            },
            "type": "parcoords"
           }
          ],
          "scatter": [
           {
            "marker": {
             "colorbar": {
              "outlinewidth": 0,
              "ticks": ""
             }
            },
            "type": "scatter"
           }
          ],
          "scatter3d": [
           {
            "line": {
             "colorbar": {
              "outlinewidth": 0,
              "ticks": ""
             }
            },
            "marker": {
             "colorbar": {
              "outlinewidth": 0,
              "ticks": ""
             }
            },
            "type": "scatter3d"
           }
          ],
          "scattercarpet": [
           {
            "marker": {
             "colorbar": {
              "outlinewidth": 0,
              "ticks": ""
             }
            },
            "type": "scattercarpet"
           }
          ],
          "scattergeo": [
           {
            "marker": {
             "colorbar": {
              "outlinewidth": 0,
              "ticks": ""
             }
            },
            "type": "scattergeo"
           }
          ],
          "scattergl": [
           {
            "marker": {
             "colorbar": {
              "outlinewidth": 0,
              "ticks": ""
             }
            },
            "type": "scattergl"
           }
          ],
          "scattermapbox": [
           {
            "marker": {
             "colorbar": {
              "outlinewidth": 0,
              "ticks": ""
             }
            },
            "type": "scattermapbox"
           }
          ],
          "scatterpolar": [
           {
            "marker": {
             "colorbar": {
              "outlinewidth": 0,
              "ticks": ""
             }
            },
            "type": "scatterpolar"
           }
          ],
          "scatterpolargl": [
           {
            "marker": {
             "colorbar": {
              "outlinewidth": 0,
              "ticks": ""
             }
            },
            "type": "scatterpolargl"
           }
          ],
          "scatterternary": [
           {
            "marker": {
             "colorbar": {
              "outlinewidth": 0,
              "ticks": ""
             }
            },
            "type": "scatterternary"
           }
          ],
          "surface": [
           {
            "colorbar": {
             "outlinewidth": 0,
             "ticks": ""
            },
            "colorscale": [
             [
              0,
              "#0d0887"
             ],
             [
              0.1111111111111111,
              "#46039f"
             ],
             [
              0.2222222222222222,
              "#7201a8"
             ],
             [
              0.3333333333333333,
              "#9c179e"
             ],
             [
              0.4444444444444444,
              "#bd3786"
             ],
             [
              0.5555555555555556,
              "#d8576b"
             ],
             [
              0.6666666666666666,
              "#ed7953"
             ],
             [
              0.7777777777777778,
              "#fb9f3a"
             ],
             [
              0.8888888888888888,
              "#fdca26"
             ],
             [
              1,
              "#f0f921"
             ]
            ],
            "type": "surface"
           }
          ],
          "table": [
           {
            "cells": {
             "fill": {
              "color": "#EBF0F8"
             },
             "line": {
              "color": "white"
             }
            },
            "header": {
             "fill": {
              "color": "#C8D4E3"
             },
             "line": {
              "color": "white"
             }
            },
            "type": "table"
           }
          ]
         },
         "layout": {
          "annotationdefaults": {
           "arrowcolor": "#2a3f5f",
           "arrowhead": 0,
           "arrowwidth": 1
          },
          "colorscale": {
           "diverging": [
            [
             0,
             "#8e0152"
            ],
            [
             0.1,
             "#c51b7d"
            ],
            [
             0.2,
             "#de77ae"
            ],
            [
             0.3,
             "#f1b6da"
            ],
            [
             0.4,
             "#fde0ef"
            ],
            [
             0.5,
             "#f7f7f7"
            ],
            [
             0.6,
             "#e6f5d0"
            ],
            [
             0.7,
             "#b8e186"
            ],
            [
             0.8,
             "#7fbc41"
            ],
            [
             0.9,
             "#4d9221"
            ],
            [
             1,
             "#276419"
            ]
           ],
           "sequential": [
            [
             0,
             "#0d0887"
            ],
            [
             0.1111111111111111,
             "#46039f"
            ],
            [
             0.2222222222222222,
             "#7201a8"
            ],
            [
             0.3333333333333333,
             "#9c179e"
            ],
            [
             0.4444444444444444,
             "#bd3786"
            ],
            [
             0.5555555555555556,
             "#d8576b"
            ],
            [
             0.6666666666666666,
             "#ed7953"
            ],
            [
             0.7777777777777778,
             "#fb9f3a"
            ],
            [
             0.8888888888888888,
             "#fdca26"
            ],
            [
             1,
             "#f0f921"
            ]
           ],
           "sequentialminus": [
            [
             0,
             "#0d0887"
            ],
            [
             0.1111111111111111,
             "#46039f"
            ],
            [
             0.2222222222222222,
             "#7201a8"
            ],
            [
             0.3333333333333333,
             "#9c179e"
            ],
            [
             0.4444444444444444,
             "#bd3786"
            ],
            [
             0.5555555555555556,
             "#d8576b"
            ],
            [
             0.6666666666666666,
             "#ed7953"
            ],
            [
             0.7777777777777778,
             "#fb9f3a"
            ],
            [
             0.8888888888888888,
             "#fdca26"
            ],
            [
             1,
             "#f0f921"
            ]
           ]
          },
          "colorway": [
           "#636efa",
           "#EF553B",
           "#00cc96",
           "#ab63fa",
           "#FFA15A",
           "#19d3f3",
           "#FF6692",
           "#B6E880",
           "#FF97FF",
           "#FECB52"
          ],
          "font": {
           "color": "#2a3f5f"
          },
          "geo": {
           "bgcolor": "white",
           "lakecolor": "white",
           "landcolor": "#E5ECF6",
           "showlakes": true,
           "showland": true,
           "subunitcolor": "white"
          },
          "hoverlabel": {
           "align": "left"
          },
          "hovermode": "closest",
          "mapbox": {
           "style": "light"
          },
          "paper_bgcolor": "white",
          "plot_bgcolor": "#E5ECF6",
          "polar": {
           "angularaxis": {
            "gridcolor": "white",
            "linecolor": "white",
            "ticks": ""
           },
           "bgcolor": "#E5ECF6",
           "radialaxis": {
            "gridcolor": "white",
            "linecolor": "white",
            "ticks": ""
           }
          },
          "scene": {
           "xaxis": {
            "backgroundcolor": "#E5ECF6",
            "gridcolor": "white",
            "gridwidth": 2,
            "linecolor": "white",
            "showbackground": true,
            "ticks": "",
            "zerolinecolor": "white"
           },
           "yaxis": {
            "backgroundcolor": "#E5ECF6",
            "gridcolor": "white",
            "gridwidth": 2,
            "linecolor": "white",
            "showbackground": true,
            "ticks": "",
            "zerolinecolor": "white"
           },
           "zaxis": {
            "backgroundcolor": "#E5ECF6",
            "gridcolor": "white",
            "gridwidth": 2,
            "linecolor": "white",
            "showbackground": true,
            "ticks": "",
            "zerolinecolor": "white"
           }
          },
          "shapedefaults": {
           "line": {
            "color": "#2a3f5f"
           }
          },
          "ternary": {
           "aaxis": {
            "gridcolor": "white",
            "linecolor": "white",
            "ticks": ""
           },
           "baxis": {
            "gridcolor": "white",
            "linecolor": "white",
            "ticks": ""
           },
           "bgcolor": "#E5ECF6",
           "caxis": {
            "gridcolor": "white",
            "linecolor": "white",
            "ticks": ""
           }
          },
          "title": {
           "x": 0.05
          },
          "xaxis": {
           "automargin": true,
           "gridcolor": "white",
           "linecolor": "white",
           "ticks": "",
           "zerolinecolor": "white",
           "zerolinewidth": 2
          },
          "yaxis": {
           "automargin": true,
           "gridcolor": "white",
           "linecolor": "white",
           "ticks": "",
           "zerolinecolor": "white",
           "zerolinewidth": 2
          }
         }
        },
        "xaxis": {
         "anchor": "y",
         "domain": [
          0,
          0.98
         ],
         "title": {
          "text": "Date"
         }
        },
        "xaxis2": {
         "anchor": "y2",
         "domain": [
          0,
          0.98
         ],
         "matches": "x",
         "showgrid": true,
         "showticklabels": false
        },
        "yaxis": {
         "anchor": "x",
         "categoryarray": [
          22,
          12,
          3,
          6,
          7,
          5,
          4,
          11,
          2,
          0
         ],
         "categoryorder": "array",
         "domain": [
          0,
          0.7326
         ],
         "title": {
          "text": "sum of freq"
         }
        },
        "yaxis2": {
         "anchor": "x2",
         "categoryarray": [
          22,
          12,
          3,
          6,
          7,
          5,
          4,
          11,
          2,
          0
         ],
         "categoryorder": "array",
         "domain": [
          0.7426,
          1
         ],
         "matches": "y2",
         "showgrid": false,
         "showticklabels": false
        }
       }
      },
      "text/html": [
       "<div>\n",
       "        \n",
       "        \n",
       "            <div id=\"61957a17-b139-4a00-b5df-b4dee01a9b7b\" class=\"plotly-graph-div\" style=\"height:600px; width:100%;\"></div>\n",
       "            <script type=\"text/javascript\">\n",
       "                require([\"plotly\"], function(Plotly) {\n",
       "                    window.PLOTLYENV=window.PLOTLYENV || {};\n",
       "                    \n",
       "                if (document.getElementById(\"61957a17-b139-4a00-b5df-b4dee01a9b7b\")) {\n",
       "                    Plotly.newPlot(\n",
       "                        '61957a17-b139-4a00-b5df-b4dee01a9b7b',\n",
       "                        [{\"alignmentgroup\": \"True\", \"bingroup\": \"x\", \"histfunc\": \"sum\", \"hoverlabel\": {\"namelength\": 0}, \"hovertemplate\": \"freq=0<br>Date=%{x}<br>sum of freq=%{y}\", \"legendgroup\": \"freq=0\", \"marker\": {\"color\": \"#636efa\"}, \"name\": \"freq=0\", \"nbinsx\": 20, \"offsetgroup\": \"freq=0\", \"orientation\": \"v\", \"showlegend\": true, \"type\": \"histogram\", \"x\": [\"2020-02-22T20:42:53\", \"2020-02-23T19:53:43\", \"2020-02-23T20:49:31\", \"2020-02-23T20:53:05\", \"2020-02-24T02:52:34\", \"2020-03-07T07:30:42\", \"2020-04-10T01:41:19\", \"2020-04-10T23:44:24\"], \"xaxis\": \"x\", \"y\": [0, 0, 0, 0, 0, 0, 0, 0], \"yaxis\": \"y\"}, {\"alignmentgroup\": \"True\", \"boxpoints\": \"all\", \"fillcolor\": \"rgba(255,255,255,0)\", \"hoverlabel\": {\"namelength\": 0}, \"hoveron\": \"points\", \"hovertemplate\": \"freq=0<br>Date=%{x}\", \"jitter\": 0, \"legendgroup\": \"freq=0\", \"line\": {\"color\": \"rgba(255,255,255,0)\"}, \"marker\": {\"color\": \"#636efa\", \"symbol\": \"line-ns-open\"}, \"name\": \"freq=0\", \"offsetgroup\": \"freq=0\", \"showlegend\": false, \"type\": \"box\", \"x\": [\"2020-02-22T20:42:53\", \"2020-02-23T19:53:43\", \"2020-02-23T20:49:31\", \"2020-02-23T20:53:05\", \"2020-02-24T02:52:34\", \"2020-03-07T07:30:42\", \"2020-04-10T01:41:19\", \"2020-04-10T23:44:24\"], \"xaxis\": \"x2\", \"yaxis\": \"y2\"}, {\"alignmentgroup\": \"True\", \"bingroup\": \"x\", \"histfunc\": \"sum\", \"hoverlabel\": {\"namelength\": 0}, \"hovertemplate\": \"freq=2<br>Date=%{x}<br>sum of freq=%{y}\", \"legendgroup\": \"freq=2\", \"marker\": {\"color\": \"#EF553B\"}, \"name\": \"freq=2\", \"nbinsx\": 20, \"offsetgroup\": \"freq=2\", \"orientation\": \"v\", \"showlegend\": true, \"type\": \"histogram\", \"x\": [\"2020-03-15T13:51:10\", \"2020-03-24T10:45:16\"], \"xaxis\": \"x\", \"y\": [2, 2], \"yaxis\": \"y\"}, {\"alignmentgroup\": \"True\", \"boxpoints\": \"all\", \"fillcolor\": \"rgba(255,255,255,0)\", \"hoverlabel\": {\"namelength\": 0}, \"hoveron\": \"points\", \"hovertemplate\": \"freq=2<br>Date=%{x}\", \"jitter\": 0, \"legendgroup\": \"freq=2\", \"line\": {\"color\": \"rgba(255,255,255,0)\"}, \"marker\": {\"color\": \"#EF553B\", \"symbol\": \"line-ns-open\"}, \"name\": \"freq=2\", \"offsetgroup\": \"freq=2\", \"showlegend\": false, \"type\": \"box\", \"x\": [\"2020-03-15T13:51:10\", \"2020-03-24T10:45:16\"], \"xaxis\": \"x2\", \"yaxis\": \"y2\"}, {\"alignmentgroup\": \"True\", \"bingroup\": \"x\", \"histfunc\": \"sum\", \"hoverlabel\": {\"namelength\": 0}, \"hovertemplate\": \"freq=11<br>Date=%{x}<br>sum of freq=%{y}\", \"legendgroup\": \"freq=11\", \"marker\": {\"color\": \"#00cc96\"}, \"name\": \"freq=11\", \"nbinsx\": 20, \"offsetgroup\": \"freq=11\", \"orientation\": \"v\", \"showlegend\": true, \"type\": \"histogram\", \"x\": [\"2020-03-17T16:53:44\"], \"xaxis\": \"x\", \"y\": [11], \"yaxis\": \"y\"}, {\"alignmentgroup\": \"True\", \"boxpoints\": \"all\", \"fillcolor\": \"rgba(255,255,255,0)\", \"hoverlabel\": {\"namelength\": 0}, \"hoveron\": \"points\", \"hovertemplate\": \"freq=11<br>Date=%{x}\", \"jitter\": 0, \"legendgroup\": \"freq=11\", \"line\": {\"color\": \"rgba(255,255,255,0)\"}, \"marker\": {\"color\": \"#00cc96\", \"symbol\": \"line-ns-open\"}, \"name\": \"freq=11\", \"offsetgroup\": \"freq=11\", \"showlegend\": false, \"type\": \"box\", \"x\": [\"2020-03-17T16:53:44\"], \"xaxis\": \"x2\", \"yaxis\": \"y2\"}, {\"alignmentgroup\": \"True\", \"bingroup\": \"x\", \"histfunc\": \"sum\", \"hoverlabel\": {\"namelength\": 0}, \"hovertemplate\": \"freq=4<br>Date=%{x}<br>sum of freq=%{y}\", \"legendgroup\": \"freq=4\", \"marker\": {\"color\": \"#ab63fa\"}, \"name\": \"freq=4\", \"nbinsx\": 20, \"offsetgroup\": \"freq=4\", \"orientation\": \"v\", \"showlegend\": true, \"type\": \"histogram\", \"x\": [\"2020-03-24T13:16:54\", \"2020-03-29T22:02:30\", \"2020-03-31T15:52:36\"], \"xaxis\": \"x\", \"y\": [4, 4, 4], \"yaxis\": \"y\"}, {\"alignmentgroup\": \"True\", \"boxpoints\": \"all\", \"fillcolor\": \"rgba(255,255,255,0)\", \"hoverlabel\": {\"namelength\": 0}, \"hoveron\": \"points\", \"hovertemplate\": \"freq=4<br>Date=%{x}\", \"jitter\": 0, \"legendgroup\": \"freq=4\", \"line\": {\"color\": \"rgba(255,255,255,0)\"}, \"marker\": {\"color\": \"#ab63fa\", \"symbol\": \"line-ns-open\"}, \"name\": \"freq=4\", \"offsetgroup\": \"freq=4\", \"showlegend\": false, \"type\": \"box\", \"x\": [\"2020-03-24T13:16:54\", \"2020-03-29T22:02:30\", \"2020-03-31T15:52:36\"], \"xaxis\": \"x2\", \"yaxis\": \"y2\"}, {\"alignmentgroup\": \"True\", \"bingroup\": \"x\", \"histfunc\": \"sum\", \"hoverlabel\": {\"namelength\": 0}, \"hovertemplate\": \"freq=5<br>Date=%{x}<br>sum of freq=%{y}\", \"legendgroup\": \"freq=5\", \"marker\": {\"color\": \"#FFA15A\"}, \"name\": \"freq=5\", \"nbinsx\": 20, \"offsetgroup\": \"freq=5\", \"orientation\": \"v\", \"showlegend\": true, \"type\": \"histogram\", \"x\": [\"2020-03-25T00:33:48\", \"2020-04-03T18:25:21\", \"2020-04-10T08:28:58\"], \"xaxis\": \"x\", \"y\": [5, 5, 5], \"yaxis\": \"y\"}, {\"alignmentgroup\": \"True\", \"boxpoints\": \"all\", \"fillcolor\": \"rgba(255,255,255,0)\", \"hoverlabel\": {\"namelength\": 0}, \"hoveron\": \"points\", \"hovertemplate\": \"freq=5<br>Date=%{x}\", \"jitter\": 0, \"legendgroup\": \"freq=5\", \"line\": {\"color\": \"rgba(255,255,255,0)\"}, \"marker\": {\"color\": \"#FFA15A\", \"symbol\": \"line-ns-open\"}, \"name\": \"freq=5\", \"offsetgroup\": \"freq=5\", \"showlegend\": false, \"type\": \"box\", \"x\": [\"2020-03-25T00:33:48\", \"2020-04-03T18:25:21\", \"2020-04-10T08:28:58\"], \"xaxis\": \"x2\", \"yaxis\": \"y2\"}, {\"alignmentgroup\": \"True\", \"bingroup\": \"x\", \"histfunc\": \"sum\", \"hoverlabel\": {\"namelength\": 0}, \"hovertemplate\": \"freq=7<br>Date=%{x}<br>sum of freq=%{y}\", \"legendgroup\": \"freq=7\", \"marker\": {\"color\": \"#19d3f3\"}, \"name\": \"freq=7\", \"nbinsx\": 20, \"offsetgroup\": \"freq=7\", \"orientation\": \"v\", \"showlegend\": true, \"type\": \"histogram\", \"x\": [\"2020-03-28T13:00:25\", \"2020-03-29T22:05:35\"], \"xaxis\": \"x\", \"y\": [7, 7], \"yaxis\": \"y\"}, {\"alignmentgroup\": \"True\", \"boxpoints\": \"all\", \"fillcolor\": \"rgba(255,255,255,0)\", \"hoverlabel\": {\"namelength\": 0}, \"hoveron\": \"points\", \"hovertemplate\": \"freq=7<br>Date=%{x}\", \"jitter\": 0, \"legendgroup\": \"freq=7\", \"line\": {\"color\": \"rgba(255,255,255,0)\"}, \"marker\": {\"color\": \"#19d3f3\", \"symbol\": \"line-ns-open\"}, \"name\": \"freq=7\", \"offsetgroup\": \"freq=7\", \"showlegend\": false, \"type\": \"box\", \"x\": [\"2020-03-28T13:00:25\", \"2020-03-29T22:05:35\"], \"xaxis\": \"x2\", \"yaxis\": \"y2\"}, {\"alignmentgroup\": \"True\", \"bingroup\": \"x\", \"histfunc\": \"sum\", \"hoverlabel\": {\"namelength\": 0}, \"hovertemplate\": \"freq=6<br>Date=%{x}<br>sum of freq=%{y}\", \"legendgroup\": \"freq=6\", \"marker\": {\"color\": \"#FF6692\"}, \"name\": \"freq=6\", \"nbinsx\": 20, \"offsetgroup\": \"freq=6\", \"orientation\": \"v\", \"showlegend\": true, \"type\": \"histogram\", \"x\": [\"2020-04-04T19:13:29\"], \"xaxis\": \"x\", \"y\": [6], \"yaxis\": \"y\"}, {\"alignmentgroup\": \"True\", \"boxpoints\": \"all\", \"fillcolor\": \"rgba(255,255,255,0)\", \"hoverlabel\": {\"namelength\": 0}, \"hoveron\": \"points\", \"hovertemplate\": \"freq=6<br>Date=%{x}\", \"jitter\": 0, \"legendgroup\": \"freq=6\", \"line\": {\"color\": \"rgba(255,255,255,0)\"}, \"marker\": {\"color\": \"#FF6692\", \"symbol\": \"line-ns-open\"}, \"name\": \"freq=6\", \"offsetgroup\": \"freq=6\", \"showlegend\": false, \"type\": \"box\", \"x\": [\"2020-04-04T19:13:29\"], \"xaxis\": \"x2\", \"yaxis\": \"y2\"}, {\"alignmentgroup\": \"True\", \"bingroup\": \"x\", \"histfunc\": \"sum\", \"hoverlabel\": {\"namelength\": 0}, \"hovertemplate\": \"freq=3<br>Date=%{x}<br>sum of freq=%{y}\", \"legendgroup\": \"freq=3\", \"marker\": {\"color\": \"#B6E880\"}, \"name\": \"freq=3\", \"nbinsx\": 20, \"offsetgroup\": \"freq=3\", \"orientation\": \"v\", \"showlegend\": true, \"type\": \"histogram\", \"x\": [\"2020-04-06T23:34:57\"], \"xaxis\": \"x\", \"y\": [3], \"yaxis\": \"y\"}, {\"alignmentgroup\": \"True\", \"boxpoints\": \"all\", \"fillcolor\": \"rgba(255,255,255,0)\", \"hoverlabel\": {\"namelength\": 0}, \"hoveron\": \"points\", \"hovertemplate\": \"freq=3<br>Date=%{x}\", \"jitter\": 0, \"legendgroup\": \"freq=3\", \"line\": {\"color\": \"rgba(255,255,255,0)\"}, \"marker\": {\"color\": \"#B6E880\", \"symbol\": \"line-ns-open\"}, \"name\": \"freq=3\", \"offsetgroup\": \"freq=3\", \"showlegend\": false, \"type\": \"box\", \"x\": [\"2020-04-06T23:34:57\"], \"xaxis\": \"x2\", \"yaxis\": \"y2\"}, {\"alignmentgroup\": \"True\", \"bingroup\": \"x\", \"histfunc\": \"sum\", \"hoverlabel\": {\"namelength\": 0}, \"hovertemplate\": \"freq=12<br>Date=%{x}<br>sum of freq=%{y}\", \"legendgroup\": \"freq=12\", \"marker\": {\"color\": \"#FF97FF\"}, \"name\": \"freq=12\", \"nbinsx\": 20, \"offsetgroup\": \"freq=12\", \"orientation\": \"v\", \"showlegend\": true, \"type\": \"histogram\", \"x\": [\"2020-04-13T19:26:06\"], \"xaxis\": \"x\", \"y\": [12], \"yaxis\": \"y\"}, {\"alignmentgroup\": \"True\", \"boxpoints\": \"all\", \"fillcolor\": \"rgba(255,255,255,0)\", \"hoverlabel\": {\"namelength\": 0}, \"hoveron\": \"points\", \"hovertemplate\": \"freq=12<br>Date=%{x}\", \"jitter\": 0, \"legendgroup\": \"freq=12\", \"line\": {\"color\": \"rgba(255,255,255,0)\"}, \"marker\": {\"color\": \"#FF97FF\", \"symbol\": \"line-ns-open\"}, \"name\": \"freq=12\", \"offsetgroup\": \"freq=12\", \"showlegend\": false, \"type\": \"box\", \"x\": [\"2020-04-13T19:26:06\"], \"xaxis\": \"x2\", \"yaxis\": \"y2\"}, {\"alignmentgroup\": \"True\", \"bingroup\": \"x\", \"histfunc\": \"sum\", \"hoverlabel\": {\"namelength\": 0}, \"hovertemplate\": \"freq=22<br>Date=%{x}<br>sum of freq=%{y}\", \"legendgroup\": \"freq=22\", \"marker\": {\"color\": \"#FECB52\"}, \"name\": \"freq=22\", \"nbinsx\": 20, \"offsetgroup\": \"freq=22\", \"orientation\": \"v\", \"showlegend\": true, \"type\": \"histogram\", \"x\": [\"2020-04-13T20:01:59\"], \"xaxis\": \"x\", \"y\": [22], \"yaxis\": \"y\"}, {\"alignmentgroup\": \"True\", \"boxpoints\": \"all\", \"fillcolor\": \"rgba(255,255,255,0)\", \"hoverlabel\": {\"namelength\": 0}, \"hoveron\": \"points\", \"hovertemplate\": \"freq=22<br>Date=%{x}\", \"jitter\": 0, \"legendgroup\": \"freq=22\", \"line\": {\"color\": \"rgba(255,255,255,0)\"}, \"marker\": {\"color\": \"#FECB52\", \"symbol\": \"line-ns-open\"}, \"name\": \"freq=22\", \"offsetgroup\": \"freq=22\", \"showlegend\": false, \"type\": \"box\", \"x\": [\"2020-04-13T20:01:59\"], \"xaxis\": \"x2\", \"yaxis\": \"y2\"}],\n",
       "                        {\"barmode\": \"relative\", \"height\": 600, \"legend\": {\"tracegroupgap\": 0}, \"margin\": {\"t\": 60}, \"template\": {\"data\": {\"bar\": [{\"error_x\": {\"color\": \"#2a3f5f\"}, \"error_y\": {\"color\": \"#2a3f5f\"}, \"marker\": {\"line\": {\"color\": \"#E5ECF6\", \"width\": 0.5}}, \"type\": \"bar\"}], \"barpolar\": [{\"marker\": {\"line\": {\"color\": \"#E5ECF6\", \"width\": 0.5}}, \"type\": \"barpolar\"}], \"carpet\": [{\"aaxis\": {\"endlinecolor\": \"#2a3f5f\", \"gridcolor\": \"white\", \"linecolor\": \"white\", \"minorgridcolor\": \"white\", \"startlinecolor\": \"#2a3f5f\"}, \"baxis\": {\"endlinecolor\": \"#2a3f5f\", \"gridcolor\": \"white\", \"linecolor\": \"white\", \"minorgridcolor\": \"white\", \"startlinecolor\": \"#2a3f5f\"}, \"type\": \"carpet\"}], \"choropleth\": [{\"colorbar\": {\"outlinewidth\": 0, \"ticks\": \"\"}, \"type\": \"choropleth\"}], \"contour\": [{\"colorbar\": {\"outlinewidth\": 0, \"ticks\": \"\"}, \"colorscale\": [[0.0, \"#0d0887\"], [0.1111111111111111, \"#46039f\"], [0.2222222222222222, \"#7201a8\"], [0.3333333333333333, \"#9c179e\"], [0.4444444444444444, \"#bd3786\"], [0.5555555555555556, \"#d8576b\"], [0.6666666666666666, \"#ed7953\"], [0.7777777777777778, \"#fb9f3a\"], [0.8888888888888888, \"#fdca26\"], [1.0, \"#f0f921\"]], \"type\": \"contour\"}], \"contourcarpet\": [{\"colorbar\": {\"outlinewidth\": 0, \"ticks\": \"\"}, \"type\": \"contourcarpet\"}], \"heatmap\": [{\"colorbar\": {\"outlinewidth\": 0, \"ticks\": \"\"}, \"colorscale\": [[0.0, \"#0d0887\"], [0.1111111111111111, \"#46039f\"], [0.2222222222222222, \"#7201a8\"], [0.3333333333333333, \"#9c179e\"], [0.4444444444444444, \"#bd3786\"], [0.5555555555555556, \"#d8576b\"], [0.6666666666666666, \"#ed7953\"], [0.7777777777777778, \"#fb9f3a\"], [0.8888888888888888, \"#fdca26\"], [1.0, \"#f0f921\"]], \"type\": \"heatmap\"}], \"heatmapgl\": [{\"colorbar\": {\"outlinewidth\": 0, \"ticks\": \"\"}, \"colorscale\": [[0.0, \"#0d0887\"], [0.1111111111111111, \"#46039f\"], [0.2222222222222222, \"#7201a8\"], [0.3333333333333333, \"#9c179e\"], [0.4444444444444444, \"#bd3786\"], [0.5555555555555556, \"#d8576b\"], [0.6666666666666666, \"#ed7953\"], [0.7777777777777778, \"#fb9f3a\"], [0.8888888888888888, \"#fdca26\"], [1.0, \"#f0f921\"]], \"type\": \"heatmapgl\"}], \"histogram\": [{\"marker\": {\"colorbar\": {\"outlinewidth\": 0, \"ticks\": \"\"}}, \"type\": \"histogram\"}], \"histogram2d\": [{\"colorbar\": {\"outlinewidth\": 0, \"ticks\": \"\"}, \"colorscale\": [[0.0, \"#0d0887\"], [0.1111111111111111, \"#46039f\"], [0.2222222222222222, \"#7201a8\"], [0.3333333333333333, \"#9c179e\"], [0.4444444444444444, \"#bd3786\"], [0.5555555555555556, \"#d8576b\"], [0.6666666666666666, \"#ed7953\"], [0.7777777777777778, \"#fb9f3a\"], [0.8888888888888888, \"#fdca26\"], [1.0, \"#f0f921\"]], \"type\": \"histogram2d\"}], \"histogram2dcontour\": [{\"colorbar\": {\"outlinewidth\": 0, \"ticks\": \"\"}, \"colorscale\": [[0.0, \"#0d0887\"], [0.1111111111111111, \"#46039f\"], [0.2222222222222222, \"#7201a8\"], [0.3333333333333333, \"#9c179e\"], [0.4444444444444444, \"#bd3786\"], [0.5555555555555556, \"#d8576b\"], [0.6666666666666666, \"#ed7953\"], [0.7777777777777778, \"#fb9f3a\"], [0.8888888888888888, \"#fdca26\"], [1.0, \"#f0f921\"]], \"type\": \"histogram2dcontour\"}], \"mesh3d\": [{\"colorbar\": {\"outlinewidth\": 0, \"ticks\": \"\"}, \"type\": \"mesh3d\"}], \"parcoords\": [{\"line\": {\"colorbar\": {\"outlinewidth\": 0, \"ticks\": \"\"}}, \"type\": \"parcoords\"}], \"scatter\": [{\"marker\": {\"colorbar\": {\"outlinewidth\": 0, \"ticks\": \"\"}}, \"type\": \"scatter\"}], \"scatter3d\": [{\"line\": {\"colorbar\": {\"outlinewidth\": 0, \"ticks\": \"\"}}, \"marker\": {\"colorbar\": {\"outlinewidth\": 0, \"ticks\": \"\"}}, \"type\": \"scatter3d\"}], \"scattercarpet\": [{\"marker\": {\"colorbar\": {\"outlinewidth\": 0, \"ticks\": \"\"}}, \"type\": \"scattercarpet\"}], \"scattergeo\": [{\"marker\": {\"colorbar\": {\"outlinewidth\": 0, \"ticks\": \"\"}}, \"type\": \"scattergeo\"}], \"scattergl\": [{\"marker\": {\"colorbar\": {\"outlinewidth\": 0, \"ticks\": \"\"}}, \"type\": \"scattergl\"}], \"scattermapbox\": [{\"marker\": {\"colorbar\": {\"outlinewidth\": 0, \"ticks\": \"\"}}, \"type\": \"scattermapbox\"}], \"scatterpolar\": [{\"marker\": {\"colorbar\": {\"outlinewidth\": 0, \"ticks\": \"\"}}, \"type\": \"scatterpolar\"}], \"scatterpolargl\": [{\"marker\": {\"colorbar\": {\"outlinewidth\": 0, \"ticks\": \"\"}}, \"type\": \"scatterpolargl\"}], \"scatterternary\": [{\"marker\": {\"colorbar\": {\"outlinewidth\": 0, \"ticks\": \"\"}}, \"type\": \"scatterternary\"}], \"surface\": [{\"colorbar\": {\"outlinewidth\": 0, \"ticks\": \"\"}, \"colorscale\": [[0.0, \"#0d0887\"], [0.1111111111111111, \"#46039f\"], [0.2222222222222222, \"#7201a8\"], [0.3333333333333333, \"#9c179e\"], [0.4444444444444444, \"#bd3786\"], [0.5555555555555556, \"#d8576b\"], [0.6666666666666666, \"#ed7953\"], [0.7777777777777778, \"#fb9f3a\"], [0.8888888888888888, \"#fdca26\"], [1.0, \"#f0f921\"]], \"type\": \"surface\"}], \"table\": [{\"cells\": {\"fill\": {\"color\": \"#EBF0F8\"}, \"line\": {\"color\": \"white\"}}, \"header\": {\"fill\": {\"color\": \"#C8D4E3\"}, \"line\": {\"color\": \"white\"}}, \"type\": \"table\"}]}, \"layout\": {\"annotationdefaults\": {\"arrowcolor\": \"#2a3f5f\", \"arrowhead\": 0, \"arrowwidth\": 1}, \"colorscale\": {\"diverging\": [[0, \"#8e0152\"], [0.1, \"#c51b7d\"], [0.2, \"#de77ae\"], [0.3, \"#f1b6da\"], [0.4, \"#fde0ef\"], [0.5, \"#f7f7f7\"], [0.6, \"#e6f5d0\"], [0.7, \"#b8e186\"], [0.8, \"#7fbc41\"], [0.9, \"#4d9221\"], [1, \"#276419\"]], \"sequential\": [[0.0, \"#0d0887\"], [0.1111111111111111, \"#46039f\"], [0.2222222222222222, \"#7201a8\"], [0.3333333333333333, \"#9c179e\"], [0.4444444444444444, \"#bd3786\"], [0.5555555555555556, \"#d8576b\"], [0.6666666666666666, \"#ed7953\"], [0.7777777777777778, \"#fb9f3a\"], [0.8888888888888888, \"#fdca26\"], [1.0, \"#f0f921\"]], \"sequentialminus\": [[0.0, \"#0d0887\"], [0.1111111111111111, \"#46039f\"], [0.2222222222222222, \"#7201a8\"], [0.3333333333333333, \"#9c179e\"], [0.4444444444444444, \"#bd3786\"], [0.5555555555555556, \"#d8576b\"], [0.6666666666666666, \"#ed7953\"], [0.7777777777777778, \"#fb9f3a\"], [0.8888888888888888, \"#fdca26\"], [1.0, \"#f0f921\"]]}, \"colorway\": [\"#636efa\", \"#EF553B\", \"#00cc96\", \"#ab63fa\", \"#FFA15A\", \"#19d3f3\", \"#FF6692\", \"#B6E880\", \"#FF97FF\", \"#FECB52\"], \"font\": {\"color\": \"#2a3f5f\"}, \"geo\": {\"bgcolor\": \"white\", \"lakecolor\": \"white\", \"landcolor\": \"#E5ECF6\", \"showlakes\": true, \"showland\": true, \"subunitcolor\": \"white\"}, \"hoverlabel\": {\"align\": \"left\"}, \"hovermode\": \"closest\", \"mapbox\": {\"style\": \"light\"}, \"paper_bgcolor\": \"white\", \"plot_bgcolor\": \"#E5ECF6\", \"polar\": {\"angularaxis\": {\"gridcolor\": \"white\", \"linecolor\": \"white\", \"ticks\": \"\"}, \"bgcolor\": \"#E5ECF6\", \"radialaxis\": {\"gridcolor\": \"white\", \"linecolor\": \"white\", \"ticks\": \"\"}}, \"scene\": {\"xaxis\": {\"backgroundcolor\": \"#E5ECF6\", \"gridcolor\": \"white\", \"gridwidth\": 2, \"linecolor\": \"white\", \"showbackground\": true, \"ticks\": \"\", \"zerolinecolor\": \"white\"}, \"yaxis\": {\"backgroundcolor\": \"#E5ECF6\", \"gridcolor\": \"white\", \"gridwidth\": 2, \"linecolor\": \"white\", \"showbackground\": true, \"ticks\": \"\", \"zerolinecolor\": \"white\"}, \"zaxis\": {\"backgroundcolor\": \"#E5ECF6\", \"gridcolor\": \"white\", \"gridwidth\": 2, \"linecolor\": \"white\", \"showbackground\": true, \"ticks\": \"\", \"zerolinecolor\": \"white\"}}, \"shapedefaults\": {\"line\": {\"color\": \"#2a3f5f\"}}, \"ternary\": {\"aaxis\": {\"gridcolor\": \"white\", \"linecolor\": \"white\", \"ticks\": \"\"}, \"baxis\": {\"gridcolor\": \"white\", \"linecolor\": \"white\", \"ticks\": \"\"}, \"bgcolor\": \"#E5ECF6\", \"caxis\": {\"gridcolor\": \"white\", \"linecolor\": \"white\", \"ticks\": \"\"}}, \"title\": {\"x\": 0.05}, \"xaxis\": {\"automargin\": true, \"gridcolor\": \"white\", \"linecolor\": \"white\", \"ticks\": \"\", \"zerolinecolor\": \"white\", \"zerolinewidth\": 2}, \"yaxis\": {\"automargin\": true, \"gridcolor\": \"white\", \"linecolor\": \"white\", \"ticks\": \"\", \"zerolinecolor\": \"white\", \"zerolinewidth\": 2}}}, \"xaxis\": {\"anchor\": \"y\", \"domain\": [0.0, 0.98], \"title\": {\"text\": \"Date\"}}, \"xaxis2\": {\"anchor\": \"y2\", \"domain\": [0.0, 0.98], \"matches\": \"x\", \"showgrid\": true, \"showticklabels\": false}, \"yaxis\": {\"anchor\": \"x\", \"categoryarray\": [22, 12, 3, 6, 7, 5, 4, 11, 2, 0], \"categoryorder\": \"array\", \"domain\": [0.0, 0.7326], \"title\": {\"text\": \"sum of freq\"}}, \"yaxis2\": {\"anchor\": \"x2\", \"categoryarray\": [22, 12, 3, 6, 7, 5, 4, 11, 2, 0], \"categoryorder\": \"array\", \"domain\": [0.7426, 1.0], \"matches\": \"y2\", \"showgrid\": false, \"showticklabels\": false}},\n",
       "                        {\"responsive\": true}\n",
       "                    ).then(function(){\n",
       "                            \n",
       "var gd = document.getElementById('61957a17-b139-4a00-b5df-b4dee01a9b7b');\n",
       "var x = new MutationObserver(function (mutations, observer) {{\n",
       "        var display = window.getComputedStyle(gd).display;\n",
       "        if (!display || display === 'none') {{\n",
       "            console.log([gd, 'removed!']);\n",
       "            Plotly.purge(gd);\n",
       "            observer.disconnect();\n",
       "        }}\n",
       "}});\n",
       "\n",
       "// Listen for the removal of the full notebook cells\n",
       "var notebookContainer = gd.closest('#notebook-container');\n",
       "if (notebookContainer) {{\n",
       "    x.observe(notebookContainer, {childList: true});\n",
       "}}\n",
       "\n",
       "// Listen for the clearing of the current output cell\n",
       "var outputEl = gd.closest('.output');\n",
       "if (outputEl) {{\n",
       "    x.observe(outputEl, {childList: true});\n",
       "}}\n",
       "\n",
       "                        })\n",
       "                };\n",
       "                });\n",
       "            </script>\n",
       "        </div>"
      ]
     },
     "metadata": {},
     "output_type": "display_data"
    }
   ],
   "source": [
    "clean_df['freq'] = freq_\n",
    "import plotly.express as px\n",
    "#tdf = px.data.tips()\n",
    "fig = px.histogram(clean_df, \n",
    "                   x=\"Date\", \n",
    "                   y=\"freq\", \n",
    "                   marginal=\"rug\", \n",
    "                   histfunc='sum', \n",
    "                   color='freq',  \n",
    "                   nbins=20)#box, rug\n",
    "fig.show()"
   ]
  },
  {
   "cell_type": "code",
   "execution_count": 15,
   "metadata": {},
   "outputs": [
    {
     "data": {
      "text/plain": [
       "'Source of info for plots: https://plotly.com/python/plotly-express/'"
      ]
     },
     "execution_count": 15,
     "metadata": {},
     "output_type": "execute_result"
    }
   ],
   "source": [
    "\"\"\"Source of info for plots: https://plotly.com/python/plotly-express/\"\"\""
   ]
  },
  {
   "cell_type": "code",
   "execution_count": 16,
   "metadata": {},
   "outputs": [
    {
     "data": {
      "application/vnd.plotly.v1+json": {
       "config": {
        "plotlyServerURL": "https://plot.ly"
       },
       "data": [
        {
         "hoverlabel": {
          "namelength": 0
         },
         "hovertemplate": "Date=%{x}<br>freq=%{marker.color}",
         "legendgroup": "",
         "marker": {
          "color": [
           0,
           0,
           0,
           0,
           0,
           0,
           2,
           11,
           2,
           4,
           5,
           7,
           4,
           7,
           4,
           5,
           6,
           3,
           0,
           5,
           0,
           12,
           22
          ],
          "coloraxis": "coloraxis",
          "size": [
           0,
           0,
           0,
           0,
           0,
           0,
           2,
           11,
           2,
           4,
           5,
           7,
           4,
           7,
           4,
           5,
           6,
           3,
           0,
           5,
           0,
           12,
           22
          ],
          "sizemode": "area",
          "sizeref": 0.006111111111111111,
          "symbol": "circle"
         },
         "mode": "markers",
         "name": "",
         "showlegend": false,
         "type": "scatter",
         "x": [
          "2020-02-22T20:42:53",
          "2020-02-23T19:53:43",
          "2020-02-23T20:49:31",
          "2020-02-23T20:53:05",
          "2020-02-24T02:52:34",
          "2020-03-07T07:30:42",
          "2020-03-15T13:51:10",
          "2020-03-17T16:53:44",
          "2020-03-24T10:45:16",
          "2020-03-24T13:16:54",
          "2020-03-25T00:33:48",
          "2020-03-28T13:00:25",
          "2020-03-29T22:02:30",
          "2020-03-29T22:05:35",
          "2020-03-31T15:52:36",
          "2020-04-03T18:25:21",
          "2020-04-04T19:13:29",
          "2020-04-06T23:34:57",
          "2020-04-10T01:41:19",
          "2020-04-10T08:28:58",
          "2020-04-10T23:44:24",
          "2020-04-13T19:26:06",
          "2020-04-13T20:01:59"
         ],
         "xaxis": "x",
         "y": [
          0,
          0,
          0,
          0,
          0,
          0,
          2,
          11,
          2,
          4,
          5,
          7,
          4,
          7,
          4,
          5,
          6,
          3,
          0,
          5,
          0,
          12,
          22
         ],
         "yaxis": "y"
        }
       ],
       "layout": {
        "coloraxis": {
         "colorbar": {
          "title": {
           "text": "freq"
          }
         },
         "colorscale": [
          [
           0,
           "#0d0887"
          ],
          [
           0.1111111111111111,
           "#46039f"
          ],
          [
           0.2222222222222222,
           "#7201a8"
          ],
          [
           0.3333333333333333,
           "#9c179e"
          ],
          [
           0.4444444444444444,
           "#bd3786"
          ],
          [
           0.5555555555555556,
           "#d8576b"
          ],
          [
           0.6666666666666666,
           "#ed7953"
          ],
          [
           0.7777777777777778,
           "#fb9f3a"
          ],
          [
           0.8888888888888888,
           "#fdca26"
          ],
          [
           1,
           "#f0f921"
          ]
         ]
        },
        "height": 600,
        "legend": {
         "itemsizing": "constant",
         "tracegroupgap": 0
        },
        "margin": {
         "t": 60
        },
        "template": {
         "data": {
          "bar": [
           {
            "error_x": {
             "color": "#2a3f5f"
            },
            "error_y": {
             "color": "#2a3f5f"
            },
            "marker": {
             "line": {
              "color": "#E5ECF6",
              "width": 0.5
             }
            },
            "type": "bar"
           }
          ],
          "barpolar": [
           {
            "marker": {
             "line": {
              "color": "#E5ECF6",
              "width": 0.5
             }
            },
            "type": "barpolar"
           }
          ],
          "carpet": [
           {
            "aaxis": {
             "endlinecolor": "#2a3f5f",
             "gridcolor": "white",
             "linecolor": "white",
             "minorgridcolor": "white",
             "startlinecolor": "#2a3f5f"
            },
            "baxis": {
             "endlinecolor": "#2a3f5f",
             "gridcolor": "white",
             "linecolor": "white",
             "minorgridcolor": "white",
             "startlinecolor": "#2a3f5f"
            },
            "type": "carpet"
           }
          ],
          "choropleth": [
           {
            "colorbar": {
             "outlinewidth": 0,
             "ticks": ""
            },
            "type": "choropleth"
           }
          ],
          "contour": [
           {
            "colorbar": {
             "outlinewidth": 0,
             "ticks": ""
            },
            "colorscale": [
             [
              0,
              "#0d0887"
             ],
             [
              0.1111111111111111,
              "#46039f"
             ],
             [
              0.2222222222222222,
              "#7201a8"
             ],
             [
              0.3333333333333333,
              "#9c179e"
             ],
             [
              0.4444444444444444,
              "#bd3786"
             ],
             [
              0.5555555555555556,
              "#d8576b"
             ],
             [
              0.6666666666666666,
              "#ed7953"
             ],
             [
              0.7777777777777778,
              "#fb9f3a"
             ],
             [
              0.8888888888888888,
              "#fdca26"
             ],
             [
              1,
              "#f0f921"
             ]
            ],
            "type": "contour"
           }
          ],
          "contourcarpet": [
           {
            "colorbar": {
             "outlinewidth": 0,
             "ticks": ""
            },
            "type": "contourcarpet"
           }
          ],
          "heatmap": [
           {
            "colorbar": {
             "outlinewidth": 0,
             "ticks": ""
            },
            "colorscale": [
             [
              0,
              "#0d0887"
             ],
             [
              0.1111111111111111,
              "#46039f"
             ],
             [
              0.2222222222222222,
              "#7201a8"
             ],
             [
              0.3333333333333333,
              "#9c179e"
             ],
             [
              0.4444444444444444,
              "#bd3786"
             ],
             [
              0.5555555555555556,
              "#d8576b"
             ],
             [
              0.6666666666666666,
              "#ed7953"
             ],
             [
              0.7777777777777778,
              "#fb9f3a"
             ],
             [
              0.8888888888888888,
              "#fdca26"
             ],
             [
              1,
              "#f0f921"
             ]
            ],
            "type": "heatmap"
           }
          ],
          "heatmapgl": [
           {
            "colorbar": {
             "outlinewidth": 0,
             "ticks": ""
            },
            "colorscale": [
             [
              0,
              "#0d0887"
             ],
             [
              0.1111111111111111,
              "#46039f"
             ],
             [
              0.2222222222222222,
              "#7201a8"
             ],
             [
              0.3333333333333333,
              "#9c179e"
             ],
             [
              0.4444444444444444,
              "#bd3786"
             ],
             [
              0.5555555555555556,
              "#d8576b"
             ],
             [
              0.6666666666666666,
              "#ed7953"
             ],
             [
              0.7777777777777778,
              "#fb9f3a"
             ],
             [
              0.8888888888888888,
              "#fdca26"
             ],
             [
              1,
              "#f0f921"
             ]
            ],
            "type": "heatmapgl"
           }
          ],
          "histogram": [
           {
            "marker": {
             "colorbar": {
              "outlinewidth": 0,
              "ticks": ""
             }
            },
            "type": "histogram"
           }
          ],
          "histogram2d": [
           {
            "colorbar": {
             "outlinewidth": 0,
             "ticks": ""
            },
            "colorscale": [
             [
              0,
              "#0d0887"
             ],
             [
              0.1111111111111111,
              "#46039f"
             ],
             [
              0.2222222222222222,
              "#7201a8"
             ],
             [
              0.3333333333333333,
              "#9c179e"
             ],
             [
              0.4444444444444444,
              "#bd3786"
             ],
             [
              0.5555555555555556,
              "#d8576b"
             ],
             [
              0.6666666666666666,
              "#ed7953"
             ],
             [
              0.7777777777777778,
              "#fb9f3a"
             ],
             [
              0.8888888888888888,
              "#fdca26"
             ],
             [
              1,
              "#f0f921"
             ]
            ],
            "type": "histogram2d"
           }
          ],
          "histogram2dcontour": [
           {
            "colorbar": {
             "outlinewidth": 0,
             "ticks": ""
            },
            "colorscale": [
             [
              0,
              "#0d0887"
             ],
             [
              0.1111111111111111,
              "#46039f"
             ],
             [
              0.2222222222222222,
              "#7201a8"
             ],
             [
              0.3333333333333333,
              "#9c179e"
             ],
             [
              0.4444444444444444,
              "#bd3786"
             ],
             [
              0.5555555555555556,
              "#d8576b"
             ],
             [
              0.6666666666666666,
              "#ed7953"
             ],
             [
              0.7777777777777778,
              "#fb9f3a"
             ],
             [
              0.8888888888888888,
              "#fdca26"
             ],
             [
              1,
              "#f0f921"
             ]
            ],
            "type": "histogram2dcontour"
           }
          ],
          "mesh3d": [
           {
            "colorbar": {
             "outlinewidth": 0,
             "ticks": ""
            },
            "type": "mesh3d"
           }
          ],
          "parcoords": [
           {
            "line": {
             "colorbar": {
              "outlinewidth": 0,
              "ticks": ""
             }
            },
            "type": "parcoords"
           }
          ],
          "scatter": [
           {
            "marker": {
             "colorbar": {
              "outlinewidth": 0,
              "ticks": ""
             }
            },
            "type": "scatter"
           }
          ],
          "scatter3d": [
           {
            "line": {
             "colorbar": {
              "outlinewidth": 0,
              "ticks": ""
             }
            },
            "marker": {
             "colorbar": {
              "outlinewidth": 0,
              "ticks": ""
             }
            },
            "type": "scatter3d"
           }
          ],
          "scattercarpet": [
           {
            "marker": {
             "colorbar": {
              "outlinewidth": 0,
              "ticks": ""
             }
            },
            "type": "scattercarpet"
           }
          ],
          "scattergeo": [
           {
            "marker": {
             "colorbar": {
              "outlinewidth": 0,
              "ticks": ""
             }
            },
            "type": "scattergeo"
           }
          ],
          "scattergl": [
           {
            "marker": {
             "colorbar": {
              "outlinewidth": 0,
              "ticks": ""
             }
            },
            "type": "scattergl"
           }
          ],
          "scattermapbox": [
           {
            "marker": {
             "colorbar": {
              "outlinewidth": 0,
              "ticks": ""
             }
            },
            "type": "scattermapbox"
           }
          ],
          "scatterpolar": [
           {
            "marker": {
             "colorbar": {
              "outlinewidth": 0,
              "ticks": ""
             }
            },
            "type": "scatterpolar"
           }
          ],
          "scatterpolargl": [
           {
            "marker": {
             "colorbar": {
              "outlinewidth": 0,
              "ticks": ""
             }
            },
            "type": "scatterpolargl"
           }
          ],
          "scatterternary": [
           {
            "marker": {
             "colorbar": {
              "outlinewidth": 0,
              "ticks": ""
             }
            },
            "type": "scatterternary"
           }
          ],
          "surface": [
           {
            "colorbar": {
             "outlinewidth": 0,
             "ticks": ""
            },
            "colorscale": [
             [
              0,
              "#0d0887"
             ],
             [
              0.1111111111111111,
              "#46039f"
             ],
             [
              0.2222222222222222,
              "#7201a8"
             ],
             [
              0.3333333333333333,
              "#9c179e"
             ],
             [
              0.4444444444444444,
              "#bd3786"
             ],
             [
              0.5555555555555556,
              "#d8576b"
             ],
             [
              0.6666666666666666,
              "#ed7953"
             ],
             [
              0.7777777777777778,
              "#fb9f3a"
             ],
             [
              0.8888888888888888,
              "#fdca26"
             ],
             [
              1,
              "#f0f921"
             ]
            ],
            "type": "surface"
           }
          ],
          "table": [
           {
            "cells": {
             "fill": {
              "color": "#EBF0F8"
             },
             "line": {
              "color": "white"
             }
            },
            "header": {
             "fill": {
              "color": "#C8D4E3"
             },
             "line": {
              "color": "white"
             }
            },
            "type": "table"
           }
          ]
         },
         "layout": {
          "annotationdefaults": {
           "arrowcolor": "#2a3f5f",
           "arrowhead": 0,
           "arrowwidth": 1
          },
          "colorscale": {
           "diverging": [
            [
             0,
             "#8e0152"
            ],
            [
             0.1,
             "#c51b7d"
            ],
            [
             0.2,
             "#de77ae"
            ],
            [
             0.3,
             "#f1b6da"
            ],
            [
             0.4,
             "#fde0ef"
            ],
            [
             0.5,
             "#f7f7f7"
            ],
            [
             0.6,
             "#e6f5d0"
            ],
            [
             0.7,
             "#b8e186"
            ],
            [
             0.8,
             "#7fbc41"
            ],
            [
             0.9,
             "#4d9221"
            ],
            [
             1,
             "#276419"
            ]
           ],
           "sequential": [
            [
             0,
             "#0d0887"
            ],
            [
             0.1111111111111111,
             "#46039f"
            ],
            [
             0.2222222222222222,
             "#7201a8"
            ],
            [
             0.3333333333333333,
             "#9c179e"
            ],
            [
             0.4444444444444444,
             "#bd3786"
            ],
            [
             0.5555555555555556,
             "#d8576b"
            ],
            [
             0.6666666666666666,
             "#ed7953"
            ],
            [
             0.7777777777777778,
             "#fb9f3a"
            ],
            [
             0.8888888888888888,
             "#fdca26"
            ],
            [
             1,
             "#f0f921"
            ]
           ],
           "sequentialminus": [
            [
             0,
             "#0d0887"
            ],
            [
             0.1111111111111111,
             "#46039f"
            ],
            [
             0.2222222222222222,
             "#7201a8"
            ],
            [
             0.3333333333333333,
             "#9c179e"
            ],
            [
             0.4444444444444444,
             "#bd3786"
            ],
            [
             0.5555555555555556,
             "#d8576b"
            ],
            [
             0.6666666666666666,
             "#ed7953"
            ],
            [
             0.7777777777777778,
             "#fb9f3a"
            ],
            [
             0.8888888888888888,
             "#fdca26"
            ],
            [
             1,
             "#f0f921"
            ]
           ]
          },
          "colorway": [
           "#636efa",
           "#EF553B",
           "#00cc96",
           "#ab63fa",
           "#FFA15A",
           "#19d3f3",
           "#FF6692",
           "#B6E880",
           "#FF97FF",
           "#FECB52"
          ],
          "font": {
           "color": "#2a3f5f"
          },
          "geo": {
           "bgcolor": "white",
           "lakecolor": "white",
           "landcolor": "#E5ECF6",
           "showlakes": true,
           "showland": true,
           "subunitcolor": "white"
          },
          "hoverlabel": {
           "align": "left"
          },
          "hovermode": "closest",
          "mapbox": {
           "style": "light"
          },
          "paper_bgcolor": "white",
          "plot_bgcolor": "#E5ECF6",
          "polar": {
           "angularaxis": {
            "gridcolor": "white",
            "linecolor": "white",
            "ticks": ""
           },
           "bgcolor": "#E5ECF6",
           "radialaxis": {
            "gridcolor": "white",
            "linecolor": "white",
            "ticks": ""
           }
          },
          "scene": {
           "xaxis": {
            "backgroundcolor": "#E5ECF6",
            "gridcolor": "white",
            "gridwidth": 2,
            "linecolor": "white",
            "showbackground": true,
            "ticks": "",
            "zerolinecolor": "white"
           },
           "yaxis": {
            "backgroundcolor": "#E5ECF6",
            "gridcolor": "white",
            "gridwidth": 2,
            "linecolor": "white",
            "showbackground": true,
            "ticks": "",
            "zerolinecolor": "white"
           },
           "zaxis": {
            "backgroundcolor": "#E5ECF6",
            "gridcolor": "white",
            "gridwidth": 2,
            "linecolor": "white",
            "showbackground": true,
            "ticks": "",
            "zerolinecolor": "white"
           }
          },
          "shapedefaults": {
           "line": {
            "color": "#2a3f5f"
           }
          },
          "ternary": {
           "aaxis": {
            "gridcolor": "white",
            "linecolor": "white",
            "ticks": ""
           },
           "baxis": {
            "gridcolor": "white",
            "linecolor": "white",
            "ticks": ""
           },
           "bgcolor": "#E5ECF6",
           "caxis": {
            "gridcolor": "white",
            "linecolor": "white",
            "ticks": ""
           }
          },
          "title": {
           "x": 0.05
          },
          "xaxis": {
           "automargin": true,
           "gridcolor": "white",
           "linecolor": "white",
           "ticks": "",
           "zerolinecolor": "white",
           "zerolinewidth": 2
          },
          "yaxis": {
           "automargin": true,
           "gridcolor": "white",
           "linecolor": "white",
           "ticks": "",
           "zerolinecolor": "white",
           "zerolinewidth": 2
          }
         }
        },
        "xaxis": {
         "anchor": "y",
         "domain": [
          0,
          0.98
         ],
         "title": {
          "text": "Date"
         }
        },
        "yaxis": {
         "anchor": "x",
         "domain": [
          0,
          1
         ],
         "title": {
          "text": "freq"
         }
        }
       }
      },
      "text/html": [
       "<div>\n",
       "        \n",
       "        \n",
       "            <div id=\"0a90db98-cd4c-408f-973d-20d803fd9fd1\" class=\"plotly-graph-div\" style=\"height:600px; width:100%;\"></div>\n",
       "            <script type=\"text/javascript\">\n",
       "                require([\"plotly\"], function(Plotly) {\n",
       "                    window.PLOTLYENV=window.PLOTLYENV || {};\n",
       "                    \n",
       "                if (document.getElementById(\"0a90db98-cd4c-408f-973d-20d803fd9fd1\")) {\n",
       "                    Plotly.newPlot(\n",
       "                        '0a90db98-cd4c-408f-973d-20d803fd9fd1',\n",
       "                        [{\"hoverlabel\": {\"namelength\": 0}, \"hovertemplate\": \"Date=%{x}<br>freq=%{marker.color}\", \"legendgroup\": \"\", \"marker\": {\"color\": [0, 0, 0, 0, 0, 0, 2, 11, 2, 4, 5, 7, 4, 7, 4, 5, 6, 3, 0, 5, 0, 12, 22], \"coloraxis\": \"coloraxis\", \"size\": [0, 0, 0, 0, 0, 0, 2, 11, 2, 4, 5, 7, 4, 7, 4, 5, 6, 3, 0, 5, 0, 12, 22], \"sizemode\": \"area\", \"sizeref\": 0.006111111111111111, \"symbol\": \"circle\"}, \"mode\": \"markers\", \"name\": \"\", \"showlegend\": false, \"type\": \"scatter\", \"x\": [\"2020-02-22T20:42:53\", \"2020-02-23T19:53:43\", \"2020-02-23T20:49:31\", \"2020-02-23T20:53:05\", \"2020-02-24T02:52:34\", \"2020-03-07T07:30:42\", \"2020-03-15T13:51:10\", \"2020-03-17T16:53:44\", \"2020-03-24T10:45:16\", \"2020-03-24T13:16:54\", \"2020-03-25T00:33:48\", \"2020-03-28T13:00:25\", \"2020-03-29T22:02:30\", \"2020-03-29T22:05:35\", \"2020-03-31T15:52:36\", \"2020-04-03T18:25:21\", \"2020-04-04T19:13:29\", \"2020-04-06T23:34:57\", \"2020-04-10T01:41:19\", \"2020-04-10T08:28:58\", \"2020-04-10T23:44:24\", \"2020-04-13T19:26:06\", \"2020-04-13T20:01:59\"], \"xaxis\": \"x\", \"y\": [0, 0, 0, 0, 0, 0, 2, 11, 2, 4, 5, 7, 4, 7, 4, 5, 6, 3, 0, 5, 0, 12, 22], \"yaxis\": \"y\"}],\n",
       "                        {\"coloraxis\": {\"colorbar\": {\"title\": {\"text\": \"freq\"}}, \"colorscale\": [[0.0, \"#0d0887\"], [0.1111111111111111, \"#46039f\"], [0.2222222222222222, \"#7201a8\"], [0.3333333333333333, \"#9c179e\"], [0.4444444444444444, \"#bd3786\"], [0.5555555555555556, \"#d8576b\"], [0.6666666666666666, \"#ed7953\"], [0.7777777777777778, \"#fb9f3a\"], [0.8888888888888888, \"#fdca26\"], [1.0, \"#f0f921\"]]}, \"height\": 600, \"legend\": {\"itemsizing\": \"constant\", \"tracegroupgap\": 0}, \"margin\": {\"t\": 60}, \"template\": {\"data\": {\"bar\": [{\"error_x\": {\"color\": \"#2a3f5f\"}, \"error_y\": {\"color\": \"#2a3f5f\"}, \"marker\": {\"line\": {\"color\": \"#E5ECF6\", \"width\": 0.5}}, \"type\": \"bar\"}], \"barpolar\": [{\"marker\": {\"line\": {\"color\": \"#E5ECF6\", \"width\": 0.5}}, \"type\": \"barpolar\"}], \"carpet\": [{\"aaxis\": {\"endlinecolor\": \"#2a3f5f\", \"gridcolor\": \"white\", \"linecolor\": \"white\", \"minorgridcolor\": \"white\", \"startlinecolor\": \"#2a3f5f\"}, \"baxis\": {\"endlinecolor\": \"#2a3f5f\", \"gridcolor\": \"white\", \"linecolor\": \"white\", \"minorgridcolor\": \"white\", \"startlinecolor\": \"#2a3f5f\"}, \"type\": \"carpet\"}], \"choropleth\": [{\"colorbar\": {\"outlinewidth\": 0, \"ticks\": \"\"}, \"type\": \"choropleth\"}], \"contour\": [{\"colorbar\": {\"outlinewidth\": 0, \"ticks\": \"\"}, \"colorscale\": [[0.0, \"#0d0887\"], [0.1111111111111111, \"#46039f\"], [0.2222222222222222, \"#7201a8\"], [0.3333333333333333, \"#9c179e\"], [0.4444444444444444, \"#bd3786\"], [0.5555555555555556, \"#d8576b\"], [0.6666666666666666, \"#ed7953\"], [0.7777777777777778, \"#fb9f3a\"], [0.8888888888888888, \"#fdca26\"], [1.0, \"#f0f921\"]], \"type\": \"contour\"}], \"contourcarpet\": [{\"colorbar\": {\"outlinewidth\": 0, \"ticks\": \"\"}, \"type\": \"contourcarpet\"}], \"heatmap\": [{\"colorbar\": {\"outlinewidth\": 0, \"ticks\": \"\"}, \"colorscale\": [[0.0, \"#0d0887\"], [0.1111111111111111, \"#46039f\"], [0.2222222222222222, \"#7201a8\"], [0.3333333333333333, \"#9c179e\"], [0.4444444444444444, \"#bd3786\"], [0.5555555555555556, \"#d8576b\"], [0.6666666666666666, \"#ed7953\"], [0.7777777777777778, \"#fb9f3a\"], [0.8888888888888888, \"#fdca26\"], [1.0, \"#f0f921\"]], \"type\": \"heatmap\"}], \"heatmapgl\": [{\"colorbar\": {\"outlinewidth\": 0, \"ticks\": \"\"}, \"colorscale\": [[0.0, \"#0d0887\"], [0.1111111111111111, \"#46039f\"], [0.2222222222222222, \"#7201a8\"], [0.3333333333333333, \"#9c179e\"], [0.4444444444444444, \"#bd3786\"], [0.5555555555555556, \"#d8576b\"], [0.6666666666666666, \"#ed7953\"], [0.7777777777777778, \"#fb9f3a\"], [0.8888888888888888, \"#fdca26\"], [1.0, \"#f0f921\"]], \"type\": \"heatmapgl\"}], \"histogram\": [{\"marker\": {\"colorbar\": {\"outlinewidth\": 0, \"ticks\": \"\"}}, \"type\": \"histogram\"}], \"histogram2d\": [{\"colorbar\": {\"outlinewidth\": 0, \"ticks\": \"\"}, \"colorscale\": [[0.0, \"#0d0887\"], [0.1111111111111111, \"#46039f\"], [0.2222222222222222, \"#7201a8\"], [0.3333333333333333, \"#9c179e\"], [0.4444444444444444, \"#bd3786\"], [0.5555555555555556, \"#d8576b\"], [0.6666666666666666, \"#ed7953\"], [0.7777777777777778, \"#fb9f3a\"], [0.8888888888888888, \"#fdca26\"], [1.0, \"#f0f921\"]], \"type\": \"histogram2d\"}], \"histogram2dcontour\": [{\"colorbar\": {\"outlinewidth\": 0, \"ticks\": \"\"}, \"colorscale\": [[0.0, \"#0d0887\"], [0.1111111111111111, \"#46039f\"], [0.2222222222222222, \"#7201a8\"], [0.3333333333333333, \"#9c179e\"], [0.4444444444444444, \"#bd3786\"], [0.5555555555555556, \"#d8576b\"], [0.6666666666666666, \"#ed7953\"], [0.7777777777777778, \"#fb9f3a\"], [0.8888888888888888, \"#fdca26\"], [1.0, \"#f0f921\"]], \"type\": \"histogram2dcontour\"}], \"mesh3d\": [{\"colorbar\": {\"outlinewidth\": 0, \"ticks\": \"\"}, \"type\": \"mesh3d\"}], \"parcoords\": [{\"line\": {\"colorbar\": {\"outlinewidth\": 0, \"ticks\": \"\"}}, \"type\": \"parcoords\"}], \"scatter\": [{\"marker\": {\"colorbar\": {\"outlinewidth\": 0, \"ticks\": \"\"}}, \"type\": \"scatter\"}], \"scatter3d\": [{\"line\": {\"colorbar\": {\"outlinewidth\": 0, \"ticks\": \"\"}}, \"marker\": {\"colorbar\": {\"outlinewidth\": 0, \"ticks\": \"\"}}, \"type\": \"scatter3d\"}], \"scattercarpet\": [{\"marker\": {\"colorbar\": {\"outlinewidth\": 0, \"ticks\": \"\"}}, \"type\": \"scattercarpet\"}], \"scattergeo\": [{\"marker\": {\"colorbar\": {\"outlinewidth\": 0, \"ticks\": \"\"}}, \"type\": \"scattergeo\"}], \"scattergl\": [{\"marker\": {\"colorbar\": {\"outlinewidth\": 0, \"ticks\": \"\"}}, \"type\": \"scattergl\"}], \"scattermapbox\": [{\"marker\": {\"colorbar\": {\"outlinewidth\": 0, \"ticks\": \"\"}}, \"type\": \"scattermapbox\"}], \"scatterpolar\": [{\"marker\": {\"colorbar\": {\"outlinewidth\": 0, \"ticks\": \"\"}}, \"type\": \"scatterpolar\"}], \"scatterpolargl\": [{\"marker\": {\"colorbar\": {\"outlinewidth\": 0, \"ticks\": \"\"}}, \"type\": \"scatterpolargl\"}], \"scatterternary\": [{\"marker\": {\"colorbar\": {\"outlinewidth\": 0, \"ticks\": \"\"}}, \"type\": \"scatterternary\"}], \"surface\": [{\"colorbar\": {\"outlinewidth\": 0, \"ticks\": \"\"}, \"colorscale\": [[0.0, \"#0d0887\"], [0.1111111111111111, \"#46039f\"], [0.2222222222222222, \"#7201a8\"], [0.3333333333333333, \"#9c179e\"], [0.4444444444444444, \"#bd3786\"], [0.5555555555555556, \"#d8576b\"], [0.6666666666666666, \"#ed7953\"], [0.7777777777777778, \"#fb9f3a\"], [0.8888888888888888, \"#fdca26\"], [1.0, \"#f0f921\"]], \"type\": \"surface\"}], \"table\": [{\"cells\": {\"fill\": {\"color\": \"#EBF0F8\"}, \"line\": {\"color\": \"white\"}}, \"header\": {\"fill\": {\"color\": \"#C8D4E3\"}, \"line\": {\"color\": \"white\"}}, \"type\": \"table\"}]}, \"layout\": {\"annotationdefaults\": {\"arrowcolor\": \"#2a3f5f\", \"arrowhead\": 0, \"arrowwidth\": 1}, \"colorscale\": {\"diverging\": [[0, \"#8e0152\"], [0.1, \"#c51b7d\"], [0.2, \"#de77ae\"], [0.3, \"#f1b6da\"], [0.4, \"#fde0ef\"], [0.5, \"#f7f7f7\"], [0.6, \"#e6f5d0\"], [0.7, \"#b8e186\"], [0.8, \"#7fbc41\"], [0.9, \"#4d9221\"], [1, \"#276419\"]], \"sequential\": [[0.0, \"#0d0887\"], [0.1111111111111111, \"#46039f\"], [0.2222222222222222, \"#7201a8\"], [0.3333333333333333, \"#9c179e\"], [0.4444444444444444, \"#bd3786\"], [0.5555555555555556, \"#d8576b\"], [0.6666666666666666, \"#ed7953\"], [0.7777777777777778, \"#fb9f3a\"], [0.8888888888888888, \"#fdca26\"], [1.0, \"#f0f921\"]], \"sequentialminus\": [[0.0, \"#0d0887\"], [0.1111111111111111, \"#46039f\"], [0.2222222222222222, \"#7201a8\"], [0.3333333333333333, \"#9c179e\"], [0.4444444444444444, \"#bd3786\"], [0.5555555555555556, \"#d8576b\"], [0.6666666666666666, \"#ed7953\"], [0.7777777777777778, \"#fb9f3a\"], [0.8888888888888888, \"#fdca26\"], [1.0, \"#f0f921\"]]}, \"colorway\": [\"#636efa\", \"#EF553B\", \"#00cc96\", \"#ab63fa\", \"#FFA15A\", \"#19d3f3\", \"#FF6692\", \"#B6E880\", \"#FF97FF\", \"#FECB52\"], \"font\": {\"color\": \"#2a3f5f\"}, \"geo\": {\"bgcolor\": \"white\", \"lakecolor\": \"white\", \"landcolor\": \"#E5ECF6\", \"showlakes\": true, \"showland\": true, \"subunitcolor\": \"white\"}, \"hoverlabel\": {\"align\": \"left\"}, \"hovermode\": \"closest\", \"mapbox\": {\"style\": \"light\"}, \"paper_bgcolor\": \"white\", \"plot_bgcolor\": \"#E5ECF6\", \"polar\": {\"angularaxis\": {\"gridcolor\": \"white\", \"linecolor\": \"white\", \"ticks\": \"\"}, \"bgcolor\": \"#E5ECF6\", \"radialaxis\": {\"gridcolor\": \"white\", \"linecolor\": \"white\", \"ticks\": \"\"}}, \"scene\": {\"xaxis\": {\"backgroundcolor\": \"#E5ECF6\", \"gridcolor\": \"white\", \"gridwidth\": 2, \"linecolor\": \"white\", \"showbackground\": true, \"ticks\": \"\", \"zerolinecolor\": \"white\"}, \"yaxis\": {\"backgroundcolor\": \"#E5ECF6\", \"gridcolor\": \"white\", \"gridwidth\": 2, \"linecolor\": \"white\", \"showbackground\": true, \"ticks\": \"\", \"zerolinecolor\": \"white\"}, \"zaxis\": {\"backgroundcolor\": \"#E5ECF6\", \"gridcolor\": \"white\", \"gridwidth\": 2, \"linecolor\": \"white\", \"showbackground\": true, \"ticks\": \"\", \"zerolinecolor\": \"white\"}}, \"shapedefaults\": {\"line\": {\"color\": \"#2a3f5f\"}}, \"ternary\": {\"aaxis\": {\"gridcolor\": \"white\", \"linecolor\": \"white\", \"ticks\": \"\"}, \"baxis\": {\"gridcolor\": \"white\", \"linecolor\": \"white\", \"ticks\": \"\"}, \"bgcolor\": \"#E5ECF6\", \"caxis\": {\"gridcolor\": \"white\", \"linecolor\": \"white\", \"ticks\": \"\"}}, \"title\": {\"x\": 0.05}, \"xaxis\": {\"automargin\": true, \"gridcolor\": \"white\", \"linecolor\": \"white\", \"ticks\": \"\", \"zerolinecolor\": \"white\", \"zerolinewidth\": 2}, \"yaxis\": {\"automargin\": true, \"gridcolor\": \"white\", \"linecolor\": \"white\", \"ticks\": \"\", \"zerolinecolor\": \"white\", \"zerolinewidth\": 2}}}, \"xaxis\": {\"anchor\": \"y\", \"domain\": [0.0, 0.98], \"title\": {\"text\": \"Date\"}}, \"yaxis\": {\"anchor\": \"x\", \"domain\": [0.0, 1.0], \"title\": {\"text\": \"freq\"}}},\n",
       "                        {\"responsive\": true}\n",
       "                    ).then(function(){\n",
       "                            \n",
       "var gd = document.getElementById('0a90db98-cd4c-408f-973d-20d803fd9fd1');\n",
       "var x = new MutationObserver(function (mutations, observer) {{\n",
       "        var display = window.getComputedStyle(gd).display;\n",
       "        if (!display || display === 'none') {{\n",
       "            console.log([gd, 'removed!']);\n",
       "            Plotly.purge(gd);\n",
       "            observer.disconnect();\n",
       "        }}\n",
       "}});\n",
       "\n",
       "// Listen for the removal of the full notebook cells\n",
       "var notebookContainer = gd.closest('#notebook-container');\n",
       "if (notebookContainer) {{\n",
       "    x.observe(notebookContainer, {childList: true});\n",
       "}}\n",
       "\n",
       "// Listen for the clearing of the current output cell\n",
       "var outputEl = gd.closest('.output');\n",
       "if (outputEl) {{\n",
       "    x.observe(outputEl, {childList: true});\n",
       "}}\n",
       "\n",
       "                        })\n",
       "                };\n",
       "                });\n",
       "            </script>\n",
       "        </div>"
      ]
     },
     "metadata": {},
     "output_type": "display_data"
    }
   ],
   "source": [
    "fig = px.scatter(clean_df, x=\"Date\", \n",
    "                 y=\"freq\", \n",
    "                 size=\"freq\", \n",
    "                 color=\"freq\",\n",
    "                 log_x=False, size_max=60)\n",
    "fig.show()"
   ]
  },
  {
   "cell_type": "code",
   "execution_count": 137,
   "metadata": {},
   "outputs": [
    {
     "data": {
      "application/vnd.plotly.v1+json": {
       "config": {
        "plotlyServerURL": "https://plot.ly"
       },
       "data": [
        {
         "hoverlabel": {
          "namelength": 0
         },
         "hovertemplate": "Date=2020-02-04T09:54:03<br>freq=%{marker.size}",
         "legendgroup": "",
         "marker": {
          "color": "#636efa",
          "size": [
           0
          ],
          "sizemode": "area",
          "sizeref": 0.013333333333333334,
          "symbol": "circle"
         },
         "mode": "markers",
         "name": "",
         "showlegend": false,
         "type": "scatter",
         "x": [
          0
         ],
         "xaxis": "x",
         "y": [
          0
         ],
         "yaxis": "y"
        }
       ],
       "frames": [
        {
         "data": [
          {
           "hoverlabel": {
            "namelength": 0
           },
           "hovertemplate": "Date=2020-02-04T09:54:03<br>freq=%{marker.size}",
           "legendgroup": "",
           "marker": {
            "color": "#636efa",
            "size": [
             0
            ],
            "sizemode": "area",
            "sizeref": 0.013333333333333334,
            "symbol": "circle"
           },
           "mode": "markers",
           "name": "",
           "showlegend": false,
           "type": "scatter",
           "x": [
            0
           ],
           "xaxis": "x",
           "y": [
            0
           ],
           "yaxis": "y"
          }
         ],
         "name": "2020-02-04T09:54:03"
        },
        {
         "data": [
          {
           "hoverlabel": {
            "namelength": 0
           },
           "hovertemplate": "Date=2020-02-04T09:57:54<br>freq=%{marker.size}",
           "legendgroup": "",
           "marker": {
            "color": "#636efa",
            "size": [
             0
            ],
            "sizemode": "area",
            "sizeref": 0.013333333333333334,
            "symbol": "circle"
           },
           "mode": "markers",
           "name": "",
           "showlegend": false,
           "type": "scatter",
           "x": [
            0
           ],
           "xaxis": "x",
           "y": [
            0
           ],
           "yaxis": "y"
          }
         ],
         "name": "2020-02-04T09:57:54"
        },
        {
         "data": [
          {
           "hoverlabel": {
            "namelength": 0
           },
           "hovertemplate": "Date=2020-02-06T09:51:04<br>freq=%{marker.size}",
           "legendgroup": "",
           "marker": {
            "color": "#636efa",
            "size": [
             1
            ],
            "sizemode": "area",
            "sizeref": 0.013333333333333334,
            "symbol": "circle"
           },
           "mode": "markers",
           "name": "",
           "showlegend": false,
           "type": "scatter",
           "x": [
            1
           ],
           "xaxis": "x",
           "y": [
            1
           ],
           "yaxis": "y"
          }
         ],
         "name": "2020-02-06T09:51:04"
        },
        {
         "data": [
          {
           "hoverlabel": {
            "namelength": 0
           },
           "hovertemplate": "Date=2020-02-06T11:22:31<br>freq=%{marker.size}",
           "legendgroup": "",
           "marker": {
            "color": "#636efa",
            "size": [
             0
            ],
            "sizemode": "area",
            "sizeref": 0.013333333333333334,
            "symbol": "circle"
           },
           "mode": "markers",
           "name": "",
           "showlegend": false,
           "type": "scatter",
           "x": [
            0
           ],
           "xaxis": "x",
           "y": [
            0
           ],
           "yaxis": "y"
          }
         ],
         "name": "2020-02-06T11:22:31"
        },
        {
         "data": [
          {
           "hoverlabel": {
            "namelength": 0
           },
           "hovertemplate": "Date=2020-02-06T12:59:27<br>freq=%{marker.size}",
           "legendgroup": "",
           "marker": {
            "color": "#636efa",
            "size": [
             0
            ],
            "sizemode": "area",
            "sizeref": 0.013333333333333334,
            "symbol": "circle"
           },
           "mode": "markers",
           "name": "",
           "showlegend": false,
           "type": "scatter",
           "x": [
            0
           ],
           "xaxis": "x",
           "y": [
            0
           ],
           "yaxis": "y"
          }
         ],
         "name": "2020-02-06T12:59:27"
        },
        {
         "data": [
          {
           "hoverlabel": {
            "namelength": 0
           },
           "hovertemplate": "Date=2020-02-07T10:02:05<br>freq=%{marker.size}",
           "legendgroup": "",
           "marker": {
            "color": "#636efa",
            "size": [
             0
            ],
            "sizemode": "area",
            "sizeref": 0.013333333333333334,
            "symbol": "circle"
           },
           "mode": "markers",
           "name": "",
           "showlegend": false,
           "type": "scatter",
           "x": [
            0
           ],
           "xaxis": "x",
           "y": [
            0
           ],
           "yaxis": "y"
          }
         ],
         "name": "2020-02-07T10:02:05"
        },
        {
         "data": [
          {
           "hoverlabel": {
            "namelength": 0
           },
           "hovertemplate": "Date=2020-02-07T10:06:52<br>freq=%{marker.size}",
           "legendgroup": "",
           "marker": {
            "color": "#636efa",
            "size": [
             0
            ],
            "sizemode": "area",
            "sizeref": 0.013333333333333334,
            "symbol": "circle"
           },
           "mode": "markers",
           "name": "",
           "showlegend": false,
           "type": "scatter",
           "x": [
            0
           ],
           "xaxis": "x",
           "y": [
            0
           ],
           "yaxis": "y"
          }
         ],
         "name": "2020-02-07T10:06:52"
        },
        {
         "data": [
          {
           "hoverlabel": {
            "namelength": 0
           },
           "hovertemplate": "Date=2020-02-07T16:24:37<br>freq=%{marker.size}",
           "legendgroup": "",
           "marker": {
            "color": "#636efa",
            "size": [
             0
            ],
            "sizemode": "area",
            "sizeref": 0.013333333333333334,
            "symbol": "circle"
           },
           "mode": "markers",
           "name": "",
           "showlegend": false,
           "type": "scatter",
           "x": [
            0
           ],
           "xaxis": "x",
           "y": [
            0
           ],
           "yaxis": "y"
          }
         ],
         "name": "2020-02-07T16:24:37"
        },
        {
         "data": [
          {
           "hoverlabel": {
            "namelength": 0
           },
           "hovertemplate": "Date=2020-02-10T09:49:10<br>freq=%{marker.size}",
           "legendgroup": "",
           "marker": {
            "color": "#636efa",
            "size": [
             0
            ],
            "sizemode": "area",
            "sizeref": 0.013333333333333334,
            "symbol": "circle"
           },
           "mode": "markers",
           "name": "",
           "showlegend": false,
           "type": "scatter",
           "x": [
            0
           ],
           "xaxis": "x",
           "y": [
            0
           ],
           "yaxis": "y"
          }
         ],
         "name": "2020-02-10T09:49:10"
        },
        {
         "data": [
          {
           "hoverlabel": {
            "namelength": 0
           },
           "hovertemplate": "Date=2020-02-10T16:26:08<br>freq=%{marker.size}",
           "legendgroup": "",
           "marker": {
            "color": "#636efa",
            "size": [
             0
            ],
            "sizemode": "area",
            "sizeref": 0.013333333333333334,
            "symbol": "circle"
           },
           "mode": "markers",
           "name": "",
           "showlegend": false,
           "type": "scatter",
           "x": [
            0
           ],
           "xaxis": "x",
           "y": [
            0
           ],
           "yaxis": "y"
          }
         ],
         "name": "2020-02-10T16:26:08"
        },
        {
         "data": [
          {
           "hoverlabel": {
            "namelength": 0
           },
           "hovertemplate": "Date=2020-02-13T10:06:57<br>freq=%{marker.size}",
           "legendgroup": "",
           "marker": {
            "color": "#636efa",
            "size": [
             24
            ],
            "sizemode": "area",
            "sizeref": 0.013333333333333334,
            "symbol": "circle"
           },
           "mode": "markers",
           "name": "",
           "showlegend": false,
           "type": "scatter",
           "x": [
            24
           ],
           "xaxis": "x",
           "y": [
            24
           ],
           "yaxis": "y"
          }
         ],
         "name": "2020-02-13T10:06:57"
        },
        {
         "data": [
          {
           "hoverlabel": {
            "namelength": 0
           },
           "hovertemplate": "Date=2020-02-13T10:16:09<br>freq=%{marker.size}",
           "legendgroup": "",
           "marker": {
            "color": "#636efa",
            "size": [
             0
            ],
            "sizemode": "area",
            "sizeref": 0.013333333333333334,
            "symbol": "circle"
           },
           "mode": "markers",
           "name": "",
           "showlegend": false,
           "type": "scatter",
           "x": [
            0
           ],
           "xaxis": "x",
           "y": [
            0
           ],
           "yaxis": "y"
          }
         ],
         "name": "2020-02-13T10:16:09"
        },
        {
         "data": [
          {
           "hoverlabel": {
            "namelength": 0
           },
           "hovertemplate": "Date=2020-02-13T11:17:19<br>freq=%{marker.size}",
           "legendgroup": "",
           "marker": {
            "color": "#636efa",
            "size": [
             11
            ],
            "sizemode": "area",
            "sizeref": 0.013333333333333334,
            "symbol": "circle"
           },
           "mode": "markers",
           "name": "",
           "showlegend": false,
           "type": "scatter",
           "x": [
            11
           ],
           "xaxis": "x",
           "y": [
            11
           ],
           "yaxis": "y"
          }
         ],
         "name": "2020-02-13T11:17:19"
        },
        {
         "data": [
          {
           "hoverlabel": {
            "namelength": 0
           },
           "hovertemplate": "Date=2020-02-14T09:09:40<br>freq=%{marker.size}",
           "legendgroup": "",
           "marker": {
            "color": "#636efa",
            "size": [
             0
            ],
            "sizemode": "area",
            "sizeref": 0.013333333333333334,
            "symbol": "circle"
           },
           "mode": "markers",
           "name": "",
           "showlegend": false,
           "type": "scatter",
           "x": [
            0
           ],
           "xaxis": "x",
           "y": [
            0
           ],
           "yaxis": "y"
          }
         ],
         "name": "2020-02-14T09:09:40"
        },
        {
         "data": [
          {
           "hoverlabel": {
            "namelength": 0
           },
           "hovertemplate": "Date=2020-02-14T09:18:01<br>freq=%{marker.size}",
           "legendgroup": "",
           "marker": {
            "color": "#636efa",
            "size": [
             0
            ],
            "sizemode": "area",
            "sizeref": 0.013333333333333334,
            "symbol": "circle"
           },
           "mode": "markers",
           "name": "",
           "showlegend": false,
           "type": "scatter",
           "x": [
            0
           ],
           "xaxis": "x",
           "y": [
            0
           ],
           "yaxis": "y"
          }
         ],
         "name": "2020-02-14T09:18:01"
        },
        {
         "data": [
          {
           "hoverlabel": {
            "namelength": 0
           },
           "hovertemplate": "Date=2020-02-14T16:10:34<br>freq=%{marker.size}",
           "legendgroup": "",
           "marker": {
            "color": "#636efa",
            "size": [
             0
            ],
            "sizemode": "area",
            "sizeref": 0.013333333333333334,
            "symbol": "circle"
           },
           "mode": "markers",
           "name": "",
           "showlegend": false,
           "type": "scatter",
           "x": [
            0
           ],
           "xaxis": "x",
           "y": [
            0
           ],
           "yaxis": "y"
          }
         ],
         "name": "2020-02-14T16:10:34"
        },
        {
         "data": [
          {
           "hoverlabel": {
            "namelength": 0
           },
           "hovertemplate": "Date=2020-02-14T16:16:18<br>freq=%{marker.size}",
           "legendgroup": "",
           "marker": {
            "color": "#636efa",
            "size": [
             0
            ],
            "sizemode": "area",
            "sizeref": 0.013333333333333334,
            "symbol": "circle"
           },
           "mode": "markers",
           "name": "",
           "showlegend": false,
           "type": "scatter",
           "x": [
            0
           ],
           "xaxis": "x",
           "y": [
            0
           ],
           "yaxis": "y"
          }
         ],
         "name": "2020-02-14T16:16:18"
        },
        {
         "data": [
          {
           "hoverlabel": {
            "namelength": 0
           },
           "hovertemplate": "Date=2020-02-21T09:36:25<br>freq=%{marker.size}",
           "legendgroup": "",
           "marker": {
            "color": "#636efa",
            "size": [
             0
            ],
            "sizemode": "area",
            "sizeref": 0.013333333333333334,
            "symbol": "circle"
           },
           "mode": "markers",
           "name": "",
           "showlegend": false,
           "type": "scatter",
           "x": [
            0
           ],
           "xaxis": "x",
           "y": [
            0
           ],
           "yaxis": "y"
          }
         ],
         "name": "2020-02-21T09:36:25"
        },
        {
         "data": [
          {
           "hoverlabel": {
            "namelength": 0
           },
           "hovertemplate": "Date=2020-02-21T09:37:39<br>freq=%{marker.size}",
           "legendgroup": "",
           "marker": {
            "color": "#636efa",
            "size": [
             0
            ],
            "sizemode": "area",
            "sizeref": 0.013333333333333334,
            "symbol": "circle"
           },
           "mode": "markers",
           "name": "",
           "showlegend": false,
           "type": "scatter",
           "x": [
            0
           ],
           "xaxis": "x",
           "y": [
            0
           ],
           "yaxis": "y"
          }
         ],
         "name": "2020-02-21T09:37:39"
        },
        {
         "data": [
          {
           "hoverlabel": {
            "namelength": 0
           },
           "hovertemplate": "Date=2020-02-21T09:39:47<br>freq=%{marker.size}",
           "legendgroup": "",
           "marker": {
            "color": "#636efa",
            "size": [
             1
            ],
            "sizemode": "area",
            "sizeref": 0.013333333333333334,
            "symbol": "circle"
           },
           "mode": "markers",
           "name": "",
           "showlegend": false,
           "type": "scatter",
           "x": [
            1
           ],
           "xaxis": "x",
           "y": [
            1
           ],
           "yaxis": "y"
          }
         ],
         "name": "2020-02-21T09:39:47"
        },
        {
         "data": [
          {
           "hoverlabel": {
            "namelength": 0
           },
           "hovertemplate": "Date=2020-02-25T16:48:00<br>freq=%{marker.size}",
           "legendgroup": "",
           "marker": {
            "color": "#636efa",
            "size": [
             0
            ],
            "sizemode": "area",
            "sizeref": 0.013333333333333334,
            "symbol": "circle"
           },
           "mode": "markers",
           "name": "",
           "showlegend": false,
           "type": "scatter",
           "x": [
            0
           ],
           "xaxis": "x",
           "y": [
            0
           ],
           "yaxis": "y"
          }
         ],
         "name": "2020-02-25T16:48:00"
        },
        {
         "data": [
          {
           "hoverlabel": {
            "namelength": 0
           },
           "hovertemplate": "Date=2020-02-28T12:24:35<br>freq=%{marker.size}",
           "legendgroup": "",
           "marker": {
            "color": "#636efa",
            "size": [
             0
            ],
            "sizemode": "area",
            "sizeref": 0.013333333333333334,
            "symbol": "circle"
           },
           "mode": "markers",
           "name": "",
           "showlegend": false,
           "type": "scatter",
           "x": [
            0
           ],
           "xaxis": "x",
           "y": [
            0
           ],
           "yaxis": "y"
          }
         ],
         "name": "2020-02-28T12:24:35"
        },
        {
         "data": [
          {
           "hoverlabel": {
            "namelength": 0
           },
           "hovertemplate": "Date=2020-02-28T12:26:22<br>freq=%{marker.size}",
           "legendgroup": "",
           "marker": {
            "color": "#636efa",
            "size": [
             0,
             0
            ],
            "sizemode": "area",
            "sizeref": 0.013333333333333334,
            "symbol": "circle"
           },
           "mode": "markers",
           "name": "",
           "showlegend": false,
           "type": "scatter",
           "x": [
            0,
            0
           ],
           "xaxis": "x",
           "y": [
            0,
            0
           ],
           "yaxis": "y"
          }
         ],
         "name": "2020-02-28T12:26:22"
        },
        {
         "data": [
          {
           "hoverlabel": {
            "namelength": 0
           },
           "hovertemplate": "Date=2020-03-03T10:25:18<br>freq=%{marker.size}",
           "legendgroup": "",
           "marker": {
            "color": "#636efa",
            "size": [
             0,
             0
            ],
            "sizemode": "area",
            "sizeref": 0.013333333333333334,
            "symbol": "circle"
           },
           "mode": "markers",
           "name": "",
           "showlegend": false,
           "type": "scatter",
           "x": [
            0,
            0
           ],
           "xaxis": "x",
           "y": [
            0,
            0
           ],
           "yaxis": "y"
          }
         ],
         "name": "2020-03-03T10:25:18"
        },
        {
         "data": [
          {
           "hoverlabel": {
            "namelength": 0
           },
           "hovertemplate": "Date=2020-03-04T22:49:30<br>freq=%{marker.size}",
           "legendgroup": "",
           "marker": {
            "color": "#636efa",
            "size": [
             0
            ],
            "sizemode": "area",
            "sizeref": 0.013333333333333334,
            "symbol": "circle"
           },
           "mode": "markers",
           "name": "",
           "showlegend": false,
           "type": "scatter",
           "x": [
            0
           ],
           "xaxis": "x",
           "y": [
            0
           ],
           "yaxis": "y"
          }
         ],
         "name": "2020-03-04T22:49:30"
        },
        {
         "data": [
          {
           "hoverlabel": {
            "namelength": 0
           },
           "hovertemplate": "Date=2020-03-06T13:06:00<br>freq=%{marker.size}",
           "legendgroup": "",
           "marker": {
            "color": "#636efa",
            "size": [
             0
            ],
            "sizemode": "area",
            "sizeref": 0.013333333333333334,
            "symbol": "circle"
           },
           "mode": "markers",
           "name": "",
           "showlegend": false,
           "type": "scatter",
           "x": [
            0
           ],
           "xaxis": "x",
           "y": [
            0
           ],
           "yaxis": "y"
          }
         ],
         "name": "2020-03-06T13:06:00"
        },
        {
         "data": [
          {
           "hoverlabel": {
            "namelength": 0
           },
           "hovertemplate": "Date=2020-03-07T12:31:02<br>freq=%{marker.size}",
           "legendgroup": "",
           "marker": {
            "color": "#636efa",
            "size": [
             0
            ],
            "sizemode": "area",
            "sizeref": 0.013333333333333334,
            "symbol": "circle"
           },
           "mode": "markers",
           "name": "",
           "showlegend": false,
           "type": "scatter",
           "x": [
            0
           ],
           "xaxis": "x",
           "y": [
            0
           ],
           "yaxis": "y"
          }
         ],
         "name": "2020-03-07T12:31:02"
        },
        {
         "data": [
          {
           "hoverlabel": {
            "namelength": 0
           },
           "hovertemplate": "Date=2020-03-09T10:38:37<br>freq=%{marker.size}",
           "legendgroup": "",
           "marker": {
            "color": "#636efa",
            "size": [
             0,
             0
            ],
            "sizemode": "area",
            "sizeref": 0.013333333333333334,
            "symbol": "circle"
           },
           "mode": "markers",
           "name": "",
           "showlegend": false,
           "type": "scatter",
           "x": [
            0,
            0
           ],
           "xaxis": "x",
           "y": [
            0,
            0
           ],
           "yaxis": "y"
          }
         ],
         "name": "2020-03-09T10:38:37"
        },
        {
         "data": [
          {
           "hoverlabel": {
            "namelength": 0
           },
           "hovertemplate": "Date=2020-03-10T19:13:44<br>freq=%{marker.size}",
           "legendgroup": "",
           "marker": {
            "color": "#636efa",
            "size": [
             0,
             0
            ],
            "sizemode": "area",
            "sizeref": 0.013333333333333334,
            "symbol": "circle"
           },
           "mode": "markers",
           "name": "",
           "showlegend": false,
           "type": "scatter",
           "x": [
            0,
            0
           ],
           "xaxis": "x",
           "y": [
            0,
            0
           ],
           "yaxis": "y"
          }
         ],
         "name": "2020-03-10T19:13:44"
        },
        {
         "data": [
          {
           "hoverlabel": {
            "namelength": 0
           },
           "hovertemplate": "Date=2020-03-12T09:00:35<br>freq=%{marker.size}",
           "legendgroup": "",
           "marker": {
            "color": "#636efa",
            "size": [
             0
            ],
            "sizemode": "area",
            "sizeref": 0.013333333333333334,
            "symbol": "circle"
           },
           "mode": "markers",
           "name": "",
           "showlegend": false,
           "type": "scatter",
           "x": [
            0
           ],
           "xaxis": "x",
           "y": [
            0
           ],
           "yaxis": "y"
          }
         ],
         "name": "2020-03-12T09:00:35"
        },
        {
         "data": [
          {
           "hoverlabel": {
            "namelength": 0
           },
           "hovertemplate": "Date=2020-03-12T09:05:47<br>freq=%{marker.size}",
           "legendgroup": "",
           "marker": {
            "color": "#636efa",
            "size": [
             0
            ],
            "sizemode": "area",
            "sizeref": 0.013333333333333334,
            "symbol": "circle"
           },
           "mode": "markers",
           "name": "",
           "showlegend": false,
           "type": "scatter",
           "x": [
            0
           ],
           "xaxis": "x",
           "y": [
            0
           ],
           "yaxis": "y"
          }
         ],
         "name": "2020-03-12T09:05:47"
        },
        {
         "data": [
          {
           "hoverlabel": {
            "namelength": 0
           },
           "hovertemplate": "Date=2020-03-12T09:16:48<br>freq=%{marker.size}",
           "legendgroup": "",
           "marker": {
            "color": "#636efa",
            "size": [
             8
            ],
            "sizemode": "area",
            "sizeref": 0.013333333333333334,
            "symbol": "circle"
           },
           "mode": "markers",
           "name": "",
           "showlegend": false,
           "type": "scatter",
           "x": [
            8
           ],
           "xaxis": "x",
           "y": [
            8
           ],
           "yaxis": "y"
          }
         ],
         "name": "2020-03-12T09:16:48"
        },
        {
         "data": [
          {
           "hoverlabel": {
            "namelength": 0
           },
           "hovertemplate": "Date=2020-03-12T09:54:02<br>freq=%{marker.size}",
           "legendgroup": "",
           "marker": {
            "color": "#636efa",
            "size": [
             0
            ],
            "sizemode": "area",
            "sizeref": 0.013333333333333334,
            "symbol": "circle"
           },
           "mode": "markers",
           "name": "",
           "showlegend": false,
           "type": "scatter",
           "x": [
            0
           ],
           "xaxis": "x",
           "y": [
            0
           ],
           "yaxis": "y"
          }
         ],
         "name": "2020-03-12T09:54:02"
        },
        {
         "data": [
          {
           "hoverlabel": {
            "namelength": 0
           },
           "hovertemplate": "Date=2020-03-12T15:10:06<br>freq=%{marker.size}",
           "legendgroup": "",
           "marker": {
            "color": "#636efa",
            "size": [
             0
            ],
            "sizemode": "area",
            "sizeref": 0.013333333333333334,
            "symbol": "circle"
           },
           "mode": "markers",
           "name": "",
           "showlegend": false,
           "type": "scatter",
           "x": [
            0
           ],
           "xaxis": "x",
           "y": [
            0
           ],
           "yaxis": "y"
          }
         ],
         "name": "2020-03-12T15:10:06"
        },
        {
         "data": [
          {
           "hoverlabel": {
            "namelength": 0
           },
           "hovertemplate": "Date=2020-03-13T11:34:50<br>freq=%{marker.size}",
           "legendgroup": "",
           "marker": {
            "color": "#636efa",
            "size": [
             0
            ],
            "sizemode": "area",
            "sizeref": 0.013333333333333334,
            "symbol": "circle"
           },
           "mode": "markers",
           "name": "",
           "showlegend": false,
           "type": "scatter",
           "x": [
            0
           ],
           "xaxis": "x",
           "y": [
            0
           ],
           "yaxis": "y"
          }
         ],
         "name": "2020-03-13T11:34:50"
        },
        {
         "data": [
          {
           "hoverlabel": {
            "namelength": 0
           },
           "hovertemplate": "Date=2020-03-13T14:47:56<br>freq=%{marker.size}",
           "legendgroup": "",
           "marker": {
            "color": "#636efa",
            "size": [
             0
            ],
            "sizemode": "area",
            "sizeref": 0.013333333333333334,
            "symbol": "circle"
           },
           "mode": "markers",
           "name": "",
           "showlegend": false,
           "type": "scatter",
           "x": [
            0
           ],
           "xaxis": "x",
           "y": [
            0
           ],
           "yaxis": "y"
          }
         ],
         "name": "2020-03-13T14:47:56"
        },
        {
         "data": [
          {
           "hoverlabel": {
            "namelength": 0
           },
           "hovertemplate": "Date=2020-03-16T18:54:12<br>freq=%{marker.size}",
           "legendgroup": "",
           "marker": {
            "color": "#636efa",
            "size": [
             1
            ],
            "sizemode": "area",
            "sizeref": 0.013333333333333334,
            "symbol": "circle"
           },
           "mode": "markers",
           "name": "",
           "showlegend": false,
           "type": "scatter",
           "x": [
            1
           ],
           "xaxis": "x",
           "y": [
            1
           ],
           "yaxis": "y"
          }
         ],
         "name": "2020-03-16T18:54:12"
        },
        {
         "data": [
          {
           "hoverlabel": {
            "namelength": 0
           },
           "hovertemplate": "Date=2020-03-16T18:57:29<br>freq=%{marker.size}",
           "legendgroup": "",
           "marker": {
            "color": "#636efa",
            "size": [
             0
            ],
            "sizemode": "area",
            "sizeref": 0.013333333333333334,
            "symbol": "circle"
           },
           "mode": "markers",
           "name": "",
           "showlegend": false,
           "type": "scatter",
           "x": [
            0
           ],
           "xaxis": "x",
           "y": [
            0
           ],
           "yaxis": "y"
          }
         ],
         "name": "2020-03-16T18:57:29"
        },
        {
         "data": [
          {
           "hoverlabel": {
            "namelength": 0
           },
           "hovertemplate": "Date=2020-03-19T10:38:42<br>freq=%{marker.size}",
           "legendgroup": "",
           "marker": {
            "color": "#636efa",
            "size": [
             0
            ],
            "sizemode": "area",
            "sizeref": 0.013333333333333334,
            "symbol": "circle"
           },
           "mode": "markers",
           "name": "",
           "showlegend": false,
           "type": "scatter",
           "x": [
            0
           ],
           "xaxis": "x",
           "y": [
            0
           ],
           "yaxis": "y"
          }
         ],
         "name": "2020-03-19T10:38:42"
        },
        {
         "data": [
          {
           "hoverlabel": {
            "namelength": 0
           },
           "hovertemplate": "Date=2020-03-19T13:35:18<br>freq=%{marker.size}",
           "legendgroup": "",
           "marker": {
            "color": "#636efa",
            "size": [
             0
            ],
            "sizemode": "area",
            "sizeref": 0.013333333333333334,
            "symbol": "circle"
           },
           "mode": "markers",
           "name": "",
           "showlegend": false,
           "type": "scatter",
           "x": [
            0
           ],
           "xaxis": "x",
           "y": [
            0
           ],
           "yaxis": "y"
          }
         ],
         "name": "2020-03-19T13:35:18"
        },
        {
         "data": [
          {
           "hoverlabel": {
            "namelength": 0
           },
           "hovertemplate": "Date=2020-03-19T17:20:01<br>freq=%{marker.size}",
           "legendgroup": "",
           "marker": {
            "color": "#636efa",
            "size": [
             0
            ],
            "sizemode": "area",
            "sizeref": 0.013333333333333334,
            "symbol": "circle"
           },
           "mode": "markers",
           "name": "",
           "showlegend": false,
           "type": "scatter",
           "x": [
            0
           ],
           "xaxis": "x",
           "y": [
            0
           ],
           "yaxis": "y"
          }
         ],
         "name": "2020-03-19T17:20:01"
        },
        {
         "data": [
          {
           "hoverlabel": {
            "namelength": 0
           },
           "hovertemplate": "Date=2020-03-19T20:42:48<br>freq=%{marker.size}",
           "legendgroup": "",
           "marker": {
            "color": "#636efa",
            "size": [
             1
            ],
            "sizemode": "area",
            "sizeref": 0.013333333333333334,
            "symbol": "circle"
           },
           "mode": "markers",
           "name": "",
           "showlegend": false,
           "type": "scatter",
           "x": [
            1
           ],
           "xaxis": "x",
           "y": [
            1
           ],
           "yaxis": "y"
          }
         ],
         "name": "2020-03-19T20:42:48"
        },
        {
         "data": [
          {
           "hoverlabel": {
            "namelength": 0
           },
           "hovertemplate": "Date=2020-03-23T12:42:50<br>freq=%{marker.size}",
           "legendgroup": "",
           "marker": {
            "color": "#636efa",
            "size": [
             0
            ],
            "sizemode": "area",
            "sizeref": 0.013333333333333334,
            "symbol": "circle"
           },
           "mode": "markers",
           "name": "",
           "showlegend": false,
           "type": "scatter",
           "x": [
            0
           ],
           "xaxis": "x",
           "y": [
            0
           ],
           "yaxis": "y"
          }
         ],
         "name": "2020-03-23T12:42:50"
        },
        {
         "data": [
          {
           "hoverlabel": {
            "namelength": 0
           },
           "hovertemplate": "Date=2020-03-23T16:37:50<br>freq=%{marker.size}",
           "legendgroup": "",
           "marker": {
            "color": "#636efa",
            "size": [
             2
            ],
            "sizemode": "area",
            "sizeref": 0.013333333333333334,
            "symbol": "circle"
           },
           "mode": "markers",
           "name": "",
           "showlegend": false,
           "type": "scatter",
           "x": [
            2
           ],
           "xaxis": "x",
           "y": [
            2
           ],
           "yaxis": "y"
          }
         ],
         "name": "2020-03-23T16:37:50"
        },
        {
         "data": [
          {
           "hoverlabel": {
            "namelength": 0
           },
           "hovertemplate": "Date=2020-03-23T17:10:54<br>freq=%{marker.size}",
           "legendgroup": "",
           "marker": {
            "color": "#636efa",
            "size": [
             3
            ],
            "sizemode": "area",
            "sizeref": 0.013333333333333334,
            "symbol": "circle"
           },
           "mode": "markers",
           "name": "",
           "showlegend": false,
           "type": "scatter",
           "x": [
            3
           ],
           "xaxis": "x",
           "y": [
            3
           ],
           "yaxis": "y"
          }
         ],
         "name": "2020-03-23T17:10:54"
        },
        {
         "data": [
          {
           "hoverlabel": {
            "namelength": 0
           },
           "hovertemplate": "Date=2020-03-25T15:58:46<br>freq=%{marker.size}",
           "legendgroup": "",
           "marker": {
            "color": "#636efa",
            "size": [
             7
            ],
            "sizemode": "area",
            "sizeref": 0.013333333333333334,
            "symbol": "circle"
           },
           "mode": "markers",
           "name": "",
           "showlegend": false,
           "type": "scatter",
           "x": [
            7
           ],
           "xaxis": "x",
           "y": [
            7
           ],
           "yaxis": "y"
          }
         ],
         "name": "2020-03-25T15:58:46"
        },
        {
         "data": [
          {
           "hoverlabel": {
            "namelength": 0
           },
           "hovertemplate": "Date=2020-03-27T11:18:50<br>freq=%{marker.size}",
           "legendgroup": "",
           "marker": {
            "color": "#636efa",
            "size": [
             7
            ],
            "sizemode": "area",
            "sizeref": 0.013333333333333334,
            "symbol": "circle"
           },
           "mode": "markers",
           "name": "",
           "showlegend": false,
           "type": "scatter",
           "x": [
            7
           ],
           "xaxis": "x",
           "y": [
            7
           ],
           "yaxis": "y"
          }
         ],
         "name": "2020-03-27T11:18:50"
        },
        {
         "data": [
          {
           "hoverlabel": {
            "namelength": 0
           },
           "hovertemplate": "Date=2020-03-27T12:02:43<br>freq=%{marker.size}",
           "legendgroup": "",
           "marker": {
            "color": "#636efa",
            "size": [
             5
            ],
            "sizemode": "area",
            "sizeref": 0.013333333333333334,
            "symbol": "circle"
           },
           "mode": "markers",
           "name": "",
           "showlegend": false,
           "type": "scatter",
           "x": [
            5
           ],
           "xaxis": "x",
           "y": [
            5
           ],
           "yaxis": "y"
          }
         ],
         "name": "2020-03-27T12:02:43"
        },
        {
         "data": [
          {
           "hoverlabel": {
            "namelength": 0
           },
           "hovertemplate": "Date=2020-03-27T12:32:50<br>freq=%{marker.size}",
           "legendgroup": "",
           "marker": {
            "color": "#636efa",
            "size": [
             3
            ],
            "sizemode": "area",
            "sizeref": 0.013333333333333334,
            "symbol": "circle"
           },
           "mode": "markers",
           "name": "",
           "showlegend": false,
           "type": "scatter",
           "x": [
            3
           ],
           "xaxis": "x",
           "y": [
            3
           ],
           "yaxis": "y"
          }
         ],
         "name": "2020-03-27T12:32:50"
        },
        {
         "data": [
          {
           "hoverlabel": {
            "namelength": 0
           },
           "hovertemplate": "Date=2020-03-27T18:03:54<br>freq=%{marker.size}",
           "legendgroup": "",
           "marker": {
            "color": "#636efa",
            "size": [
             3
            ],
            "sizemode": "area",
            "sizeref": 0.013333333333333334,
            "symbol": "circle"
           },
           "mode": "markers",
           "name": "",
           "showlegend": false,
           "type": "scatter",
           "x": [
            3
           ],
           "xaxis": "x",
           "y": [
            3
           ],
           "yaxis": "y"
          }
         ],
         "name": "2020-03-27T18:03:54"
        },
        {
         "data": [
          {
           "hoverlabel": {
            "namelength": 0
           },
           "hovertemplate": "Date=2020-03-28T23:54:32<br>freq=%{marker.size}",
           "legendgroup": "",
           "marker": {
            "color": "#636efa",
            "size": [
             0
            ],
            "sizemode": "area",
            "sizeref": 0.013333333333333334,
            "symbol": "circle"
           },
           "mode": "markers",
           "name": "",
           "showlegend": false,
           "type": "scatter",
           "x": [
            0
           ],
           "xaxis": "x",
           "y": [
            0
           ],
           "yaxis": "y"
          }
         ],
         "name": "2020-03-28T23:54:32"
        },
        {
         "data": [
          {
           "hoverlabel": {
            "namelength": 0
           },
           "hovertemplate": "Date=2020-03-28T23:57:12<br>freq=%{marker.size}",
           "legendgroup": "",
           "marker": {
            "color": "#636efa",
            "size": [
             4
            ],
            "sizemode": "area",
            "sizeref": 0.013333333333333334,
            "symbol": "circle"
           },
           "mode": "markers",
           "name": "",
           "showlegend": false,
           "type": "scatter",
           "x": [
            4
           ],
           "xaxis": "x",
           "y": [
            4
           ],
           "yaxis": "y"
          }
         ],
         "name": "2020-03-28T23:57:12"
        },
        {
         "data": [
          {
           "hoverlabel": {
            "namelength": 0
           },
           "hovertemplate": "Date=2020-03-29T10:49:18<br>freq=%{marker.size}",
           "legendgroup": "",
           "marker": {
            "color": "#636efa",
            "size": [
             1
            ],
            "sizemode": "area",
            "sizeref": 0.013333333333333334,
            "symbol": "circle"
           },
           "mode": "markers",
           "name": "",
           "showlegend": false,
           "type": "scatter",
           "x": [
            1
           ],
           "xaxis": "x",
           "y": [
            1
           ],
           "yaxis": "y"
          }
         ],
         "name": "2020-03-29T10:49:18"
        },
        {
         "data": [
          {
           "hoverlabel": {
            "namelength": 0
           },
           "hovertemplate": "Date=2020-03-29T11:05:42<br>freq=%{marker.size}",
           "legendgroup": "",
           "marker": {
            "color": "#636efa",
            "size": [
             1
            ],
            "sizemode": "area",
            "sizeref": 0.013333333333333334,
            "symbol": "circle"
           },
           "mode": "markers",
           "name": "",
           "showlegend": false,
           "type": "scatter",
           "x": [
            1
           ],
           "xaxis": "x",
           "y": [
            1
           ],
           "yaxis": "y"
          }
         ],
         "name": "2020-03-29T11:05:42"
        },
        {
         "data": [
          {
           "hoverlabel": {
            "namelength": 0
           },
           "hovertemplate": "Date=2020-03-29T11:21:15<br>freq=%{marker.size}",
           "legendgroup": "",
           "marker": {
            "color": "#636efa",
            "size": [
             1
            ],
            "sizemode": "area",
            "sizeref": 0.013333333333333334,
            "symbol": "circle"
           },
           "mode": "markers",
           "name": "",
           "showlegend": false,
           "type": "scatter",
           "x": [
            1
           ],
           "xaxis": "x",
           "y": [
            1
           ],
           "yaxis": "y"
          }
         ],
         "name": "2020-03-29T11:21:15"
        },
        {
         "data": [
          {
           "hoverlabel": {
            "namelength": 0
           },
           "hovertemplate": "Date=2020-03-29T12:28:00<br>freq=%{marker.size}",
           "legendgroup": "",
           "marker": {
            "color": "#636efa",
            "size": [
             1
            ],
            "sizemode": "area",
            "sizeref": 0.013333333333333334,
            "symbol": "circle"
           },
           "mode": "markers",
           "name": "",
           "showlegend": false,
           "type": "scatter",
           "x": [
            1
           ],
           "xaxis": "x",
           "y": [
            1
           ],
           "yaxis": "y"
          }
         ],
         "name": "2020-03-29T12:28:00"
        },
        {
         "data": [
          {
           "hoverlabel": {
            "namelength": 0
           },
           "hovertemplate": "Date=2020-03-29T13:57:28<br>freq=%{marker.size}",
           "legendgroup": "",
           "marker": {
            "color": "#636efa",
            "size": [
             0
            ],
            "sizemode": "area",
            "sizeref": 0.013333333333333334,
            "symbol": "circle"
           },
           "mode": "markers",
           "name": "",
           "showlegend": false,
           "type": "scatter",
           "x": [
            0
           ],
           "xaxis": "x",
           "y": [
            0
           ],
           "yaxis": "y"
          }
         ],
         "name": "2020-03-29T13:57:28"
        },
        {
         "data": [
          {
           "hoverlabel": {
            "namelength": 0
           },
           "hovertemplate": "Date=2020-03-29T20:02:57<br>freq=%{marker.size}",
           "legendgroup": "",
           "marker": {
            "color": "#636efa",
            "size": [
             0
            ],
            "sizemode": "area",
            "sizeref": 0.013333333333333334,
            "symbol": "circle"
           },
           "mode": "markers",
           "name": "",
           "showlegend": false,
           "type": "scatter",
           "x": [
            0
           ],
           "xaxis": "x",
           "y": [
            0
           ],
           "yaxis": "y"
          }
         ],
         "name": "2020-03-29T20:02:57"
        },
        {
         "data": [
          {
           "hoverlabel": {
            "namelength": 0
           },
           "hovertemplate": "Date=2020-03-31T09:44:38<br>freq=%{marker.size}",
           "legendgroup": "",
           "marker": {
            "color": "#636efa",
            "size": [
             1,
             6
            ],
            "sizemode": "area",
            "sizeref": 0.013333333333333334,
            "symbol": "circle"
           },
           "mode": "markers",
           "name": "",
           "showlegend": false,
           "type": "scatter",
           "x": [
            1,
            6
           ],
           "xaxis": "x",
           "y": [
            1,
            6
           ],
           "yaxis": "y"
          }
         ],
         "name": "2020-03-31T09:44:38"
        },
        {
         "data": [
          {
           "hoverlabel": {
            "namelength": 0
           },
           "hovertemplate": "Date=2020-04-02T11:11:58<br>freq=%{marker.size}",
           "legendgroup": "",
           "marker": {
            "color": "#636efa",
            "size": [
             0,
             21
            ],
            "sizemode": "area",
            "sizeref": 0.013333333333333334,
            "symbol": "circle"
           },
           "mode": "markers",
           "name": "",
           "showlegend": false,
           "type": "scatter",
           "x": [
            0,
            21
           ],
           "xaxis": "x",
           "y": [
            0,
            21
           ],
           "yaxis": "y"
          }
         ],
         "name": "2020-04-02T11:11:58"
        },
        {
         "data": [
          {
           "hoverlabel": {
            "namelength": 0
           },
           "hovertemplate": "Date=2020-04-02T11:22:52<br>freq=%{marker.size}",
           "legendgroup": "",
           "marker": {
            "color": "#636efa",
            "size": [
             3,
             0
            ],
            "sizemode": "area",
            "sizeref": 0.013333333333333334,
            "symbol": "circle"
           },
           "mode": "markers",
           "name": "",
           "showlegend": false,
           "type": "scatter",
           "x": [
            3,
            0
           ],
           "xaxis": "x",
           "y": [
            3,
            0
           ],
           "yaxis": "y"
          }
         ],
         "name": "2020-04-02T11:22:52"
        },
        {
         "data": [
          {
           "hoverlabel": {
            "namelength": 0
           },
           "hovertemplate": "Date=2020-04-02T16:37:20<br>freq=%{marker.size}",
           "legendgroup": "",
           "marker": {
            "color": "#636efa",
            "size": [
             1,
             11
            ],
            "sizemode": "area",
            "sizeref": 0.013333333333333334,
            "symbol": "circle"
           },
           "mode": "markers",
           "name": "",
           "showlegend": false,
           "type": "scatter",
           "x": [
            1,
            11
           ],
           "xaxis": "x",
           "y": [
            1,
            11
           ],
           "yaxis": "y"
          }
         ],
         "name": "2020-04-02T16:37:20"
        },
        {
         "data": [
          {
           "hoverlabel": {
            "namelength": 0
           },
           "hovertemplate": "Date=2020-04-03T12:47:16<br>freq=%{marker.size}",
           "legendgroup": "",
           "marker": {
            "color": "#636efa",
            "size": [
             0
            ],
            "sizemode": "area",
            "sizeref": 0.013333333333333334,
            "symbol": "circle"
           },
           "mode": "markers",
           "name": "",
           "showlegend": false,
           "type": "scatter",
           "x": [
            0
           ],
           "xaxis": "x",
           "y": [
            0
           ],
           "yaxis": "y"
          }
         ],
         "name": "2020-04-03T12:47:16"
        },
        {
         "data": [
          {
           "hoverlabel": {
            "namelength": 0
           },
           "hovertemplate": "Date=2020-04-03T12:52:02<br>freq=%{marker.size}",
           "legendgroup": "",
           "marker": {
            "color": "#636efa",
            "size": [
             0
            ],
            "sizemode": "area",
            "sizeref": 0.013333333333333334,
            "symbol": "circle"
           },
           "mode": "markers",
           "name": "",
           "showlegend": false,
           "type": "scatter",
           "x": [
            0
           ],
           "xaxis": "x",
           "y": [
            0
           ],
           "yaxis": "y"
          }
         ],
         "name": "2020-04-03T12:52:02"
        },
        {
         "data": [
          {
           "hoverlabel": {
            "namelength": 0
           },
           "hovertemplate": "Date=2020-04-06T10:30:21<br>freq=%{marker.size}",
           "legendgroup": "",
           "marker": {
            "color": "#636efa",
            "size": [
             3
            ],
            "sizemode": "area",
            "sizeref": 0.013333333333333334,
            "symbol": "circle"
           },
           "mode": "markers",
           "name": "",
           "showlegend": false,
           "type": "scatter",
           "x": [
            3
           ],
           "xaxis": "x",
           "y": [
            3
           ],
           "yaxis": "y"
          }
         ],
         "name": "2020-04-06T10:30:21"
        },
        {
         "data": [
          {
           "hoverlabel": {
            "namelength": 0
           },
           "hovertemplate": "Date=2020-04-06T16:51:49<br>freq=%{marker.size}",
           "legendgroup": "",
           "marker": {
            "color": "#636efa",
            "size": [
             0
            ],
            "sizemode": "area",
            "sizeref": 0.013333333333333334,
            "symbol": "circle"
           },
           "mode": "markers",
           "name": "",
           "showlegend": false,
           "type": "scatter",
           "x": [
            0
           ],
           "xaxis": "x",
           "y": [
            0
           ],
           "yaxis": "y"
          }
         ],
         "name": "2020-04-06T16:51:49"
        },
        {
         "data": [
          {
           "hoverlabel": {
            "namelength": 0
           },
           "hovertemplate": "Date=2020-04-08T13:44:21<br>freq=%{marker.size}",
           "legendgroup": "",
           "marker": {
            "color": "#636efa",
            "size": [
             2
            ],
            "sizemode": "area",
            "sizeref": 0.013333333333333334,
            "symbol": "circle"
           },
           "mode": "markers",
           "name": "",
           "showlegend": false,
           "type": "scatter",
           "x": [
            2
           ],
           "xaxis": "x",
           "y": [
            2
           ],
           "yaxis": "y"
          }
         ],
         "name": "2020-04-08T13:44:21"
        },
        {
         "data": [
          {
           "hoverlabel": {
            "namelength": 0
           },
           "hovertemplate": "Date=2020-04-09T12:11:28<br>freq=%{marker.size}",
           "legendgroup": "",
           "marker": {
            "color": "#636efa",
            "size": [
             27
            ],
            "sizemode": "area",
            "sizeref": 0.013333333333333334,
            "symbol": "circle"
           },
           "mode": "markers",
           "name": "",
           "showlegend": false,
           "type": "scatter",
           "x": [
            27
           ],
           "xaxis": "x",
           "y": [
            27
           ],
           "yaxis": "y"
          }
         ],
         "name": "2020-04-09T12:11:28"
        },
        {
         "data": [
          {
           "hoverlabel": {
            "namelength": 0
           },
           "hovertemplate": "Date=2020-04-09T15:58:23<br>freq=%{marker.size}",
           "legendgroup": "",
           "marker": {
            "color": "#636efa",
            "size": [
             8
            ],
            "sizemode": "area",
            "sizeref": 0.013333333333333334,
            "symbol": "circle"
           },
           "mode": "markers",
           "name": "",
           "showlegend": false,
           "type": "scatter",
           "x": [
            8
           ],
           "xaxis": "x",
           "y": [
            8
           ],
           "yaxis": "y"
          }
         ],
         "name": "2020-04-09T15:58:23"
        },
        {
         "data": [
          {
           "hoverlabel": {
            "namelength": 0
           },
           "hovertemplate": "Date=2020-04-10T10:43:09<br>freq=%{marker.size}",
           "legendgroup": "",
           "marker": {
            "color": "#636efa",
            "size": [
             0,
             1
            ],
            "sizemode": "area",
            "sizeref": 0.013333333333333334,
            "symbol": "circle"
           },
           "mode": "markers",
           "name": "",
           "showlegend": false,
           "type": "scatter",
           "x": [
            0,
            1
           ],
           "xaxis": "x",
           "y": [
            0,
            1
           ],
           "yaxis": "y"
          }
         ],
         "name": "2020-04-10T10:43:09"
        },
        {
         "data": [
          {
           "hoverlabel": {
            "namelength": 0
           },
           "hovertemplate": "Date=2020-04-10T16:26:29<br>freq=%{marker.size}",
           "legendgroup": "",
           "marker": {
            "color": "#636efa",
            "size": [
             1,
             1
            ],
            "sizemode": "area",
            "sizeref": 0.013333333333333334,
            "symbol": "circle"
           },
           "mode": "markers",
           "name": "",
           "showlegend": false,
           "type": "scatter",
           "x": [
            1,
            1
           ],
           "xaxis": "x",
           "y": [
            1,
            1
           ],
           "yaxis": "y"
          }
         ],
         "name": "2020-04-10T16:26:29"
        }
       ],
       "layout": {
        "height": 600,
        "legend": {
         "itemsizing": "constant",
         "tracegroupgap": 0
        },
        "margin": {
         "t": 60
        },
        "sliders": [
         {
          "active": 0,
          "currentvalue": {
           "prefix": "Date="
          },
          "len": 0.9,
          "pad": {
           "b": 10,
           "t": 60
          },
          "steps": [
           {
            "args": [
             [
              "2020-02-04T09:54:03"
             ],
             {
              "frame": {
               "duration": 0,
               "redraw": false
              },
              "fromcurrent": true,
              "mode": "immediate",
              "transition": {
               "duration": 0,
               "easing": "linear"
              }
             }
            ],
            "label": "2020-02-04T09:54:03",
            "method": "animate"
           },
           {
            "args": [
             [
              "2020-02-04T09:57:54"
             ],
             {
              "frame": {
               "duration": 0,
               "redraw": false
              },
              "fromcurrent": true,
              "mode": "immediate",
              "transition": {
               "duration": 0,
               "easing": "linear"
              }
             }
            ],
            "label": "2020-02-04T09:57:54",
            "method": "animate"
           },
           {
            "args": [
             [
              "2020-02-06T09:51:04"
             ],
             {
              "frame": {
               "duration": 0,
               "redraw": false
              },
              "fromcurrent": true,
              "mode": "immediate",
              "transition": {
               "duration": 0,
               "easing": "linear"
              }
             }
            ],
            "label": "2020-02-06T09:51:04",
            "method": "animate"
           },
           {
            "args": [
             [
              "2020-02-06T11:22:31"
             ],
             {
              "frame": {
               "duration": 0,
               "redraw": false
              },
              "fromcurrent": true,
              "mode": "immediate",
              "transition": {
               "duration": 0,
               "easing": "linear"
              }
             }
            ],
            "label": "2020-02-06T11:22:31",
            "method": "animate"
           },
           {
            "args": [
             [
              "2020-02-06T12:59:27"
             ],
             {
              "frame": {
               "duration": 0,
               "redraw": false
              },
              "fromcurrent": true,
              "mode": "immediate",
              "transition": {
               "duration": 0,
               "easing": "linear"
              }
             }
            ],
            "label": "2020-02-06T12:59:27",
            "method": "animate"
           },
           {
            "args": [
             [
              "2020-02-07T10:02:05"
             ],
             {
              "frame": {
               "duration": 0,
               "redraw": false
              },
              "fromcurrent": true,
              "mode": "immediate",
              "transition": {
               "duration": 0,
               "easing": "linear"
              }
             }
            ],
            "label": "2020-02-07T10:02:05",
            "method": "animate"
           },
           {
            "args": [
             [
              "2020-02-07T10:06:52"
             ],
             {
              "frame": {
               "duration": 0,
               "redraw": false
              },
              "fromcurrent": true,
              "mode": "immediate",
              "transition": {
               "duration": 0,
               "easing": "linear"
              }
             }
            ],
            "label": "2020-02-07T10:06:52",
            "method": "animate"
           },
           {
            "args": [
             [
              "2020-02-07T16:24:37"
             ],
             {
              "frame": {
               "duration": 0,
               "redraw": false
              },
              "fromcurrent": true,
              "mode": "immediate",
              "transition": {
               "duration": 0,
               "easing": "linear"
              }
             }
            ],
            "label": "2020-02-07T16:24:37",
            "method": "animate"
           },
           {
            "args": [
             [
              "2020-02-10T09:49:10"
             ],
             {
              "frame": {
               "duration": 0,
               "redraw": false
              },
              "fromcurrent": true,
              "mode": "immediate",
              "transition": {
               "duration": 0,
               "easing": "linear"
              }
             }
            ],
            "label": "2020-02-10T09:49:10",
            "method": "animate"
           },
           {
            "args": [
             [
              "2020-02-10T16:26:08"
             ],
             {
              "frame": {
               "duration": 0,
               "redraw": false
              },
              "fromcurrent": true,
              "mode": "immediate",
              "transition": {
               "duration": 0,
               "easing": "linear"
              }
             }
            ],
            "label": "2020-02-10T16:26:08",
            "method": "animate"
           },
           {
            "args": [
             [
              "2020-02-13T10:06:57"
             ],
             {
              "frame": {
               "duration": 0,
               "redraw": false
              },
              "fromcurrent": true,
              "mode": "immediate",
              "transition": {
               "duration": 0,
               "easing": "linear"
              }
             }
            ],
            "label": "2020-02-13T10:06:57",
            "method": "animate"
           },
           {
            "args": [
             [
              "2020-02-13T10:16:09"
             ],
             {
              "frame": {
               "duration": 0,
               "redraw": false
              },
              "fromcurrent": true,
              "mode": "immediate",
              "transition": {
               "duration": 0,
               "easing": "linear"
              }
             }
            ],
            "label": "2020-02-13T10:16:09",
            "method": "animate"
           },
           {
            "args": [
             [
              "2020-02-13T11:17:19"
             ],
             {
              "frame": {
               "duration": 0,
               "redraw": false
              },
              "fromcurrent": true,
              "mode": "immediate",
              "transition": {
               "duration": 0,
               "easing": "linear"
              }
             }
            ],
            "label": "2020-02-13T11:17:19",
            "method": "animate"
           },
           {
            "args": [
             [
              "2020-02-14T09:09:40"
             ],
             {
              "frame": {
               "duration": 0,
               "redraw": false
              },
              "fromcurrent": true,
              "mode": "immediate",
              "transition": {
               "duration": 0,
               "easing": "linear"
              }
             }
            ],
            "label": "2020-02-14T09:09:40",
            "method": "animate"
           },
           {
            "args": [
             [
              "2020-02-14T09:18:01"
             ],
             {
              "frame": {
               "duration": 0,
               "redraw": false
              },
              "fromcurrent": true,
              "mode": "immediate",
              "transition": {
               "duration": 0,
               "easing": "linear"
              }
             }
            ],
            "label": "2020-02-14T09:18:01",
            "method": "animate"
           },
           {
            "args": [
             [
              "2020-02-14T16:10:34"
             ],
             {
              "frame": {
               "duration": 0,
               "redraw": false
              },
              "fromcurrent": true,
              "mode": "immediate",
              "transition": {
               "duration": 0,
               "easing": "linear"
              }
             }
            ],
            "label": "2020-02-14T16:10:34",
            "method": "animate"
           },
           {
            "args": [
             [
              "2020-02-14T16:16:18"
             ],
             {
              "frame": {
               "duration": 0,
               "redraw": false
              },
              "fromcurrent": true,
              "mode": "immediate",
              "transition": {
               "duration": 0,
               "easing": "linear"
              }
             }
            ],
            "label": "2020-02-14T16:16:18",
            "method": "animate"
           },
           {
            "args": [
             [
              "2020-02-21T09:36:25"
             ],
             {
              "frame": {
               "duration": 0,
               "redraw": false
              },
              "fromcurrent": true,
              "mode": "immediate",
              "transition": {
               "duration": 0,
               "easing": "linear"
              }
             }
            ],
            "label": "2020-02-21T09:36:25",
            "method": "animate"
           },
           {
            "args": [
             [
              "2020-02-21T09:37:39"
             ],
             {
              "frame": {
               "duration": 0,
               "redraw": false
              },
              "fromcurrent": true,
              "mode": "immediate",
              "transition": {
               "duration": 0,
               "easing": "linear"
              }
             }
            ],
            "label": "2020-02-21T09:37:39",
            "method": "animate"
           },
           {
            "args": [
             [
              "2020-02-21T09:39:47"
             ],
             {
              "frame": {
               "duration": 0,
               "redraw": false
              },
              "fromcurrent": true,
              "mode": "immediate",
              "transition": {
               "duration": 0,
               "easing": "linear"
              }
             }
            ],
            "label": "2020-02-21T09:39:47",
            "method": "animate"
           },
           {
            "args": [
             [
              "2020-02-25T16:48:00"
             ],
             {
              "frame": {
               "duration": 0,
               "redraw": false
              },
              "fromcurrent": true,
              "mode": "immediate",
              "transition": {
               "duration": 0,
               "easing": "linear"
              }
             }
            ],
            "label": "2020-02-25T16:48:00",
            "method": "animate"
           },
           {
            "args": [
             [
              "2020-02-28T12:24:35"
             ],
             {
              "frame": {
               "duration": 0,
               "redraw": false
              },
              "fromcurrent": true,
              "mode": "immediate",
              "transition": {
               "duration": 0,
               "easing": "linear"
              }
             }
            ],
            "label": "2020-02-28T12:24:35",
            "method": "animate"
           },
           {
            "args": [
             [
              "2020-02-28T12:26:22"
             ],
             {
              "frame": {
               "duration": 0,
               "redraw": false
              },
              "fromcurrent": true,
              "mode": "immediate",
              "transition": {
               "duration": 0,
               "easing": "linear"
              }
             }
            ],
            "label": "2020-02-28T12:26:22",
            "method": "animate"
           },
           {
            "args": [
             [
              "2020-03-03T10:25:18"
             ],
             {
              "frame": {
               "duration": 0,
               "redraw": false
              },
              "fromcurrent": true,
              "mode": "immediate",
              "transition": {
               "duration": 0,
               "easing": "linear"
              }
             }
            ],
            "label": "2020-03-03T10:25:18",
            "method": "animate"
           },
           {
            "args": [
             [
              "2020-03-04T22:49:30"
             ],
             {
              "frame": {
               "duration": 0,
               "redraw": false
              },
              "fromcurrent": true,
              "mode": "immediate",
              "transition": {
               "duration": 0,
               "easing": "linear"
              }
             }
            ],
            "label": "2020-03-04T22:49:30",
            "method": "animate"
           },
           {
            "args": [
             [
              "2020-03-06T13:06:00"
             ],
             {
              "frame": {
               "duration": 0,
               "redraw": false
              },
              "fromcurrent": true,
              "mode": "immediate",
              "transition": {
               "duration": 0,
               "easing": "linear"
              }
             }
            ],
            "label": "2020-03-06T13:06:00",
            "method": "animate"
           },
           {
            "args": [
             [
              "2020-03-07T12:31:02"
             ],
             {
              "frame": {
               "duration": 0,
               "redraw": false
              },
              "fromcurrent": true,
              "mode": "immediate",
              "transition": {
               "duration": 0,
               "easing": "linear"
              }
             }
            ],
            "label": "2020-03-07T12:31:02",
            "method": "animate"
           },
           {
            "args": [
             [
              "2020-03-09T10:38:37"
             ],
             {
              "frame": {
               "duration": 0,
               "redraw": false
              },
              "fromcurrent": true,
              "mode": "immediate",
              "transition": {
               "duration": 0,
               "easing": "linear"
              }
             }
            ],
            "label": "2020-03-09T10:38:37",
            "method": "animate"
           },
           {
            "args": [
             [
              "2020-03-10T19:13:44"
             ],
             {
              "frame": {
               "duration": 0,
               "redraw": false
              },
              "fromcurrent": true,
              "mode": "immediate",
              "transition": {
               "duration": 0,
               "easing": "linear"
              }
             }
            ],
            "label": "2020-03-10T19:13:44",
            "method": "animate"
           },
           {
            "args": [
             [
              "2020-03-12T09:00:35"
             ],
             {
              "frame": {
               "duration": 0,
               "redraw": false
              },
              "fromcurrent": true,
              "mode": "immediate",
              "transition": {
               "duration": 0,
               "easing": "linear"
              }
             }
            ],
            "label": "2020-03-12T09:00:35",
            "method": "animate"
           },
           {
            "args": [
             [
              "2020-03-12T09:05:47"
             ],
             {
              "frame": {
               "duration": 0,
               "redraw": false
              },
              "fromcurrent": true,
              "mode": "immediate",
              "transition": {
               "duration": 0,
               "easing": "linear"
              }
             }
            ],
            "label": "2020-03-12T09:05:47",
            "method": "animate"
           },
           {
            "args": [
             [
              "2020-03-12T09:16:48"
             ],
             {
              "frame": {
               "duration": 0,
               "redraw": false
              },
              "fromcurrent": true,
              "mode": "immediate",
              "transition": {
               "duration": 0,
               "easing": "linear"
              }
             }
            ],
            "label": "2020-03-12T09:16:48",
            "method": "animate"
           },
           {
            "args": [
             [
              "2020-03-12T09:54:02"
             ],
             {
              "frame": {
               "duration": 0,
               "redraw": false
              },
              "fromcurrent": true,
              "mode": "immediate",
              "transition": {
               "duration": 0,
               "easing": "linear"
              }
             }
            ],
            "label": "2020-03-12T09:54:02",
            "method": "animate"
           },
           {
            "args": [
             [
              "2020-03-12T15:10:06"
             ],
             {
              "frame": {
               "duration": 0,
               "redraw": false
              },
              "fromcurrent": true,
              "mode": "immediate",
              "transition": {
               "duration": 0,
               "easing": "linear"
              }
             }
            ],
            "label": "2020-03-12T15:10:06",
            "method": "animate"
           },
           {
            "args": [
             [
              "2020-03-13T11:34:50"
             ],
             {
              "frame": {
               "duration": 0,
               "redraw": false
              },
              "fromcurrent": true,
              "mode": "immediate",
              "transition": {
               "duration": 0,
               "easing": "linear"
              }
             }
            ],
            "label": "2020-03-13T11:34:50",
            "method": "animate"
           },
           {
            "args": [
             [
              "2020-03-13T14:47:56"
             ],
             {
              "frame": {
               "duration": 0,
               "redraw": false
              },
              "fromcurrent": true,
              "mode": "immediate",
              "transition": {
               "duration": 0,
               "easing": "linear"
              }
             }
            ],
            "label": "2020-03-13T14:47:56",
            "method": "animate"
           },
           {
            "args": [
             [
              "2020-03-16T18:54:12"
             ],
             {
              "frame": {
               "duration": 0,
               "redraw": false
              },
              "fromcurrent": true,
              "mode": "immediate",
              "transition": {
               "duration": 0,
               "easing": "linear"
              }
             }
            ],
            "label": "2020-03-16T18:54:12",
            "method": "animate"
           },
           {
            "args": [
             [
              "2020-03-16T18:57:29"
             ],
             {
              "frame": {
               "duration": 0,
               "redraw": false
              },
              "fromcurrent": true,
              "mode": "immediate",
              "transition": {
               "duration": 0,
               "easing": "linear"
              }
             }
            ],
            "label": "2020-03-16T18:57:29",
            "method": "animate"
           },
           {
            "args": [
             [
              "2020-03-19T10:38:42"
             ],
             {
              "frame": {
               "duration": 0,
               "redraw": false
              },
              "fromcurrent": true,
              "mode": "immediate",
              "transition": {
               "duration": 0,
               "easing": "linear"
              }
             }
            ],
            "label": "2020-03-19T10:38:42",
            "method": "animate"
           },
           {
            "args": [
             [
              "2020-03-19T13:35:18"
             ],
             {
              "frame": {
               "duration": 0,
               "redraw": false
              },
              "fromcurrent": true,
              "mode": "immediate",
              "transition": {
               "duration": 0,
               "easing": "linear"
              }
             }
            ],
            "label": "2020-03-19T13:35:18",
            "method": "animate"
           },
           {
            "args": [
             [
              "2020-03-19T17:20:01"
             ],
             {
              "frame": {
               "duration": 0,
               "redraw": false
              },
              "fromcurrent": true,
              "mode": "immediate",
              "transition": {
               "duration": 0,
               "easing": "linear"
              }
             }
            ],
            "label": "2020-03-19T17:20:01",
            "method": "animate"
           },
           {
            "args": [
             [
              "2020-03-19T20:42:48"
             ],
             {
              "frame": {
               "duration": 0,
               "redraw": false
              },
              "fromcurrent": true,
              "mode": "immediate",
              "transition": {
               "duration": 0,
               "easing": "linear"
              }
             }
            ],
            "label": "2020-03-19T20:42:48",
            "method": "animate"
           },
           {
            "args": [
             [
              "2020-03-23T12:42:50"
             ],
             {
              "frame": {
               "duration": 0,
               "redraw": false
              },
              "fromcurrent": true,
              "mode": "immediate",
              "transition": {
               "duration": 0,
               "easing": "linear"
              }
             }
            ],
            "label": "2020-03-23T12:42:50",
            "method": "animate"
           },
           {
            "args": [
             [
              "2020-03-23T16:37:50"
             ],
             {
              "frame": {
               "duration": 0,
               "redraw": false
              },
              "fromcurrent": true,
              "mode": "immediate",
              "transition": {
               "duration": 0,
               "easing": "linear"
              }
             }
            ],
            "label": "2020-03-23T16:37:50",
            "method": "animate"
           },
           {
            "args": [
             [
              "2020-03-23T17:10:54"
             ],
             {
              "frame": {
               "duration": 0,
               "redraw": false
              },
              "fromcurrent": true,
              "mode": "immediate",
              "transition": {
               "duration": 0,
               "easing": "linear"
              }
             }
            ],
            "label": "2020-03-23T17:10:54",
            "method": "animate"
           },
           {
            "args": [
             [
              "2020-03-25T15:58:46"
             ],
             {
              "frame": {
               "duration": 0,
               "redraw": false
              },
              "fromcurrent": true,
              "mode": "immediate",
              "transition": {
               "duration": 0,
               "easing": "linear"
              }
             }
            ],
            "label": "2020-03-25T15:58:46",
            "method": "animate"
           },
           {
            "args": [
             [
              "2020-03-27T11:18:50"
             ],
             {
              "frame": {
               "duration": 0,
               "redraw": false
              },
              "fromcurrent": true,
              "mode": "immediate",
              "transition": {
               "duration": 0,
               "easing": "linear"
              }
             }
            ],
            "label": "2020-03-27T11:18:50",
            "method": "animate"
           },
           {
            "args": [
             [
              "2020-03-27T12:02:43"
             ],
             {
              "frame": {
               "duration": 0,
               "redraw": false
              },
              "fromcurrent": true,
              "mode": "immediate",
              "transition": {
               "duration": 0,
               "easing": "linear"
              }
             }
            ],
            "label": "2020-03-27T12:02:43",
            "method": "animate"
           },
           {
            "args": [
             [
              "2020-03-27T12:32:50"
             ],
             {
              "frame": {
               "duration": 0,
               "redraw": false
              },
              "fromcurrent": true,
              "mode": "immediate",
              "transition": {
               "duration": 0,
               "easing": "linear"
              }
             }
            ],
            "label": "2020-03-27T12:32:50",
            "method": "animate"
           },
           {
            "args": [
             [
              "2020-03-27T18:03:54"
             ],
             {
              "frame": {
               "duration": 0,
               "redraw": false
              },
              "fromcurrent": true,
              "mode": "immediate",
              "transition": {
               "duration": 0,
               "easing": "linear"
              }
             }
            ],
            "label": "2020-03-27T18:03:54",
            "method": "animate"
           },
           {
            "args": [
             [
              "2020-03-28T23:54:32"
             ],
             {
              "frame": {
               "duration": 0,
               "redraw": false
              },
              "fromcurrent": true,
              "mode": "immediate",
              "transition": {
               "duration": 0,
               "easing": "linear"
              }
             }
            ],
            "label": "2020-03-28T23:54:32",
            "method": "animate"
           },
           {
            "args": [
             [
              "2020-03-28T23:57:12"
             ],
             {
              "frame": {
               "duration": 0,
               "redraw": false
              },
              "fromcurrent": true,
              "mode": "immediate",
              "transition": {
               "duration": 0,
               "easing": "linear"
              }
             }
            ],
            "label": "2020-03-28T23:57:12",
            "method": "animate"
           },
           {
            "args": [
             [
              "2020-03-29T10:49:18"
             ],
             {
              "frame": {
               "duration": 0,
               "redraw": false
              },
              "fromcurrent": true,
              "mode": "immediate",
              "transition": {
               "duration": 0,
               "easing": "linear"
              }
             }
            ],
            "label": "2020-03-29T10:49:18",
            "method": "animate"
           },
           {
            "args": [
             [
              "2020-03-29T11:05:42"
             ],
             {
              "frame": {
               "duration": 0,
               "redraw": false
              },
              "fromcurrent": true,
              "mode": "immediate",
              "transition": {
               "duration": 0,
               "easing": "linear"
              }
             }
            ],
            "label": "2020-03-29T11:05:42",
            "method": "animate"
           },
           {
            "args": [
             [
              "2020-03-29T11:21:15"
             ],
             {
              "frame": {
               "duration": 0,
               "redraw": false
              },
              "fromcurrent": true,
              "mode": "immediate",
              "transition": {
               "duration": 0,
               "easing": "linear"
              }
             }
            ],
            "label": "2020-03-29T11:21:15",
            "method": "animate"
           },
           {
            "args": [
             [
              "2020-03-29T12:28:00"
             ],
             {
              "frame": {
               "duration": 0,
               "redraw": false
              },
              "fromcurrent": true,
              "mode": "immediate",
              "transition": {
               "duration": 0,
               "easing": "linear"
              }
             }
            ],
            "label": "2020-03-29T12:28:00",
            "method": "animate"
           },
           {
            "args": [
             [
              "2020-03-29T13:57:28"
             ],
             {
              "frame": {
               "duration": 0,
               "redraw": false
              },
              "fromcurrent": true,
              "mode": "immediate",
              "transition": {
               "duration": 0,
               "easing": "linear"
              }
             }
            ],
            "label": "2020-03-29T13:57:28",
            "method": "animate"
           },
           {
            "args": [
             [
              "2020-03-29T20:02:57"
             ],
             {
              "frame": {
               "duration": 0,
               "redraw": false
              },
              "fromcurrent": true,
              "mode": "immediate",
              "transition": {
               "duration": 0,
               "easing": "linear"
              }
             }
            ],
            "label": "2020-03-29T20:02:57",
            "method": "animate"
           },
           {
            "args": [
             [
              "2020-03-31T09:44:38"
             ],
             {
              "frame": {
               "duration": 0,
               "redraw": false
              },
              "fromcurrent": true,
              "mode": "immediate",
              "transition": {
               "duration": 0,
               "easing": "linear"
              }
             }
            ],
            "label": "2020-03-31T09:44:38",
            "method": "animate"
           },
           {
            "args": [
             [
              "2020-04-02T11:11:58"
             ],
             {
              "frame": {
               "duration": 0,
               "redraw": false
              },
              "fromcurrent": true,
              "mode": "immediate",
              "transition": {
               "duration": 0,
               "easing": "linear"
              }
             }
            ],
            "label": "2020-04-02T11:11:58",
            "method": "animate"
           },
           {
            "args": [
             [
              "2020-04-02T11:22:52"
             ],
             {
              "frame": {
               "duration": 0,
               "redraw": false
              },
              "fromcurrent": true,
              "mode": "immediate",
              "transition": {
               "duration": 0,
               "easing": "linear"
              }
             }
            ],
            "label": "2020-04-02T11:22:52",
            "method": "animate"
           },
           {
            "args": [
             [
              "2020-04-02T16:37:20"
             ],
             {
              "frame": {
               "duration": 0,
               "redraw": false
              },
              "fromcurrent": true,
              "mode": "immediate",
              "transition": {
               "duration": 0,
               "easing": "linear"
              }
             }
            ],
            "label": "2020-04-02T16:37:20",
            "method": "animate"
           },
           {
            "args": [
             [
              "2020-04-03T12:47:16"
             ],
             {
              "frame": {
               "duration": 0,
               "redraw": false
              },
              "fromcurrent": true,
              "mode": "immediate",
              "transition": {
               "duration": 0,
               "easing": "linear"
              }
             }
            ],
            "label": "2020-04-03T12:47:16",
            "method": "animate"
           },
           {
            "args": [
             [
              "2020-04-03T12:52:02"
             ],
             {
              "frame": {
               "duration": 0,
               "redraw": false
              },
              "fromcurrent": true,
              "mode": "immediate",
              "transition": {
               "duration": 0,
               "easing": "linear"
              }
             }
            ],
            "label": "2020-04-03T12:52:02",
            "method": "animate"
           },
           {
            "args": [
             [
              "2020-04-06T10:30:21"
             ],
             {
              "frame": {
               "duration": 0,
               "redraw": false
              },
              "fromcurrent": true,
              "mode": "immediate",
              "transition": {
               "duration": 0,
               "easing": "linear"
              }
             }
            ],
            "label": "2020-04-06T10:30:21",
            "method": "animate"
           },
           {
            "args": [
             [
              "2020-04-06T16:51:49"
             ],
             {
              "frame": {
               "duration": 0,
               "redraw": false
              },
              "fromcurrent": true,
              "mode": "immediate",
              "transition": {
               "duration": 0,
               "easing": "linear"
              }
             }
            ],
            "label": "2020-04-06T16:51:49",
            "method": "animate"
           },
           {
            "args": [
             [
              "2020-04-08T13:44:21"
             ],
             {
              "frame": {
               "duration": 0,
               "redraw": false
              },
              "fromcurrent": true,
              "mode": "immediate",
              "transition": {
               "duration": 0,
               "easing": "linear"
              }
             }
            ],
            "label": "2020-04-08T13:44:21",
            "method": "animate"
           },
           {
            "args": [
             [
              "2020-04-09T12:11:28"
             ],
             {
              "frame": {
               "duration": 0,
               "redraw": false
              },
              "fromcurrent": true,
              "mode": "immediate",
              "transition": {
               "duration": 0,
               "easing": "linear"
              }
             }
            ],
            "label": "2020-04-09T12:11:28",
            "method": "animate"
           },
           {
            "args": [
             [
              "2020-04-09T15:58:23"
             ],
             {
              "frame": {
               "duration": 0,
               "redraw": false
              },
              "fromcurrent": true,
              "mode": "immediate",
              "transition": {
               "duration": 0,
               "easing": "linear"
              }
             }
            ],
            "label": "2020-04-09T15:58:23",
            "method": "animate"
           },
           {
            "args": [
             [
              "2020-04-10T10:43:09"
             ],
             {
              "frame": {
               "duration": 0,
               "redraw": false
              },
              "fromcurrent": true,
              "mode": "immediate",
              "transition": {
               "duration": 0,
               "easing": "linear"
              }
             }
            ],
            "label": "2020-04-10T10:43:09",
            "method": "animate"
           },
           {
            "args": [
             [
              "2020-04-10T16:26:29"
             ],
             {
              "frame": {
               "duration": 0,
               "redraw": false
              },
              "fromcurrent": true,
              "mode": "immediate",
              "transition": {
               "duration": 0,
               "easing": "linear"
              }
             }
            ],
            "label": "2020-04-10T16:26:29",
            "method": "animate"
           }
          ],
          "x": 0.1,
          "xanchor": "left",
          "y": 0,
          "yanchor": "top"
         }
        ],
        "template": {
         "data": {
          "bar": [
           {
            "error_x": {
             "color": "#2a3f5f"
            },
            "error_y": {
             "color": "#2a3f5f"
            },
            "marker": {
             "line": {
              "color": "#E5ECF6",
              "width": 0.5
             }
            },
            "type": "bar"
           }
          ],
          "barpolar": [
           {
            "marker": {
             "line": {
              "color": "#E5ECF6",
              "width": 0.5
             }
            },
            "type": "barpolar"
           }
          ],
          "carpet": [
           {
            "aaxis": {
             "endlinecolor": "#2a3f5f",
             "gridcolor": "white",
             "linecolor": "white",
             "minorgridcolor": "white",
             "startlinecolor": "#2a3f5f"
            },
            "baxis": {
             "endlinecolor": "#2a3f5f",
             "gridcolor": "white",
             "linecolor": "white",
             "minorgridcolor": "white",
             "startlinecolor": "#2a3f5f"
            },
            "type": "carpet"
           }
          ],
          "choropleth": [
           {
            "colorbar": {
             "outlinewidth": 0,
             "ticks": ""
            },
            "type": "choropleth"
           }
          ],
          "contour": [
           {
            "colorbar": {
             "outlinewidth": 0,
             "ticks": ""
            },
            "colorscale": [
             [
              0,
              "#0d0887"
             ],
             [
              0.1111111111111111,
              "#46039f"
             ],
             [
              0.2222222222222222,
              "#7201a8"
             ],
             [
              0.3333333333333333,
              "#9c179e"
             ],
             [
              0.4444444444444444,
              "#bd3786"
             ],
             [
              0.5555555555555556,
              "#d8576b"
             ],
             [
              0.6666666666666666,
              "#ed7953"
             ],
             [
              0.7777777777777778,
              "#fb9f3a"
             ],
             [
              0.8888888888888888,
              "#fdca26"
             ],
             [
              1,
              "#f0f921"
             ]
            ],
            "type": "contour"
           }
          ],
          "contourcarpet": [
           {
            "colorbar": {
             "outlinewidth": 0,
             "ticks": ""
            },
            "type": "contourcarpet"
           }
          ],
          "heatmap": [
           {
            "colorbar": {
             "outlinewidth": 0,
             "ticks": ""
            },
            "colorscale": [
             [
              0,
              "#0d0887"
             ],
             [
              0.1111111111111111,
              "#46039f"
             ],
             [
              0.2222222222222222,
              "#7201a8"
             ],
             [
              0.3333333333333333,
              "#9c179e"
             ],
             [
              0.4444444444444444,
              "#bd3786"
             ],
             [
              0.5555555555555556,
              "#d8576b"
             ],
             [
              0.6666666666666666,
              "#ed7953"
             ],
             [
              0.7777777777777778,
              "#fb9f3a"
             ],
             [
              0.8888888888888888,
              "#fdca26"
             ],
             [
              1,
              "#f0f921"
             ]
            ],
            "type": "heatmap"
           }
          ],
          "heatmapgl": [
           {
            "colorbar": {
             "outlinewidth": 0,
             "ticks": ""
            },
            "colorscale": [
             [
              0,
              "#0d0887"
             ],
             [
              0.1111111111111111,
              "#46039f"
             ],
             [
              0.2222222222222222,
              "#7201a8"
             ],
             [
              0.3333333333333333,
              "#9c179e"
             ],
             [
              0.4444444444444444,
              "#bd3786"
             ],
             [
              0.5555555555555556,
              "#d8576b"
             ],
             [
              0.6666666666666666,
              "#ed7953"
             ],
             [
              0.7777777777777778,
              "#fb9f3a"
             ],
             [
              0.8888888888888888,
              "#fdca26"
             ],
             [
              1,
              "#f0f921"
             ]
            ],
            "type": "heatmapgl"
           }
          ],
          "histogram": [
           {
            "marker": {
             "colorbar": {
              "outlinewidth": 0,
              "ticks": ""
             }
            },
            "type": "histogram"
           }
          ],
          "histogram2d": [
           {
            "colorbar": {
             "outlinewidth": 0,
             "ticks": ""
            },
            "colorscale": [
             [
              0,
              "#0d0887"
             ],
             [
              0.1111111111111111,
              "#46039f"
             ],
             [
              0.2222222222222222,
              "#7201a8"
             ],
             [
              0.3333333333333333,
              "#9c179e"
             ],
             [
              0.4444444444444444,
              "#bd3786"
             ],
             [
              0.5555555555555556,
              "#d8576b"
             ],
             [
              0.6666666666666666,
              "#ed7953"
             ],
             [
              0.7777777777777778,
              "#fb9f3a"
             ],
             [
              0.8888888888888888,
              "#fdca26"
             ],
             [
              1,
              "#f0f921"
             ]
            ],
            "type": "histogram2d"
           }
          ],
          "histogram2dcontour": [
           {
            "colorbar": {
             "outlinewidth": 0,
             "ticks": ""
            },
            "colorscale": [
             [
              0,
              "#0d0887"
             ],
             [
              0.1111111111111111,
              "#46039f"
             ],
             [
              0.2222222222222222,
              "#7201a8"
             ],
             [
              0.3333333333333333,
              "#9c179e"
             ],
             [
              0.4444444444444444,
              "#bd3786"
             ],
             [
              0.5555555555555556,
              "#d8576b"
             ],
             [
              0.6666666666666666,
              "#ed7953"
             ],
             [
              0.7777777777777778,
              "#fb9f3a"
             ],
             [
              0.8888888888888888,
              "#fdca26"
             ],
             [
              1,
              "#f0f921"
             ]
            ],
            "type": "histogram2dcontour"
           }
          ],
          "mesh3d": [
           {
            "colorbar": {
             "outlinewidth": 0,
             "ticks": ""
            },
            "type": "mesh3d"
           }
          ],
          "parcoords": [
           {
            "line": {
             "colorbar": {
              "outlinewidth": 0,
              "ticks": ""
             }
            },
            "type": "parcoords"
           }
          ],
          "scatter": [
           {
            "marker": {
             "colorbar": {
              "outlinewidth": 0,
              "ticks": ""
             }
            },
            "type": "scatter"
           }
          ],
          "scatter3d": [
           {
            "line": {
             "colorbar": {
              "outlinewidth": 0,
              "ticks": ""
             }
            },
            "marker": {
             "colorbar": {
              "outlinewidth": 0,
              "ticks": ""
             }
            },
            "type": "scatter3d"
           }
          ],
          "scattercarpet": [
           {
            "marker": {
             "colorbar": {
              "outlinewidth": 0,
              "ticks": ""
             }
            },
            "type": "scattercarpet"
           }
          ],
          "scattergeo": [
           {
            "marker": {
             "colorbar": {
              "outlinewidth": 0,
              "ticks": ""
             }
            },
            "type": "scattergeo"
           }
          ],
          "scattergl": [
           {
            "marker": {
             "colorbar": {
              "outlinewidth": 0,
              "ticks": ""
             }
            },
            "type": "scattergl"
           }
          ],
          "scattermapbox": [
           {
            "marker": {
             "colorbar": {
              "outlinewidth": 0,
              "ticks": ""
             }
            },
            "type": "scattermapbox"
           }
          ],
          "scatterpolar": [
           {
            "marker": {
             "colorbar": {
              "outlinewidth": 0,
              "ticks": ""
             }
            },
            "type": "scatterpolar"
           }
          ],
          "scatterpolargl": [
           {
            "marker": {
             "colorbar": {
              "outlinewidth": 0,
              "ticks": ""
             }
            },
            "type": "scatterpolargl"
           }
          ],
          "scatterternary": [
           {
            "marker": {
             "colorbar": {
              "outlinewidth": 0,
              "ticks": ""
             }
            },
            "type": "scatterternary"
           }
          ],
          "surface": [
           {
            "colorbar": {
             "outlinewidth": 0,
             "ticks": ""
            },
            "colorscale": [
             [
              0,
              "#0d0887"
             ],
             [
              0.1111111111111111,
              "#46039f"
             ],
             [
              0.2222222222222222,
              "#7201a8"
             ],
             [
              0.3333333333333333,
              "#9c179e"
             ],
             [
              0.4444444444444444,
              "#bd3786"
             ],
             [
              0.5555555555555556,
              "#d8576b"
             ],
             [
              0.6666666666666666,
              "#ed7953"
             ],
             [
              0.7777777777777778,
              "#fb9f3a"
             ],
             [
              0.8888888888888888,
              "#fdca26"
             ],
             [
              1,
              "#f0f921"
             ]
            ],
            "type": "surface"
           }
          ],
          "table": [
           {
            "cells": {
             "fill": {
              "color": "#EBF0F8"
             },
             "line": {
              "color": "white"
             }
            },
            "header": {
             "fill": {
              "color": "#C8D4E3"
             },
             "line": {
              "color": "white"
             }
            },
            "type": "table"
           }
          ]
         },
         "layout": {
          "annotationdefaults": {
           "arrowcolor": "#2a3f5f",
           "arrowhead": 0,
           "arrowwidth": 1
          },
          "colorscale": {
           "diverging": [
            [
             0,
             "#8e0152"
            ],
            [
             0.1,
             "#c51b7d"
            ],
            [
             0.2,
             "#de77ae"
            ],
            [
             0.3,
             "#f1b6da"
            ],
            [
             0.4,
             "#fde0ef"
            ],
            [
             0.5,
             "#f7f7f7"
            ],
            [
             0.6,
             "#e6f5d0"
            ],
            [
             0.7,
             "#b8e186"
            ],
            [
             0.8,
             "#7fbc41"
            ],
            [
             0.9,
             "#4d9221"
            ],
            [
             1,
             "#276419"
            ]
           ],
           "sequential": [
            [
             0,
             "#0d0887"
            ],
            [
             0.1111111111111111,
             "#46039f"
            ],
            [
             0.2222222222222222,
             "#7201a8"
            ],
            [
             0.3333333333333333,
             "#9c179e"
            ],
            [
             0.4444444444444444,
             "#bd3786"
            ],
            [
             0.5555555555555556,
             "#d8576b"
            ],
            [
             0.6666666666666666,
             "#ed7953"
            ],
            [
             0.7777777777777778,
             "#fb9f3a"
            ],
            [
             0.8888888888888888,
             "#fdca26"
            ],
            [
             1,
             "#f0f921"
            ]
           ],
           "sequentialminus": [
            [
             0,
             "#0d0887"
            ],
            [
             0.1111111111111111,
             "#46039f"
            ],
            [
             0.2222222222222222,
             "#7201a8"
            ],
            [
             0.3333333333333333,
             "#9c179e"
            ],
            [
             0.4444444444444444,
             "#bd3786"
            ],
            [
             0.5555555555555556,
             "#d8576b"
            ],
            [
             0.6666666666666666,
             "#ed7953"
            ],
            [
             0.7777777777777778,
             "#fb9f3a"
            ],
            [
             0.8888888888888888,
             "#fdca26"
            ],
            [
             1,
             "#f0f921"
            ]
           ]
          },
          "colorway": [
           "#636efa",
           "#EF553B",
           "#00cc96",
           "#ab63fa",
           "#FFA15A",
           "#19d3f3",
           "#FF6692",
           "#B6E880",
           "#FF97FF",
           "#FECB52"
          ],
          "font": {
           "color": "#2a3f5f"
          },
          "geo": {
           "bgcolor": "white",
           "lakecolor": "white",
           "landcolor": "#E5ECF6",
           "showlakes": true,
           "showland": true,
           "subunitcolor": "white"
          },
          "hoverlabel": {
           "align": "left"
          },
          "hovermode": "closest",
          "mapbox": {
           "style": "light"
          },
          "paper_bgcolor": "white",
          "plot_bgcolor": "#E5ECF6",
          "polar": {
           "angularaxis": {
            "gridcolor": "white",
            "linecolor": "white",
            "ticks": ""
           },
           "bgcolor": "#E5ECF6",
           "radialaxis": {
            "gridcolor": "white",
            "linecolor": "white",
            "ticks": ""
           }
          },
          "scene": {
           "xaxis": {
            "backgroundcolor": "#E5ECF6",
            "gridcolor": "white",
            "gridwidth": 2,
            "linecolor": "white",
            "showbackground": true,
            "ticks": "",
            "zerolinecolor": "white"
           },
           "yaxis": {
            "backgroundcolor": "#E5ECF6",
            "gridcolor": "white",
            "gridwidth": 2,
            "linecolor": "white",
            "showbackground": true,
            "ticks": "",
            "zerolinecolor": "white"
           },
           "zaxis": {
            "backgroundcolor": "#E5ECF6",
            "gridcolor": "white",
            "gridwidth": 2,
            "linecolor": "white",
            "showbackground": true,
            "ticks": "",
            "zerolinecolor": "white"
           }
          },
          "shapedefaults": {
           "line": {
            "color": "#2a3f5f"
           }
          },
          "ternary": {
           "aaxis": {
            "gridcolor": "white",
            "linecolor": "white",
            "ticks": ""
           },
           "baxis": {
            "gridcolor": "white",
            "linecolor": "white",
            "ticks": ""
           },
           "bgcolor": "#E5ECF6",
           "caxis": {
            "gridcolor": "white",
            "linecolor": "white",
            "ticks": ""
           }
          },
          "title": {
           "x": 0.05
          },
          "xaxis": {
           "automargin": true,
           "gridcolor": "white",
           "linecolor": "white",
           "ticks": "",
           "zerolinecolor": "white",
           "zerolinewidth": 2
          },
          "yaxis": {
           "automargin": true,
           "gridcolor": "white",
           "linecolor": "white",
           "ticks": "",
           "zerolinecolor": "white",
           "zerolinewidth": 2
          }
         }
        },
        "updatemenus": [
         {
          "buttons": [
           {
            "args": [
             null,
             {
              "frame": {
               "duration": 500,
               "redraw": false
              },
              "fromcurrent": true,
              "mode": "immediate",
              "transition": {
               "duration": 500,
               "easing": "linear"
              }
             }
            ],
            "label": "&#9654;",
            "method": "animate"
           },
           {
            "args": [
             [
              null
             ],
             {
              "frame": {
               "duration": 0,
               "redraw": false
              },
              "fromcurrent": true,
              "mode": "immediate",
              "transition": {
               "duration": 0,
               "easing": "linear"
              }
             }
            ],
            "label": "&#9724;",
            "method": "animate"
           }
          ],
          "direction": "left",
          "pad": {
           "r": 10,
           "t": 70
          },
          "showactive": false,
          "type": "buttons",
          "x": 0.1,
          "xanchor": "right",
          "y": 0,
          "yanchor": "top"
         }
        ],
        "xaxis": {
         "anchor": "y",
         "domain": [
          0,
          0.98
         ],
         "range": [
          0,
          100
         ],
         "title": {
          "text": "freq"
         }
        },
        "yaxis": {
         "anchor": "x",
         "domain": [
          0,
          1
         ],
         "range": [
          0,
          20
         ],
         "title": {
          "text": "freq"
         }
        }
       }
      },
      "text/html": [
       "<div>\n",
       "        \n",
       "        \n",
       "            <div id=\"570558ac-27c7-4ae9-8a87-82a021f0a942\" class=\"plotly-graph-div\" style=\"height:600px; width:100%;\"></div>\n",
       "            <script type=\"text/javascript\">\n",
       "                require([\"plotly\"], function(Plotly) {\n",
       "                    window.PLOTLYENV=window.PLOTLYENV || {};\n",
       "                    \n",
       "                if (document.getElementById(\"570558ac-27c7-4ae9-8a87-82a021f0a942\")) {\n",
       "                    Plotly.newPlot(\n",
       "                        '570558ac-27c7-4ae9-8a87-82a021f0a942',\n",
       "                        [{\"hoverlabel\": {\"namelength\": 0}, \"hovertemplate\": \"Date=2020-02-04T09:54:03<br>freq=%{marker.size}\", \"legendgroup\": \"\", \"marker\": {\"color\": \"#636efa\", \"size\": [0], \"sizemode\": \"area\", \"sizeref\": 0.013333333333333334, \"symbol\": \"circle\"}, \"mode\": \"markers\", \"name\": \"\", \"showlegend\": false, \"type\": \"scatter\", \"x\": [0], \"xaxis\": \"x\", \"y\": [0], \"yaxis\": \"y\"}],\n",
       "                        {\"height\": 600, \"legend\": {\"itemsizing\": \"constant\", \"tracegroupgap\": 0}, \"margin\": {\"t\": 60}, \"sliders\": [{\"active\": 0, \"currentvalue\": {\"prefix\": \"Date=\"}, \"len\": 0.9, \"pad\": {\"b\": 10, \"t\": 60}, \"steps\": [{\"args\": [[\"2020-02-04T09:54:03\"], {\"frame\": {\"duration\": 0, \"redraw\": false}, \"fromcurrent\": true, \"mode\": \"immediate\", \"transition\": {\"duration\": 0, \"easing\": \"linear\"}}], \"label\": \"2020-02-04T09:54:03\", \"method\": \"animate\"}, {\"args\": [[\"2020-02-04T09:57:54\"], {\"frame\": {\"duration\": 0, \"redraw\": false}, \"fromcurrent\": true, \"mode\": \"immediate\", \"transition\": {\"duration\": 0, \"easing\": \"linear\"}}], \"label\": \"2020-02-04T09:57:54\", \"method\": \"animate\"}, {\"args\": [[\"2020-02-06T09:51:04\"], {\"frame\": {\"duration\": 0, \"redraw\": false}, \"fromcurrent\": true, \"mode\": \"immediate\", \"transition\": {\"duration\": 0, \"easing\": \"linear\"}}], \"label\": \"2020-02-06T09:51:04\", \"method\": \"animate\"}, {\"args\": [[\"2020-02-06T11:22:31\"], {\"frame\": {\"duration\": 0, \"redraw\": false}, \"fromcurrent\": true, \"mode\": \"immediate\", \"transition\": {\"duration\": 0, \"easing\": \"linear\"}}], \"label\": \"2020-02-06T11:22:31\", \"method\": \"animate\"}, {\"args\": [[\"2020-02-06T12:59:27\"], {\"frame\": {\"duration\": 0, \"redraw\": false}, \"fromcurrent\": true, \"mode\": \"immediate\", \"transition\": {\"duration\": 0, \"easing\": \"linear\"}}], \"label\": \"2020-02-06T12:59:27\", \"method\": \"animate\"}, {\"args\": [[\"2020-02-07T10:02:05\"], {\"frame\": {\"duration\": 0, \"redraw\": false}, \"fromcurrent\": true, \"mode\": \"immediate\", \"transition\": {\"duration\": 0, \"easing\": \"linear\"}}], \"label\": \"2020-02-07T10:02:05\", \"method\": \"animate\"}, {\"args\": [[\"2020-02-07T10:06:52\"], {\"frame\": {\"duration\": 0, \"redraw\": false}, \"fromcurrent\": true, \"mode\": \"immediate\", \"transition\": {\"duration\": 0, \"easing\": \"linear\"}}], \"label\": \"2020-02-07T10:06:52\", \"method\": \"animate\"}, {\"args\": [[\"2020-02-07T16:24:37\"], {\"frame\": {\"duration\": 0, \"redraw\": false}, \"fromcurrent\": true, \"mode\": \"immediate\", \"transition\": {\"duration\": 0, \"easing\": \"linear\"}}], \"label\": \"2020-02-07T16:24:37\", \"method\": \"animate\"}, {\"args\": [[\"2020-02-10T09:49:10\"], {\"frame\": {\"duration\": 0, \"redraw\": false}, \"fromcurrent\": true, \"mode\": \"immediate\", \"transition\": {\"duration\": 0, \"easing\": \"linear\"}}], \"label\": \"2020-02-10T09:49:10\", \"method\": \"animate\"}, {\"args\": [[\"2020-02-10T16:26:08\"], {\"frame\": {\"duration\": 0, \"redraw\": false}, \"fromcurrent\": true, \"mode\": \"immediate\", \"transition\": {\"duration\": 0, \"easing\": \"linear\"}}], \"label\": \"2020-02-10T16:26:08\", \"method\": \"animate\"}, {\"args\": [[\"2020-02-13T10:06:57\"], {\"frame\": {\"duration\": 0, \"redraw\": false}, \"fromcurrent\": true, \"mode\": \"immediate\", \"transition\": {\"duration\": 0, \"easing\": \"linear\"}}], \"label\": \"2020-02-13T10:06:57\", \"method\": \"animate\"}, {\"args\": [[\"2020-02-13T10:16:09\"], {\"frame\": {\"duration\": 0, \"redraw\": false}, \"fromcurrent\": true, \"mode\": \"immediate\", \"transition\": {\"duration\": 0, \"easing\": \"linear\"}}], \"label\": \"2020-02-13T10:16:09\", \"method\": \"animate\"}, {\"args\": [[\"2020-02-13T11:17:19\"], {\"frame\": {\"duration\": 0, \"redraw\": false}, \"fromcurrent\": true, \"mode\": \"immediate\", \"transition\": {\"duration\": 0, \"easing\": \"linear\"}}], \"label\": \"2020-02-13T11:17:19\", \"method\": \"animate\"}, {\"args\": [[\"2020-02-14T09:09:40\"], {\"frame\": {\"duration\": 0, \"redraw\": false}, \"fromcurrent\": true, \"mode\": \"immediate\", \"transition\": {\"duration\": 0, \"easing\": \"linear\"}}], \"label\": \"2020-02-14T09:09:40\", \"method\": \"animate\"}, {\"args\": [[\"2020-02-14T09:18:01\"], {\"frame\": {\"duration\": 0, \"redraw\": false}, \"fromcurrent\": true, \"mode\": \"immediate\", \"transition\": {\"duration\": 0, \"easing\": \"linear\"}}], \"label\": \"2020-02-14T09:18:01\", \"method\": \"animate\"}, {\"args\": [[\"2020-02-14T16:10:34\"], {\"frame\": {\"duration\": 0, \"redraw\": false}, \"fromcurrent\": true, \"mode\": \"immediate\", \"transition\": {\"duration\": 0, \"easing\": \"linear\"}}], \"label\": \"2020-02-14T16:10:34\", \"method\": \"animate\"}, {\"args\": [[\"2020-02-14T16:16:18\"], {\"frame\": {\"duration\": 0, \"redraw\": false}, \"fromcurrent\": true, \"mode\": \"immediate\", \"transition\": {\"duration\": 0, \"easing\": \"linear\"}}], \"label\": \"2020-02-14T16:16:18\", \"method\": \"animate\"}, {\"args\": [[\"2020-02-21T09:36:25\"], {\"frame\": {\"duration\": 0, \"redraw\": false}, \"fromcurrent\": true, \"mode\": \"immediate\", \"transition\": {\"duration\": 0, \"easing\": \"linear\"}}], \"label\": \"2020-02-21T09:36:25\", \"method\": \"animate\"}, {\"args\": [[\"2020-02-21T09:37:39\"], {\"frame\": {\"duration\": 0, \"redraw\": false}, \"fromcurrent\": true, \"mode\": \"immediate\", \"transition\": {\"duration\": 0, \"easing\": \"linear\"}}], \"label\": \"2020-02-21T09:37:39\", \"method\": \"animate\"}, {\"args\": [[\"2020-02-21T09:39:47\"], {\"frame\": {\"duration\": 0, \"redraw\": false}, \"fromcurrent\": true, \"mode\": \"immediate\", \"transition\": {\"duration\": 0, \"easing\": \"linear\"}}], \"label\": \"2020-02-21T09:39:47\", \"method\": \"animate\"}, {\"args\": [[\"2020-02-25T16:48:00\"], {\"frame\": {\"duration\": 0, \"redraw\": false}, \"fromcurrent\": true, \"mode\": \"immediate\", \"transition\": {\"duration\": 0, \"easing\": \"linear\"}}], \"label\": \"2020-02-25T16:48:00\", \"method\": \"animate\"}, {\"args\": [[\"2020-02-28T12:24:35\"], {\"frame\": {\"duration\": 0, \"redraw\": false}, \"fromcurrent\": true, \"mode\": \"immediate\", \"transition\": {\"duration\": 0, \"easing\": \"linear\"}}], \"label\": \"2020-02-28T12:24:35\", \"method\": \"animate\"}, {\"args\": [[\"2020-02-28T12:26:22\"], {\"frame\": {\"duration\": 0, \"redraw\": false}, \"fromcurrent\": true, \"mode\": \"immediate\", \"transition\": {\"duration\": 0, \"easing\": \"linear\"}}], \"label\": \"2020-02-28T12:26:22\", \"method\": \"animate\"}, {\"args\": [[\"2020-03-03T10:25:18\"], {\"frame\": {\"duration\": 0, \"redraw\": false}, \"fromcurrent\": true, \"mode\": \"immediate\", \"transition\": {\"duration\": 0, \"easing\": \"linear\"}}], \"label\": \"2020-03-03T10:25:18\", \"method\": \"animate\"}, {\"args\": [[\"2020-03-04T22:49:30\"], {\"frame\": {\"duration\": 0, \"redraw\": false}, \"fromcurrent\": true, \"mode\": \"immediate\", \"transition\": {\"duration\": 0, \"easing\": \"linear\"}}], \"label\": \"2020-03-04T22:49:30\", \"method\": \"animate\"}, {\"args\": [[\"2020-03-06T13:06:00\"], {\"frame\": {\"duration\": 0, \"redraw\": false}, \"fromcurrent\": true, \"mode\": \"immediate\", \"transition\": {\"duration\": 0, \"easing\": \"linear\"}}], \"label\": \"2020-03-06T13:06:00\", \"method\": \"animate\"}, {\"args\": [[\"2020-03-07T12:31:02\"], {\"frame\": {\"duration\": 0, \"redraw\": false}, \"fromcurrent\": true, \"mode\": \"immediate\", \"transition\": {\"duration\": 0, \"easing\": \"linear\"}}], \"label\": \"2020-03-07T12:31:02\", \"method\": \"animate\"}, {\"args\": [[\"2020-03-09T10:38:37\"], {\"frame\": {\"duration\": 0, \"redraw\": false}, \"fromcurrent\": true, \"mode\": \"immediate\", \"transition\": {\"duration\": 0, \"easing\": \"linear\"}}], \"label\": \"2020-03-09T10:38:37\", \"method\": \"animate\"}, {\"args\": [[\"2020-03-10T19:13:44\"], {\"frame\": {\"duration\": 0, \"redraw\": false}, \"fromcurrent\": true, \"mode\": \"immediate\", \"transition\": {\"duration\": 0, \"easing\": \"linear\"}}], \"label\": \"2020-03-10T19:13:44\", \"method\": \"animate\"}, {\"args\": [[\"2020-03-12T09:00:35\"], {\"frame\": {\"duration\": 0, \"redraw\": false}, \"fromcurrent\": true, \"mode\": \"immediate\", \"transition\": {\"duration\": 0, \"easing\": \"linear\"}}], \"label\": \"2020-03-12T09:00:35\", \"method\": \"animate\"}, {\"args\": [[\"2020-03-12T09:05:47\"], {\"frame\": {\"duration\": 0, \"redraw\": false}, \"fromcurrent\": true, \"mode\": \"immediate\", \"transition\": {\"duration\": 0, \"easing\": \"linear\"}}], \"label\": \"2020-03-12T09:05:47\", \"method\": \"animate\"}, {\"args\": [[\"2020-03-12T09:16:48\"], {\"frame\": {\"duration\": 0, \"redraw\": false}, \"fromcurrent\": true, \"mode\": \"immediate\", \"transition\": {\"duration\": 0, \"easing\": \"linear\"}}], \"label\": \"2020-03-12T09:16:48\", \"method\": \"animate\"}, {\"args\": [[\"2020-03-12T09:54:02\"], {\"frame\": {\"duration\": 0, \"redraw\": false}, \"fromcurrent\": true, \"mode\": \"immediate\", \"transition\": {\"duration\": 0, \"easing\": \"linear\"}}], \"label\": \"2020-03-12T09:54:02\", \"method\": \"animate\"}, {\"args\": [[\"2020-03-12T15:10:06\"], {\"frame\": {\"duration\": 0, \"redraw\": false}, \"fromcurrent\": true, \"mode\": \"immediate\", \"transition\": {\"duration\": 0, \"easing\": \"linear\"}}], \"label\": \"2020-03-12T15:10:06\", \"method\": \"animate\"}, {\"args\": [[\"2020-03-13T11:34:50\"], {\"frame\": {\"duration\": 0, \"redraw\": false}, \"fromcurrent\": true, \"mode\": \"immediate\", \"transition\": {\"duration\": 0, \"easing\": \"linear\"}}], \"label\": \"2020-03-13T11:34:50\", \"method\": \"animate\"}, {\"args\": [[\"2020-03-13T14:47:56\"], {\"frame\": {\"duration\": 0, \"redraw\": false}, \"fromcurrent\": true, \"mode\": \"immediate\", \"transition\": {\"duration\": 0, \"easing\": \"linear\"}}], \"label\": \"2020-03-13T14:47:56\", \"method\": \"animate\"}, {\"args\": [[\"2020-03-16T18:54:12\"], {\"frame\": {\"duration\": 0, \"redraw\": false}, \"fromcurrent\": true, \"mode\": \"immediate\", \"transition\": {\"duration\": 0, \"easing\": \"linear\"}}], \"label\": \"2020-03-16T18:54:12\", \"method\": \"animate\"}, {\"args\": [[\"2020-03-16T18:57:29\"], {\"frame\": {\"duration\": 0, \"redraw\": false}, \"fromcurrent\": true, \"mode\": \"immediate\", \"transition\": {\"duration\": 0, \"easing\": \"linear\"}}], \"label\": \"2020-03-16T18:57:29\", \"method\": \"animate\"}, {\"args\": [[\"2020-03-19T10:38:42\"], {\"frame\": {\"duration\": 0, \"redraw\": false}, \"fromcurrent\": true, \"mode\": \"immediate\", \"transition\": {\"duration\": 0, \"easing\": \"linear\"}}], \"label\": \"2020-03-19T10:38:42\", \"method\": \"animate\"}, {\"args\": [[\"2020-03-19T13:35:18\"], {\"frame\": {\"duration\": 0, \"redraw\": false}, \"fromcurrent\": true, \"mode\": \"immediate\", \"transition\": {\"duration\": 0, \"easing\": \"linear\"}}], \"label\": \"2020-03-19T13:35:18\", \"method\": \"animate\"}, {\"args\": [[\"2020-03-19T17:20:01\"], {\"frame\": {\"duration\": 0, \"redraw\": false}, \"fromcurrent\": true, \"mode\": \"immediate\", \"transition\": {\"duration\": 0, \"easing\": \"linear\"}}], \"label\": \"2020-03-19T17:20:01\", \"method\": \"animate\"}, {\"args\": [[\"2020-03-19T20:42:48\"], {\"frame\": {\"duration\": 0, \"redraw\": false}, \"fromcurrent\": true, \"mode\": \"immediate\", \"transition\": {\"duration\": 0, \"easing\": \"linear\"}}], \"label\": \"2020-03-19T20:42:48\", \"method\": \"animate\"}, {\"args\": [[\"2020-03-23T12:42:50\"], {\"frame\": {\"duration\": 0, \"redraw\": false}, \"fromcurrent\": true, \"mode\": \"immediate\", \"transition\": {\"duration\": 0, \"easing\": \"linear\"}}], \"label\": \"2020-03-23T12:42:50\", \"method\": \"animate\"}, {\"args\": [[\"2020-03-23T16:37:50\"], {\"frame\": {\"duration\": 0, \"redraw\": false}, \"fromcurrent\": true, \"mode\": \"immediate\", \"transition\": {\"duration\": 0, \"easing\": \"linear\"}}], \"label\": \"2020-03-23T16:37:50\", \"method\": \"animate\"}, {\"args\": [[\"2020-03-23T17:10:54\"], {\"frame\": {\"duration\": 0, \"redraw\": false}, \"fromcurrent\": true, \"mode\": \"immediate\", \"transition\": {\"duration\": 0, \"easing\": \"linear\"}}], \"label\": \"2020-03-23T17:10:54\", \"method\": \"animate\"}, {\"args\": [[\"2020-03-25T15:58:46\"], {\"frame\": {\"duration\": 0, \"redraw\": false}, \"fromcurrent\": true, \"mode\": \"immediate\", \"transition\": {\"duration\": 0, \"easing\": \"linear\"}}], \"label\": \"2020-03-25T15:58:46\", \"method\": \"animate\"}, {\"args\": [[\"2020-03-27T11:18:50\"], {\"frame\": {\"duration\": 0, \"redraw\": false}, \"fromcurrent\": true, \"mode\": \"immediate\", \"transition\": {\"duration\": 0, \"easing\": \"linear\"}}], \"label\": \"2020-03-27T11:18:50\", \"method\": \"animate\"}, {\"args\": [[\"2020-03-27T12:02:43\"], {\"frame\": {\"duration\": 0, \"redraw\": false}, \"fromcurrent\": true, \"mode\": \"immediate\", \"transition\": {\"duration\": 0, \"easing\": \"linear\"}}], \"label\": \"2020-03-27T12:02:43\", \"method\": \"animate\"}, {\"args\": [[\"2020-03-27T12:32:50\"], {\"frame\": {\"duration\": 0, \"redraw\": false}, \"fromcurrent\": true, \"mode\": \"immediate\", \"transition\": {\"duration\": 0, \"easing\": \"linear\"}}], \"label\": \"2020-03-27T12:32:50\", \"method\": \"animate\"}, {\"args\": [[\"2020-03-27T18:03:54\"], {\"frame\": {\"duration\": 0, \"redraw\": false}, \"fromcurrent\": true, \"mode\": \"immediate\", \"transition\": {\"duration\": 0, \"easing\": \"linear\"}}], \"label\": \"2020-03-27T18:03:54\", \"method\": \"animate\"}, {\"args\": [[\"2020-03-28T23:54:32\"], {\"frame\": {\"duration\": 0, \"redraw\": false}, \"fromcurrent\": true, \"mode\": \"immediate\", \"transition\": {\"duration\": 0, \"easing\": \"linear\"}}], \"label\": \"2020-03-28T23:54:32\", \"method\": \"animate\"}, {\"args\": [[\"2020-03-28T23:57:12\"], {\"frame\": {\"duration\": 0, \"redraw\": false}, \"fromcurrent\": true, \"mode\": \"immediate\", \"transition\": {\"duration\": 0, \"easing\": \"linear\"}}], \"label\": \"2020-03-28T23:57:12\", \"method\": \"animate\"}, {\"args\": [[\"2020-03-29T10:49:18\"], {\"frame\": {\"duration\": 0, \"redraw\": false}, \"fromcurrent\": true, \"mode\": \"immediate\", \"transition\": {\"duration\": 0, \"easing\": \"linear\"}}], \"label\": \"2020-03-29T10:49:18\", \"method\": \"animate\"}, {\"args\": [[\"2020-03-29T11:05:42\"], {\"frame\": {\"duration\": 0, \"redraw\": false}, \"fromcurrent\": true, \"mode\": \"immediate\", \"transition\": {\"duration\": 0, \"easing\": \"linear\"}}], \"label\": \"2020-03-29T11:05:42\", \"method\": \"animate\"}, {\"args\": [[\"2020-03-29T11:21:15\"], {\"frame\": {\"duration\": 0, \"redraw\": false}, \"fromcurrent\": true, \"mode\": \"immediate\", \"transition\": {\"duration\": 0, \"easing\": \"linear\"}}], \"label\": \"2020-03-29T11:21:15\", \"method\": \"animate\"}, {\"args\": [[\"2020-03-29T12:28:00\"], {\"frame\": {\"duration\": 0, \"redraw\": false}, \"fromcurrent\": true, \"mode\": \"immediate\", \"transition\": {\"duration\": 0, \"easing\": \"linear\"}}], \"label\": \"2020-03-29T12:28:00\", \"method\": \"animate\"}, {\"args\": [[\"2020-03-29T13:57:28\"], {\"frame\": {\"duration\": 0, \"redraw\": false}, \"fromcurrent\": true, \"mode\": \"immediate\", \"transition\": {\"duration\": 0, \"easing\": \"linear\"}}], \"label\": \"2020-03-29T13:57:28\", \"method\": \"animate\"}, {\"args\": [[\"2020-03-29T20:02:57\"], {\"frame\": {\"duration\": 0, \"redraw\": false}, \"fromcurrent\": true, \"mode\": \"immediate\", \"transition\": {\"duration\": 0, \"easing\": \"linear\"}}], \"label\": \"2020-03-29T20:02:57\", \"method\": \"animate\"}, {\"args\": [[\"2020-03-31T09:44:38\"], {\"frame\": {\"duration\": 0, \"redraw\": false}, \"fromcurrent\": true, \"mode\": \"immediate\", \"transition\": {\"duration\": 0, \"easing\": \"linear\"}}], \"label\": \"2020-03-31T09:44:38\", \"method\": \"animate\"}, {\"args\": [[\"2020-04-02T11:11:58\"], {\"frame\": {\"duration\": 0, \"redraw\": false}, \"fromcurrent\": true, \"mode\": \"immediate\", \"transition\": {\"duration\": 0, \"easing\": \"linear\"}}], \"label\": \"2020-04-02T11:11:58\", \"method\": \"animate\"}, {\"args\": [[\"2020-04-02T11:22:52\"], {\"frame\": {\"duration\": 0, \"redraw\": false}, \"fromcurrent\": true, \"mode\": \"immediate\", \"transition\": {\"duration\": 0, \"easing\": \"linear\"}}], \"label\": \"2020-04-02T11:22:52\", \"method\": \"animate\"}, {\"args\": [[\"2020-04-02T16:37:20\"], {\"frame\": {\"duration\": 0, \"redraw\": false}, \"fromcurrent\": true, \"mode\": \"immediate\", \"transition\": {\"duration\": 0, \"easing\": \"linear\"}}], \"label\": \"2020-04-02T16:37:20\", \"method\": \"animate\"}, {\"args\": [[\"2020-04-03T12:47:16\"], {\"frame\": {\"duration\": 0, \"redraw\": false}, \"fromcurrent\": true, \"mode\": \"immediate\", \"transition\": {\"duration\": 0, \"easing\": \"linear\"}}], \"label\": \"2020-04-03T12:47:16\", \"method\": \"animate\"}, {\"args\": [[\"2020-04-03T12:52:02\"], {\"frame\": {\"duration\": 0, \"redraw\": false}, \"fromcurrent\": true, \"mode\": \"immediate\", \"transition\": {\"duration\": 0, \"easing\": \"linear\"}}], \"label\": \"2020-04-03T12:52:02\", \"method\": \"animate\"}, {\"args\": [[\"2020-04-06T10:30:21\"], {\"frame\": {\"duration\": 0, \"redraw\": false}, \"fromcurrent\": true, \"mode\": \"immediate\", \"transition\": {\"duration\": 0, \"easing\": \"linear\"}}], \"label\": \"2020-04-06T10:30:21\", \"method\": \"animate\"}, {\"args\": [[\"2020-04-06T16:51:49\"], {\"frame\": {\"duration\": 0, \"redraw\": false}, \"fromcurrent\": true, \"mode\": \"immediate\", \"transition\": {\"duration\": 0, \"easing\": \"linear\"}}], \"label\": \"2020-04-06T16:51:49\", \"method\": \"animate\"}, {\"args\": [[\"2020-04-08T13:44:21\"], {\"frame\": {\"duration\": 0, \"redraw\": false}, \"fromcurrent\": true, \"mode\": \"immediate\", \"transition\": {\"duration\": 0, \"easing\": \"linear\"}}], \"label\": \"2020-04-08T13:44:21\", \"method\": \"animate\"}, {\"args\": [[\"2020-04-09T12:11:28\"], {\"frame\": {\"duration\": 0, \"redraw\": false}, \"fromcurrent\": true, \"mode\": \"immediate\", \"transition\": {\"duration\": 0, \"easing\": \"linear\"}}], \"label\": \"2020-04-09T12:11:28\", \"method\": \"animate\"}, {\"args\": [[\"2020-04-09T15:58:23\"], {\"frame\": {\"duration\": 0, \"redraw\": false}, \"fromcurrent\": true, \"mode\": \"immediate\", \"transition\": {\"duration\": 0, \"easing\": \"linear\"}}], \"label\": \"2020-04-09T15:58:23\", \"method\": \"animate\"}, {\"args\": [[\"2020-04-10T10:43:09\"], {\"frame\": {\"duration\": 0, \"redraw\": false}, \"fromcurrent\": true, \"mode\": \"immediate\", \"transition\": {\"duration\": 0, \"easing\": \"linear\"}}], \"label\": \"2020-04-10T10:43:09\", \"method\": \"animate\"}, {\"args\": [[\"2020-04-10T16:26:29\"], {\"frame\": {\"duration\": 0, \"redraw\": false}, \"fromcurrent\": true, \"mode\": \"immediate\", \"transition\": {\"duration\": 0, \"easing\": \"linear\"}}], \"label\": \"2020-04-10T16:26:29\", \"method\": \"animate\"}], \"x\": 0.1, \"xanchor\": \"left\", \"y\": 0, \"yanchor\": \"top\"}], \"template\": {\"data\": {\"bar\": [{\"error_x\": {\"color\": \"#2a3f5f\"}, \"error_y\": {\"color\": \"#2a3f5f\"}, \"marker\": {\"line\": {\"color\": \"#E5ECF6\", \"width\": 0.5}}, \"type\": \"bar\"}], \"barpolar\": [{\"marker\": {\"line\": {\"color\": \"#E5ECF6\", \"width\": 0.5}}, \"type\": \"barpolar\"}], \"carpet\": [{\"aaxis\": {\"endlinecolor\": \"#2a3f5f\", \"gridcolor\": \"white\", \"linecolor\": \"white\", \"minorgridcolor\": \"white\", \"startlinecolor\": \"#2a3f5f\"}, \"baxis\": {\"endlinecolor\": \"#2a3f5f\", \"gridcolor\": \"white\", \"linecolor\": \"white\", \"minorgridcolor\": \"white\", \"startlinecolor\": \"#2a3f5f\"}, \"type\": \"carpet\"}], \"choropleth\": [{\"colorbar\": {\"outlinewidth\": 0, \"ticks\": \"\"}, \"type\": \"choropleth\"}], \"contour\": [{\"colorbar\": {\"outlinewidth\": 0, \"ticks\": \"\"}, \"colorscale\": [[0.0, \"#0d0887\"], [0.1111111111111111, \"#46039f\"], [0.2222222222222222, \"#7201a8\"], [0.3333333333333333, \"#9c179e\"], [0.4444444444444444, \"#bd3786\"], [0.5555555555555556, \"#d8576b\"], [0.6666666666666666, \"#ed7953\"], [0.7777777777777778, \"#fb9f3a\"], [0.8888888888888888, \"#fdca26\"], [1.0, \"#f0f921\"]], \"type\": \"contour\"}], \"contourcarpet\": [{\"colorbar\": {\"outlinewidth\": 0, \"ticks\": \"\"}, \"type\": \"contourcarpet\"}], \"heatmap\": [{\"colorbar\": {\"outlinewidth\": 0, \"ticks\": \"\"}, \"colorscale\": [[0.0, \"#0d0887\"], [0.1111111111111111, \"#46039f\"], [0.2222222222222222, \"#7201a8\"], [0.3333333333333333, \"#9c179e\"], [0.4444444444444444, \"#bd3786\"], [0.5555555555555556, \"#d8576b\"], [0.6666666666666666, \"#ed7953\"], [0.7777777777777778, \"#fb9f3a\"], [0.8888888888888888, \"#fdca26\"], [1.0, \"#f0f921\"]], \"type\": \"heatmap\"}], \"heatmapgl\": [{\"colorbar\": {\"outlinewidth\": 0, \"ticks\": \"\"}, \"colorscale\": [[0.0, \"#0d0887\"], [0.1111111111111111, \"#46039f\"], [0.2222222222222222, \"#7201a8\"], [0.3333333333333333, \"#9c179e\"], [0.4444444444444444, \"#bd3786\"], [0.5555555555555556, \"#d8576b\"], [0.6666666666666666, \"#ed7953\"], [0.7777777777777778, \"#fb9f3a\"], [0.8888888888888888, \"#fdca26\"], [1.0, \"#f0f921\"]], \"type\": \"heatmapgl\"}], \"histogram\": [{\"marker\": {\"colorbar\": {\"outlinewidth\": 0, \"ticks\": \"\"}}, \"type\": \"histogram\"}], \"histogram2d\": [{\"colorbar\": {\"outlinewidth\": 0, \"ticks\": \"\"}, \"colorscale\": [[0.0, \"#0d0887\"], [0.1111111111111111, \"#46039f\"], [0.2222222222222222, \"#7201a8\"], [0.3333333333333333, \"#9c179e\"], [0.4444444444444444, \"#bd3786\"], [0.5555555555555556, \"#d8576b\"], [0.6666666666666666, \"#ed7953\"], [0.7777777777777778, \"#fb9f3a\"], [0.8888888888888888, \"#fdca26\"], [1.0, \"#f0f921\"]], \"type\": \"histogram2d\"}], \"histogram2dcontour\": [{\"colorbar\": {\"outlinewidth\": 0, \"ticks\": \"\"}, \"colorscale\": [[0.0, \"#0d0887\"], [0.1111111111111111, \"#46039f\"], [0.2222222222222222, \"#7201a8\"], [0.3333333333333333, \"#9c179e\"], [0.4444444444444444, \"#bd3786\"], [0.5555555555555556, \"#d8576b\"], [0.6666666666666666, \"#ed7953\"], [0.7777777777777778, \"#fb9f3a\"], [0.8888888888888888, \"#fdca26\"], [1.0, \"#f0f921\"]], \"type\": \"histogram2dcontour\"}], \"mesh3d\": [{\"colorbar\": {\"outlinewidth\": 0, \"ticks\": \"\"}, \"type\": \"mesh3d\"}], \"parcoords\": [{\"line\": {\"colorbar\": {\"outlinewidth\": 0, \"ticks\": \"\"}}, \"type\": \"parcoords\"}], \"scatter\": [{\"marker\": {\"colorbar\": {\"outlinewidth\": 0, \"ticks\": \"\"}}, \"type\": \"scatter\"}], \"scatter3d\": [{\"line\": {\"colorbar\": {\"outlinewidth\": 0, \"ticks\": \"\"}}, \"marker\": {\"colorbar\": {\"outlinewidth\": 0, \"ticks\": \"\"}}, \"type\": \"scatter3d\"}], \"scattercarpet\": [{\"marker\": {\"colorbar\": {\"outlinewidth\": 0, \"ticks\": \"\"}}, \"type\": \"scattercarpet\"}], \"scattergeo\": [{\"marker\": {\"colorbar\": {\"outlinewidth\": 0, \"ticks\": \"\"}}, \"type\": \"scattergeo\"}], \"scattergl\": [{\"marker\": {\"colorbar\": {\"outlinewidth\": 0, \"ticks\": \"\"}}, \"type\": \"scattergl\"}], \"scattermapbox\": [{\"marker\": {\"colorbar\": {\"outlinewidth\": 0, \"ticks\": \"\"}}, \"type\": \"scattermapbox\"}], \"scatterpolar\": [{\"marker\": {\"colorbar\": {\"outlinewidth\": 0, \"ticks\": \"\"}}, \"type\": \"scatterpolar\"}], \"scatterpolargl\": [{\"marker\": {\"colorbar\": {\"outlinewidth\": 0, \"ticks\": \"\"}}, \"type\": \"scatterpolargl\"}], \"scatterternary\": [{\"marker\": {\"colorbar\": {\"outlinewidth\": 0, \"ticks\": \"\"}}, \"type\": \"scatterternary\"}], \"surface\": [{\"colorbar\": {\"outlinewidth\": 0, \"ticks\": \"\"}, \"colorscale\": [[0.0, \"#0d0887\"], [0.1111111111111111, \"#46039f\"], [0.2222222222222222, \"#7201a8\"], [0.3333333333333333, \"#9c179e\"], [0.4444444444444444, \"#bd3786\"], [0.5555555555555556, \"#d8576b\"], [0.6666666666666666, \"#ed7953\"], [0.7777777777777778, \"#fb9f3a\"], [0.8888888888888888, \"#fdca26\"], [1.0, \"#f0f921\"]], \"type\": \"surface\"}], \"table\": [{\"cells\": {\"fill\": {\"color\": \"#EBF0F8\"}, \"line\": {\"color\": \"white\"}}, \"header\": {\"fill\": {\"color\": \"#C8D4E3\"}, \"line\": {\"color\": \"white\"}}, \"type\": \"table\"}]}, \"layout\": {\"annotationdefaults\": {\"arrowcolor\": \"#2a3f5f\", \"arrowhead\": 0, \"arrowwidth\": 1}, \"colorscale\": {\"diverging\": [[0, \"#8e0152\"], [0.1, \"#c51b7d\"], [0.2, \"#de77ae\"], [0.3, \"#f1b6da\"], [0.4, \"#fde0ef\"], [0.5, \"#f7f7f7\"], [0.6, \"#e6f5d0\"], [0.7, \"#b8e186\"], [0.8, \"#7fbc41\"], [0.9, \"#4d9221\"], [1, \"#276419\"]], \"sequential\": [[0.0, \"#0d0887\"], [0.1111111111111111, \"#46039f\"], [0.2222222222222222, \"#7201a8\"], [0.3333333333333333, \"#9c179e\"], [0.4444444444444444, \"#bd3786\"], [0.5555555555555556, \"#d8576b\"], [0.6666666666666666, \"#ed7953\"], [0.7777777777777778, \"#fb9f3a\"], [0.8888888888888888, \"#fdca26\"], [1.0, \"#f0f921\"]], \"sequentialminus\": [[0.0, \"#0d0887\"], [0.1111111111111111, \"#46039f\"], [0.2222222222222222, \"#7201a8\"], [0.3333333333333333, \"#9c179e\"], [0.4444444444444444, \"#bd3786\"], [0.5555555555555556, \"#d8576b\"], [0.6666666666666666, \"#ed7953\"], [0.7777777777777778, \"#fb9f3a\"], [0.8888888888888888, \"#fdca26\"], [1.0, \"#f0f921\"]]}, \"colorway\": [\"#636efa\", \"#EF553B\", \"#00cc96\", \"#ab63fa\", \"#FFA15A\", \"#19d3f3\", \"#FF6692\", \"#B6E880\", \"#FF97FF\", \"#FECB52\"], \"font\": {\"color\": \"#2a3f5f\"}, \"geo\": {\"bgcolor\": \"white\", \"lakecolor\": \"white\", \"landcolor\": \"#E5ECF6\", \"showlakes\": true, \"showland\": true, \"subunitcolor\": \"white\"}, \"hoverlabel\": {\"align\": \"left\"}, \"hovermode\": \"closest\", \"mapbox\": {\"style\": \"light\"}, \"paper_bgcolor\": \"white\", \"plot_bgcolor\": \"#E5ECF6\", \"polar\": {\"angularaxis\": {\"gridcolor\": \"white\", \"linecolor\": \"white\", \"ticks\": \"\"}, \"bgcolor\": \"#E5ECF6\", \"radialaxis\": {\"gridcolor\": \"white\", \"linecolor\": \"white\", \"ticks\": \"\"}}, \"scene\": {\"xaxis\": {\"backgroundcolor\": \"#E5ECF6\", \"gridcolor\": \"white\", \"gridwidth\": 2, \"linecolor\": \"white\", \"showbackground\": true, \"ticks\": \"\", \"zerolinecolor\": \"white\"}, \"yaxis\": {\"backgroundcolor\": \"#E5ECF6\", \"gridcolor\": \"white\", \"gridwidth\": 2, \"linecolor\": \"white\", \"showbackground\": true, \"ticks\": \"\", \"zerolinecolor\": \"white\"}, \"zaxis\": {\"backgroundcolor\": \"#E5ECF6\", \"gridcolor\": \"white\", \"gridwidth\": 2, \"linecolor\": \"white\", \"showbackground\": true, \"ticks\": \"\", \"zerolinecolor\": \"white\"}}, \"shapedefaults\": {\"line\": {\"color\": \"#2a3f5f\"}}, \"ternary\": {\"aaxis\": {\"gridcolor\": \"white\", \"linecolor\": \"white\", \"ticks\": \"\"}, \"baxis\": {\"gridcolor\": \"white\", \"linecolor\": \"white\", \"ticks\": \"\"}, \"bgcolor\": \"#E5ECF6\", \"caxis\": {\"gridcolor\": \"white\", \"linecolor\": \"white\", \"ticks\": \"\"}}, \"title\": {\"x\": 0.05}, \"xaxis\": {\"automargin\": true, \"gridcolor\": \"white\", \"linecolor\": \"white\", \"ticks\": \"\", \"zerolinecolor\": \"white\", \"zerolinewidth\": 2}, \"yaxis\": {\"automargin\": true, \"gridcolor\": \"white\", \"linecolor\": \"white\", \"ticks\": \"\", \"zerolinecolor\": \"white\", \"zerolinewidth\": 2}}}, \"updatemenus\": [{\"buttons\": [{\"args\": [null, {\"frame\": {\"duration\": 500, \"redraw\": false}, \"fromcurrent\": true, \"mode\": \"immediate\", \"transition\": {\"duration\": 500, \"easing\": \"linear\"}}], \"label\": \"&#9654;\", \"method\": \"animate\"}, {\"args\": [[null], {\"frame\": {\"duration\": 0, \"redraw\": false}, \"fromcurrent\": true, \"mode\": \"immediate\", \"transition\": {\"duration\": 0, \"easing\": \"linear\"}}], \"label\": \"&#9724;\", \"method\": \"animate\"}], \"direction\": \"left\", \"pad\": {\"r\": 10, \"t\": 70}, \"showactive\": false, \"type\": \"buttons\", \"x\": 0.1, \"xanchor\": \"right\", \"y\": 0, \"yanchor\": \"top\"}], \"xaxis\": {\"anchor\": \"y\", \"domain\": [0.0, 0.98], \"range\": [0, 100], \"title\": {\"text\": \"freq\"}}, \"yaxis\": {\"anchor\": \"x\", \"domain\": [0.0, 1.0], \"range\": [0, 20], \"title\": {\"text\": \"freq\"}}},\n",
       "                        {\"responsive\": true}\n",
       "                    ).then(function(){\n",
       "                            Plotly.addFrames('570558ac-27c7-4ae9-8a87-82a021f0a942', [{\"data\": [{\"hoverlabel\": {\"namelength\": 0}, \"hovertemplate\": \"Date=2020-02-04T09:54:03<br>freq=%{marker.size}\", \"legendgroup\": \"\", \"marker\": {\"color\": \"#636efa\", \"size\": [0], \"sizemode\": \"area\", \"sizeref\": 0.013333333333333334, \"symbol\": \"circle\"}, \"mode\": \"markers\", \"name\": \"\", \"showlegend\": false, \"x\": [0], \"xaxis\": \"x\", \"y\": [0], \"yaxis\": \"y\", \"type\": \"scatter\"}], \"name\": \"2020-02-04T09:54:03\"}, {\"data\": [{\"hoverlabel\": {\"namelength\": 0}, \"hovertemplate\": \"Date=2020-02-04T09:57:54<br>freq=%{marker.size}\", \"legendgroup\": \"\", \"marker\": {\"color\": \"#636efa\", \"size\": [0], \"sizemode\": \"area\", \"sizeref\": 0.013333333333333334, \"symbol\": \"circle\"}, \"mode\": \"markers\", \"name\": \"\", \"showlegend\": false, \"x\": [0], \"xaxis\": \"x\", \"y\": [0], \"yaxis\": \"y\", \"type\": \"scatter\"}], \"name\": \"2020-02-04T09:57:54\"}, {\"data\": [{\"hoverlabel\": {\"namelength\": 0}, \"hovertemplate\": \"Date=2020-02-06T09:51:04<br>freq=%{marker.size}\", \"legendgroup\": \"\", \"marker\": {\"color\": \"#636efa\", \"size\": [1], \"sizemode\": \"area\", \"sizeref\": 0.013333333333333334, \"symbol\": \"circle\"}, \"mode\": \"markers\", \"name\": \"\", \"showlegend\": false, \"x\": [1], \"xaxis\": \"x\", \"y\": [1], \"yaxis\": \"y\", \"type\": \"scatter\"}], \"name\": \"2020-02-06T09:51:04\"}, {\"data\": [{\"hoverlabel\": {\"namelength\": 0}, \"hovertemplate\": \"Date=2020-02-06T11:22:31<br>freq=%{marker.size}\", \"legendgroup\": \"\", \"marker\": {\"color\": \"#636efa\", \"size\": [0], \"sizemode\": \"area\", \"sizeref\": 0.013333333333333334, \"symbol\": \"circle\"}, \"mode\": \"markers\", \"name\": \"\", \"showlegend\": false, \"x\": [0], \"xaxis\": \"x\", \"y\": [0], \"yaxis\": \"y\", \"type\": \"scatter\"}], \"name\": \"2020-02-06T11:22:31\"}, {\"data\": [{\"hoverlabel\": {\"namelength\": 0}, \"hovertemplate\": \"Date=2020-02-06T12:59:27<br>freq=%{marker.size}\", \"legendgroup\": \"\", \"marker\": {\"color\": \"#636efa\", \"size\": [0], \"sizemode\": \"area\", \"sizeref\": 0.013333333333333334, \"symbol\": \"circle\"}, \"mode\": \"markers\", \"name\": \"\", \"showlegend\": false, \"x\": [0], \"xaxis\": \"x\", \"y\": [0], \"yaxis\": \"y\", \"type\": \"scatter\"}], \"name\": \"2020-02-06T12:59:27\"}, {\"data\": [{\"hoverlabel\": {\"namelength\": 0}, \"hovertemplate\": \"Date=2020-02-07T10:02:05<br>freq=%{marker.size}\", \"legendgroup\": \"\", \"marker\": {\"color\": \"#636efa\", \"size\": [0], \"sizemode\": \"area\", \"sizeref\": 0.013333333333333334, \"symbol\": \"circle\"}, \"mode\": \"markers\", \"name\": \"\", \"showlegend\": false, \"x\": [0], \"xaxis\": \"x\", \"y\": [0], \"yaxis\": \"y\", \"type\": \"scatter\"}], \"name\": \"2020-02-07T10:02:05\"}, {\"data\": [{\"hoverlabel\": {\"namelength\": 0}, \"hovertemplate\": \"Date=2020-02-07T10:06:52<br>freq=%{marker.size}\", \"legendgroup\": \"\", \"marker\": {\"color\": \"#636efa\", \"size\": [0], \"sizemode\": \"area\", \"sizeref\": 0.013333333333333334, \"symbol\": \"circle\"}, \"mode\": \"markers\", \"name\": \"\", \"showlegend\": false, \"x\": [0], \"xaxis\": \"x\", \"y\": [0], \"yaxis\": \"y\", \"type\": \"scatter\"}], \"name\": \"2020-02-07T10:06:52\"}, {\"data\": [{\"hoverlabel\": {\"namelength\": 0}, \"hovertemplate\": \"Date=2020-02-07T16:24:37<br>freq=%{marker.size}\", \"legendgroup\": \"\", \"marker\": {\"color\": \"#636efa\", \"size\": [0], \"sizemode\": \"area\", \"sizeref\": 0.013333333333333334, \"symbol\": \"circle\"}, \"mode\": \"markers\", \"name\": \"\", \"showlegend\": false, \"x\": [0], \"xaxis\": \"x\", \"y\": [0], \"yaxis\": \"y\", \"type\": \"scatter\"}], \"name\": \"2020-02-07T16:24:37\"}, {\"data\": [{\"hoverlabel\": {\"namelength\": 0}, \"hovertemplate\": \"Date=2020-02-10T09:49:10<br>freq=%{marker.size}\", \"legendgroup\": \"\", \"marker\": {\"color\": \"#636efa\", \"size\": [0], \"sizemode\": \"area\", \"sizeref\": 0.013333333333333334, \"symbol\": \"circle\"}, \"mode\": \"markers\", \"name\": \"\", \"showlegend\": false, \"x\": [0], \"xaxis\": \"x\", \"y\": [0], \"yaxis\": \"y\", \"type\": \"scatter\"}], \"name\": \"2020-02-10T09:49:10\"}, {\"data\": [{\"hoverlabel\": {\"namelength\": 0}, \"hovertemplate\": \"Date=2020-02-10T16:26:08<br>freq=%{marker.size}\", \"legendgroup\": \"\", \"marker\": {\"color\": \"#636efa\", \"size\": [0], \"sizemode\": \"area\", \"sizeref\": 0.013333333333333334, \"symbol\": \"circle\"}, \"mode\": \"markers\", \"name\": \"\", \"showlegend\": false, \"x\": [0], \"xaxis\": \"x\", \"y\": [0], \"yaxis\": \"y\", \"type\": \"scatter\"}], \"name\": \"2020-02-10T16:26:08\"}, {\"data\": [{\"hoverlabel\": {\"namelength\": 0}, \"hovertemplate\": \"Date=2020-02-13T10:06:57<br>freq=%{marker.size}\", \"legendgroup\": \"\", \"marker\": {\"color\": \"#636efa\", \"size\": [24], \"sizemode\": \"area\", \"sizeref\": 0.013333333333333334, \"symbol\": \"circle\"}, \"mode\": \"markers\", \"name\": \"\", \"showlegend\": false, \"x\": [24], \"xaxis\": \"x\", \"y\": [24], \"yaxis\": \"y\", \"type\": \"scatter\"}], \"name\": \"2020-02-13T10:06:57\"}, {\"data\": [{\"hoverlabel\": {\"namelength\": 0}, \"hovertemplate\": \"Date=2020-02-13T10:16:09<br>freq=%{marker.size}\", \"legendgroup\": \"\", \"marker\": {\"color\": \"#636efa\", \"size\": [0], \"sizemode\": \"area\", \"sizeref\": 0.013333333333333334, \"symbol\": \"circle\"}, \"mode\": \"markers\", \"name\": \"\", \"showlegend\": false, \"x\": [0], \"xaxis\": \"x\", \"y\": [0], \"yaxis\": \"y\", \"type\": \"scatter\"}], \"name\": \"2020-02-13T10:16:09\"}, {\"data\": [{\"hoverlabel\": {\"namelength\": 0}, \"hovertemplate\": \"Date=2020-02-13T11:17:19<br>freq=%{marker.size}\", \"legendgroup\": \"\", \"marker\": {\"color\": \"#636efa\", \"size\": [11], \"sizemode\": \"area\", \"sizeref\": 0.013333333333333334, \"symbol\": \"circle\"}, \"mode\": \"markers\", \"name\": \"\", \"showlegend\": false, \"x\": [11], \"xaxis\": \"x\", \"y\": [11], \"yaxis\": \"y\", \"type\": \"scatter\"}], \"name\": \"2020-02-13T11:17:19\"}, {\"data\": [{\"hoverlabel\": {\"namelength\": 0}, \"hovertemplate\": \"Date=2020-02-14T09:09:40<br>freq=%{marker.size}\", \"legendgroup\": \"\", \"marker\": {\"color\": \"#636efa\", \"size\": [0], \"sizemode\": \"area\", \"sizeref\": 0.013333333333333334, \"symbol\": \"circle\"}, \"mode\": \"markers\", \"name\": \"\", \"showlegend\": false, \"x\": [0], \"xaxis\": \"x\", \"y\": [0], \"yaxis\": \"y\", \"type\": \"scatter\"}], \"name\": \"2020-02-14T09:09:40\"}, {\"data\": [{\"hoverlabel\": {\"namelength\": 0}, \"hovertemplate\": \"Date=2020-02-14T09:18:01<br>freq=%{marker.size}\", \"legendgroup\": \"\", \"marker\": {\"color\": \"#636efa\", \"size\": [0], \"sizemode\": \"area\", \"sizeref\": 0.013333333333333334, \"symbol\": \"circle\"}, \"mode\": \"markers\", \"name\": \"\", \"showlegend\": false, \"x\": [0], \"xaxis\": \"x\", \"y\": [0], \"yaxis\": \"y\", \"type\": \"scatter\"}], \"name\": \"2020-02-14T09:18:01\"}, {\"data\": [{\"hoverlabel\": {\"namelength\": 0}, \"hovertemplate\": \"Date=2020-02-14T16:10:34<br>freq=%{marker.size}\", \"legendgroup\": \"\", \"marker\": {\"color\": \"#636efa\", \"size\": [0], \"sizemode\": \"area\", \"sizeref\": 0.013333333333333334, \"symbol\": \"circle\"}, \"mode\": \"markers\", \"name\": \"\", \"showlegend\": false, \"x\": [0], \"xaxis\": \"x\", \"y\": [0], \"yaxis\": \"y\", \"type\": \"scatter\"}], \"name\": \"2020-02-14T16:10:34\"}, {\"data\": [{\"hoverlabel\": {\"namelength\": 0}, \"hovertemplate\": \"Date=2020-02-14T16:16:18<br>freq=%{marker.size}\", \"legendgroup\": \"\", \"marker\": {\"color\": \"#636efa\", \"size\": [0], \"sizemode\": \"area\", \"sizeref\": 0.013333333333333334, \"symbol\": \"circle\"}, \"mode\": \"markers\", \"name\": \"\", \"showlegend\": false, \"x\": [0], \"xaxis\": \"x\", \"y\": [0], \"yaxis\": \"y\", \"type\": \"scatter\"}], \"name\": \"2020-02-14T16:16:18\"}, {\"data\": [{\"hoverlabel\": {\"namelength\": 0}, \"hovertemplate\": \"Date=2020-02-21T09:36:25<br>freq=%{marker.size}\", \"legendgroup\": \"\", \"marker\": {\"color\": \"#636efa\", \"size\": [0], \"sizemode\": \"area\", \"sizeref\": 0.013333333333333334, \"symbol\": \"circle\"}, \"mode\": \"markers\", \"name\": \"\", \"showlegend\": false, \"x\": [0], \"xaxis\": \"x\", \"y\": [0], \"yaxis\": \"y\", \"type\": \"scatter\"}], \"name\": \"2020-02-21T09:36:25\"}, {\"data\": [{\"hoverlabel\": {\"namelength\": 0}, \"hovertemplate\": \"Date=2020-02-21T09:37:39<br>freq=%{marker.size}\", \"legendgroup\": \"\", \"marker\": {\"color\": \"#636efa\", \"size\": [0], \"sizemode\": \"area\", \"sizeref\": 0.013333333333333334, \"symbol\": \"circle\"}, \"mode\": \"markers\", \"name\": \"\", \"showlegend\": false, \"x\": [0], \"xaxis\": \"x\", \"y\": [0], \"yaxis\": \"y\", \"type\": \"scatter\"}], \"name\": \"2020-02-21T09:37:39\"}, {\"data\": [{\"hoverlabel\": {\"namelength\": 0}, \"hovertemplate\": \"Date=2020-02-21T09:39:47<br>freq=%{marker.size}\", \"legendgroup\": \"\", \"marker\": {\"color\": \"#636efa\", \"size\": [1], \"sizemode\": \"area\", \"sizeref\": 0.013333333333333334, \"symbol\": \"circle\"}, \"mode\": \"markers\", \"name\": \"\", \"showlegend\": false, \"x\": [1], \"xaxis\": \"x\", \"y\": [1], \"yaxis\": \"y\", \"type\": \"scatter\"}], \"name\": \"2020-02-21T09:39:47\"}, {\"data\": [{\"hoverlabel\": {\"namelength\": 0}, \"hovertemplate\": \"Date=2020-02-25T16:48:00<br>freq=%{marker.size}\", \"legendgroup\": \"\", \"marker\": {\"color\": \"#636efa\", \"size\": [0], \"sizemode\": \"area\", \"sizeref\": 0.013333333333333334, \"symbol\": \"circle\"}, \"mode\": \"markers\", \"name\": \"\", \"showlegend\": false, \"x\": [0], \"xaxis\": \"x\", \"y\": [0], \"yaxis\": \"y\", \"type\": \"scatter\"}], \"name\": \"2020-02-25T16:48:00\"}, {\"data\": [{\"hoverlabel\": {\"namelength\": 0}, \"hovertemplate\": \"Date=2020-02-28T12:24:35<br>freq=%{marker.size}\", \"legendgroup\": \"\", \"marker\": {\"color\": \"#636efa\", \"size\": [0], \"sizemode\": \"area\", \"sizeref\": 0.013333333333333334, \"symbol\": \"circle\"}, \"mode\": \"markers\", \"name\": \"\", \"showlegend\": false, \"x\": [0], \"xaxis\": \"x\", \"y\": [0], \"yaxis\": \"y\", \"type\": \"scatter\"}], \"name\": \"2020-02-28T12:24:35\"}, {\"data\": [{\"hoverlabel\": {\"namelength\": 0}, \"hovertemplate\": \"Date=2020-02-28T12:26:22<br>freq=%{marker.size}\", \"legendgroup\": \"\", \"marker\": {\"color\": \"#636efa\", \"size\": [0, 0], \"sizemode\": \"area\", \"sizeref\": 0.013333333333333334, \"symbol\": \"circle\"}, \"mode\": \"markers\", \"name\": \"\", \"showlegend\": false, \"x\": [0, 0], \"xaxis\": \"x\", \"y\": [0, 0], \"yaxis\": \"y\", \"type\": \"scatter\"}], \"name\": \"2020-02-28T12:26:22\"}, {\"data\": [{\"hoverlabel\": {\"namelength\": 0}, \"hovertemplate\": \"Date=2020-03-03T10:25:18<br>freq=%{marker.size}\", \"legendgroup\": \"\", \"marker\": {\"color\": \"#636efa\", \"size\": [0, 0], \"sizemode\": \"area\", \"sizeref\": 0.013333333333333334, \"symbol\": \"circle\"}, \"mode\": \"markers\", \"name\": \"\", \"showlegend\": false, \"x\": [0, 0], \"xaxis\": \"x\", \"y\": [0, 0], \"yaxis\": \"y\", \"type\": \"scatter\"}], \"name\": \"2020-03-03T10:25:18\"}, {\"data\": [{\"hoverlabel\": {\"namelength\": 0}, \"hovertemplate\": \"Date=2020-03-04T22:49:30<br>freq=%{marker.size}\", \"legendgroup\": \"\", \"marker\": {\"color\": \"#636efa\", \"size\": [0], \"sizemode\": \"area\", \"sizeref\": 0.013333333333333334, \"symbol\": \"circle\"}, \"mode\": \"markers\", \"name\": \"\", \"showlegend\": false, \"x\": [0], \"xaxis\": \"x\", \"y\": [0], \"yaxis\": \"y\", \"type\": \"scatter\"}], \"name\": \"2020-03-04T22:49:30\"}, {\"data\": [{\"hoverlabel\": {\"namelength\": 0}, \"hovertemplate\": \"Date=2020-03-06T13:06:00<br>freq=%{marker.size}\", \"legendgroup\": \"\", \"marker\": {\"color\": \"#636efa\", \"size\": [0], \"sizemode\": \"area\", \"sizeref\": 0.013333333333333334, \"symbol\": \"circle\"}, \"mode\": \"markers\", \"name\": \"\", \"showlegend\": false, \"x\": [0], \"xaxis\": \"x\", \"y\": [0], \"yaxis\": \"y\", \"type\": \"scatter\"}], \"name\": \"2020-03-06T13:06:00\"}, {\"data\": [{\"hoverlabel\": {\"namelength\": 0}, \"hovertemplate\": \"Date=2020-03-07T12:31:02<br>freq=%{marker.size}\", \"legendgroup\": \"\", \"marker\": {\"color\": \"#636efa\", \"size\": [0], \"sizemode\": \"area\", \"sizeref\": 0.013333333333333334, \"symbol\": \"circle\"}, \"mode\": \"markers\", \"name\": \"\", \"showlegend\": false, \"x\": [0], \"xaxis\": \"x\", \"y\": [0], \"yaxis\": \"y\", \"type\": \"scatter\"}], \"name\": \"2020-03-07T12:31:02\"}, {\"data\": [{\"hoverlabel\": {\"namelength\": 0}, \"hovertemplate\": \"Date=2020-03-09T10:38:37<br>freq=%{marker.size}\", \"legendgroup\": \"\", \"marker\": {\"color\": \"#636efa\", \"size\": [0, 0], \"sizemode\": \"area\", \"sizeref\": 0.013333333333333334, \"symbol\": \"circle\"}, \"mode\": \"markers\", \"name\": \"\", \"showlegend\": false, \"x\": [0, 0], \"xaxis\": \"x\", \"y\": [0, 0], \"yaxis\": \"y\", \"type\": \"scatter\"}], \"name\": \"2020-03-09T10:38:37\"}, {\"data\": [{\"hoverlabel\": {\"namelength\": 0}, \"hovertemplate\": \"Date=2020-03-10T19:13:44<br>freq=%{marker.size}\", \"legendgroup\": \"\", \"marker\": {\"color\": \"#636efa\", \"size\": [0, 0], \"sizemode\": \"area\", \"sizeref\": 0.013333333333333334, \"symbol\": \"circle\"}, \"mode\": \"markers\", \"name\": \"\", \"showlegend\": false, \"x\": [0, 0], \"xaxis\": \"x\", \"y\": [0, 0], \"yaxis\": \"y\", \"type\": \"scatter\"}], \"name\": \"2020-03-10T19:13:44\"}, {\"data\": [{\"hoverlabel\": {\"namelength\": 0}, \"hovertemplate\": \"Date=2020-03-12T09:00:35<br>freq=%{marker.size}\", \"legendgroup\": \"\", \"marker\": {\"color\": \"#636efa\", \"size\": [0], \"sizemode\": \"area\", \"sizeref\": 0.013333333333333334, \"symbol\": \"circle\"}, \"mode\": \"markers\", \"name\": \"\", \"showlegend\": false, \"x\": [0], \"xaxis\": \"x\", \"y\": [0], \"yaxis\": \"y\", \"type\": \"scatter\"}], \"name\": \"2020-03-12T09:00:35\"}, {\"data\": [{\"hoverlabel\": {\"namelength\": 0}, \"hovertemplate\": \"Date=2020-03-12T09:05:47<br>freq=%{marker.size}\", \"legendgroup\": \"\", \"marker\": {\"color\": \"#636efa\", \"size\": [0], \"sizemode\": \"area\", \"sizeref\": 0.013333333333333334, \"symbol\": \"circle\"}, \"mode\": \"markers\", \"name\": \"\", \"showlegend\": false, \"x\": [0], \"xaxis\": \"x\", \"y\": [0], \"yaxis\": \"y\", \"type\": \"scatter\"}], \"name\": \"2020-03-12T09:05:47\"}, {\"data\": [{\"hoverlabel\": {\"namelength\": 0}, \"hovertemplate\": \"Date=2020-03-12T09:16:48<br>freq=%{marker.size}\", \"legendgroup\": \"\", \"marker\": {\"color\": \"#636efa\", \"size\": [8], \"sizemode\": \"area\", \"sizeref\": 0.013333333333333334, \"symbol\": \"circle\"}, \"mode\": \"markers\", \"name\": \"\", \"showlegend\": false, \"x\": [8], \"xaxis\": \"x\", \"y\": [8], \"yaxis\": \"y\", \"type\": \"scatter\"}], \"name\": \"2020-03-12T09:16:48\"}, {\"data\": [{\"hoverlabel\": {\"namelength\": 0}, \"hovertemplate\": \"Date=2020-03-12T09:54:02<br>freq=%{marker.size}\", \"legendgroup\": \"\", \"marker\": {\"color\": \"#636efa\", \"size\": [0], \"sizemode\": \"area\", \"sizeref\": 0.013333333333333334, \"symbol\": \"circle\"}, \"mode\": \"markers\", \"name\": \"\", \"showlegend\": false, \"x\": [0], \"xaxis\": \"x\", \"y\": [0], \"yaxis\": \"y\", \"type\": \"scatter\"}], \"name\": \"2020-03-12T09:54:02\"}, {\"data\": [{\"hoverlabel\": {\"namelength\": 0}, \"hovertemplate\": \"Date=2020-03-12T15:10:06<br>freq=%{marker.size}\", \"legendgroup\": \"\", \"marker\": {\"color\": \"#636efa\", \"size\": [0], \"sizemode\": \"area\", \"sizeref\": 0.013333333333333334, \"symbol\": \"circle\"}, \"mode\": \"markers\", \"name\": \"\", \"showlegend\": false, \"x\": [0], \"xaxis\": \"x\", \"y\": [0], \"yaxis\": \"y\", \"type\": \"scatter\"}], \"name\": \"2020-03-12T15:10:06\"}, {\"data\": [{\"hoverlabel\": {\"namelength\": 0}, \"hovertemplate\": \"Date=2020-03-13T11:34:50<br>freq=%{marker.size}\", \"legendgroup\": \"\", \"marker\": {\"color\": \"#636efa\", \"size\": [0], \"sizemode\": \"area\", \"sizeref\": 0.013333333333333334, \"symbol\": \"circle\"}, \"mode\": \"markers\", \"name\": \"\", \"showlegend\": false, \"x\": [0], \"xaxis\": \"x\", \"y\": [0], \"yaxis\": \"y\", \"type\": \"scatter\"}], \"name\": \"2020-03-13T11:34:50\"}, {\"data\": [{\"hoverlabel\": {\"namelength\": 0}, \"hovertemplate\": \"Date=2020-03-13T14:47:56<br>freq=%{marker.size}\", \"legendgroup\": \"\", \"marker\": {\"color\": \"#636efa\", \"size\": [0], \"sizemode\": \"area\", \"sizeref\": 0.013333333333333334, \"symbol\": \"circle\"}, \"mode\": \"markers\", \"name\": \"\", \"showlegend\": false, \"x\": [0], \"xaxis\": \"x\", \"y\": [0], \"yaxis\": \"y\", \"type\": \"scatter\"}], \"name\": \"2020-03-13T14:47:56\"}, {\"data\": [{\"hoverlabel\": {\"namelength\": 0}, \"hovertemplate\": \"Date=2020-03-16T18:54:12<br>freq=%{marker.size}\", \"legendgroup\": \"\", \"marker\": {\"color\": \"#636efa\", \"size\": [1], \"sizemode\": \"area\", \"sizeref\": 0.013333333333333334, \"symbol\": \"circle\"}, \"mode\": \"markers\", \"name\": \"\", \"showlegend\": false, \"x\": [1], \"xaxis\": \"x\", \"y\": [1], \"yaxis\": \"y\", \"type\": \"scatter\"}], \"name\": \"2020-03-16T18:54:12\"}, {\"data\": [{\"hoverlabel\": {\"namelength\": 0}, \"hovertemplate\": \"Date=2020-03-16T18:57:29<br>freq=%{marker.size}\", \"legendgroup\": \"\", \"marker\": {\"color\": \"#636efa\", \"size\": [0], \"sizemode\": \"area\", \"sizeref\": 0.013333333333333334, \"symbol\": \"circle\"}, \"mode\": \"markers\", \"name\": \"\", \"showlegend\": false, \"x\": [0], \"xaxis\": \"x\", \"y\": [0], \"yaxis\": \"y\", \"type\": \"scatter\"}], \"name\": \"2020-03-16T18:57:29\"}, {\"data\": [{\"hoverlabel\": {\"namelength\": 0}, \"hovertemplate\": \"Date=2020-03-19T10:38:42<br>freq=%{marker.size}\", \"legendgroup\": \"\", \"marker\": {\"color\": \"#636efa\", \"size\": [0], \"sizemode\": \"area\", \"sizeref\": 0.013333333333333334, \"symbol\": \"circle\"}, \"mode\": \"markers\", \"name\": \"\", \"showlegend\": false, \"x\": [0], \"xaxis\": \"x\", \"y\": [0], \"yaxis\": \"y\", \"type\": \"scatter\"}], \"name\": \"2020-03-19T10:38:42\"}, {\"data\": [{\"hoverlabel\": {\"namelength\": 0}, \"hovertemplate\": \"Date=2020-03-19T13:35:18<br>freq=%{marker.size}\", \"legendgroup\": \"\", \"marker\": {\"color\": \"#636efa\", \"size\": [0], \"sizemode\": \"area\", \"sizeref\": 0.013333333333333334, \"symbol\": \"circle\"}, \"mode\": \"markers\", \"name\": \"\", \"showlegend\": false, \"x\": [0], \"xaxis\": \"x\", \"y\": [0], \"yaxis\": \"y\", \"type\": \"scatter\"}], \"name\": \"2020-03-19T13:35:18\"}, {\"data\": [{\"hoverlabel\": {\"namelength\": 0}, \"hovertemplate\": \"Date=2020-03-19T17:20:01<br>freq=%{marker.size}\", \"legendgroup\": \"\", \"marker\": {\"color\": \"#636efa\", \"size\": [0], \"sizemode\": \"area\", \"sizeref\": 0.013333333333333334, \"symbol\": \"circle\"}, \"mode\": \"markers\", \"name\": \"\", \"showlegend\": false, \"x\": [0], \"xaxis\": \"x\", \"y\": [0], \"yaxis\": \"y\", \"type\": \"scatter\"}], \"name\": \"2020-03-19T17:20:01\"}, {\"data\": [{\"hoverlabel\": {\"namelength\": 0}, \"hovertemplate\": \"Date=2020-03-19T20:42:48<br>freq=%{marker.size}\", \"legendgroup\": \"\", \"marker\": {\"color\": \"#636efa\", \"size\": [1], \"sizemode\": \"area\", \"sizeref\": 0.013333333333333334, \"symbol\": \"circle\"}, \"mode\": \"markers\", \"name\": \"\", \"showlegend\": false, \"x\": [1], \"xaxis\": \"x\", \"y\": [1], \"yaxis\": \"y\", \"type\": \"scatter\"}], \"name\": \"2020-03-19T20:42:48\"}, {\"data\": [{\"hoverlabel\": {\"namelength\": 0}, \"hovertemplate\": \"Date=2020-03-23T12:42:50<br>freq=%{marker.size}\", \"legendgroup\": \"\", \"marker\": {\"color\": \"#636efa\", \"size\": [0], \"sizemode\": \"area\", \"sizeref\": 0.013333333333333334, \"symbol\": \"circle\"}, \"mode\": \"markers\", \"name\": \"\", \"showlegend\": false, \"x\": [0], \"xaxis\": \"x\", \"y\": [0], \"yaxis\": \"y\", \"type\": \"scatter\"}], \"name\": \"2020-03-23T12:42:50\"}, {\"data\": [{\"hoverlabel\": {\"namelength\": 0}, \"hovertemplate\": \"Date=2020-03-23T16:37:50<br>freq=%{marker.size}\", \"legendgroup\": \"\", \"marker\": {\"color\": \"#636efa\", \"size\": [2], \"sizemode\": \"area\", \"sizeref\": 0.013333333333333334, \"symbol\": \"circle\"}, \"mode\": \"markers\", \"name\": \"\", \"showlegend\": false, \"x\": [2], \"xaxis\": \"x\", \"y\": [2], \"yaxis\": \"y\", \"type\": \"scatter\"}], \"name\": \"2020-03-23T16:37:50\"}, {\"data\": [{\"hoverlabel\": {\"namelength\": 0}, \"hovertemplate\": \"Date=2020-03-23T17:10:54<br>freq=%{marker.size}\", \"legendgroup\": \"\", \"marker\": {\"color\": \"#636efa\", \"size\": [3], \"sizemode\": \"area\", \"sizeref\": 0.013333333333333334, \"symbol\": \"circle\"}, \"mode\": \"markers\", \"name\": \"\", \"showlegend\": false, \"x\": [3], \"xaxis\": \"x\", \"y\": [3], \"yaxis\": \"y\", \"type\": \"scatter\"}], \"name\": \"2020-03-23T17:10:54\"}, {\"data\": [{\"hoverlabel\": {\"namelength\": 0}, \"hovertemplate\": \"Date=2020-03-25T15:58:46<br>freq=%{marker.size}\", \"legendgroup\": \"\", \"marker\": {\"color\": \"#636efa\", \"size\": [7], \"sizemode\": \"area\", \"sizeref\": 0.013333333333333334, \"symbol\": \"circle\"}, \"mode\": \"markers\", \"name\": \"\", \"showlegend\": false, \"x\": [7], \"xaxis\": \"x\", \"y\": [7], \"yaxis\": \"y\", \"type\": \"scatter\"}], \"name\": \"2020-03-25T15:58:46\"}, {\"data\": [{\"hoverlabel\": {\"namelength\": 0}, \"hovertemplate\": \"Date=2020-03-27T11:18:50<br>freq=%{marker.size}\", \"legendgroup\": \"\", \"marker\": {\"color\": \"#636efa\", \"size\": [7], \"sizemode\": \"area\", \"sizeref\": 0.013333333333333334, \"symbol\": \"circle\"}, \"mode\": \"markers\", \"name\": \"\", \"showlegend\": false, \"x\": [7], \"xaxis\": \"x\", \"y\": [7], \"yaxis\": \"y\", \"type\": \"scatter\"}], \"name\": \"2020-03-27T11:18:50\"}, {\"data\": [{\"hoverlabel\": {\"namelength\": 0}, \"hovertemplate\": \"Date=2020-03-27T12:02:43<br>freq=%{marker.size}\", \"legendgroup\": \"\", \"marker\": {\"color\": \"#636efa\", \"size\": [5], \"sizemode\": \"area\", \"sizeref\": 0.013333333333333334, \"symbol\": \"circle\"}, \"mode\": \"markers\", \"name\": \"\", \"showlegend\": false, \"x\": [5], \"xaxis\": \"x\", \"y\": [5], \"yaxis\": \"y\", \"type\": \"scatter\"}], \"name\": \"2020-03-27T12:02:43\"}, {\"data\": [{\"hoverlabel\": {\"namelength\": 0}, \"hovertemplate\": \"Date=2020-03-27T12:32:50<br>freq=%{marker.size}\", \"legendgroup\": \"\", \"marker\": {\"color\": \"#636efa\", \"size\": [3], \"sizemode\": \"area\", \"sizeref\": 0.013333333333333334, \"symbol\": \"circle\"}, \"mode\": \"markers\", \"name\": \"\", \"showlegend\": false, \"x\": [3], \"xaxis\": \"x\", \"y\": [3], \"yaxis\": \"y\", \"type\": \"scatter\"}], \"name\": \"2020-03-27T12:32:50\"}, {\"data\": [{\"hoverlabel\": {\"namelength\": 0}, \"hovertemplate\": \"Date=2020-03-27T18:03:54<br>freq=%{marker.size}\", \"legendgroup\": \"\", \"marker\": {\"color\": \"#636efa\", \"size\": [3], \"sizemode\": \"area\", \"sizeref\": 0.013333333333333334, \"symbol\": \"circle\"}, \"mode\": \"markers\", \"name\": \"\", \"showlegend\": false, \"x\": [3], \"xaxis\": \"x\", \"y\": [3], \"yaxis\": \"y\", \"type\": \"scatter\"}], \"name\": \"2020-03-27T18:03:54\"}, {\"data\": [{\"hoverlabel\": {\"namelength\": 0}, \"hovertemplate\": \"Date=2020-03-28T23:54:32<br>freq=%{marker.size}\", \"legendgroup\": \"\", \"marker\": {\"color\": \"#636efa\", \"size\": [0], \"sizemode\": \"area\", \"sizeref\": 0.013333333333333334, \"symbol\": \"circle\"}, \"mode\": \"markers\", \"name\": \"\", \"showlegend\": false, \"x\": [0], \"xaxis\": \"x\", \"y\": [0], \"yaxis\": \"y\", \"type\": \"scatter\"}], \"name\": \"2020-03-28T23:54:32\"}, {\"data\": [{\"hoverlabel\": {\"namelength\": 0}, \"hovertemplate\": \"Date=2020-03-28T23:57:12<br>freq=%{marker.size}\", \"legendgroup\": \"\", \"marker\": {\"color\": \"#636efa\", \"size\": [4], \"sizemode\": \"area\", \"sizeref\": 0.013333333333333334, \"symbol\": \"circle\"}, \"mode\": \"markers\", \"name\": \"\", \"showlegend\": false, \"x\": [4], \"xaxis\": \"x\", \"y\": [4], \"yaxis\": \"y\", \"type\": \"scatter\"}], \"name\": \"2020-03-28T23:57:12\"}, {\"data\": [{\"hoverlabel\": {\"namelength\": 0}, \"hovertemplate\": \"Date=2020-03-29T10:49:18<br>freq=%{marker.size}\", \"legendgroup\": \"\", \"marker\": {\"color\": \"#636efa\", \"size\": [1], \"sizemode\": \"area\", \"sizeref\": 0.013333333333333334, \"symbol\": \"circle\"}, \"mode\": \"markers\", \"name\": \"\", \"showlegend\": false, \"x\": [1], \"xaxis\": \"x\", \"y\": [1], \"yaxis\": \"y\", \"type\": \"scatter\"}], \"name\": \"2020-03-29T10:49:18\"}, {\"data\": [{\"hoverlabel\": {\"namelength\": 0}, \"hovertemplate\": \"Date=2020-03-29T11:05:42<br>freq=%{marker.size}\", \"legendgroup\": \"\", \"marker\": {\"color\": \"#636efa\", \"size\": [1], \"sizemode\": \"area\", \"sizeref\": 0.013333333333333334, \"symbol\": \"circle\"}, \"mode\": \"markers\", \"name\": \"\", \"showlegend\": false, \"x\": [1], \"xaxis\": \"x\", \"y\": [1], \"yaxis\": \"y\", \"type\": \"scatter\"}], \"name\": \"2020-03-29T11:05:42\"}, {\"data\": [{\"hoverlabel\": {\"namelength\": 0}, \"hovertemplate\": \"Date=2020-03-29T11:21:15<br>freq=%{marker.size}\", \"legendgroup\": \"\", \"marker\": {\"color\": \"#636efa\", \"size\": [1], \"sizemode\": \"area\", \"sizeref\": 0.013333333333333334, \"symbol\": \"circle\"}, \"mode\": \"markers\", \"name\": \"\", \"showlegend\": false, \"x\": [1], \"xaxis\": \"x\", \"y\": [1], \"yaxis\": \"y\", \"type\": \"scatter\"}], \"name\": \"2020-03-29T11:21:15\"}, {\"data\": [{\"hoverlabel\": {\"namelength\": 0}, \"hovertemplate\": \"Date=2020-03-29T12:28:00<br>freq=%{marker.size}\", \"legendgroup\": \"\", \"marker\": {\"color\": \"#636efa\", \"size\": [1], \"sizemode\": \"area\", \"sizeref\": 0.013333333333333334, \"symbol\": \"circle\"}, \"mode\": \"markers\", \"name\": \"\", \"showlegend\": false, \"x\": [1], \"xaxis\": \"x\", \"y\": [1], \"yaxis\": \"y\", \"type\": \"scatter\"}], \"name\": \"2020-03-29T12:28:00\"}, {\"data\": [{\"hoverlabel\": {\"namelength\": 0}, \"hovertemplate\": \"Date=2020-03-29T13:57:28<br>freq=%{marker.size}\", \"legendgroup\": \"\", \"marker\": {\"color\": \"#636efa\", \"size\": [0], \"sizemode\": \"area\", \"sizeref\": 0.013333333333333334, \"symbol\": \"circle\"}, \"mode\": \"markers\", \"name\": \"\", \"showlegend\": false, \"x\": [0], \"xaxis\": \"x\", \"y\": [0], \"yaxis\": \"y\", \"type\": \"scatter\"}], \"name\": \"2020-03-29T13:57:28\"}, {\"data\": [{\"hoverlabel\": {\"namelength\": 0}, \"hovertemplate\": \"Date=2020-03-29T20:02:57<br>freq=%{marker.size}\", \"legendgroup\": \"\", \"marker\": {\"color\": \"#636efa\", \"size\": [0], \"sizemode\": \"area\", \"sizeref\": 0.013333333333333334, \"symbol\": \"circle\"}, \"mode\": \"markers\", \"name\": \"\", \"showlegend\": false, \"x\": [0], \"xaxis\": \"x\", \"y\": [0], \"yaxis\": \"y\", \"type\": \"scatter\"}], \"name\": \"2020-03-29T20:02:57\"}, {\"data\": [{\"hoverlabel\": {\"namelength\": 0}, \"hovertemplate\": \"Date=2020-03-31T09:44:38<br>freq=%{marker.size}\", \"legendgroup\": \"\", \"marker\": {\"color\": \"#636efa\", \"size\": [1, 6], \"sizemode\": \"area\", \"sizeref\": 0.013333333333333334, \"symbol\": \"circle\"}, \"mode\": \"markers\", \"name\": \"\", \"showlegend\": false, \"x\": [1, 6], \"xaxis\": \"x\", \"y\": [1, 6], \"yaxis\": \"y\", \"type\": \"scatter\"}], \"name\": \"2020-03-31T09:44:38\"}, {\"data\": [{\"hoverlabel\": {\"namelength\": 0}, \"hovertemplate\": \"Date=2020-04-02T11:11:58<br>freq=%{marker.size}\", \"legendgroup\": \"\", \"marker\": {\"color\": \"#636efa\", \"size\": [0, 21], \"sizemode\": \"area\", \"sizeref\": 0.013333333333333334, \"symbol\": \"circle\"}, \"mode\": \"markers\", \"name\": \"\", \"showlegend\": false, \"x\": [0, 21], \"xaxis\": \"x\", \"y\": [0, 21], \"yaxis\": \"y\", \"type\": \"scatter\"}], \"name\": \"2020-04-02T11:11:58\"}, {\"data\": [{\"hoverlabel\": {\"namelength\": 0}, \"hovertemplate\": \"Date=2020-04-02T11:22:52<br>freq=%{marker.size}\", \"legendgroup\": \"\", \"marker\": {\"color\": \"#636efa\", \"size\": [3, 0], \"sizemode\": \"area\", \"sizeref\": 0.013333333333333334, \"symbol\": \"circle\"}, \"mode\": \"markers\", \"name\": \"\", \"showlegend\": false, \"x\": [3, 0], \"xaxis\": \"x\", \"y\": [3, 0], \"yaxis\": \"y\", \"type\": \"scatter\"}], \"name\": \"2020-04-02T11:22:52\"}, {\"data\": [{\"hoverlabel\": {\"namelength\": 0}, \"hovertemplate\": \"Date=2020-04-02T16:37:20<br>freq=%{marker.size}\", \"legendgroup\": \"\", \"marker\": {\"color\": \"#636efa\", \"size\": [1, 11], \"sizemode\": \"area\", \"sizeref\": 0.013333333333333334, \"symbol\": \"circle\"}, \"mode\": \"markers\", \"name\": \"\", \"showlegend\": false, \"x\": [1, 11], \"xaxis\": \"x\", \"y\": [1, 11], \"yaxis\": \"y\", \"type\": \"scatter\"}], \"name\": \"2020-04-02T16:37:20\"}, {\"data\": [{\"hoverlabel\": {\"namelength\": 0}, \"hovertemplate\": \"Date=2020-04-03T12:47:16<br>freq=%{marker.size}\", \"legendgroup\": \"\", \"marker\": {\"color\": \"#636efa\", \"size\": [0], \"sizemode\": \"area\", \"sizeref\": 0.013333333333333334, \"symbol\": \"circle\"}, \"mode\": \"markers\", \"name\": \"\", \"showlegend\": false, \"x\": [0], \"xaxis\": \"x\", \"y\": [0], \"yaxis\": \"y\", \"type\": \"scatter\"}], \"name\": \"2020-04-03T12:47:16\"}, {\"data\": [{\"hoverlabel\": {\"namelength\": 0}, \"hovertemplate\": \"Date=2020-04-03T12:52:02<br>freq=%{marker.size}\", \"legendgroup\": \"\", \"marker\": {\"color\": \"#636efa\", \"size\": [0], \"sizemode\": \"area\", \"sizeref\": 0.013333333333333334, \"symbol\": \"circle\"}, \"mode\": \"markers\", \"name\": \"\", \"showlegend\": false, \"x\": [0], \"xaxis\": \"x\", \"y\": [0], \"yaxis\": \"y\", \"type\": \"scatter\"}], \"name\": \"2020-04-03T12:52:02\"}, {\"data\": [{\"hoverlabel\": {\"namelength\": 0}, \"hovertemplate\": \"Date=2020-04-06T10:30:21<br>freq=%{marker.size}\", \"legendgroup\": \"\", \"marker\": {\"color\": \"#636efa\", \"size\": [3], \"sizemode\": \"area\", \"sizeref\": 0.013333333333333334, \"symbol\": \"circle\"}, \"mode\": \"markers\", \"name\": \"\", \"showlegend\": false, \"x\": [3], \"xaxis\": \"x\", \"y\": [3], \"yaxis\": \"y\", \"type\": \"scatter\"}], \"name\": \"2020-04-06T10:30:21\"}, {\"data\": [{\"hoverlabel\": {\"namelength\": 0}, \"hovertemplate\": \"Date=2020-04-06T16:51:49<br>freq=%{marker.size}\", \"legendgroup\": \"\", \"marker\": {\"color\": \"#636efa\", \"size\": [0], \"sizemode\": \"area\", \"sizeref\": 0.013333333333333334, \"symbol\": \"circle\"}, \"mode\": \"markers\", \"name\": \"\", \"showlegend\": false, \"x\": [0], \"xaxis\": \"x\", \"y\": [0], \"yaxis\": \"y\", \"type\": \"scatter\"}], \"name\": \"2020-04-06T16:51:49\"}, {\"data\": [{\"hoverlabel\": {\"namelength\": 0}, \"hovertemplate\": \"Date=2020-04-08T13:44:21<br>freq=%{marker.size}\", \"legendgroup\": \"\", \"marker\": {\"color\": \"#636efa\", \"size\": [2], \"sizemode\": \"area\", \"sizeref\": 0.013333333333333334, \"symbol\": \"circle\"}, \"mode\": \"markers\", \"name\": \"\", \"showlegend\": false, \"x\": [2], \"xaxis\": \"x\", \"y\": [2], \"yaxis\": \"y\", \"type\": \"scatter\"}], \"name\": \"2020-04-08T13:44:21\"}, {\"data\": [{\"hoverlabel\": {\"namelength\": 0}, \"hovertemplate\": \"Date=2020-04-09T12:11:28<br>freq=%{marker.size}\", \"legendgroup\": \"\", \"marker\": {\"color\": \"#636efa\", \"size\": [27], \"sizemode\": \"area\", \"sizeref\": 0.013333333333333334, \"symbol\": \"circle\"}, \"mode\": \"markers\", \"name\": \"\", \"showlegend\": false, \"x\": [27], \"xaxis\": \"x\", \"y\": [27], \"yaxis\": \"y\", \"type\": \"scatter\"}], \"name\": \"2020-04-09T12:11:28\"}, {\"data\": [{\"hoverlabel\": {\"namelength\": 0}, \"hovertemplate\": \"Date=2020-04-09T15:58:23<br>freq=%{marker.size}\", \"legendgroup\": \"\", \"marker\": {\"color\": \"#636efa\", \"size\": [8], \"sizemode\": \"area\", \"sizeref\": 0.013333333333333334, \"symbol\": \"circle\"}, \"mode\": \"markers\", \"name\": \"\", \"showlegend\": false, \"x\": [8], \"xaxis\": \"x\", \"y\": [8], \"yaxis\": \"y\", \"type\": \"scatter\"}], \"name\": \"2020-04-09T15:58:23\"}, {\"data\": [{\"hoverlabel\": {\"namelength\": 0}, \"hovertemplate\": \"Date=2020-04-10T10:43:09<br>freq=%{marker.size}\", \"legendgroup\": \"\", \"marker\": {\"color\": \"#636efa\", \"size\": [0, 1], \"sizemode\": \"area\", \"sizeref\": 0.013333333333333334, \"symbol\": \"circle\"}, \"mode\": \"markers\", \"name\": \"\", \"showlegend\": false, \"x\": [0, 1], \"xaxis\": \"x\", \"y\": [0, 1], \"yaxis\": \"y\", \"type\": \"scatter\"}], \"name\": \"2020-04-10T10:43:09\"}, {\"data\": [{\"hoverlabel\": {\"namelength\": 0}, \"hovertemplate\": \"Date=2020-04-10T16:26:29<br>freq=%{marker.size}\", \"legendgroup\": \"\", \"marker\": {\"color\": \"#636efa\", \"size\": [1, 1], \"sizemode\": \"area\", \"sizeref\": 0.013333333333333334, \"symbol\": \"circle\"}, \"mode\": \"markers\", \"name\": \"\", \"showlegend\": false, \"x\": [1, 1], \"xaxis\": \"x\", \"y\": [1, 1], \"yaxis\": \"y\", \"type\": \"scatter\"}], \"name\": \"2020-04-10T16:26:29\"}]);\n",
       "                        }).then(function(){\n",
       "                            \n",
       "var gd = document.getElementById('570558ac-27c7-4ae9-8a87-82a021f0a942');\n",
       "var x = new MutationObserver(function (mutations, observer) {{\n",
       "        var display = window.getComputedStyle(gd).display;\n",
       "        if (!display || display === 'none') {{\n",
       "            console.log([gd, 'removed!']);\n",
       "            Plotly.purge(gd);\n",
       "            observer.disconnect();\n",
       "        }}\n",
       "}});\n",
       "\n",
       "// Listen for the removal of the full notebook cells\n",
       "var notebookContainer = gd.closest('#notebook-container');\n",
       "if (notebookContainer) {{\n",
       "    x.observe(notebookContainer, {childList: true});\n",
       "}}\n",
       "\n",
       "// Listen for the clearing of the current output cell\n",
       "var outputEl = gd.closest('.output');\n",
       "if (outputEl) {{\n",
       "    x.observe(outputEl, {childList: true});\n",
       "}}\n",
       "\n",
       "                        })\n",
       "                };\n",
       "                });\n",
       "            </script>\n",
       "        </div>"
      ]
     },
     "metadata": {},
     "output_type": "display_data"
    }
   ],
   "source": [
    "import plotly.express as px\n",
    "#df = px.data.gapminder()\n",
    "fig = px.scatter(clean_df, x=\"freq\", y=\"freq\", animation_frame=\"Date\",\n",
    "           size=\"freq\", \n",
    "           log_x=False, \n",
    "            size_max=45, range_x=[0,100], range_y=[0,20])\n",
    "fig.show()"
   ]
  },
  {
   "cell_type": "code",
   "execution_count": null,
   "metadata": {},
   "outputs": [],
   "source": [
    "!pwd"
   ]
  },
  {
   "cell_type": "markdown",
   "metadata": {},
   "source": [
    "# Replicate the above with one single file\n"
   ]
  },
  {
   "cell_type": "code",
   "execution_count": 149,
   "metadata": {},
   "outputs": [
    {
     "data": {
      "text/plain": [
       "<module 'lib.prepro' from '../lib/prepro.py'>"
      ]
     },
     "execution_count": 149,
     "metadata": {},
     "output_type": "execute_result"
    }
   ],
   "source": [
    "from lib import prepro\n",
    "import imp\n",
    "imp.reload(prepro)"
   ]
  },
  {
   "cell_type": "code",
   "execution_count": 150,
   "metadata": {},
   "outputs": [],
   "source": [
    "#example_article = 'articles_JourDuMali_2020-02-01_2020-04-14.json'\n",
    "#example_path = os.path.join('../data', example_article)\n",
    "#clean_df = prepro.main(example_path)"
   ]
  },
  {
   "cell_type": "code",
   "execution_count": 17,
   "metadata": {},
   "outputs": [],
   "source": [
    "#clean_df = prepro.main(read_path=example_path)"
   ]
  },
  {
   "cell_type": "markdown",
   "metadata": {},
   "source": [
    "# Simple Pipeline with Camembert?\n",
    "# Need to fix that part"
   ]
  },
  {
   "cell_type": "code",
   "execution_count": 20,
   "metadata": {},
   "outputs": [],
   "source": [
    "import transformers\n",
    "#from transformers import pipeline, AutoModelForTokenClassification, AutoTokenizer,AutoModelForQuestionAnswering\n",
    "\n",
    "# Sentiment analysis pipeline\n",
    "#pipeline('sentiment-analysis')\n",
    "\n",
    "# Question answering pipeline, specifying the checkpoint identifier\n",
    "#pipeline('question-answering', model='distilbert-base-cased-distilled-squad', tokenizer='bert-base-cased')\n",
    "\n",
    "# Named entity recognition pipeline, passing in a specific model and tokenizer\n",
    "#model = AutoModelForTokenClassification.from_pretrained(MODEL_NAME)\n",
    "#tokenizer = AutoTokenizer.from_pretrained(MODEL_NAME)\n",
    "#pip=pipeline('ner', model=model, tokenizer=tokenizer)"
   ]
  },
  {
   "cell_type": "code",
   "execution_count": 22,
   "metadata": {},
   "outputs": [
    {
     "ename": "AttributeError",
     "evalue": "module 'transformers' has no attribute 'pipeline'",
     "output_type": "error",
     "traceback": [
      "\u001b[0;31m---------------------------------------------------------------------------\u001b[0m",
      "\u001b[0;31mAttributeError\u001b[0m                            Traceback (most recent call last)",
      "\u001b[0;32m<ipython-input-22-094d151de7b0>\u001b[0m in \u001b[0;36m<module>\u001b[0;34m\u001b[0m\n\u001b[0;32m----> 1\u001b[0;31m \u001b[0mhelp\u001b[0m\u001b[0;34m(\u001b[0m\u001b[0mtransformers\u001b[0m\u001b[0;34m.\u001b[0m\u001b[0mpipeline\u001b[0m\u001b[0;34m)\u001b[0m\u001b[0;34m\u001b[0m\u001b[0;34m\u001b[0m\u001b[0m\n\u001b[0m",
      "\u001b[0;31mAttributeError\u001b[0m: module 'transformers' has no attribute 'pipeline'"
     ]
    }
   ],
   "source": [
    "help(transformers)"
   ]
  },
  {
   "cell_type": "code",
   "execution_count": 129,
   "metadata": {},
   "outputs": [],
   "source": [
    "#from transformers import pipeline\n",
    "from transformers import (AutoModelForQuestionAnswering, \n",
    "                          AutoModelForSequenceClassification, \n",
    "                          AutoTokenizer, \n",
    "                          AutoModelWithLMHead)\n"
   ]
  },
  {
   "cell_type": "code",
   "execution_count": 49,
   "metadata": {},
   "outputs": [],
   "source": [
    "tokenizer = AutoTokenizer.from_pretrained(\"camembert-base\")\n",
    "model = AutoModelForSequenceClassification.from_pretrained(\"camembert-base\")"
   ]
  },
  {
   "cell_type": "code",
   "execution_count": 33,
   "metadata": {},
   "outputs": [
    {
     "ename": "ImportError",
     "evalue": "cannot import name 'SummarizationPipeline' from 'transformers' (/Users/theoguenais/anaconda/envs/hurricast/lib/python3.7/site-packages/transformers/__init__.py)",
     "output_type": "error",
     "traceback": [
      "\u001b[0;31m---------------------------------------------------------------------------\u001b[0m",
      "\u001b[0;31mImportError\u001b[0m                               Traceback (most recent call last)",
      "\u001b[0;32m<ipython-input-33-9c2646690b64>\u001b[0m in \u001b[0;36m<module>\u001b[0;34m\u001b[0m\n\u001b[0;32m----> 1\u001b[0;31m \u001b[0;32mfrom\u001b[0m \u001b[0mtransformers\u001b[0m \u001b[0;32mimport\u001b[0m \u001b[0mSummarizationPipeline\u001b[0m\u001b[0;34m\u001b[0m\u001b[0;34m\u001b[0m\u001b[0m\n\u001b[0m",
      "\u001b[0;31mImportError\u001b[0m: cannot import name 'SummarizationPipeline' from 'transformers' (/Users/theoguenais/anaconda/envs/hurricast/lib/python3.7/site-packages/transformers/__init__.py)"
     ]
    }
   ],
   "source": [
    "from transformers import SummarizationPipeline"
   ]
  },
  {
   "cell_type": "code",
   "execution_count": 82,
   "metadata": {},
   "outputs": [],
   "source": [
    "t1 = t1.replace('\\n', ' ').replace('  ',' ')\n",
    "t2 = t2.replace('\\n', ' ').replace('  ',' ')\n"
   ]
  },
  {
   "cell_type": "code",
   "execution_count": 181,
   "metadata": {},
   "outputs": [],
   "source": [
    "t1 = clean_df.iloc[-6].text\n",
    "t2 = clean_df.iloc[-4].text"
   ]
  },
  {
   "cell_type": "code",
   "execution_count": 171,
   "metadata": {},
   "outputs": [
    {
     "data": {
      "text/plain": [
       "torch.Size([1, 512])"
      ]
     },
     "execution_count": 171,
     "metadata": {},
     "output_type": "execute_result"
    }
   ],
   "source": [
    "t = tokenizer.encode_plus(t1,t2, return_tensors=\"pt\",max_length=512)\n",
    "t.keys()\n",
    "t['input_ids'].size()\n",
    "#del t['']\n",
    "#t.keys()\n",
    "#del t['special_tokens_mask']"
   ]
  },
  {
   "cell_type": "code",
   "execution_count": 176,
   "metadata": {},
   "outputs": [
    {
     "data": {
      "text/plain": [
       "tensor([[48.0970, 51.9030]], grad_fn=<MulBackward0>)"
      ]
     },
     "execution_count": 176,
     "metadata": {},
     "output_type": "execute_result"
    }
   ],
   "source": [
    "torch.softmax(model(t['input_ids'])[0], axis=1)*100"
   ]
  },
  {
   "cell_type": "code",
   "execution_count": 186,
   "metadata": {},
   "outputs": [
    {
     "name": "stdout",
     "output_type": "stream",
     "text": [
      "# packages in environment at /Users/theoguenais/anaconda/envs/hurricast:\r\n",
      "#\r\n",
      "# Name                    Version                   Build  Channel\r\n",
      "_pytorch_select           0.1                       cpu_0  \r\n",
      "appdirs                   1.4.3                    pypi_0    pypi\r\n",
      "appnope                   0.1.0                    pypi_0    pypi\r\n",
      "arviz                     0.5.1                    pypi_0    pypi\r\n",
      "asn1crypto                0.24.0                py37_1003    conda-forge\r\n",
      "astroid                   2.2.5                    py37_0  \r\n",
      "atomicwrites              1.3.0                    pypi_0    pypi\r\n",
      "attrs                     19.1.0                     py_0    conda-forge\r\n",
      "autodiff-addictedtocs     0.1                      pypi_0    pypi\r\n",
      "autograd                  1.3                      pypi_0    pypi\r\n",
      "autopep8                  1.4.4                      py_0  \r\n",
      "backcall                  0.1.0                    pypi_0    pypi\r\n",
      "beautifulsoup4            4.8.0                    py37_0    anaconda\r\n",
      "bibtexparser              1.1.0                    pypi_0    pypi\r\n",
      "billiard                  3.6.3.0                  pypi_0    pypi\r\n",
      "blas                      1.0                         mkl    https://repo.continuum.io/pkgs/free\r\n",
      "bleach                    3.1.0                    pypi_0    pypi\r\n",
      "boto3                     1.9.153                  pypi_0    pypi\r\n",
      "botocore                  1.12.153                 pypi_0    pypi\r\n",
      "bs4                       0.0.1                    pypi_0    pypi\r\n",
      "bzip2                     1.0.8                h1de35cc_0    anaconda\r\n",
      "ca-certificates           2020.1.1                      0    anaconda\r\n",
      "cairo                     1.14.12           h9d4d9ac_1005    conda-forge\r\n",
      "cdsapi                    0.2.7                    pypi_0    pypi\r\n",
      "certifi                   2020.4.5.1               py37_0    anaconda\r\n",
      "cffi                      1.12.3           py37hb5b8e2f_0  \r\n",
      "cftime                    1.0.3.4                  pypi_0    pypi\r\n",
      "chardet                   3.0.4                    pypi_0    pypi\r\n",
      "click                     7.0                      pypi_0    pypi\r\n",
      "cloudpickle               1.2.2                      py_1    conda-forge\r\n",
      "coala-utils               0.5.1                    pypi_0    pypi\r\n",
      "codecov                   2.0.15                   pypi_0    pypi\r\n",
      "configargparse            0.14.0                   pypi_0    pypi\r\n",
      "coverage                  4.5.4                    pypi_0    pypi\r\n",
      "cryptography              2.6.1            py37h212c5bf_0    conda-forge\r\n",
      "cssselect                 1.1.0                    pypi_0    pypi\r\n",
      "curl                      7.69.1               ha441bb4_0    anaconda\r\n",
      "cycler                    0.10.0                     py_2    conda-forge\r\n",
      "cymem                     2.0.2            py37h04f5b5a_0  \r\n",
      "cython-blis               0.2.4            py37h01d97ff_0    conda-forge\r\n",
      "cytoolz                   0.10.1           py37h0b31af3_0    conda-forge\r\n",
      "dask-core                 2.9.0                      py_0    conda-forge\r\n",
      "decorator                 4.4.0                    py37_1  \r\n",
      "defusedxml                0.6.0                    pypi_0    pypi\r\n",
      "dgl                       0.2                      py37_0    dglteam\r\n",
      "docutils                  0.14                     pypi_0    pypi\r\n",
      "entrypoints               0.3                      pypi_0    pypi\r\n",
      "enum34                    1.1.6                    pypi_0    pypi\r\n",
      "expat                     2.2.5             h6de7cb9_1003    conda-forge\r\n",
      "feedfinder2               0.0.4                    pypi_0    pypi\r\n",
      "feedparser                5.2.1                    pypi_0    pypi\r\n",
      "fontconfig                2.13.1            h1027ab8_1000    conda-forge\r\n",
      "fr-core-news-md           2.1.0                    pypi_0    pypi\r\n",
      "freetype                  2.9.1                hb4e5f40_0  \r\n",
      "fribidi                   1.0.5             h01d97ff_1002    conda-forge\r\n",
      "future                    0.17.1                   pypi_0    pypi\r\n",
      "getoldtweets3             0.0.11                   pypi_0    pypi\r\n",
      "gettext                   0.19.8.1          h46ab8bc_1002    conda-forge\r\n",
      "glib                      2.56.2            h67dad55_1001    conda-forge\r\n",
      "gpytorch                  0.3.6                         0    gpytorch\r\n",
      "graphite2                 1.3.13            h2098e52_1000    conda-forge\r\n",
      "graphviz                  2.40.1               hefbbd9a_2  \r\n",
      "h5py                      2.10.0                   pypi_0    pypi\r\n",
      "harfbuzz                  1.9.0             h9889186_1001    conda-forge\r\n",
      "hdf4                      4.2.13               h39711bb_2    anaconda\r\n",
      "hdf5                      1.10.4               hfa1e0ec_0    anaconda\r\n",
      "icu                       58.2              h0a44026_1000    conda-forge\r\n",
      "idna                      2.8                      pypi_0    pypi\r\n",
      "imageio                   2.6.1                    py37_0    conda-forge\r\n",
      "importlib-metadata        0.23                     pypi_0    pypi\r\n",
      "intel-openmp              2019.3                      199  \r\n",
      "ipykernel                 5.1.1                    pypi_0    pypi\r\n",
      "ipytest                   0.7.1                    pypi_0    pypi\r\n",
      "ipython                   7.5.0                    pypi_0    pypi\r\n",
      "ipython-genutils          0.2.0                    pypi_0    pypi\r\n",
      "ipywidgets                7.5.1                    pypi_0    pypi\r\n",
      "isort                     4.3.16                   py37_0  \r\n",
      "jedi                      0.13.3                   pypi_0    pypi\r\n",
      "jieba3k                   0.35.1                   pypi_0    pypi\r\n",
      "jinja2                    2.10.1                   pypi_0    pypi\r\n",
      "jmespath                  0.9.4                    pypi_0    pypi\r\n",
      "joblib                    0.13.2                   pypi_0    pypi\r\n",
      "jpeg                      9b                   he5867d9_2  \r\n",
      "jsonschema                3.0.1                    pypi_0    pypi\r\n",
      "jupyter-client            5.2.4                    pypi_0    pypi\r\n",
      "jupyter-core              4.4.0                    pypi_0    pypi\r\n",
      "jupyter-http-over-ws      0.0.6                    pypi_0    pypi\r\n",
      "kiwisolver                1.1.0            py37ha1b3eb9_0    conda-forge\r\n",
      "krb5                      1.17.1               hddcf347_0    anaconda\r\n",
      "lazy-object-proxy         1.3.1            py37h1de35cc_2  \r\n",
      "libcurl                   7.69.1               h051b688_0    anaconda\r\n",
      "libcxx                    9.0.0                h89e68fa_1    conda-forge\r\n",
      "libcxxabi                 4.0.1                hcfea43d_1  \r\n",
      "libedit                   3.1.20181209         hb402a30_0  \r\n",
      "libffi                    3.2.1                h475c297_4  \r\n",
      "libgfortran               3.0.1                h93005f0_2  \r\n",
      "libiconv                  1.15              h01d97ff_1005    conda-forge\r\n",
      "libnetcdf                 4.7.3                he3b6227_0    anaconda\r\n",
      "libpng                    1.6.37               ha441bb4_0  \r\n",
      "libssh2                   1.9.0                ha12b0ac_1    anaconda\r\n",
      "libtiff                   4.0.10               hcb84e12_2  \r\n",
      "libxml2                   2.9.9                hd80cff7_2    conda-forge\r\n",
      "lxml                      4.5.0                    pypi_0    pypi\r\n",
      "markupsafe                1.1.1                    pypi_0    pypi\r\n",
      "matplotlib                3.1.1                    pypi_0    pypi\r\n",
      "matplotlib-base           3.1.2            py37h11da6c2_1    conda-forge\r\n",
      "mccabe                    0.6.1                    py37_1  \r\n",
      "mistune                   0.8.4                    pypi_0    pypi\r\n",
      "mkl                       2019.4                      233  \r\n",
      "mkl-service               2.3.0            py37h0b31af3_0    conda-forge\r\n",
      "mkl_fft                   1.0.12           py37h5e564d8_0  \r\n",
      "mkl_random                1.0.2            py37h27c97d8_0  \r\n",
      "more-itertools            7.2.0                    pypi_0    pypi\r\n",
      "murmurhash                1.0.0            py37hfc679d8_0    conda-forge\r\n",
      "nbconvert                 5.5.0                    pypi_0    pypi\r\n",
      "nbformat                  4.4.0                    pypi_0    pypi\r\n",
      "ncurses                   6.1                  h0a44026_1  \r\n",
      "netcdf4                   1.5.2                    pypi_0    pypi\r\n",
      "networkx                  2.3                        py_0  \r\n",
      "newspaper3k               0.2.8                    pypi_0    pypi\r\n",
      "ninja                     1.9.0            py37h04f5b5a_0  \r\n",
      "nltk                      3.4.5                    pypi_0    pypi\r\n",
      "notebook                  5.7.8                    pypi_0    pypi\r\n",
      "numpy                     1.16.3           py37hacdab7b_0  \r\n",
      "numpy-base                1.16.3           py37h6575580_0  \r\n",
      "olefile                   0.46                     py37_0  \r\n",
      "openssl                   1.1.1                h1de35cc_0    anaconda\r\n",
      "opt-einsum                3.1.0                    pypi_0    pypi\r\n",
      "packaging                 19.1                     pypi_0    pypi\r\n",
      "pandas                    0.25.0                   pypi_0    pypi\r\n",
      "pandocfilters             1.4.2                    pypi_0    pypi\r\n",
      "pango                     1.42.4               h060686c_0  \r\n",
      "parso                     0.4.0                    pypi_0    pypi\r\n",
      "patsy                     0.5.1                    pypi_0    pypi\r\n",
      "pcre                      8.43                 h0a44026_0  \r\n",
      "pexpect                   4.7.0                    pypi_0    pypi\r\n",
      "pickleshare               0.7.5                    pypi_0    pypi\r\n",
      "pillow                    6.0.0            py37hb68e598_0  \r\n",
      "pip                       19.3.1                   pypi_0    pypi\r\n",
      "pixman                    0.34.0            h1de35cc_1003    conda-forge\r\n",
      "plac                      0.9.6                      py_1    conda-forge\r\n",
      "plotly                    4.1.0                    pypi_0    pypi\r\n",
      "plotly-orca               1.2.1                         1    plotly\r\n",
      "pluggy                    0.13.0                   pypi_0    pypi\r\n",
      "preshed                   2.0.1            py37h0a44026_0  \r\n",
      "prometheus-client         0.6.0                    pypi_0    pypi\r\n",
      "prompt-toolkit            2.0.9                    pypi_0    pypi\r\n",
      "psutil                    5.6.3            py37h1de35cc_0  \r\n",
      "ptyprocess                0.6.0                    pypi_0    pypi\r\n",
      "py                        1.8.0                    pypi_0    pypi\r\n",
      "pyclustering              0.9.2                    pypi_0    pypi\r\n",
      "pycodestyle               2.5.0                    py37_0  \r\n",
      "pycparser                 2.19                     py37_0  \r\n",
      "pygments                  2.4.0                    pypi_0    pypi\r\n",
      "pylint                    2.3.1                    py37_0  \r\n",
      "pymc3                     3.7                      pypi_0    pypi\r\n",
      "pyopenssl                 19.0.0                   py37_0    conda-forge\r\n",
      "pyparsing                 2.4.2                    pypi_0    pypi\r\n",
      "pyquery                   1.4.1                    pypi_0    pypi\r\n",
      "pyro-api                  0.1.1                    pypi_0    pypi\r\n",
      "pyro-ppl                  0.5.1                    pypi_0    pypi\r\n",
      "pyrsistent                0.15.2           py37h01d97ff_0    conda-forge\r\n",
      "pysocks                   1.7.0                    py37_0    conda-forge\r\n",
      "pytest                    5.2.1                    pypi_0    pypi\r\n",
      "python                    3.7.3                h359304d_0  \r\n",
      "python-dateutil           2.8.0                    pypi_0    pypi\r\n",
      "python-graphviz           0.13                       py_0    conda-forge\r\n",
      "pytorch                   1.3.1           cpu_py37h0c87eb2_0  \r\n",
      "pytorch-pretrained-bert   0.6.2                    pypi_0    pypi\r\n",
      "pytz                      2019.2                   pypi_0    pypi\r\n",
      "pywavelets                1.1.1            py37h3b54f70_0    conda-forge\r\n",
      "pyyaml                    5.1                      pypi_0    pypi\r\n",
      "pyzmq                     18.0.1                   pypi_0    pypi\r\n",
      "ratelimiter               1.2.0.post0              pypi_0    pypi\r\n",
      "readline                  7.0                  h1de35cc_5  \r\n",
      "regex                     2019.4.14                pypi_0    pypi\r\n",
      "requests                  2.22.0                   py37_0    conda-forge\r\n",
      "requests-file             1.4.3                    pypi_0    pypi\r\n",
      "retrying                  1.3.3                    pypi_0    pypi\r\n",
      "s3transfer                0.2.0                    pypi_0    pypi\r\n",
      "sacremoses                0.0.35                   pypi_0    pypi\r\n",
      "scikit-image              0.16.2           py37h4f17bb1_0    conda-forge\r\n",
      "scikit-learn              0.21.3                   pypi_0    pypi\r\n",
      "scipy                     1.3.0                    pypi_0    pypi\r\n",
      "seaborn                   0.9.0                    pypi_0    pypi\r\n",
      "send2trash                1.5.0                    pypi_0    pypi\r\n",
      "sentencepiece             0.1.83                   pypi_0    pypi\r\n",
      "setuptools                40.8.0                   py37_0  \r\n",
      "six                       1.12.0                   py37_0  \r\n",
      "sklearn                   0.0                      pypi_0    pypi\r\n",
      "soupsieve                 1.9.2                    py37_0    anaconda\r\n",
      "spacy                     2.1.4            py37h770b8ee_0    conda-forge\r\n",
      "sqlite                    3.27.2               ha441bb4_0  \r\n",
      "srsly                     0.0.5            py37h0a44026_0    conda-forge\r\n",
      "statsmodels               0.10.1                   pypi_0    pypi\r\n",
      "terminado                 0.8.2                    pypi_0    pypi\r\n",
      "testpath                  0.4.2                    pypi_0    pypi\r\n",
      "theano                    1.0.4                    pypi_0    pypi\r\n",
      "thinc                     7.0.4            py37h770b8ee_0    conda-forge\r\n",
      "tinysegmenter             0.3                      pypi_0    pypi\r\n",
      "tk                        8.6.8                ha441bb4_0  \r\n",
      "tldextract                2.2.2                    pypi_0    pypi\r\n",
      "toolz                     0.10.0                     py_0    conda-forge\r\n",
      "torchtext                 0.3.1                    pypi_0    pypi\r\n",
      "torchvision               0.2.2                      py_3    pytorch\r\n",
      "tornado                   6.0.2                    pypi_0    pypi\r\n",
      "tqdm                      4.38.0                   pypi_0    pypi\r\n",
      "traitlets                 4.3.2                    pypi_0    pypi\r\n",
      "transformers              2.2.0                    pypi_0    pypi\r\n",
      "twitterscraper            1.4.0                    pypi_0    pypi\r\n",
      "urllib3                   1.25.2                   pypi_0    pypi\r\n",
      "wasabi                    0.2.2                      py_0    conda-forge\r\n",
      "wcwidth                   0.1.7                    pypi_0    pypi\r\n",
      "webencodings              0.5.1                    pypi_0    pypi\r\n",
      "wheel                     0.33.1                   py37_0  \r\n",
      "widgetsnbextension        3.5.1                    pypi_0    pypi\r\n",
      "wrapt                     1.11.1           py37h1de35cc_0  \r\n",
      "xarray                    0.14.0                   pypi_0    pypi\r\n",
      "xz                        5.2.4                h1de35cc_4  \r\n",
      "zipp                      0.6.0                    pypi_0    pypi\r\n",
      "zlib                      1.2.11               h1de35cc_3  \r\n",
      "zstd                      1.3.7                h5bba6e5_0  \r\n"
     ]
    }
   ],
   "source": [
    "#from transformers import pipeline\n",
    "!conda list "
   ]
  },
  {
   "cell_type": "code",
   "execution_count": 188,
   "metadata": {},
   "outputs": [
    {
     "name": "stdout",
     "output_type": "stream",
     "text": [
      "Macky_Sall_twitter.json\r\n",
      "articles_Gabonews_com_2020-02-01_2020-04-14.json\r\n",
      "articles_ICIBrazza_2020-02-01_2020-04-14.json\r\n",
      "articles_JourDuMali_2020-02-01_2020-04-14.json\r\n",
      "articles_LeSoleilonline_2020-01-01_2020-04-14.json\r\n",
      "articles_Lefaso_net_2020-02-01_2020-04-14.json\r\n",
      "articles_SAVOIRNEWS1_2020-02-01_2020-04-14.json\r\n",
      "articles_comoresinfos_2020-02-01_2020-04-14.json\r\n",
      "articles_iwacuinfo_2020-02-01_2020-04-14.json\r\n",
      "articles_madatribune_2020-02-01_2020-04-14.json\r\n",
      "lequotidien.json\r\n",
      "lesoleil.json\r\n",
      "tweets_CongoActu_2020-02-01_2020-04-14.json\r\n",
      "tweets_Gabonews_com_2020-02-01_2020-04-14.json\r\n",
      "tweets_InfosGabon_2020-02-01_2020-04-14.json\r\n",
      "tweets_JourDuMali_2020-02-01_2020-04-14.json\r\n",
      "tweets_LeSoleilonline_2020-01-01_2020-04-14.json\r\n",
      "tweets_LeSoleilonline_2020-02-01_2020-04-12.json\r\n",
      "tweets_LeSoleilonline_2020-02-02_2020-04-12.json\r\n",
      "tweets_Lefaso_net_2020-02-01_2020-04-14.json\r\n",
      "tweets_SAVOIRNEWS1_2020-02-01_2020-04-14.json\r\n",
      "tweets_madatribune_2020-02-01_2020-04-14.json\r\n"
     ]
    }
   ],
   "source": [
    "!ls ../data"
   ]
  },
  {
   "cell_type": "code",
   "execution_count": 190,
   "metadata": {},
   "outputs": [
    {
     "ename": "AttributeError",
     "evalue": "'CamembertForMaskedLM' object has no attribute 'generate'",
     "output_type": "error",
     "traceback": [
      "\u001b[0;31m---------------------------------------------------------------------------\u001b[0m",
      "\u001b[0;31mAttributeError\u001b[0m                            Traceback (most recent call last)",
      "\u001b[0;32m<ipython-input-190-238d1100ed98>\u001b[0m in \u001b[0;36m<module>\u001b[0;34m\u001b[0m\n\u001b[1;32m      4\u001b[0m \u001b[0;31m# T5 uses a max_length of 512 so we cut the article to 512 tokens.\u001b[0m\u001b[0;34m\u001b[0m\u001b[0;34m\u001b[0m\u001b[0;34m\u001b[0m\u001b[0m\n\u001b[1;32m      5\u001b[0m \u001b[0minputs\u001b[0m \u001b[0;34m=\u001b[0m \u001b[0mtokenizer\u001b[0m\u001b[0;34m.\u001b[0m\u001b[0mencode\u001b[0m\u001b[0;34m(\u001b[0m\u001b[0;34m\"summarize: \"\u001b[0m \u001b[0;34m+\u001b[0m \u001b[0mARTICLE\u001b[0m\u001b[0;34m,\u001b[0m \u001b[0mreturn_tensors\u001b[0m\u001b[0;34m=\u001b[0m\u001b[0;34m\"pt\"\u001b[0m\u001b[0;34m,\u001b[0m \u001b[0mmax_length\u001b[0m\u001b[0;34m=\u001b[0m\u001b[0;36m512\u001b[0m\u001b[0;34m)\u001b[0m\u001b[0;34m\u001b[0m\u001b[0;34m\u001b[0m\u001b[0m\n\u001b[0;32m----> 6\u001b[0;31m \u001b[0moutputs\u001b[0m \u001b[0;34m=\u001b[0m \u001b[0mmodel\u001b[0m\u001b[0;34m.\u001b[0m\u001b[0mgenerate\u001b[0m\u001b[0;34m(\u001b[0m\u001b[0minputs\u001b[0m\u001b[0;34m,\u001b[0m \u001b[0mmax_length\u001b[0m\u001b[0;34m=\u001b[0m\u001b[0;36m150\u001b[0m\u001b[0;34m,\u001b[0m \u001b[0mmin_length\u001b[0m\u001b[0;34m=\u001b[0m\u001b[0;36m40\u001b[0m\u001b[0;34m,\u001b[0m \u001b[0mlength_penalty\u001b[0m\u001b[0;34m=\u001b[0m\u001b[0;36m2.0\u001b[0m\u001b[0;34m,\u001b[0m \u001b[0mnum_beams\u001b[0m\u001b[0;34m=\u001b[0m\u001b[0;36m4\u001b[0m\u001b[0;34m,\u001b[0m \u001b[0mearly_stopping\u001b[0m\u001b[0;34m=\u001b[0m\u001b[0;32mTrue\u001b[0m\u001b[0;34m)\u001b[0m\u001b[0;34m\u001b[0m\u001b[0;34m\u001b[0m\u001b[0m\n\u001b[0m\u001b[1;32m      7\u001b[0m \u001b[0mprint\u001b[0m\u001b[0;34m(\u001b[0m\u001b[0moutputs\u001b[0m\u001b[0;34m)\u001b[0m\u001b[0;34m\u001b[0m\u001b[0;34m\u001b[0m\u001b[0m\n",
      "\u001b[0;32m~/anaconda/envs/hurricast/lib/python3.7/site-packages/torch/nn/modules/module.py\u001b[0m in \u001b[0;36m__getattr__\u001b[0;34m(self, name)\u001b[0m\n\u001b[1;32m    583\u001b[0m                 \u001b[0;32mreturn\u001b[0m \u001b[0mmodules\u001b[0m\u001b[0;34m[\u001b[0m\u001b[0mname\u001b[0m\u001b[0;34m]\u001b[0m\u001b[0;34m\u001b[0m\u001b[0;34m\u001b[0m\u001b[0m\n\u001b[1;32m    584\u001b[0m         raise AttributeError(\"'{}' object has no attribute '{}'\".format(\n\u001b[0;32m--> 585\u001b[0;31m             type(self).__name__, name))\n\u001b[0m\u001b[1;32m    586\u001b[0m \u001b[0;34m\u001b[0m\u001b[0m\n\u001b[1;32m    587\u001b[0m     \u001b[0;32mdef\u001b[0m \u001b[0m__setattr__\u001b[0m\u001b[0;34m(\u001b[0m\u001b[0mself\u001b[0m\u001b[0;34m,\u001b[0m \u001b[0mname\u001b[0m\u001b[0;34m,\u001b[0m \u001b[0mvalue\u001b[0m\u001b[0;34m)\u001b[0m\u001b[0;34m:\u001b[0m\u001b[0;34m\u001b[0m\u001b[0;34m\u001b[0m\u001b[0m\n",
      "\u001b[0;31mAttributeError\u001b[0m: 'CamembertForMaskedLM' object has no attribute 'generate'"
     ]
    }
   ],
   "source": [
    "model = AutoModelWithLMHead.from_pretrained(\"camembert-base\")\n",
    "tokenizer = AutoTokenizer.from_pretrained(\"camembert-base\")\n",
    "ARTICLE = clean_df.iloc[-10].text\n",
    "# T5 uses a max_length of 512 so we cut the article to 512 tokens.\n",
    "inputs = tokenizer.encode(\"summarize: \" + ARTICLE, return_tensors=\"pt\", max_length=512)\n",
    "outputs = model.generate(inputs, max_length=150, min_length=40, length_penalty=2.0, num_beams=4, early_stopping=True)\n",
    "print(outputs)"
   ]
  },
  {
   "cell_type": "code",
   "execution_count": 191,
   "metadata": {},
   "outputs": [
    {
     "data": {
      "text/plain": [
       "'Le Togo a déjà enregistré 30 cas dont un décès et sept personnes guéries, indique le dernier bilan officiel publié ce dimanche.\\n\\nSelon Komi Sélom Klassou (Premier ministre), ces nouvelles mesures permettront de « mieux protéger et à temps opportun nos concitoyens et atténuer les conséquences de cette crise sanitaire sur la vie économique, sociale, culturelle et sécuritaire du pays « .\\n\\n« La riposte engagée contre la maladie de coronavirus Covid -19 commande une extrême réactivité et une capacité exceptionnelle d’adaptation des différentes mesures de prévention et de protection prises, ainsi qu’une mobilisation de moyens de tous ordres en vue de trouver les solutions qui permettent d’endiguer durablement les effets de l’épidémie », a-t-il souligné, sans dévoiler le contenu de ces nouvelles mesures.\\n\\n‘Aux grands maux, les grands remèdes’\\n\\nSelon le chef du gouvernement, le régime d’habilitation sollicité n’a qu’un seul objectif, « celui de mieux protéger et à temps opportun nos concitoyens ».\\n\\n« Aux grands maux, les grands remèdes dit-on. Notre pays s’apprête à faire l’expérience du mécanisme prévu par l’article 86 de la Constitution ; cela pourrait susciter des inquiétudes légitimes », a précisé M.Klassou.\\n\\nLa loi votée vendredi par les députés — conformément aux dispositions de l’article 86 de la Constitution et de l’article115 du règlement intérieur de l’Assemblée nationale — vise à habiliter le gouvernement à prendre par ordonnances, des mesures relevant du domaine de la loi.\\n\\nCes ordonnances qui seront prises en conseil des ministres, après avis de la Cour constitutionnelle, feront l’objet de projets de loi de ratification qui seront soumis à l’Assemblée nationale dans les 60 jours après la fin de la période d’habilitation.\\n\\nSont notamment concernées : les mesures visant à : – protéger la santé de la population, assurer la sécurité des personnes et des biens, – permettre de procéder aux réquisitions ou à la nationalisation de tous biens et services nécessaires afin de lutter contre la pandémie, – permettre de réquisitionner les personnels et autres compétences nécessaires, – accorder directement ou indirectement, en cas de nécessité, une aide financière aux entreprises, aux opérateurs économiques et aux ménages, -sauver les emplois, éviter les licenciements, -prévenir et limiter la cessation d’activité des personnes physiques et morales exerçant une activité économique et des associations etc…\\n\\nRappelons que le gouvernement togolais avait déjà pris le 20 mars, neuf autres mesures solides visant à barrer la route au nouveau Covid-19.\\n\\nParmi ces mesures la fermeture de toutes les frontières terrestres, des églises et des mosquées et de tous les établissements scolaires et universitaires. La fréquentation par toute personne de la plage tout le long du littoral est interdite. Les funérailles et les enterrements sont limités à 15 personnes. Les activités culturelles et sportives de masse sont suspendues. FIN\\n\\nAmbroisine MEMEDE'"
      ]
     },
     "execution_count": 191,
     "metadata": {},
     "output_type": "execute_result"
    }
   ],
   "source": [
    "questions = ['Combien de décès ont été enregistrés au Togo ?',\n",
    "             'Comment décrire la réaction du gouvernement ?',\n",
    "             'Qelles types de rassemblements devraient être annulés']\n"
   ]
  },
  {
   "cell_type": "code",
   "execution_count": 200,
   "metadata": {},
   "outputs": [
    {
     "ename": "NameError",
     "evalue": "name 'FlaubertForQuestionAnswering' is not defined",
     "output_type": "error",
     "traceback": [
      "\u001b[0;31m---------------------------------------------------------------------------\u001b[0m",
      "\u001b[0;31mNameError\u001b[0m                                 Traceback (most recent call last)",
      "\u001b[0;32m<ipython-input-200-3c8294c92ac7>\u001b[0m in \u001b[0;36m<module>\u001b[0;34m\u001b[0m\n\u001b[1;32m      1\u001b[0m \u001b[0mtokenizer\u001b[0m \u001b[0;34m=\u001b[0m \u001b[0mAutoTokenizer\u001b[0m\u001b[0;34m.\u001b[0m\u001b[0mfrom_pretrained\u001b[0m\u001b[0;34m(\u001b[0m\u001b[0;34m\"camembert-base\"\u001b[0m\u001b[0;34m)\u001b[0m\u001b[0;34m\u001b[0m\u001b[0;34m\u001b[0m\u001b[0m\n\u001b[0;32m----> 2\u001b[0;31m \u001b[0mmodel\u001b[0m \u001b[0;34m=\u001b[0m \u001b[0mFlaubertForQuestionAnswering\u001b[0m\u001b[0;34m.\u001b[0m\u001b[0mfrom_pretrained\u001b[0m\u001b[0;34m(\u001b[0m\u001b[0;34m\"flaubert-base\"\u001b[0m\u001b[0;34m)\u001b[0m\u001b[0;34m\u001b[0m\u001b[0;34m\u001b[0m\u001b[0m\n\u001b[0m",
      "\u001b[0;31mNameError\u001b[0m: name 'FlaubertForQuestionAnswering' is not defined"
     ]
    }
   ],
   "source": [
    "tokenizer = AutoTokenizer.from_pretrained(\"camembert-base\")\n",
    "model = FlaubertForQuestionAnswering.from_pretrained(\"flaubert-base\")"
   ]
  },
  {
   "cell_type": "code",
   "execution_count": 201,
   "metadata": {},
   "outputs": [
    {
     "ename": "NameError",
     "evalue": "name 'FlaubertConfig' is not defined",
     "output_type": "error",
     "traceback": [
      "\u001b[0;31m---------------------------------------------------------------------------\u001b[0m",
      "\u001b[0;31mNameError\u001b[0m                                 Traceback (most recent call last)",
      "\u001b[0;32m<ipython-input-201-0100d989d338>\u001b[0m in \u001b[0;36m<module>\u001b[0;34m\u001b[0m\n\u001b[0;32m----> 1\u001b[0;31m \u001b[0mconfig\u001b[0m \u001b[0;34m=\u001b[0m \u001b[0mFlaubertConfig\u001b[0m\u001b[0;34m.\u001b[0m\u001b[0mfrom_pretrained\u001b[0m\u001b[0;34m(\u001b[0m\u001b[0mMODEL_NAME\u001b[0m\u001b[0;34m)\u001b[0m\u001b[0;34m\u001b[0m\u001b[0;34m\u001b[0m\u001b[0m\n\u001b[0m",
      "\u001b[0;31mNameError\u001b[0m: name 'FlaubertConfig' is not defined"
     ]
    }
   ],
   "source": [
    "config = FlaubertConfig.from_pretrained(MODEL_NAME)"
   ]
  },
  {
   "cell_type": "code",
   "execution_count": 202,
   "metadata": {},
   "outputs": [
    {
     "ename": "NameError",
     "evalue": "name 'CamembertConfig' is not defined",
     "output_type": "error",
     "traceback": [
      "\u001b[0;31m---------------------------------------------------------------------------\u001b[0m",
      "\u001b[0;31mNameError\u001b[0m                                 Traceback (most recent call last)",
      "\u001b[0;32m<ipython-input-202-dd3016c06264>\u001b[0m in \u001b[0;36m<module>\u001b[0;34m\u001b[0m\n\u001b[1;32m      4\u001b[0m \u001b[0;34m\u001b[0m\u001b[0m\n\u001b[1;32m      5\u001b[0m \u001b[0;31m#1st\u001b[0m\u001b[0;34m\u001b[0m\u001b[0;34m\u001b[0m\u001b[0;34m\u001b[0m\u001b[0m\n\u001b[0;32m----> 6\u001b[0;31m \u001b[0mconfig\u001b[0m \u001b[0;34m=\u001b[0m \u001b[0mCamembertConfig\u001b[0m\u001b[0;34m.\u001b[0m\u001b[0mfrom_pretrained\u001b[0m\u001b[0;34m(\u001b[0m\u001b[0mMODEL_NAME\u001b[0m\u001b[0;34m)\u001b[0m    \u001b[0;31m# Download configuration from S3 and cache.\u001b[0m\u001b[0;34m\u001b[0m\u001b[0;34m\u001b[0m\u001b[0m\n\u001b[0m\u001b[1;32m      7\u001b[0m \u001b[0mtokenizer\u001b[0m \u001b[0;34m=\u001b[0m \u001b[0mAutoTokenizer\u001b[0m\u001b[0;34m.\u001b[0m\u001b[0mfrom_pretrained\u001b[0m\u001b[0;34m(\u001b[0m\u001b[0mMODEL_NAME\u001b[0m\u001b[0;34m)\u001b[0m\u001b[0;34m\u001b[0m\u001b[0;34m\u001b[0m\u001b[0m\n\u001b[1;32m      8\u001b[0m \u001b[0mmodel\u001b[0m \u001b[0;34m=\u001b[0m \u001b[0mAutoModel\u001b[0m\u001b[0;34m.\u001b[0m\u001b[0mfrom_config\u001b[0m\u001b[0;34m(\u001b[0m\u001b[0mconfig\u001b[0m\u001b[0;34m)\u001b[0m\u001b[0;34m\u001b[0m\u001b[0;34m\u001b[0m\u001b[0m\n",
      "\u001b[0;31mNameError\u001b[0m: name 'CamembertConfig' is not defined"
     ]
    }
   ],
   "source": [
    "MODEL_NAME = \"camembert-base\"\n",
    "# 2 POSSIBILITIES TO LOAD CAMEMBERT\n",
    "\n",
    "#1st\n",
    "config = CamembertConfig.from_pretrained(MODEL_NAME)    # Download configuration from S3 and cache.\n",
    "tokenizer = AutoTokenizer.from_pretrained(MODEL_NAME)\n",
    "model = AutoModel.from_config(config) "
   ]
  },
  {
   "cell_type": "code",
   "execution_count": 205,
   "metadata": {},
   "outputs": [],
   "source": [
    "from transformers import CamembertConfig"
   ]
  },
  {
   "cell_type": "code",
   "execution_count": 208,
   "metadata": {},
   "outputs": [
    {
     "name": "stdout",
     "output_type": "stream",
     "text": [
      "Collecting transformers\n",
      "  Using cached transformers-2.8.0-py3-none-any.whl (563 kB)\n",
      "Collecting filelock\n",
      "  Downloading filelock-3.0.12-py3-none-any.whl (7.6 kB)\n",
      "Requirement already satisfied, skipping upgrade: regex!=2019.12.17 in /Users/theoguenais/anaconda/envs/hurricast/lib/python3.7/site-packages (from transformers) (2019.4.14)\n",
      "Requirement already satisfied, skipping upgrade: requests in /Users/theoguenais/anaconda/envs/hurricast/lib/python3.7/site-packages (from transformers) (2.22.0)\n",
      "Requirement already satisfied, skipping upgrade: tqdm>=4.27 in /Users/theoguenais/anaconda/envs/hurricast/lib/python3.7/site-packages (from transformers) (4.40.2)\n",
      "Requirement already satisfied, skipping upgrade: numpy in /Users/theoguenais/anaconda/envs/hurricast/lib/python3.7/site-packages (from transformers) (1.16.3)\n",
      "Requirement already satisfied, skipping upgrade: sacremoses in /Users/theoguenais/anaconda/envs/hurricast/lib/python3.7/site-packages (from transformers) (0.0.35)\n",
      "Requirement already satisfied, skipping upgrade: sentencepiece in /Users/theoguenais/anaconda/envs/hurricast/lib/python3.7/site-packages (from transformers) (0.1.83)\n",
      "Collecting tokenizers==0.5.2\n",
      "  Using cached tokenizers-0.5.2.tar.gz (64 kB)\n",
      "  Installing build dependencies ... \u001b[?25lerror\n",
      "\u001b[31m  ERROR: Command errored out with exit status 1:\n",
      "   command: /Users/theoguenais/anaconda/envs/hurricast/bin/python /Users/theoguenais/anaconda/envs/hurricast/lib/python3.7/site-packages/pip install --ignore-installed --no-user --prefix /private/var/folders/gt/25j8ndxj1c52vv_v5bv0b_n80000gn/T/pip-build-env-pxlh8ho9/overlay --no-warn-script-location --no-binary :none: --only-binary :none: -i https://pypi.org/simple -- setuptools wheel setuptools-rust\n",
      "       cwd: None\n",
      "  Complete output (14 lines):\n",
      "  Traceback (most recent call last):\n",
      "    File \"/Users/theoguenais/anaconda/envs/hurricast/lib/python3.7/runpy.py\", line 193, in _run_module_as_main\n",
      "      \"__main__\", mod_spec)\n",
      "    File \"/Users/theoguenais/anaconda/envs/hurricast/lib/python3.7/runpy.py\", line 85, in _run_code\n",
      "      exec(code, run_globals)\n",
      "    File \"/Users/theoguenais/anaconda/envs/hurricast/lib/python3.7/site-packages/pip/__main__.py\", line 16, in <module>\n",
      "      from pip._internal.cli.main import main as _main  # isort:skip # noqa\n",
      "    File \"/Users/theoguenais/anaconda/envs/hurricast/lib/python3.7/site-packages/pip/_internal/cli/main.py\", line 5, in <module>\n",
      "      import locale\n",
      "    File \"/Users/theoguenais/anaconda/envs/hurricast/lib/python3.7/locale.py\", line 16, in <module>\n",
      "      import re\n",
      "    File \"/Users/theoguenais/anaconda/envs/hurricast/lib/python3.7/re.py\", line 143, in <module>\n",
      "      class RegexFlag(enum.IntFlag):\n",
      "  AttributeError: module 'enum' has no attribute 'IntFlag'\n",
      "  ----------------------------------------\u001b[0m\n",
      "\u001b[31mERROR: Command errored out with exit status 1: /Users/theoguenais/anaconda/envs/hurricast/bin/python /Users/theoguenais/anaconda/envs/hurricast/lib/python3.7/site-packages/pip install --ignore-installed --no-user --prefix /private/var/folders/gt/25j8ndxj1c52vv_v5bv0b_n80000gn/T/pip-build-env-pxlh8ho9/overlay --no-warn-script-location --no-binary :none: --only-binary :none: -i https://pypi.org/simple -- setuptools wheel setuptools-rust Check the logs for full command output.\u001b[0m\n",
      "\u001b[?25h"
     ]
    }
   ],
   "source": [
    "!pip install transformers --upgrade"
   ]
  },
  {
   "cell_type": "code",
   "execution_count": null,
   "metadata": {},
   "outputs": [],
   "source": [
    "#!pip uninstall enum34\n",
    "#!pip install --upgrade pip"
   ]
  },
  {
   "cell_type": "markdown",
   "metadata": {},
   "source": [
    "# Gathering data accross countries"
   ]
  },
  {
   "cell_type": "code",
   "execution_count": null,
   "metadata": {},
   "outputs": [],
   "source": []
  }
 ],
 "metadata": {
  "kernelspec": {
   "display_name": "Python 3",
   "language": "python",
   "name": "python3"
  },
  "language_info": {
   "codemirror_mode": {
    "name": "ipython",
    "version": 3
   },
   "file_extension": ".py",
   "mimetype": "text/x-python",
   "name": "python",
   "nbconvert_exporter": "python",
   "pygments_lexer": "ipython3",
   "version": "3.7.3"
  }
 },
 "nbformat": 4,
 "nbformat_minor": 2
}
